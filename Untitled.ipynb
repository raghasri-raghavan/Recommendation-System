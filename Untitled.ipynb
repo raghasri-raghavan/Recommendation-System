{
 "cells": [
  {
   "cell_type": "markdown",
   "metadata": {},
   "source": [
    "### Movie Recommendation System "
   ]
  },
  {
   "cell_type": "code",
   "execution_count": 227,
   "metadata": {},
   "outputs": [],
   "source": [
    "####packages\n",
    "import pandas as pd\n",
    "import matplotlib.pyplot as plt\n",
    "import seaborn as sns\n",
    "import numpy as np\n",
    "from sklearn.cluster import KMeans\n",
    "from IPython.display import Markdown, display\n",
    "from sklearn.preprocessing import LabelEncoder\n"
   ]
  },
  {
   "cell_type": "markdown",
   "metadata": {},
   "source": [
    "#### Data"
   ]
  },
  {
   "cell_type": "code",
   "execution_count": 6,
   "metadata": {},
   "outputs": [
    {
     "data": {
      "text/html": [
       "<div>\n",
       "<style scoped>\n",
       "    .dataframe tbody tr th:only-of-type {\n",
       "        vertical-align: middle;\n",
       "    }\n",
       "\n",
       "    .dataframe tbody tr th {\n",
       "        vertical-align: top;\n",
       "    }\n",
       "\n",
       "    .dataframe thead th {\n",
       "        text-align: right;\n",
       "    }\n",
       "</style>\n",
       "<table border=\"1\" class=\"dataframe\">\n",
       "  <thead>\n",
       "    <tr style=\"text-align: right;\">\n",
       "      <th></th>\n",
       "      <th>user id</th>\n",
       "      <th>age</th>\n",
       "      <th>gender</th>\n",
       "      <th>occupation</th>\n",
       "      <th>zip code</th>\n",
       "    </tr>\n",
       "  </thead>\n",
       "  <tbody>\n",
       "    <tr>\n",
       "      <th>0</th>\n",
       "      <td>1</td>\n",
       "      <td>24</td>\n",
       "      <td>M</td>\n",
       "      <td>technician</td>\n",
       "      <td>85711</td>\n",
       "    </tr>\n",
       "    <tr>\n",
       "      <th>1</th>\n",
       "      <td>2</td>\n",
       "      <td>53</td>\n",
       "      <td>F</td>\n",
       "      <td>other</td>\n",
       "      <td>94043</td>\n",
       "    </tr>\n",
       "    <tr>\n",
       "      <th>2</th>\n",
       "      <td>3</td>\n",
       "      <td>23</td>\n",
       "      <td>M</td>\n",
       "      <td>writer</td>\n",
       "      <td>32067</td>\n",
       "    </tr>\n",
       "    <tr>\n",
       "      <th>3</th>\n",
       "      <td>4</td>\n",
       "      <td>24</td>\n",
       "      <td>M</td>\n",
       "      <td>technician</td>\n",
       "      <td>43537</td>\n",
       "    </tr>\n",
       "    <tr>\n",
       "      <th>4</th>\n",
       "      <td>5</td>\n",
       "      <td>33</td>\n",
       "      <td>F</td>\n",
       "      <td>other</td>\n",
       "      <td>15213</td>\n",
       "    </tr>\n",
       "  </tbody>\n",
       "</table>\n",
       "</div>"
      ],
      "text/plain": [
       "   user id  age gender  occupation zip code\n",
       "0        1   24      M  technician    85711\n",
       "1        2   53      F       other    94043\n",
       "2        3   23      M      writer    32067\n",
       "3        4   24      M  technician    43537\n",
       "4        5   33      F       other    15213"
      ]
     },
     "execution_count": 6,
     "metadata": {},
     "output_type": "execute_result"
    }
   ],
   "source": [
    "###data\n",
    "userData=pd.read_csv('Data\\\\ml-100k\\\\u.user',sep='|',header=None,names=['user id','age','gender','occupation','zip code'])\n",
    "userData.head()"
   ]
  },
  {
   "cell_type": "code",
   "execution_count": 7,
   "metadata": {},
   "outputs": [],
   "source": [
    "def summarize(df):\n",
    "    head_df=df.head()\n",
    "    df_col=df.columns\n",
    "    shape=df.shape\n",
    "    dtypes=df.dtypes\n",
    "    summ=df.describe(include='all')\n",
    "    return (head_df,df_col,shape,dtypes,summ)\n"
   ]
  },
  {
   "cell_type": "code",
   "execution_count": 9,
   "metadata": {},
   "outputs": [
    {
     "name": "stdout",
     "output_type": "stream",
     "text": [
      "First few rows:\n",
      "    user id  age gender  occupation zip code\n",
      "0        1   24      M  technician    85711\n",
      "1        2   53      F       other    94043\n",
      "2        3   23      M      writer    32067\n",
      "3        4   24      M  technician    43537\n",
      "4        5   33      F       other    15213\n",
      "Columns:\n",
      " Index(['user id', 'age', 'gender', 'occupation', 'zip code'], dtype='object')\n",
      "Df shape:\n",
      " (943, 5)\n",
      "Datatypes:\n",
      " user id        int64\n",
      "age            int64\n",
      "gender        object\n",
      "occupation    object\n",
      "zip code      object\n",
      "dtype: object\n",
      "Summary:\n",
      "            user id         age gender occupation zip code\n",
      "count   943.000000  943.000000    943        943      943\n",
      "unique         NaN         NaN      2         21      795\n",
      "top            NaN         NaN      M    student    55414\n",
      "freq           NaN         NaN    670        196        9\n",
      "mean    472.000000   34.051962    NaN        NaN      NaN\n",
      "std     272.364951   12.192740    NaN        NaN      NaN\n",
      "min       1.000000    7.000000    NaN        NaN      NaN\n",
      "25%     236.500000   25.000000    NaN        NaN      NaN\n",
      "50%     472.000000   31.000000    NaN        NaN      NaN\n",
      "75%     707.500000   43.000000    NaN        NaN      NaN\n",
      "max     943.000000   73.000000    NaN        NaN      NaN\n"
     ]
    }
   ],
   "source": [
    "(head_df,df_col,shape,dtypes,summ)=summarize(userData)\n",
    "print('First few rows:\\n',head_df)\n",
    "print('Columns:\\n',df_col)\n",
    "print('Df shape:\\n',shape)\n",
    "print('Datatypes:\\n',dtypes)\n",
    "print('Summary:\\n',summ)"
   ]
  },
  {
   "cell_type": "code",
   "execution_count": 48,
   "metadata": {},
   "outputs": [],
   "source": [
    "def detect_outlier(col):\n",
    "    out=[]\n",
    "    threshold=3\n",
    "    mean_1 = np.mean(col)\n",
    "    std_1 =np.std(col)\n",
    "    for y in col:\n",
    "        z_score= (y - mean_1)/std_1\n",
    "        if np.abs(z_score) > threshold:\n",
    "            out.append(y)\n",
    "#     print('Outliers:',out)\n",
    "    if out is not None:\n",
    "        return out\n",
    "    else:\n",
    "        return 0"
   ]
  },
  {
   "cell_type": "code",
   "execution_count": 59,
   "metadata": {},
   "outputs": [],
   "source": [
    "def preprocess_nullout(df):\n",
    "    #null values\\n\",\n",
    "    null=dict.fromkeys(df.columns)\n",
    "    print(null.keys())\n",
    "    for col in df.columns:\n",
    "        null[col]=df[col].isna().sum()\n",
    "        if(null[col]!=0):\n",
    "             print('Column:',col,'Null records:',df.loc[df[col].isna()])\n",
    "    print(null)\n",
    "    #outliers\\n\",\n",
    "    outliers=dict.fromkeys(df.columns)\n",
    "    print(outliers.keys())\n",
    "    for col in df.columns:\n",
    "        if((df[col].dtypes=='int64')|(df[col].dtypes=='float64')):\n",
    "            print(col)\n",
    "            out=detect_outlier(df[col])\n",
    "            if out:\n",
    "                print('Outliers detected:',out)\n",
    "                print('Records containing outliers:\\n',df.loc[df[col]==out[0]])\n",
    "            else:\n",
    "                print(\"Outliers not detecred\")\n",
    "                "
   ]
  },
  {
   "cell_type": "code",
   "execution_count": 60,
   "metadata": {},
   "outputs": [
    {
     "name": "stdout",
     "output_type": "stream",
     "text": [
      "dict_keys(['user id', 'age', 'gender', 'occupation', 'zip code'])\n",
      "{'user id': 0, 'age': 0, 'gender': 0, 'occupation': 0, 'zip code': 0}\n",
      "dict_keys(['user id', 'age', 'gender', 'occupation', 'zip code'])\n",
      "user id\n",
      "Outliers not detecred\n",
      "age\n",
      "Outliers detected: [73]\n",
      "Records containing outliers:\n",
      "      user id  age gender occupation zip code\n",
      "480      481   73      M    retired    37771\n"
     ]
    }
   ],
   "source": [
    "preprocess_nullout(userData)"
   ]
  },
  {
   "cell_type": "code",
   "execution_count": 69,
   "metadata": {},
   "outputs": [
    {
     "name": "stdout",
     "output_type": "stream",
     "text": [
      "gender\n",
      "['M' 'F']\n",
      "2\n",
      "occupation\n",
      "['technician' 'other' 'writer' 'executive' 'administrator' 'student'\n",
      " 'lawyer' 'educator' 'scientist' 'entertainment' 'programmer' 'librarian'\n",
      " 'homemaker' 'artist' 'engineer' 'marketing' 'none' 'healthcare' 'retired'\n",
      " 'salesman' 'doctor']\n",
      "21\n",
      "zip code\n",
      "['85711' '94043' '32067' '43537' '15213' '98101' '91344' '05201' '01002'\n",
      " '90703' '30329' '06405' '29206' '55106' '97301' '10309' '06355' '37212'\n",
      " '02138' '95660' '30068' '40206' '48197' '94533' '55107' '21044' '30030'\n",
      " '55369' '55436' '10003' '78741' '27510' '42141' '42459' '93117' '55105'\n",
      " '54467' '01040' '27514' '80525' '17870' '20854' '46260' '50233' '46538'\n",
      " '07102' '12550' '76111' '52245' '16509' '55414' '66315' '01331' '84010'\n",
      " '52246' '08403' '06472' '30040' '97214' '75240' '43202' '48118' '80521'\n",
      " '60402' '22904' '55337' '60067' '98034' '73034' '41850' 'T8H1N' '08816'\n",
      " '02215' '29379' '61801' '03755' '52241' '21218' '22902' '44133' '20003'\n",
      " '46005' '89503' '11701' '68106' '78155' '01913' '23112' '71457' '10707'\n",
      " '75206' '98006' '90291' '63129' '90254' '05146' '30220' '55108' '55125'\n",
      " '60466' '63130' '55423' '77840' '90630' '60613' '95032' '75013' '17110'\n",
      " '97232' '16125' '90210' '67401' '06260' '99603' '22206' '20008' '60615'\n",
      " '22202' '20015' '73439' '20009' '07039' '60115' '15237' '94612' '78602'\n",
      " '80236' '38401' '97365' '84408' '53211' '08904' '32250' '36117' '08832'\n",
      " '20910' 'V3N4P' '83814' '02143' '97006' '17325' '02139' '48103' '68767'\n",
      " '60641' '53703' '11217' '08360' '70808' '27606' '55346' '66215' '55104'\n",
      " '15610' '97212' '80123' '53715' '55113' 'L9G2B' '80127' '53705' '30067'\n",
      " '78750' '22207' '22306' '52302' '21911' '07030' '19104' '49512' '20755'\n",
      " '60202' '33884' '27708' '76013' '97403' '00000' '16801' '29440' '95014'\n",
      " '95938' '95161' '90840' '49931' '02154' '93555' '75094' '17604' '93402'\n",
      " 'E2A4H' '60201' '32301' '10960' '06371' '53115' '92037' '01720' '85710'\n",
      " '03060' '32605' '61401' '55345' '11231' '63033' '11727' '06513' '43212'\n",
      " '78205' '20685' '27502' '47906' '43512' '58202' '92103' '60659' '22003'\n",
      " '22903' '14476' '01080' '99709' '98682' '94702' '22973' '53214' '63146'\n",
      " '44124' '95628' '20784' '20001' '31404' '55109' '28734' '20770' '37235'\n",
      " '84103' '95110' '85032' '07733' '42647' '07029' '39042' '77005' '77801'\n",
      " '48823' '89801' '85202' '78264' '90064' '84601' '78756' '83716' '19422'\n",
      " '43201' '63119' '22932' '53706' '10016' '92064' '95064' '55406' '30033'\n",
      " '85251' '06059' '20057' '55305' '92629' '53713' '15217' '31211' '23226'\n",
      " '94619' '93550' '44106' '94703' '60804' '92110' '50325' '16803' '98103'\n",
      " '01581' '63108' '55439' '77904' '14853' '71701' '94086' '73132' '55454'\n",
      " '95076' '70802' '91711' '73071' '02110' '60035' '08043' '18301' '77009'\n",
      " '13210' '06518' '22030' '24060' '55413' '50613' '19149' '02176' '15235'\n",
      " '11101' '06779' '40504' 'V0R2M' '30002' '33775' '42101' '10522' '59717'\n",
      " '37901' '44405' '30093' '94117' '94143' '76059' '45660' '61455' '49938'\n",
      " '28480' '60135' '92688' '98133' '10022' '98027' '44074' '85233' '87501'\n",
      " '01810' '50670' '37411' '92113' '91335' '08534' '99206' '66046' '55116'\n",
      " '78746' '37777' '10010' '18015' '02859' '98117' '55117' '94608' '01824'\n",
      " '75204' '45218' '43221' '37412' '36106' '83702' '85016' '84604' '59801'\n",
      " '83686' '96819' '44092' '94551' '60008' '92374' '78213' '84107' '95129'\n",
      " '06811' '10019' '93109' '03261' '61755' '98225' '94025' '44691' '15222'\n",
      " '78212' '38115' '92626' '21206' '43215' '02140' '91606' '55422' '58644'\n",
      " '01602' '85258' '29205' '98199' '50311' '11211' '49705' '60007' '17345'\n",
      " '43204' '20817' '48076' '55013' '85282' '33308' '53202' '92653' '10021'\n",
      " '55021' '11758' '48446' '28018' '06333' '97330' '83709' '31820' '30011'\n",
      " 'Y1A6B' '29201' '60630' '98102' '02918' '75218' '94583' '05001' '90804'\n",
      " '91201' '02341' '78628' '77459' '87544' '94708' '93711' '75230' '60440'\n",
      " '02125' '55409' '98257' '37771' '40256' '21208' '95821' '93101' '92121'\n",
      " '21012' 'V5A2B' '53711' '94618' '60090' '49428' '03052' '50112' '55408'\n",
      " '75006' '94305' '10025' '23092' '92115' '20657' '03869' '28450' '19382'\n",
      " '10011' '98038' '21250' '20090' '26241' '20707' '49508' '55320' '12603'\n",
      " '02146' '55443' '04102' '02159' '19711' '97124' '12180' '44224' '94040'\n",
      " '97408' '92705' '02324' '05464' '80302' '30078' '21010' '80303' '84302'\n",
      " '60515' '95123' '29464' '08052' '22911' '14534' '95468' '45680' '95453'\n",
      " '68147' '62901' '23227' '30606' '63132' '60005' '20879' '32707' '94591'\n",
      " '14627' '01915' '91903' '01945' '48911' '53188' '46032' '98281' '77845'\n",
      " 'M7A1A' '17961' '94131' '93003' '29631' '27511' '98501' '79508' '14216'\n",
      " '93063' '90034' '82435' '92093' '97520' 'M4J2K' '31909' '77073' '84116'\n",
      " '43085' 'R3T5K' '02320' '99687' '34656' '47905' '11787' '33716' '63044'\n",
      " '21227' '77008' '79070' '29678' '80227' '27705' '11201' '44212' '44134'\n",
      " '81648' '14850' '60187' '20723' '19807' '08034' '94306' '38866' '23237'\n",
      " '48043' '74101' '01940' '12065' '60626' '95521' '55122' '63645' '51250'\n",
      " '45810' '91351' '39762' '02903' '78739' '60657' '10314' '78704' '54248'\n",
      " '77380' '98121' '19102' '19341' '94115' '55412' '61820' '01970' '21114'\n",
      " '91919' '90095' '22906' '28814' '32712' '99835' '61462' '54302' '90405'\n",
      " '97208' '55128' '23509' '26506' '27713' '60476' '45439' '63304' '60089'\n",
      " '18053' '85210' '06365' '94920' '77042' '06906' '96754' '76309' '56321'\n",
      " '89104' '91105' '54494' '19146' '96349' 'N4T1A' '92020' '15203' '54901'\n",
      " '07204' '55343' '91206' '44265' '84105' '64118' 'V0R2H' '16506' '11238'\n",
      " '17331' '94403' '40243' '80538' '56567' '32114' '70403' '98405' '85719'\n",
      " '98072' '95403' '73162' '29210' '92660' '47024' '19047' '93612' '94720'\n",
      " '80919' '32303' '21201' '97007' '90247' '68503' '14211' '97302' '95050'\n",
      " '02113' '62903' '33066' '12866' '06927' '15232' '27105' '80027' '90036'\n",
      " '51157' '01960' 'K7L5J' '94560' '48825' '33205' '77081' '91040' '23322'\n",
      " '01754' '98620' '05779' '55420' '80913' '20064' '12205' '85281' '57197'\n",
      " '08610' '33755' '62522' '64131' '19716' '92154' '34105' '90016' '30803'\n",
      " '80526' '73013' '76234' '02136' '12345' '28806' '60152' '40205' '37725'\n",
      " '53144' '50322' '15017' '05452' '77048' '80228' '80209' '53066' '33765'\n",
      " '90019' '64153' '11577' '10018' '01375' '90814' '47401' '93055' '95662'\n",
      " '97405' '47130' '55417' '25652' '78390' '29646' '40515' '04988' '97215'\n",
      " 'V1G4L' '09645' '06492' '48322' '14085' '13820' '63021' '60302' '92507'\n",
      " '55303' '65203' '44648' '74078' '33763' '37076' '35802' '20902' '77504'\n",
      " '43017' '40503' '50266' '95316' '27249' '17036' '03062' '45243' '95823'\n",
      " '74075' '91505' '33484' '18505' 'L1V3W' '97203' '20850' '61073' '30350'\n",
      " '70124' '68504' '53171' '29301' '53210' '06512' '76201' '08105' '60614'\n",
      " 'N2L5N' '20006' '70116' '90008' '98801' 'E2E3R' '11753' '49036' '01701'\n",
      " '55428' '07310' '33556' '06437' '48105' '66221' '32789' '55038' '33319'\n",
      " '97229' '78209' '77841']\n",
      "795\n"
     ]
    }
   ],
   "source": [
    "####unique values for string col\n",
    "for col in userData.columns:\n",
    "    if(userData[col].dtypes=='object'):\n",
    "        print(col)\n",
    "        print(userData[col].unique())\n",
    "        print(len(userData[col].unique()))"
   ]
  },
  {
   "cell_type": "markdown",
   "metadata": {},
   "source": [
    "#### Vizualization"
   ]
  },
  {
   "cell_type": "code",
   "execution_count": 115,
   "metadata": {},
   "outputs": [
    {
     "data": {
      "image/png": "[encoded data removed]",
      "text/plain": [
       "<Figure size 432x288 with 1 Axes>"
      ]
     },
     "metadata": {},
     "output_type": "display_data"
    }
   ],
   "source": [
    "##### OCCUPATION\n",
    "sns.set(style=\"darkgrid\")\n",
    "ax=sns.countplot(data=userData, y='occupation')"
   ]
  },
  {
   "cell_type": "code",
   "execution_count": 184,
   "metadata": {},
   "outputs": [
    {
     "data": {
      "text/plain": [
       "array([[<matplotlib.axes._subplots.AxesSubplot object at 0x000000F4220045C0>]],\n",
       "      dtype=object)"
      ]
     },
     "execution_count": 184,
     "metadata": {},
     "output_type": "execute_result"
    },
    {
     "data": {
      "image/png": "[encoded data removed]",
      "text/plain": [
       "<Figure size 432x288 with 1 Axes>"
      ]
     },
     "metadata": {},
     "output_type": "display_data"
    }
   ],
   "source": [
    "##### AGE\n",
    "sns.set(style=\"darkgrid\")\n",
    "userData.hist(column='age',bins=10)"
   ]
  },
  {
   "cell_type": "code",
   "execution_count": 94,
   "metadata": {},
   "outputs": [
    {
     "data": {
      "image/png": "[encoded data removed]",
      "text/plain": [
       "<Figure size 432x288 with 1 Axes>"
      ]
     },
     "metadata": {},
     "output_type": "display_data"
    }
   ],
   "source": [
    "#### GENDER\n",
    "sns.set(style=\"darkgrid\")\n",
    "ax=sns.countplot(data=userData, x='gender')\n",
    "for p in ax.patches:\n",
    "    height = p.get_height()\n",
    "    ax.text(p.get_x()+p.get_width()/2.,\n",
    "            height + 2,\n",
    "            '{:1.0f}'.format(height),\n",
    "            ha=\"center\") \n",
    "plt.show()"
   ]
  },
  {
   "cell_type": "markdown",
   "metadata": {},
   "source": [
    "#### Group by results"
   ]
  },
  {
   "cell_type": "code",
   "execution_count": 141,
   "metadata": {},
   "outputs": [
    {
     "data": {
      "text/html": [
       "<div>\n",
       "<style scoped>\n",
       "    .dataframe tbody tr th:only-of-type {\n",
       "        vertical-align: middle;\n",
       "    }\n",
       "\n",
       "    .dataframe tbody tr th {\n",
       "        vertical-align: top;\n",
       "    }\n",
       "\n",
       "    .dataframe thead th {\n",
       "        text-align: right;\n",
       "    }\n",
       "</style>\n",
       "<table border=\"1\" class=\"dataframe\">\n",
       "  <thead>\n",
       "    <tr style=\"text-align: right;\">\n",
       "      <th></th>\n",
       "      <th>zip code</th>\n",
       "      <th>count</th>\n",
       "    </tr>\n",
       "  </thead>\n",
       "  <tbody>\n",
       "    <tr>\n",
       "      <th>31</th>\n",
       "      <td>02215</td>\n",
       "      <td>3</td>\n",
       "    </tr>\n",
       "    <tr>\n",
       "      <th>88</th>\n",
       "      <td>10003</td>\n",
       "      <td>5</td>\n",
       "    </tr>\n",
       "    <tr>\n",
       "      <th>94</th>\n",
       "      <td>10021</td>\n",
       "      <td>3</td>\n",
       "    </tr>\n",
       "    <tr>\n",
       "      <th>105</th>\n",
       "      <td>11217</td>\n",
       "      <td>3</td>\n",
       "    </tr>\n",
       "    <tr>\n",
       "      <th>125</th>\n",
       "      <td>14216</td>\n",
       "      <td>3</td>\n",
       "    </tr>\n",
       "    <tr>\n",
       "      <th>172</th>\n",
       "      <td>20009</td>\n",
       "      <td>5</td>\n",
       "    </tr>\n",
       "    <tr>\n",
       "      <th>207</th>\n",
       "      <td>22902</td>\n",
       "      <td>3</td>\n",
       "    </tr>\n",
       "    <tr>\n",
       "      <th>208</th>\n",
       "      <td>22903</td>\n",
       "      <td>3</td>\n",
       "    </tr>\n",
       "    <tr>\n",
       "      <th>230</th>\n",
       "      <td>27514</td>\n",
       "      <td>4</td>\n",
       "    </tr>\n",
       "    <tr>\n",
       "      <th>361</th>\n",
       "      <td>48103</td>\n",
       "      <td>3</td>\n",
       "    </tr>\n",
       "    <tr>\n",
       "      <th>414</th>\n",
       "      <td>55104</td>\n",
       "      <td>3</td>\n",
       "    </tr>\n",
       "    <tr>\n",
       "      <th>415</th>\n",
       "      <td>55105</td>\n",
       "      <td>6</td>\n",
       "    </tr>\n",
       "    <tr>\n",
       "      <th>416</th>\n",
       "      <td>55106</td>\n",
       "      <td>3</td>\n",
       "    </tr>\n",
       "    <tr>\n",
       "      <th>418</th>\n",
       "      <td>55108</td>\n",
       "      <td>3</td>\n",
       "    </tr>\n",
       "    <tr>\n",
       "      <th>420</th>\n",
       "      <td>55113</td>\n",
       "      <td>3</td>\n",
       "    </tr>\n",
       "    <tr>\n",
       "      <th>429</th>\n",
       "      <td>55337</td>\n",
       "      <td>5</td>\n",
       "    </tr>\n",
       "    <tr>\n",
       "      <th>435</th>\n",
       "      <td>55408</td>\n",
       "      <td>4</td>\n",
       "    </tr>\n",
       "    <tr>\n",
       "      <th>436</th>\n",
       "      <td>55409</td>\n",
       "      <td>3</td>\n",
       "    </tr>\n",
       "    <tr>\n",
       "      <th>439</th>\n",
       "      <td>55414</td>\n",
       "      <td>9</td>\n",
       "    </tr>\n",
       "    <tr>\n",
       "      <th>448</th>\n",
       "      <td>55454</td>\n",
       "      <td>4</td>\n",
       "    </tr>\n",
       "    <tr>\n",
       "      <th>467</th>\n",
       "      <td>60201</td>\n",
       "      <td>3</td>\n",
       "    </tr>\n",
       "    <tr>\n",
       "      <th>489</th>\n",
       "      <td>61801</td>\n",
       "      <td>3</td>\n",
       "    </tr>\n",
       "    <tr>\n",
       "      <th>490</th>\n",
       "      <td>61820</td>\n",
       "      <td>3</td>\n",
       "    </tr>\n",
       "    <tr>\n",
       "      <th>492</th>\n",
       "      <td>62901</td>\n",
       "      <td>3</td>\n",
       "    </tr>\n",
       "    <tr>\n",
       "      <th>497</th>\n",
       "      <td>63108</td>\n",
       "      <td>3</td>\n",
       "    </tr>\n",
       "    <tr>\n",
       "      <th>591</th>\n",
       "      <td>80525</td>\n",
       "      <td>3</td>\n",
       "    </tr>\n",
       "    <tr>\n",
       "      <th>689</th>\n",
       "      <td>94043</td>\n",
       "      <td>3</td>\n",
       "    </tr>\n",
       "    <tr>\n",
       "      <th>745</th>\n",
       "      <td>97301</td>\n",
       "      <td>3</td>\n",
       "    </tr>\n",
       "  </tbody>\n",
       "</table>\n",
       "</div>"
      ],
      "text/plain": [
       "    zip code  count\n",
       "31     02215      3\n",
       "88     10003      5\n",
       "94     10021      3\n",
       "105    11217      3\n",
       "125    14216      3\n",
       "172    20009      5\n",
       "207    22902      3\n",
       "208    22903      3\n",
       "230    27514      4\n",
       "361    48103      3\n",
       "414    55104      3\n",
       "415    55105      6\n",
       "416    55106      3\n",
       "418    55108      3\n",
       "420    55113      3\n",
       "429    55337      5\n",
       "435    55408      4\n",
       "436    55409      3\n",
       "439    55414      9\n",
       "448    55454      4\n",
       "467    60201      3\n",
       "489    61801      3\n",
       "490    61820      3\n",
       "492    62901      3\n",
       "497    63108      3\n",
       "591    80525      3\n",
       "689    94043      3\n",
       "745    97301      3"
      ]
     },
     "execution_count": 141,
     "metadata": {},
     "output_type": "execute_result"
    }
   ],
   "source": [
    "### get the users from same area\n",
    "df=userData.groupby(['zip code'])['user id'].count().reset_index(name='count')\n",
    "df[df['count']>2]"
   ]
  },
  {
   "cell_type": "code",
   "execution_count": 147,
   "metadata": {},
   "outputs": [
    {
     "data": {
      "text/plain": [
       "age\n",
       "7      1\n",
       "10     1\n",
       "11     1\n",
       "13     5\n",
       "14     3\n",
       "15     6\n",
       "16     5\n",
       "17    14\n",
       "18    18\n",
       "19    23\n",
       "20    32\n",
       "21    27\n",
       "22    37\n",
       "23    28\n",
       "24    33\n",
       "25    38\n",
       "26    34\n",
       "27    35\n",
       "28    36\n",
       "29    32\n",
       "30    39\n",
       "31    25\n",
       "32    28\n",
       "33    26\n",
       "34    17\n",
       "35    27\n",
       "36    21\n",
       "37    19\n",
       "38    17\n",
       "39    22\n",
       "      ..\n",
       "41    10\n",
       "42    21\n",
       "43    13\n",
       "44    23\n",
       "45    15\n",
       "46    12\n",
       "47    14\n",
       "48    20\n",
       "49    19\n",
       "50    20\n",
       "51    20\n",
       "52     6\n",
       "53    12\n",
       "54     4\n",
       "55    11\n",
       "56     6\n",
       "57     9\n",
       "58     3\n",
       "59     3\n",
       "60     9\n",
       "61     3\n",
       "62     2\n",
       "63     3\n",
       "64     2\n",
       "65     3\n",
       "66     1\n",
       "68     2\n",
       "69     2\n",
       "70     3\n",
       "73     1\n",
       "Name: user id, Length: 61, dtype: int64"
      ]
     },
     "execution_count": 147,
     "metadata": {},
     "output_type": "execute_result"
    }
   ],
   "source": [
    "### get users from same age\n",
    "userData.groupby(['age'])['user id'].count()"
   ]
  },
  {
   "cell_type": "code",
   "execution_count": 75,
   "metadata": {},
   "outputs": [
    {
     "data": {
      "text/plain": [
       "occupation\n",
       "administrator     79\n",
       "artist            28\n",
       "doctor             7\n",
       "educator          95\n",
       "engineer          67\n",
       "entertainment     18\n",
       "executive         32\n",
       "healthcare        16\n",
       "homemaker          7\n",
       "lawyer            12\n",
       "librarian         51\n",
       "marketing         26\n",
       "none               9\n",
       "other            105\n",
       "programmer        66\n",
       "retired           14\n",
       "salesman          12\n",
       "scientist         31\n",
       "student          196\n",
       "technician        27\n",
       "writer            45\n",
       "Name: user id, dtype: int64"
      ]
     },
     "execution_count": 75,
     "metadata": {},
     "output_type": "execute_result"
    }
   ],
   "source": [
    "### get users from same occupation\n",
    "userData.groupby(['occupation'])['user id'].count()"
   ]
  },
  {
   "cell_type": "code",
   "execution_count": 76,
   "metadata": {},
   "outputs": [
    {
     "data": {
      "text/plain": [
       "gender\n",
       "F    273\n",
       "M    670\n",
       "Name: user id, dtype: int64"
      ]
     },
     "execution_count": 76,
     "metadata": {},
     "output_type": "execute_result"
    }
   ],
   "source": [
    "### get users from same gender\n",
    "userData.groupby(['gender'])['user id'].count()"
   ]
  },
  {
   "cell_type": "markdown",
   "metadata": {},
   "source": [
    "#### Clustering to find neighbors of users"
   ]
  },
  {
   "cell_type": "markdown",
   "metadata": {},
   "source": [
    "#### Clusters according to age group -4"
   ]
  },
  {
   "cell_type": "code",
   "execution_count": 179,
   "metadata": {},
   "outputs": [],
   "source": [
    "######binning age values in interval of 20\n",
    "df=pd.DataFrame()\n",
    "df['age']=userData['age']\n",
    "df['bin'] = pd.cut(userData['age'],[i for i in range(0,100,20)], labels=['0-20', '20-40', '40-60','60-80']) #category"
   ]
  },
  {
   "cell_type": "code",
   "execution_count": 180,
   "metadata": {},
   "outputs": [],
   "source": [
    "userData['Age_category']=df['bin']"
   ]
  },
  {
   "cell_type": "code",
   "execution_count": 181,
   "metadata": {},
   "outputs": [
    {
     "data": {
      "text/plain": [
       "Age_category\n",
       "0-20     109\n",
       "20-40    562\n",
       "40-60    250\n",
       "60-80     22\n",
       "Name: user id, dtype: int64"
      ]
     },
     "execution_count": 181,
     "metadata": {},
     "output_type": "execute_result"
    }
   ],
   "source": [
    "userData.groupby(['Age_category'])['user id'].count()"
   ]
  },
  {
   "cell_type": "code",
   "execution_count": 199,
   "metadata": {},
   "outputs": [
    {
     "data": {
      "text/markdown": [
       "**bold**"
      ],
      "text/plain": [
       "<IPython.core.display.Markdown object>"
      ]
     },
     "metadata": {},
     "output_type": "display_data"
    }
   ],
   "source": [
    "def printmd(string):\n",
    "    display(Markdown(string))\n",
    "printmd('**bold**')"
   ]
  },
  {
   "cell_type": "code",
   "execution_count": 201,
   "metadata": {},
   "outputs": [
    {
     "data": {
      "text/markdown": [
       "**Cluster 1 Age group :20-40**\n"
      ],
      "text/plain": [
       "<IPython.core.display.Markdown object>"
      ]
     },
     "metadata": {},
     "output_type": "display_data"
    },
    {
     "name": "stdout",
     "output_type": "stream",
     "text": [
      "Record count: 562\n",
      "     user id  age gender     occupation zip code Age_category\n",
      "0          1   24      M     technician    85711        20-40\n",
      "2          3   23      M         writer    32067        20-40\n",
      "3          4   24      M     technician    43537        20-40\n",
      "4          5   33      F          other    15213        20-40\n",
      "7          8   36      M  administrator    05201        20-40\n",
      "8          9   29      M        student    01002        20-40\n",
      "10        11   39      F          other    30329        20-40\n",
      "11        12   28      F          other    06405        20-40\n",
      "15        16   21      M  entertainment    10309        20-40\n",
      "16        17   30      M     programmer    06355        20-40\n",
      "17        18   35      F          other    37212        20-40\n",
      "18        19   40      M      librarian    02138        20-40\n",
      "20        21   26      M         writer    30068        20-40\n",
      "21        22   25      M         writer    40206        20-40\n",
      "22        23   30      F         artist    48197        20-40\n",
      "23        24   21      F         artist    94533        20-40\n",
      "24        25   39      M       engineer    55107        20-40\n",
      "26        27   40      F      librarian    30030        20-40\n",
      "27        28   32      M         writer    55369        20-40\n",
      "30        31   24      M         artist    10003        20-40\n",
      "31        32   28      F        student    78741        20-40\n",
      "32        33   23      M        student    27510        20-40\n",
      "33        34   38      F  administrator    42141        20-40\n",
      "36        37   23      M        student    55105        20-40\n",
      "37        38   28      F          other    54467        20-40\n",
      "39        40   38      M      scientist    27514        20-40\n",
      "40        41   33      M       engineer    80525        20-40\n",
      "41        42   30      M  administrator    17870        20-40\n",
      "42        43   29      F      librarian    20854        20-40\n",
      "43        44   26      M     technician    46260        20-40\n",
      "..       ...  ...    ...            ...      ...          ...\n",
      "892      893   25      M        student    95823        20-40\n",
      "894      895   31      F      librarian    32301        20-40\n",
      "895      896   28      M         writer    91505        20-40\n",
      "896      897   30      M          other    33484        20-40\n",
      "897      898   23      M      homemaker    61755        20-40\n",
      "898      899   32      M          other    55116        20-40\n",
      "900      901   38      M      executive    L1V3W        20-40\n",
      "902      903   28      M       educator    20850        20-40\n",
      "904      905   27      M          other    30350        20-40\n",
      "906      907   25      F          other    80526        20-40\n",
      "909      910   28      M     healthcare    29301        20-40\n",
      "910      911   37      F         writer    53210        20-40\n",
      "912      913   27      M        student    76201        20-40\n",
      "915      916   27      M       engineer    N2L5N        20-40\n",
      "916      917   22      F        student    20006        20-40\n",
      "917      918   40      M      scientist    70116        20-40\n",
      "918      919   25      M          other    14216        20-40\n",
      "919      920   30      F         artist    90008        20-40\n",
      "921      922   29      F  administrator    21114        20-40\n",
      "922      923   21      M        student    E2E3R        20-40\n",
      "923      924   29      M          other    11753        20-40\n",
      "926      927   23      M     programmer    55428        20-40\n",
      "927      928   21      M        student    55408        20-40\n",
      "929      930   28      F      scientist    07310        20-40\n",
      "932      933   28      M        student    48105        20-40\n",
      "935      936   24      M          other    32789        20-40\n",
      "937      938   38      F     technician    55038        20-40\n",
      "938      939   26      F        student    33319        20-40\n",
      "939      940   32      M  administrator    02215        20-40\n",
      "942      943   22      M        student    77841        20-40\n",
      "\n",
      "[562 rows x 6 columns]\n",
      "\n",
      "\n"
     ]
    },
    {
     "data": {
      "text/markdown": [
       "**Cluster 2 Age group :40-60**\n"
      ],
      "text/plain": [
       "<IPython.core.display.Markdown object>"
      ]
     },
     "metadata": {},
     "output_type": "display_data"
    },
    {
     "name": "stdout",
     "output_type": "stream",
     "text": [
      "Record count: 250\n",
      "     user id  age gender     occupation zip code Age_category\n",
      "1          2   53      F          other    94043        40-60\n",
      "5          6   42      M      executive    98101        40-60\n",
      "6          7   57      M  administrator    91344        40-60\n",
      "9         10   53      M         lawyer    90703        40-60\n",
      "12        13   47      M       educator    29206        40-60\n",
      "13        14   45      M      scientist    55106        40-60\n",
      "14        15   49      F       educator    97301        40-60\n",
      "19        20   42      F      homemaker    95660        40-60\n",
      "25        26   49      M       engineer    21044        40-60\n",
      "28        29   41      M     programmer    94043        40-60\n",
      "38        39   41      M  entertainment    01040        40-60\n",
      "46        47   53      M      marketing    07102        40-60\n",
      "47        48   45      M  administrator    12550        40-60\n",
      "58        59   49      M       educator    08403        40-60\n",
      "59        60   50      M     healthcare    06472        40-60\n",
      "64        65   51      F       educator    48118        40-60\n",
      "71        72   48      F  administrator    73034        40-60\n",
      "81        82   50      M     programmer    22902        40-60\n",
      "84        85   51      M       educator    20003        40-60\n",
      "86        87   47      M  administrator    89503        40-60\n",
      "87        88   49      F      librarian    11701        40-60\n",
      "88        89   43      F  administrator    68106        40-60\n",
      "89        90   60      M       educator    78155        40-60\n",
      "90        91   55      M      marketing    01913        40-60\n",
      "92        93   48      M      executive    23112        40-60\n",
      "96        97   43      M         artist    98006        40-60\n",
      "97        98   49      F      executive    90291        40-60\n",
      "107      108   44      M       educator    63130        40-60\n",
      "110      111   57      M       engineer    90630        40-60\n",
      "112      113   47      M      executive    95032        40-60\n",
      "..       ...  ...    ...            ...      ...          ...\n",
      "840      841   45      M         doctor    47401        40-60\n",
      "847      848   46      M       engineer    02146        40-60\n",
      "851      852   46      M  administrator    94086        40-60\n",
      "852      853   49      M         writer    40515        40-60\n",
      "854      855   53      M      librarian    04988        40-60\n",
      "855      856   43      F      marketing    97215        40-60\n",
      "865      866   45      M          other    60302        40-60\n",
      "872      873   48      F  administrator    33763        40-60\n",
      "875      876   41      M          other    20902        40-60\n",
      "877      878   50      F       educator    98027        40-60\n",
      "882      883   49      M      librarian    50266        40-60\n",
      "883      884   44      M       engineer    55337        40-60\n",
      "887      888   41      M      scientist    17036        40-60\n",
      "890      891   51      F  administrator    03062        40-60\n",
      "893      894   47      M       educator    74075        40-60\n",
      "899      900   60      M        retired    18505        40-60\n",
      "901      902   45      F         artist    97203        40-60\n",
      "905      906   45      M      librarian    70124        40-60\n",
      "907      908   44      F      librarian    68504        40-60\n",
      "908      909   50      F       educator    53171        40-60\n",
      "911      912   51      M          other    06512        40-60\n",
      "913      914   44      F          other    08105        40-60\n",
      "914      915   50      M  entertainment    60614        40-60\n",
      "925      926   49      M  entertainment    01701        40-60\n",
      "928      929   44      M      scientist    53711        40-60\n",
      "930      931   60      M       educator    33556        40-60\n",
      "931      932   58      M       educator    06437        40-60\n",
      "934      935   42      M         doctor    66221        40-60\n",
      "936      937   48      M       educator    98072        40-60\n",
      "941      942   48      F      librarian    78209        40-60\n",
      "\n",
      "[250 rows x 6 columns]\n",
      "\n",
      "\n"
     ]
    },
    {
     "data": {
      "text/markdown": [
       "**Cluster 3 Age group :0-20**\n"
      ],
      "text/plain": [
       "<IPython.core.display.Markdown object>"
      ]
     },
     "metadata": {},
     "output_type": "display_data"
    },
    {
     "name": "stdout",
     "output_type": "stream",
     "text": [
      "Record count: 109\n",
      "     user id  age gender     occupation zip code Age_category\n",
      "29        30    7      M        student    55436         0-20\n",
      "34        35   20      F      homemaker    42459         0-20\n",
      "35        36   19      F        student    93117         0-20\n",
      "51        52   18      F        student    55105         0-20\n",
      "56        57   16      M           none    84010         0-20\n",
      "66        67   17      M        student    60402         0-20\n",
      "67        68   19      M        student    22904         0-20\n",
      "75        76   20      M        student    02215         0-20\n",
      "98        99   20      M        student    63129         0-20\n",
      "100      101   15      M        student    05146         0-20\n",
      "109      110   19      M        student    77840         0-20\n",
      "116      117   20      M        student    16125         0-20\n",
      "129      130   20      M           none    60115         0-20\n",
      "138      139   20      M        student    08904         0-20\n",
      "141      142   13      M          other    48118         0-20\n",
      "149      150   20      F         artist    02139         0-20\n",
      "164      165   20      F          other    53715         0-20\n",
      "176      177   20      M     programmer    19104         0-20\n",
      "178      179   15      M  entertainment    20755         0-20\n",
      "205      206   14      F        student    53115         0-20\n",
      "220      221   19      M        student    20685         0-20\n",
      "222      223   19      F        student    47906         0-20\n",
      "245      246   19      M        student    28734         0-20\n",
      "256      257   17      M        student    77005         0-20\n",
      "257      258   19      F        student    77801         0-20\n",
      "261      262   19      F        student    78264         0-20\n",
      "269      270   18      F        student    63119         0-20\n",
      "273      274   20      F        student    55414         0-20\n",
      "280      281   15      F        student    06059         0-20\n",
      "288      289   11      M           none    94619         0-20\n",
      "..       ...  ...    ...            ...      ...          ...\n",
      "639      640   20      M        student    61801         0-20\n",
      "641      642   18      F        student    95521         0-20\n",
      "645      646   17      F        student    51250         0-20\n",
      "648      649   20      M        student    39762         0-20\n",
      "673      674   13      F        student    55337         0-20\n",
      "676      677   20      M          other    99835         0-20\n",
      "678      679   20      F        student    54302         0-20\n",
      "699      700   17      M        student    76309         0-20\n",
      "709      710   19      M        student    92020         0-20\n",
      "728      729   19      M        student    56567         0-20\n",
      "746      747   19      M          other    93612         0-20\n",
      "758      759   20      F        student    68503         0-20\n",
      "760      761   17      M        student    97302         0-20\n",
      "772      773   20      M        student    55414         0-20\n",
      "780      781   20      M        student    48825         0-20\n",
      "786      787   18      F        student    98620         0-20\n",
      "812      813   14      F        student    02136         0-20\n",
      "816      817   19      M        student    60152         0-20\n",
      "848      849   15      F        student    25652         0-20\n",
      "850      851   18      M          other    29646         0-20\n",
      "858      859   18      F          other    06492         0-20\n",
      "862      863   17      M        student    60089         0-20\n",
      "871      872   19      F        student    74078         0-20\n",
      "879      880   13      M        student    83702         0-20\n",
      "885      886   20      M        student    61820         0-20\n",
      "886      887   14      F        student    27249         0-20\n",
      "903      904   17      F        student    61073         0-20\n",
      "920      921   20      F        student    98801         0-20\n",
      "924      925   18      F       salesman    49036         0-20\n",
      "940      941   20      M        student    97229         0-20\n",
      "\n",
      "[109 rows x 6 columns]\n",
      "\n",
      "\n"
     ]
    },
    {
     "data": {
      "text/markdown": [
       "**Cluster 4 Age group :60-80**\n"
      ],
      "text/plain": [
       "<IPython.core.display.Markdown object>"
      ]
     },
     "metadata": {},
     "output_type": "display_data"
    },
    {
     "name": "stdout",
     "output_type": "stream",
     "text": [
      "Record count: 22\n",
      "     user id  age gender     occupation zip code Age_category\n",
      "105      106   61      M        retired    55125        60-80\n",
      "210      211   66      M       salesman    32605        60-80\n",
      "265      266   62      F  administrator    78756        60-80\n",
      "317      318   65      M        retired    06518        60-80\n",
      "348      349   68      M        retired    61455        60-80\n",
      "350      351   61      M       educator    49938        60-80\n",
      "363      364   63      M       engineer    01810        60-80\n",
      "422      423   64      M          other    91606        60-80\n",
      "480      481   73      M        retired    37771        60-80\n",
      "519      520   62      M     healthcare    12603        60-80\n",
      "558      559   69      M      executive    10022        60-80\n",
      "563      564   65      M        retired    94591        60-80\n",
      "572      573   68      M        retired    48911        60-80\n",
      "584      585   69      M      librarian    98501        60-80\n",
      "650      651   65      M        retired    02903        60-80\n",
      "766      767   70      M       engineer    00000        60-80\n",
      "776      777   63      M     programmer    01810        60-80\n",
      "802      803   70      M  administrator    78212        60-80\n",
      "844      845   64      M         doctor    97405        60-80\n",
      "857      858   63      M       educator    09645        60-80\n",
      "859      860   70      F        retired    48322        60-80\n",
      "933      934   61      M       engineer    22902        60-80\n",
      "\n",
      "\n"
     ]
    }
   ],
   "source": [
    "i=1\n",
    "for cat in userData.Age_category.unique():\n",
    "    printmd(f'**Cluster {i} Age group :{cat}**\\n')\n",
    "    res=userData.loc[userData['Age_category']==cat]\n",
    "    print(f'Record count: {res.shape[0]}')\n",
    "    print(res)\n",
    "    print('\\n')\n",
    "    i=i+1"
   ]
  },
  {
   "cell_type": "markdown",
   "metadata": {},
   "source": [
    "#### Clusters according to gender - 2"
   ]
  },
  {
   "cell_type": "code",
   "execution_count": 202,
   "metadata": {},
   "outputs": [
    {
     "data": {
      "text/markdown": [
       "**Cluster 1 Group :M**\n"
      ],
      "text/plain": [
       "<IPython.core.display.Markdown object>"
      ]
     },
     "metadata": {},
     "output_type": "display_data"
    },
    {
     "name": "stdout",
     "output_type": "stream",
     "text": [
      "Record count: 670\n",
      "     user id  age gender     occupation zip code Age_category\n",
      "0          1   24      M     technician    85711        20-40\n",
      "2          3   23      M         writer    32067        20-40\n",
      "3          4   24      M     technician    43537        20-40\n",
      "5          6   42      M      executive    98101        40-60\n",
      "6          7   57      M  administrator    91344        40-60\n",
      "7          8   36      M  administrator    05201        20-40\n",
      "8          9   29      M        student    01002        20-40\n",
      "9         10   53      M         lawyer    90703        40-60\n",
      "12        13   47      M       educator    29206        40-60\n",
      "13        14   45      M      scientist    55106        40-60\n",
      "15        16   21      M  entertainment    10309        20-40\n",
      "16        17   30      M     programmer    06355        20-40\n",
      "18        19   40      M      librarian    02138        20-40\n",
      "20        21   26      M         writer    30068        20-40\n",
      "21        22   25      M         writer    40206        20-40\n",
      "24        25   39      M       engineer    55107        20-40\n",
      "25        26   49      M       engineer    21044        40-60\n",
      "27        28   32      M         writer    55369        20-40\n",
      "28        29   41      M     programmer    94043        40-60\n",
      "29        30    7      M        student    55436         0-20\n",
      "30        31   24      M         artist    10003        20-40\n",
      "32        33   23      M        student    27510        20-40\n",
      "36        37   23      M        student    55105        20-40\n",
      "38        39   41      M  entertainment    01040        40-60\n",
      "39        40   38      M      scientist    27514        20-40\n",
      "40        41   33      M       engineer    80525        20-40\n",
      "41        42   30      M  administrator    17870        20-40\n",
      "43        44   26      M     technician    46260        20-40\n",
      "44        45   29      M     programmer    50233        20-40\n",
      "46        47   53      M      marketing    07102        40-60\n",
      "..       ...  ...    ...            ...      ...          ...\n",
      "897      898   23      M      homemaker    61755        20-40\n",
      "898      899   32      M          other    55116        20-40\n",
      "899      900   60      M        retired    18505        40-60\n",
      "900      901   38      M      executive    L1V3W        20-40\n",
      "902      903   28      M       educator    20850        20-40\n",
      "904      905   27      M          other    30350        20-40\n",
      "905      906   45      M      librarian    70124        40-60\n",
      "909      910   28      M     healthcare    29301        20-40\n",
      "911      912   51      M          other    06512        40-60\n",
      "912      913   27      M        student    76201        20-40\n",
      "914      915   50      M  entertainment    60614        40-60\n",
      "915      916   27      M       engineer    N2L5N        20-40\n",
      "917      918   40      M      scientist    70116        20-40\n",
      "918      919   25      M          other    14216        20-40\n",
      "922      923   21      M        student    E2E3R        20-40\n",
      "923      924   29      M          other    11753        20-40\n",
      "925      926   49      M  entertainment    01701        40-60\n",
      "926      927   23      M     programmer    55428        20-40\n",
      "927      928   21      M        student    55408        20-40\n",
      "928      929   44      M      scientist    53711        40-60\n",
      "930      931   60      M       educator    33556        40-60\n",
      "931      932   58      M       educator    06437        40-60\n",
      "932      933   28      M        student    48105        20-40\n",
      "933      934   61      M       engineer    22902        60-80\n",
      "934      935   42      M         doctor    66221        40-60\n",
      "935      936   24      M          other    32789        20-40\n",
      "936      937   48      M       educator    98072        40-60\n",
      "939      940   32      M  administrator    02215        20-40\n",
      "940      941   20      M        student    97229         0-20\n",
      "942      943   22      M        student    77841        20-40\n",
      "\n",
      "[670 rows x 6 columns]\n",
      "\n",
      "\n"
     ]
    },
    {
     "data": {
      "text/markdown": [
       "**Cluster 2 Group :F**\n"
      ],
      "text/plain": [
       "<IPython.core.display.Markdown object>"
      ]
     },
     "metadata": {},
     "output_type": "display_data"
    },
    {
     "name": "stdout",
     "output_type": "stream",
     "text": [
      "Record count: 273\n",
      "     user id  age gender     occupation zip code Age_category\n",
      "1          2   53      F          other    94043        40-60\n",
      "4          5   33      F          other    15213        20-40\n",
      "10        11   39      F          other    30329        20-40\n",
      "11        12   28      F          other    06405        20-40\n",
      "14        15   49      F       educator    97301        40-60\n",
      "17        18   35      F          other    37212        20-40\n",
      "19        20   42      F      homemaker    95660        40-60\n",
      "22        23   30      F         artist    48197        20-40\n",
      "23        24   21      F         artist    94533        20-40\n",
      "26        27   40      F      librarian    30030        20-40\n",
      "31        32   28      F        student    78741        20-40\n",
      "33        34   38      F  administrator    42141        20-40\n",
      "34        35   20      F      homemaker    42459         0-20\n",
      "35        36   19      F        student    93117         0-20\n",
      "37        38   28      F          other    54467        20-40\n",
      "42        43   29      F      librarian    20854        20-40\n",
      "45        46   27      F      marketing    46538        20-40\n",
      "48        49   23      F        student    76111        20-40\n",
      "51        52   18      F        student    55105         0-20\n",
      "61        62   27      F  administrator    97214        20-40\n",
      "64        65   51      F       educator    48118        40-60\n",
      "71        72   48      F  administrator    73034        40-60\n",
      "78        79   39      F  administrator    03755        20-40\n",
      "79        80   34      F  administrator    52241        20-40\n",
      "87        88   49      F      librarian    11701        40-60\n",
      "88        89   43      F  administrator    68106        40-60\n",
      "95        96   25      F         artist    75206        20-40\n",
      "97        98   49      F      executive    90291        40-60\n",
      "119      120   47      F          other    06260        40-60\n",
      "121      122   32      F         writer    22206        20-40\n",
      "..       ...  ...    ...            ...      ...          ...\n",
      "855      856   43      F      marketing    97215        40-60\n",
      "856      857   35      F  administrator    V1G4L        20-40\n",
      "858      859   18      F          other    06492         0-20\n",
      "859      860   70      F        retired    48322        60-80\n",
      "860      861   38      F        student    14085        20-40\n",
      "871      872   19      F        student    74078         0-20\n",
      "872      873   48      F  administrator    33763        40-60\n",
      "874      875   24      F        student    35802        20-40\n",
      "877      878   50      F       educator    98027        40-60\n",
      "878      879   33      F  administrator    55337        20-40\n",
      "884      885   30      F          other    95316        20-40\n",
      "886      887   14      F        student    27249         0-20\n",
      "890      891   51      F  administrator    03062        40-60\n",
      "894      895   31      F      librarian    32301        20-40\n",
      "901      902   45      F         artist    97203        40-60\n",
      "903      904   17      F        student    61073         0-20\n",
      "906      907   25      F          other    80526        20-40\n",
      "907      908   44      F      librarian    68504        40-60\n",
      "908      909   50      F       educator    53171        40-60\n",
      "910      911   37      F         writer    53210        20-40\n",
      "913      914   44      F          other    08105        40-60\n",
      "916      917   22      F        student    20006        20-40\n",
      "919      920   30      F         artist    90008        20-40\n",
      "920      921   20      F        student    98801         0-20\n",
      "921      922   29      F  administrator    21114        20-40\n",
      "924      925   18      F       salesman    49036         0-20\n",
      "929      930   28      F      scientist    07310        20-40\n",
      "937      938   38      F     technician    55038        20-40\n",
      "938      939   26      F        student    33319        20-40\n",
      "941      942   48      F      librarian    78209        40-60\n",
      "\n",
      "[273 rows x 6 columns]\n",
      "\n",
      "\n"
     ]
    }
   ],
   "source": [
    "i=1\n",
    "for gen in userData.gender.unique():\n",
    "    printmd(f'**Cluster {i} Group :{gen}**\\n')\n",
    "    res=userData.loc[userData['gender']==gen]\n",
    "    print(f'Record count: {res.shape[0]}')\n",
    "    print(res)\n",
    "    print('\\n')\n",
    "    i=i+1"
   ]
  },
  {
   "cell_type": "markdown",
   "metadata": {},
   "source": [
    "#### Clusters according to occupation- 21"
   ]
  },
  {
   "cell_type": "code",
   "execution_count": 203,
   "metadata": {},
   "outputs": [
    {
     "data": {
      "text/markdown": [
       "**Cluster 1 Group :technician**\n"
      ],
      "text/plain": [
       "<IPython.core.display.Markdown object>"
      ]
     },
     "metadata": {},
     "output_type": "display_data"
    },
    {
     "name": "stdout",
     "output_type": "stream",
     "text": [
      "Record count: 27\n",
      "     user id  age gender  occupation zip code Age_category\n",
      "0          1   24      M  technician    85711        20-40\n",
      "3          4   24      M  technician    43537        20-40\n",
      "43        44   26      M  technician    46260        20-40\n",
      "76        77   30      M  technician    29379        20-40\n",
      "142      143   42      M  technician    08832        40-60\n",
      "196      197   55      M  technician    75094        40-60\n",
      "243      244   28      M  technician    80525        20-40\n",
      "293      294   34      M  technician    92110        20-40\n",
      "310      311   32      M  technician    73071        20-40\n",
      "324      325   48      M  technician    02139        40-60\n",
      "440      441   50      M  technician    55013        40-60\n",
      "455      456   24      M  technician    31820        20-40\n",
      "457      458   47      M  technician    Y1A6B        40-60\n",
      "487      488   48      M  technician    21012        40-60\n",
      "544      545   27      M  technician    08052        20-40\n",
      "669      670   30      M  technician    21114        20-40\n",
      "714      715   21      M  technician    91206        20-40\n",
      "716      717   24      M  technician    84105        20-40\n",
      "717      718   42      M  technician    64118        40-60\n",
      "737      738   35      M  technician    95403        20-40\n",
      "738      739   35      M  technician    73162        20-40\n",
      "789      790   27      M  technician    80913        20-40\n",
      "811      812   22      M  technician    76234        20-40\n",
      "831      832   24      M  technician    77042        20-40\n",
      "849      850   34      M  technician    78390        20-40\n",
      "888      889   24      M  technician    78704        20-40\n",
      "937      938   38      F  technician    55038        20-40\n",
      "\n",
      "\n"
     ]
    },
    {
     "data": {
      "text/markdown": [
       "**Cluster 2 Group :other**\n"
      ],
      "text/plain": [
       "<IPython.core.display.Markdown object>"
      ]
     },
     "metadata": {},
     "output_type": "display_data"
    },
    {
     "name": "stdout",
     "output_type": "stream",
     "text": [
      "Record count: 105\n",
      "     user id  age gender occupation zip code Age_category\n",
      "1          2   53      F      other    94043        40-60\n",
      "4          5   33      F      other    15213        20-40\n",
      "10        11   39      F      other    30329        20-40\n",
      "11        12   28      F      other    06405        20-40\n",
      "17        18   35      F      other    37212        20-40\n",
      "37        38   28      F      other    54467        20-40\n",
      "82        83   40      M      other    44133        20-40\n",
      "108      109   29      M      other    55423        20-40\n",
      "119      120   47      F      other    06260        40-60\n",
      "131      132   24      M      other    94612        20-40\n",
      "135      136   51      M      other    97365        40-60\n",
      "141      142   13      M      other    48118         0-20\n",
      "154      155   32      F      other    11217        20-40\n",
      "164      165   20      F      other    53715         0-20\n",
      "166      167   37      M      other    L9G2B        20-40\n",
      "167      168   48      M      other    80127        40-60\n",
      "168      169   52      F      other    53705        40-60\n",
      "172      173   56      M      other    22306        40-60\n",
      "177      178   26      M      other    49512        20-40\n",
      "216      217   22      M      other    11727        20-40\n",
      "272      273   50      F      other    10016        40-60\n",
      "305      306   45      M      other    73132        40-60\n",
      "311      312   48      M      other    02110        40-60\n",
      "315      316   43      F      other    77009        40-60\n",
      "332      333   47      M      other    V0R2M        40-60\n",
      "341      342   25      F      other    98006        20-40\n",
      "345      346   34      M      other    76059        20-40\n",
      "359      360   51      M      other    98027        40-60\n",
      "372      373   24      F      other    55116        20-40\n",
      "375      376   28      F      other    10010        20-40\n",
      "..       ...  ...    ...        ...      ...          ...\n",
      "748      749   33      M      other    80919        20-40\n",
      "750      751   24      F      other    90034        20-40\n",
      "759      760   35      F      other    14211        20-40\n",
      "765      766   42      M      other    10960        40-60\n",
      "788      789   29      M      other    55420        20-40\n",
      "796      797   44      F      other    62522        40-60\n",
      "804      805   27      F      other    20009        20-40\n",
      "809      810   55      F      other    80526        40-60\n",
      "813      814   30      M      other    12345        20-40\n",
      "814      815   32      M      other    28806        20-40\n",
      "815      816   34      M      other    20755        20-40\n",
      "823      824   31      M      other    15017        20-40\n",
      "830      831   21      M      other    33765        20-40\n",
      "833      834   26      M      other    64153        20-40\n",
      "850      851   18      M      other    29646         0-20\n",
      "858      859   18      F      other    06492         0-20\n",
      "865      866   45      M      other    60302        40-60\n",
      "875      876   41      M      other    20902        40-60\n",
      "876      877   30      M      other    77504        20-40\n",
      "884      885   30      F      other    95316        20-40\n",
      "891      892   36      M      other    45243        20-40\n",
      "896      897   30      M      other    33484        20-40\n",
      "898      899   32      M      other    55116        20-40\n",
      "904      905   27      M      other    30350        20-40\n",
      "906      907   25      F      other    80526        20-40\n",
      "911      912   51      M      other    06512        40-60\n",
      "913      914   44      F      other    08105        40-60\n",
      "918      919   25      M      other    14216        20-40\n",
      "923      924   29      M      other    11753        20-40\n",
      "935      936   24      M      other    32789        20-40\n",
      "\n",
      "[105 rows x 6 columns]\n",
      "\n",
      "\n"
     ]
    },
    {
     "data": {
      "text/markdown": [
       "**Cluster 3 Group :writer**\n"
      ],
      "text/plain": [
       "<IPython.core.display.Markdown object>"
      ]
     },
     "metadata": {},
     "output_type": "display_data"
    },
    {
     "name": "stdout",
     "output_type": "stream",
     "text": [
      "Record count: 45\n",
      "     user id  age gender occupation zip code Age_category\n",
      "2          3   23      M     writer    32067        20-40\n",
      "20        21   26      M     writer    30068        20-40\n",
      "21        22   25      M     writer    40206        20-40\n",
      "27        28   32      M     writer    55369        20-40\n",
      "49        50   21      M     writer    52245        20-40\n",
      "121      122   32      F     writer    22206        20-40\n",
      "195      196   49      M     writer    55105        40-60\n",
      "198      199   30      M     writer    17604        20-40\n",
      "200      201   27      M     writer    E2A4H        20-40\n",
      "235      236   44      F     writer    53214        40-60\n",
      "263      264   36      F     writer    90064        20-40\n",
      "292      293   24      M     writer    60804        20-40\n",
      "369      370   52      M     writer    08534        40-60\n",
      "384      385   36      M     writer    10003        20-40\n",
      "388      389   44      F     writer    83702        40-60\n",
      "389      390   42      F     writer    85016        40-60\n",
      "391      392   52      M     writer    59801        40-60\n",
      "444      445   21      M     writer    92653        20-40\n",
      "463      464   60      M     writer    94583        40-60\n",
      "490      491   43      F     writer    53711        40-60\n",
      "497      498   26      M     writer    55408        20-40\n",
      "502      503   50      F     writer    27514        40-60\n",
      "503      504   40      F     writer    92115        20-40\n",
      "506      507   18      F     writer    28450         0-20\n",
      "517      518   49      F     writer    99709        40-60\n",
      "547      548   51      M     writer    95468        40-60\n",
      "556      557   30      F     writer    11217        20-40\n",
      "557      558   56      F     writer    63132        40-60\n",
      "616      617   27      F     writer    11201        20-40\n",
      "619      620   18      F     writer    81648         0-20\n",
      "667      668   29      F     writer    10016        20-40\n",
      "694      695   26      M     writer    38115        20-40\n",
      "735      736   48      F     writer    94618        40-60\n",
      "740      741   25      M     writer    63108        20-40\n",
      "744      745   42      M     writer    55113        40-60\n",
      "771      772   50      M     writer    27105        40-60\n",
      "795      796   32      F     writer    33755        20-40\n",
      "797      798   40      F     writer    64131        20-40\n",
      "800      801   22      M     writer    92154        20-40\n",
      "828      829   48      M     writer    80209        40-60\n",
      "832      833   34      M     writer    90019        20-40\n",
      "841      842   40      M     writer    93055        20-40\n",
      "852      853   49      M     writer    40515        40-60\n",
      "895      896   28      M     writer    91505        20-40\n",
      "910      911   37      F     writer    53210        20-40\n",
      "\n",
      "\n"
     ]
    },
    {
     "data": {
      "text/markdown": [
       "**Cluster 4 Group :executive**\n"
      ],
      "text/plain": [
       "<IPython.core.display.Markdown object>"
      ]
     },
     "metadata": {},
     "output_type": "display_data"
    },
    {
     "name": "stdout",
     "output_type": "stream",
     "text": [
      "Record count: 32\n",
      "     user id  age gender occupation zip code Age_category\n",
      "5          6   42      M  executive    98101        40-60\n",
      "53        54   22      M  executive    66315        20-40\n",
      "83        84   32      M  executive    55369        20-40\n",
      "92        93   48      M  executive    23112        40-60\n",
      "97        98   49      F  executive    90291        40-60\n",
      "99       100   36      M  executive    90254        20-40\n",
      "112      113   47      M  executive    95032        40-60\n",
      "180      181   26      M  executive    21218        20-40\n",
      "185      186   39      F  executive    00000        20-40\n",
      "212      213   33      M  executive    55345        20-40\n",
      "226      227   46      M  executive    60659        40-60\n",
      "249      250   29      M  executive    95110        20-40\n",
      "264      265   26      M  executive    84601        20-40\n",
      "283      284   40      M  executive    92629        20-40\n",
      "297      298   44      M  executive    01581        40-60\n",
      "334      335   45      M  executive    33775        40-60\n",
      "356      357   26      M  executive    98133        20-40\n",
      "373      374   36      M  executive    78746        20-40\n",
      "473      474   51      M  executive    93711        40-60\n",
      "545      546   36      M  executive    22911        20-40\n",
      "558      559   69      M  executive    10022        60-80\n",
      "575      576   48      M  executive    98281        40-60\n",
      "652      653   31      M  executive    55105        20-40\n",
      "722      723   26      M  executive    94403        20-40\n",
      "723      724   31      M  executive    40243        20-40\n",
      "727      728   58      M  executive    94306        40-60\n",
      "768      769   39      M  executive    06927        20-40\n",
      "774      775   46      M  executive    90036        40-60\n",
      "834      835   44      F  executive    11577        40-60\n",
      "861      862   25      M  executive    13820        20-40\n",
      "870      871   31      M  executive    44648        20-40\n",
      "900      901   38      M  executive    L1V3W        20-40\n",
      "\n",
      "\n"
     ]
    },
    {
     "data": {
      "text/markdown": [
       "**Cluster 5 Group :administrator**\n"
      ],
      "text/plain": [
       "<IPython.core.display.Markdown object>"
      ]
     },
     "metadata": {},
     "output_type": "display_data"
    },
    {
     "name": "stdout",
     "output_type": "stream",
     "text": [
      "Record count: 79\n",
      "     user id  age gender     occupation zip code Age_category\n",
      "6          7   57      M  administrator    91344        40-60\n",
      "7          8   36      M  administrator    05201        20-40\n",
      "33        34   38      F  administrator    42141        20-40\n",
      "41        42   30      M  administrator    17870        20-40\n",
      "47        48   45      M  administrator    12550        40-60\n",
      "61        62   27      F  administrator    97214        20-40\n",
      "71        72   48      F  administrator    73034        40-60\n",
      "77        78   26      M  administrator    61801        20-40\n",
      "78        79   39      F  administrator    03755        20-40\n",
      "79        80   34      F  administrator    52241        20-40\n",
      "85        86   26      M  administrator    46005        20-40\n",
      "86        87   47      M  administrator    89503        40-60\n",
      "88        89   43      F  administrator    68106        40-60\n",
      "94        95   31      M  administrator    10707        20-40\n",
      "117      118   21      M  administrator    90210        20-40\n",
      "130      131   59      F  administrator    15237        40-60\n",
      "150      151   38      F  administrator    48103        20-40\n",
      "162      163   49      M  administrator    97212        40-60\n",
      "173      174   30      F  administrator    52302        20-40\n",
      "179      180   22      F  administrator    60202        20-40\n",
      "189      190   30      M  administrator    95938        20-40\n",
      "190      191   33      M  administrator    95161        20-40\n",
      "193      194   38      M  administrator    02154        20-40\n",
      "217      218   37      M  administrator    06513        20-40\n",
      "224      225   51      F  administrator    58202        40-60\n",
      "236      237   49      M  administrator    63146        40-60\n",
      "237      238   42      F  administrator    44124        40-60\n",
      "260      261   28      M  administrator    85202        20-40\n",
      "265      266   62      F  administrator    78756        60-80\n",
      "276      277   35      F  administrator    55406        20-40\n",
      "..       ...  ...    ...            ...      ...          ...\n",
      "522      523   50      F  administrator    04102        40-60\n",
      "524      525   27      F  administrator    19711        20-40\n",
      "528      529   47      F  administrator    44224        40-60\n",
      "538      539   53      F  administrator    80303        40-60\n",
      "561      562   54      F  administrator    20879        40-60\n",
      "577      578   31      M  administrator    M7A1A        20-40\n",
      "664      665   25      M  administrator    55412        20-40\n",
      "665      666   44      M  administrator    61820        40-60\n",
      "671      672   54      F  administrator    90095        40-60\n",
      "687      688   37      F  administrator    60476        20-40\n",
      "715      716   36      F  administrator    44265        20-40\n",
      "719      720   49      F  administrator    16506        40-60\n",
      "725      726   25      F  administrator    80538        20-40\n",
      "747      748   28      M  administrator    94720        20-40\n",
      "749      750   28      M  administrator    32303        20-40\n",
      "761      762   32      M  administrator    95050        20-40\n",
      "767      768   29      M  administrator    12866        20-40\n",
      "783      784   47      M  administrator    91040        40-60\n",
      "787      788   51      M  administrator    05779        40-60\n",
      "798      799   49      F  administrator    19716        40-60\n",
      "801      802   35      M  administrator    34105        20-40\n",
      "802      803   70      M  administrator    78212        60-80\n",
      "818      819   59      M  administrator    40205        40-60\n",
      "851      852   46      M  administrator    94086        40-60\n",
      "856      857   35      F  administrator    V1G4L        20-40\n",
      "872      873   48      F  administrator    33763        40-60\n",
      "878      879   33      F  administrator    55337        20-40\n",
      "890      891   51      F  administrator    03062        40-60\n",
      "921      922   29      F  administrator    21114        20-40\n",
      "939      940   32      M  administrator    02215        20-40\n",
      "\n",
      "[79 rows x 6 columns]\n",
      "\n",
      "\n"
     ]
    },
    {
     "data": {
      "text/markdown": [
       "**Cluster 6 Group :student**\n"
      ],
      "text/plain": [
       "<IPython.core.display.Markdown object>"
      ]
     },
     "metadata": {},
     "output_type": "display_data"
    },
    {
     "name": "stdout",
     "output_type": "stream",
     "text": [
      "Record count: 196\n",
      "     user id  age gender occupation zip code Age_category\n",
      "8          9   29      M    student    01002        20-40\n",
      "29        30    7      M    student    55436         0-20\n",
      "31        32   28      F    student    78741        20-40\n",
      "32        33   23      M    student    27510        20-40\n",
      "35        36   19      F    student    93117         0-20\n",
      "36        37   23      M    student    55105        20-40\n",
      "48        49   23      F    student    76111        20-40\n",
      "51        52   18      F    student    55105         0-20\n",
      "65        66   23      M    student    80521        20-40\n",
      "66        67   17      M    student    60402         0-20\n",
      "67        68   19      M    student    22904         0-20\n",
      "72        73   24      M    student    41850        20-40\n",
      "75        76   20      M    student    02215         0-20\n",
      "80        81   21      M    student    21218        20-40\n",
      "93        94   26      M    student    71457        20-40\n",
      "98        99   20      M    student    63129         0-20\n",
      "100      101   15      M    student    05146         0-20\n",
      "102      103   26      M    student    55108        20-40\n",
      "103      104   27      M    student    55108        20-40\n",
      "109      110   19      M    student    77840         0-20\n",
      "116      117   20      M    student    16125         0-20\n",
      "123      124   34      M    student    60615        20-40\n",
      "134      135   23      M    student    38401        20-40\n",
      "138      139   20      M    student    08904         0-20\n",
      "139      140   30      F    student    32250        20-40\n",
      "152      153   25      M    student    60641        20-40\n",
      "153      154   25      M    student    53703        20-40\n",
      "158      159   23      F    student    55346        20-40\n",
      "187      188   42      M    student    29440        40-60\n",
      "192      193   29      M    student    49931        20-40\n",
      "..       ...  ...    ...        ...      ...          ...\n",
      "786      787   18      F    student    98620         0-20\n",
      "792      793   22      M    student    85281        20-40\n",
      "812      813   14      F    student    02136         0-20\n",
      "816      817   19      M    student    60152         0-20\n",
      "819      820   22      M    student    37725        20-40\n",
      "837      838   23      M    student    01375        20-40\n",
      "846      847   29      M    student    55417        20-40\n",
      "848      849   15      F    student    25652         0-20\n",
      "853      854   29      F    student    55408        20-40\n",
      "860      861   38      F    student    14085        20-40\n",
      "862      863   17      M    student    60089         0-20\n",
      "868      869   30      M    student    10025        20-40\n",
      "869      870   22      M    student    65203        20-40\n",
      "871      872   19      F    student    74078         0-20\n",
      "874      875   24      F    student    35802        20-40\n",
      "879      880   13      M    student    83702         0-20\n",
      "885      886   20      M    student    61820         0-20\n",
      "886      887   14      F    student    27249         0-20\n",
      "889      890   32      M    student    97301        20-40\n",
      "892      893   25      M    student    95823        20-40\n",
      "903      904   17      F    student    61073         0-20\n",
      "912      913   27      M    student    76201        20-40\n",
      "916      917   22      F    student    20006        20-40\n",
      "920      921   20      F    student    98801         0-20\n",
      "922      923   21      M    student    E2E3R        20-40\n",
      "927      928   21      M    student    55408        20-40\n",
      "932      933   28      M    student    48105        20-40\n",
      "938      939   26      F    student    33319        20-40\n",
      "940      941   20      M    student    97229         0-20\n",
      "942      943   22      M    student    77841        20-40\n",
      "\n",
      "[196 rows x 6 columns]\n",
      "\n",
      "\n"
     ]
    },
    {
     "data": {
      "text/markdown": [
       "**Cluster 7 Group :lawyer**\n"
      ],
      "text/plain": [
       "<IPython.core.display.Markdown object>"
      ]
     },
     "metadata": {},
     "output_type": "display_data"
    },
    {
     "name": "stdout",
     "output_type": "stream",
     "text": [
      "Record count: 12\n",
      "     user id  age gender occupation zip code Age_category\n",
      "9         10   53      M     lawyer    90703        40-60\n",
      "124      125   30      M     lawyer    22202        20-40\n",
      "125      126   28      F     lawyer    20015        20-40\n",
      "160      161   50      M     lawyer    55104        40-60\n",
      "204      205   47      M     lawyer    06371        40-60\n",
      "338      339   35      M     lawyer    37901        20-40\n",
      "364      365   29      M     lawyer    20009        20-40\n",
      "418      419   37      M     lawyer    43215        20-40\n",
      "443      444   51      F     lawyer    53202        40-60\n",
      "588      589   21      M     lawyer    90034        20-40\n",
      "679      680   33      M     lawyer    90405        20-40\n",
      "845      846   27      M     lawyer    47130        20-40\n",
      "\n",
      "\n"
     ]
    },
    {
     "data": {
      "text/markdown": [
       "**Cluster 8 Group :educator**\n"
      ],
      "text/plain": [
       "<IPython.core.display.Markdown object>"
      ]
     },
     "metadata": {},
     "output_type": "display_data"
    },
    {
     "name": "stdout",
     "output_type": "stream",
     "text": [
      "Record count: 95\n",
      "     user id  age gender occupation zip code Age_category\n",
      "12        13   47      M   educator    29206        40-60\n",
      "14        15   49      F   educator    97301        40-60\n",
      "50        51   28      M   educator    16509        20-40\n",
      "58        59   49      M   educator    08403        40-60\n",
      "63        64   32      M   educator    43202        20-40\n",
      "64        65   51      F   educator    48118        40-60\n",
      "84        85   51      M   educator    20003        40-60\n",
      "89        90   60      M   educator    78155        40-60\n",
      "107      108   44      M   educator    63130        40-60\n",
      "136      137   50      M   educator    84408        40-60\n",
      "151      152   33      F   educator    68767        20-40\n",
      "155      156   25      M   educator    08360        20-40\n",
      "157      158   50      M   educator    27606        40-60\n",
      "165      166   47      M   educator    55113        40-60\n",
      "170      171   48      F   educator    78750        40-60\n",
      "186      187   26      M   educator    16801        20-40\n",
      "191      192   42      M   educator    90840        40-60\n",
      "201      202   41      F   educator    60201        40-60\n",
      "208      209   33      F   educator    85710        20-40\n",
      "211      212   49      F   educator    61401        40-60\n",
      "223      224   31      F   educator    43512        20-40\n",
      "234      235   37      M   educator    22973        20-40\n",
      "239      240   23      F   educator    20784        20-40\n",
      "241      242   33      M   educator    31404        20-40\n",
      "242      243   33      M   educator    60201        20-40\n",
      "253      254   44      M   educator    42647        40-60\n",
      "294      295   31      M   educator    50325        20-40\n",
      "296      297   29      F   educator    98103        20-40\n",
      "301      302   42      M   educator    77904        40-60\n",
      "309      310   37      M   educator    91711        20-40\n",
      "..       ...  ...    ...        ...      ...          ...\n",
      "603      604   39      M   educator    11787        20-40\n",
      "611      612   36      M   educator    79070        20-40\n",
      "613      614   54      M   educator    80227        40-60\n",
      "614      615   38      M   educator    27705        20-40\n",
      "622      623   50      F   educator    60187        40-60\n",
      "635      636   47      M   educator    48043        40-60\n",
      "646      647   40      M   educator    45810        20-40\n",
      "655      656   48      M   educator    10314        40-60\n",
      "658      659   31      M   educator    54248        20-40\n",
      "672      673   51      M   educator    22906        40-60\n",
      "677      678   50      M   educator    61462        40-60\n",
      "685      686   32      M   educator    26506        20-40\n",
      "690      691   34      M   educator    60089        20-40\n",
      "702      703   26      M   educator    49512        20-40\n",
      "730      731   41      F   educator    70403        40-60\n",
      "739      740   25      F   educator    22206        20-40\n",
      "754      755   44      F   educator    97007        40-60\n",
      "763      764   27      F   educator    62903        20-40\n",
      "790      791   31      M   educator    20064        20-40\n",
      "793      794   32      M   educator    57197        20-40\n",
      "803      804   39      M   educator    61820        20-40\n",
      "810      811   40      F   educator    73013        20-40\n",
      "857      858   63      M   educator    09645        60-80\n",
      "877      878   50      F   educator    98027        40-60\n",
      "893      894   47      M   educator    74075        40-60\n",
      "902      903   28      M   educator    20850        20-40\n",
      "908      909   50      F   educator    53171        40-60\n",
      "930      931   60      M   educator    33556        40-60\n",
      "931      932   58      M   educator    06437        40-60\n",
      "936      937   48      M   educator    98072        40-60\n",
      "\n",
      "[95 rows x 6 columns]\n",
      "\n",
      "\n"
     ]
    },
    {
     "data": {
      "text/markdown": [
       "**Cluster 9 Group :scientist**\n"
      ],
      "text/plain": [
       "<IPython.core.display.Markdown object>"
      ]
     },
     "metadata": {},
     "output_type": "display_data"
    },
    {
     "name": "stdout",
     "output_type": "stream",
     "text": [
      "Record count: 31\n",
      "     user id  age gender occupation zip code Age_category\n",
      "13        14   45      M  scientist    55106        40-60\n",
      "39        40   38      M  scientist    27514        20-40\n",
      "70        71   39      M  scientist    98034        20-40\n",
      "73        74   39      M  scientist    T8H1N        20-40\n",
      "106      107   39      M  scientist    60466        20-40\n",
      "174      175   26      F  scientist    21911        20-40\n",
      "175      176   28      M  scientist    07030        20-40\n",
      "182      183   33      M  scientist    27708        20-40\n",
      "194      195   42      M  scientist    93555        40-60\n",
      "231      232   45      M  scientist    99709        40-60\n",
      "271      272   33      M  scientist    53706        20-40\n",
      "308      309   40      M  scientist    70802        20-40\n",
      "336      337   37      M  scientist    10522        20-40\n",
      "352      353   25      M  scientist    28480        20-40\n",
      "429      430   38      M  scientist    98199        20-40\n",
      "482      483   29      M  scientist    43212        20-40\n",
      "537      538   31      M  scientist    21010        20-40\n",
      "542      543   33      M  scientist    95123        20-40\n",
      "548      549   42      M  scientist    45680        40-60\n",
      "553      554   32      M  scientist    62901        20-40\n",
      "615      616   55      M  scientist    50613        40-60\n",
      "625      626   23      M  scientist    19807        20-40\n",
      "642      643   39      M  scientist    55122        20-40\n",
      "729      730   31      F  scientist    32114        20-40\n",
      "762      763   27      M  scientist    02113        20-40\n",
      "866      867   24      M  scientist    92507        20-40\n",
      "873      874   36      M  scientist    37076        20-40\n",
      "887      888   41      M  scientist    17036        40-60\n",
      "917      918   40      M  scientist    70116        20-40\n",
      "928      929   44      M  scientist    53711        40-60\n",
      "929      930   28      F  scientist    07310        20-40\n",
      "\n",
      "\n"
     ]
    },
    {
     "data": {
      "text/markdown": [
       "**Cluster 10 Group :entertainment**\n"
      ],
      "text/plain": [
       "<IPython.core.display.Markdown object>"
      ]
     },
     "metadata": {},
     "output_type": "display_data"
    },
    {
     "name": "stdout",
     "output_type": "stream",
     "text": [
      "Record count: 18\n",
      "     user id  age gender     occupation zip code Age_category\n",
      "15        16   21      M  entertainment    10309        20-40\n",
      "38        39   41      M  entertainment    01040        40-60\n",
      "74        75   24      M  entertainment    08816        20-40\n",
      "91        92   32      M  entertainment    80525        20-40\n",
      "144      145   31      M  entertainment    V3N4P        20-40\n",
      "178      179   15      M  entertainment    20755         0-20\n",
      "254      255   23      M  entertainment    07029        20-40\n",
      "330      331   33      M  entertainment    91344        20-40\n",
      "374      375   17      M  entertainment    37777         0-20\n",
      "386      387   33      M  entertainment    37412        20-40\n",
      "421      422   26      M  entertainment    94533        20-40\n",
      "431      432   22      M  entertainment    50311        20-40\n",
      "447      448   23      M  entertainment    10021        20-40\n",
      "566      567   24      M  entertainment    10003        20-40\n",
      "720      721   24      F  entertainment    11238        20-40\n",
      "838      839   38      F  entertainment    90814        20-40\n",
      "914      915   50      M  entertainment    60614        40-60\n",
      "925      926   49      M  entertainment    01701        40-60\n",
      "\n",
      "\n"
     ]
    },
    {
     "data": {
      "text/markdown": [
       "**Cluster 11 Group :programmer**\n"
      ],
      "text/plain": [
       "<IPython.core.display.Markdown object>"
      ]
     },
     "metadata": {},
     "output_type": "display_data"
    },
    {
     "name": "stdout",
     "output_type": "stream",
     "text": [
      "Record count: 66\n",
      "     user id  age gender  occupation zip code Age_category\n",
      "16        17   30      M  programmer    06355        20-40\n",
      "28        29   41      M  programmer    94043        40-60\n",
      "44        45   29      M  programmer    50233        20-40\n",
      "52        53   26      M  programmer    55414        20-40\n",
      "54        55   37      M  programmer    01331        20-40\n",
      "57        58   27      M  programmer    52246        20-40\n",
      "81        82   50      M  programmer    22902        40-60\n",
      "101      102   38      M  programmer    30220        20-40\n",
      "113      114   27      M  programmer    75013        20-40\n",
      "118      119   32      M  programmer    67401        20-40\n",
      "133      134   31      M  programmer    80236        20-40\n",
      "140      141   49      M  programmer    36117        40-60\n",
      "143      144   53      M  programmer    20910        40-60\n",
      "159      160   27      M  programmer    66215        20-40\n",
      "176      177   20      M  programmer    19104         0-20\n",
      "181      182   36      M  programmer    33884        20-40\n",
      "199      200   40      M  programmer    93402        20-40\n",
      "214      215   35      M  programmer    63033        20-40\n",
      "218      219   32      M  programmer    43212        20-40\n",
      "221      222   29      M  programmer    27502        20-40\n",
      "262      263   41      M  programmer    55346        40-60\n",
      "278      279   33      M  programmer    85251        20-40\n",
      "282      283   28      M  programmer    55305        20-40\n",
      "284      285   25      M  programmer    53713        20-40\n",
      "291      292   35      F  programmer    94703        20-40\n",
      "299      300   26      F  programmer    55106        20-40\n",
      "304      305   23      M  programmer    94086        20-40\n",
      "318      319   38      M  programmer    22030        20-40\n",
      "351      352   37      F  programmer    55105        20-40\n",
      "378      379   44      M  programmer    98117        40-60\n",
      "..       ...  ...    ...         ...      ...          ...\n",
      "498      499   42      M  programmer    75006        40-60\n",
      "505      506   46      M  programmer    03869        40-60\n",
      "513      514   27      M  programmer    20707        20-40\n",
      "550      551   25      M  programmer    55414        20-40\n",
      "594      595   25      M  programmer    31909        20-40\n",
      "599      600   34      M  programmer    02320        20-40\n",
      "602      603   21      M  programmer    47905        20-40\n",
      "605      606   28      M  programmer    63044        20-40\n",
      "621      622   25      M  programmer    14850        20-40\n",
      "624      625   27      M  programmer    20723        20-40\n",
      "632      633   35      M  programmer    55414        20-40\n",
      "644      645   27      M  programmer    53211        20-40\n",
      "657      658   33      M  programmer    92626        20-40\n",
      "660      661   28      M  programmer    98121        20-40\n",
      "670      671   21      M  programmer    91919        20-40\n",
      "675      676   30      M  programmer    32712        20-40\n",
      "681      682   23      M  programmer    55128        20-40\n",
      "693      694   60      M  programmer    06365        40-60\n",
      "697      698   28      F  programmer    06906        20-40\n",
      "736      737   30      M  programmer    98072        20-40\n",
      "742      743   31      M  programmer    92660        20-40\n",
      "776      777   63      M  programmer    01810        60-80\n",
      "779      780   49      M  programmer    94560        40-60\n",
      "791      792   40      M  programmer    12205        20-40\n",
      "794      795   30      M  programmer    08610        20-40\n",
      "799      800   25      M  programmer    55337        20-40\n",
      "829      830   46      M  programmer    53066        40-60\n",
      "863      864   27      M  programmer    63021        20-40\n",
      "867      868   21      M  programmer    55303        20-40\n",
      "926      927   23      M  programmer    55428        20-40\n",
      "\n",
      "[66 rows x 6 columns]\n",
      "\n",
      "\n"
     ]
    },
    {
     "data": {
      "text/markdown": [
       "**Cluster 12 Group :librarian**\n"
      ],
      "text/plain": [
       "<IPython.core.display.Markdown object>"
      ]
     },
     "metadata": {},
     "output_type": "display_data"
    },
    {
     "name": "stdout",
     "output_type": "stream",
     "text": [
      "Record count: 51\n",
      "     user id  age gender occupation zip code Age_category\n",
      "18        19   40      M  librarian    02138        20-40\n",
      "26        27   40      F  librarian    30030        20-40\n",
      "42        43   29      F  librarian    20854        20-40\n",
      "55        56   25      M  librarian    46260        20-40\n",
      "87        88   49      F  librarian    11701        40-60\n",
      "120      121   54      M  librarian    99603        40-60\n",
      "146      147   40      F  librarian    02143        20-40\n",
      "183      184   37      M  librarian    76013        20-40\n",
      "184      185   53      F  librarian    97403        40-60\n",
      "203      204   52      F  librarian    10960        40-60\n",
      "213      214   26      F  librarian    11231        20-40\n",
      "219      220   30      M  librarian    78205        20-40\n",
      "228      229   29      F  librarian    22903        20-40\n",
      "230      231   48      M  librarian    01080        40-60\n",
      "252      253   26      F  librarian    22903        20-40\n",
      "268      269   31      F  librarian    43201        20-40\n",
      "277      278   37      F  librarian    30033        20-40\n",
      "279      280   30      F  librarian    22903        20-40\n",
      "333      334   32      M  librarian    30002        20-40\n",
      "337      338   39      F  librarian    59717        20-40\n",
      "343      344   30      F  librarian    94117        20-40\n",
      "344      345   28      F  librarian    94143        20-40\n",
      "353      354   29      F  librarian    48197        20-40\n",
      "448      449   23      M  librarian    55021        20-40\n",
      "515      516   53      F  librarian    10021        40-60\n",
      "526      527   33      M  librarian    12180        20-40\n",
      "532      533   43      M  librarian    02324        40-60\n",
      "562      563   39      F  librarian    32707        20-40\n",
      "584      585   69      M  librarian    98501        60-80\n",
      "590      591   57      F  librarian    92093        40-60\n",
      "610      611   46      M  librarian    77008        40-60\n",
      "638      639   42      F  librarian    12065        40-60\n",
      "661      662   55      M  librarian    19102        40-60\n",
      "666      667   35      M  librarian    01970        20-40\n",
      "682      683   42      M  librarian    23509        40-60\n",
      "684      685   32      F  librarian    55409        20-40\n",
      "700      701   51      F  librarian    56321        40-60\n",
      "703      704   51      F  librarian    91105        40-60\n",
      "706      707   56      F  librarian    19146        40-60\n",
      "753      754   59      F  librarian    62901        40-60\n",
      "775      776   30      M  librarian    51157        20-40\n",
      "817      818   28      M  librarian    27514        20-40\n",
      "821      822   29      F  librarian    53144        20-40\n",
      "827      828   28      M  librarian    85282        20-40\n",
      "842      843   35      M  librarian    44212        20-40\n",
      "854      855   53      M  librarian    04988        40-60\n",
      "882      883   49      M  librarian    50266        40-60\n",
      "894      895   31      F  librarian    32301        20-40\n",
      "905      906   45      M  librarian    70124        40-60\n",
      "907      908   44      F  librarian    68504        40-60\n",
      "941      942   48      F  librarian    78209        40-60\n",
      "\n",
      "\n"
     ]
    },
    {
     "data": {
      "text/markdown": [
       "**Cluster 13 Group :homemaker**\n"
      ],
      "text/plain": [
       "<IPython.core.display.Markdown object>"
      ]
     },
     "metadata": {},
     "output_type": "display_data"
    },
    {
     "name": "stdout",
     "output_type": "stream",
     "text": [
      "Record count: 7\n",
      "     user id  age gender occupation zip code Age_category\n",
      "19        20   42      F  homemaker    95660        40-60\n",
      "34        35   20      F  homemaker    42459         0-20\n",
      "355      356   32      F  homemaker    92688        20-40\n",
      "361      362   35      F  homemaker    85233        20-40\n",
      "707      708   26      F  homemaker    96349        20-40\n",
      "721      722   50      F  homemaker    17331        40-60\n",
      "897      898   23      M  homemaker    61755        20-40\n",
      "\n",
      "\n"
     ]
    },
    {
     "data": {
      "text/markdown": [
       "**Cluster 14 Group :artist**\n"
      ],
      "text/plain": [
       "<IPython.core.display.Markdown object>"
      ]
     },
     "metadata": {},
     "output_type": "display_data"
    },
    {
     "name": "stdout",
     "output_type": "stream",
     "text": [
      "Record count: 28\n",
      "     user id  age gender occupation zip code Age_category\n",
      "22        23   30      F     artist    48197        20-40\n",
      "23        24   21      F     artist    94533        20-40\n",
      "30        31   24      M     artist    10003        20-40\n",
      "95        96   25      F     artist    75206        20-40\n",
      "96        97   43      M     artist    98006        40-60\n",
      "122      123   48      F     artist    20008        40-60\n",
      "145      146   45      M     artist    83814        40-60\n",
      "149      150   20      F     artist    02139         0-20\n",
      "161      162   25      M     artist    15610        20-40\n",
      "188      189   32      M     artist    95014        20-40\n",
      "238      239   39      M     artist    95628        20-40\n",
      "259      260   40      F     artist    89801        20-40\n",
      "380      381   33      M     artist    94608        20-40\n",
      "409      410   30      F     artist    94025        20-40\n",
      "432      433   27      M     artist    11211        20-40\n",
      "489      490   29      F     artist    V5A2B        20-40\n",
      "570      571   34      M     artist    01945        20-40\n",
      "595      596   20      M     artist    77073         0-20\n",
      "600      601   19      F     artist    99687         0-20\n",
      "781      782   21      F     artist    33205        20-40\n",
      "822      823   27      M     artist    50322        20-40\n",
      "825      826   28      M     artist    77048        20-40\n",
      "835      836   44      M     artist    10018        40-60\n",
      "836      837   36      F     artist    55409        20-40\n",
      "839      840   39      M     artist    55406        20-40\n",
      "864      865   25      M     artist    11231        20-40\n",
      "901      902   45      F     artist    97203        40-60\n",
      "919      920   30      F     artist    90008        20-40\n",
      "\n",
      "\n"
     ]
    },
    {
     "data": {
      "text/markdown": [
       "**Cluster 15 Group :engineer**\n"
      ],
      "text/plain": [
       "<IPython.core.display.Markdown object>"
      ]
     },
     "metadata": {},
     "output_type": "display_data"
    },
    {
     "name": "stdout",
     "output_type": "stream",
     "text": [
      "Record count: 67\n",
      "     user id  age gender occupation zip code Age_category\n",
      "24        25   39      M   engineer    55107        20-40\n",
      "25        26   49      M   engineer    21044        40-60\n",
      "40        41   33      M   engineer    80525        20-40\n",
      "60        61   36      M   engineer    30040        20-40\n",
      "68        69   24      M   engineer    55337        20-40\n",
      "69        70   27      M   engineer    60067        20-40\n",
      "104      105   24      M   engineer    94043        20-40\n",
      "110      111   57      M   engineer    90630        40-60\n",
      "114      115   31      M   engineer    17110        20-40\n",
      "132      133   53      M   engineer    78602        40-60\n",
      "147      148   33      M   engineer    97006        20-40\n",
      "156      157   57      M   engineer    70808        40-60\n",
      "207      208   43      M   engineer    01720        40-60\n",
      "209      210   39      M   engineer    03060        20-40\n",
      "215      216   22      M   engineer    02215        20-40\n",
      "232      233   38      M   engineer    98682        20-40\n",
      "246      247   28      M   engineer    20770        20-40\n",
      "251      252   42      M   engineer    07733        40-60\n",
      "266      267   23      M   engineer    83716        20-40\n",
      "267      268   24      M   engineer    19422        20-40\n",
      "270      271   51      M   engineer    22932        40-60\n",
      "274      275   38      M   engineer    92064        20-40\n",
      "289      290   40      M   engineer    93550        20-40\n",
      "339      340   46      M   engineer    80123        40-60\n",
      "342      343   43      M   engineer    30093        40-60\n",
      "363      364   63      M   engineer    01810        60-80\n",
      "370      371   36      M   engineer    99206        20-40\n",
      "379      380   32      M   engineer    55117        20-40\n",
      "381      382   45      M   engineer    01824        40-60\n",
      "395      396   57      M   engineer    94551        40-60\n",
      "..       ...  ...    ...        ...      ...          ...\n",
      "494      495   29      M   engineer    03052        20-40\n",
      "521      522   36      M   engineer    55443        20-40\n",
      "529      530   29      M   engineer    94040        20-40\n",
      "535      536   38      M   engineer    30078        20-40\n",
      "536      537   36      M   engineer    22902        20-40\n",
      "539      540   28      M   engineer    91201        20-40\n",
      "560      561   23      M   engineer    60005        20-40\n",
      "582      583   44      M   engineer    29631        40-60\n",
      "604      605   33      M   engineer    33716        20-40\n",
      "626      627   24      M   engineer    08034        20-40\n",
      "633      634   39      M   engineer    T8H1N        20-40\n",
      "637      638   45      M   engineer    01940        40-60\n",
      "647      648   43      M   engineer    91351        40-60\n",
      "649      650   42      M   engineer    83814        40-60\n",
      "663      664   30      M   engineer    94115        20-40\n",
      "691      692   34      M   engineer    18053        20-40\n",
      "713      714   26      M   engineer    55343        20-40\n",
      "745      746   25      M   engineer    19047        20-40\n",
      "766      767   70      M   engineer    00000        60-80\n",
      "784      785   32      M   engineer    23322        20-40\n",
      "785      786   36      F   engineer    01754        20-40\n",
      "820      821   37      M   engineer    77845        20-40\n",
      "824      825   44      M   engineer    05452        40-60\n",
      "826      827   23      F   engineer    80228        20-40\n",
      "843      844   22      M   engineer    95662        20-40\n",
      "847      848   46      M   engineer    02146        40-60\n",
      "881      882   35      M   engineer    40503        20-40\n",
      "883      884   44      M   engineer    55337        40-60\n",
      "915      916   27      M   engineer    N2L5N        20-40\n",
      "933      934   61      M   engineer    22902        60-80\n",
      "\n",
      "[67 rows x 6 columns]\n",
      "\n",
      "\n"
     ]
    },
    {
     "data": {
      "text/markdown": [
       "**Cluster 16 Group :marketing**\n"
      ],
      "text/plain": [
       "<IPython.core.display.Markdown object>"
      ]
     },
     "metadata": {},
     "output_type": "display_data"
    },
    {
     "name": "stdout",
     "output_type": "stream",
     "text": [
      "Record count: 26\n",
      "     user id  age gender occupation zip code Age_category\n",
      "45        46   27      F  marketing    46538        20-40\n",
      "46        47   53      M  marketing    07102        40-60\n",
      "62        63   31      M  marketing    75240        20-40\n",
      "90        91   55      M  marketing    01913        40-60\n",
      "127      128   24      F  marketing    20009        20-40\n",
      "128      129   36      F  marketing    07039        20-40\n",
      "148      149   35      F  marketing    17325        20-40\n",
      "171      172   55      M  marketing    22207        40-60\n",
      "206      207   39      M  marketing    92037        20-40\n",
      "287      288   34      M  marketing    23226        20-40\n",
      "312      313   41      M  marketing    60035        40-60\n",
      "423      424   36      F  marketing    55422        20-40\n",
      "430      431   24      M  marketing    92629        20-40\n",
      "507      508   27      M  marketing    19382        20-40\n",
      "514      515   53      M  marketing    49508        40-60\n",
      "525      526   30      M  marketing    97124        20-40\n",
      "574      575   33      M  marketing    46032        20-40\n",
      "597      598   40      F  marketing    43085        20-40\n",
      "612      613   37      F  marketing    29678        20-40\n",
      "680      681   44      F  marketing    97208        40-60\n",
      "743      744   35      M  marketing    47024        20-40\n",
      "782      783   30      M  marketing    77081        20-40\n",
      "805      806   27      M  marketing    11217        20-40\n",
      "808      809   50      F  marketing    30803        40-60\n",
      "855      856   43      F  marketing    97215        40-60\n",
      "880      881   39      M  marketing    43017        20-40\n",
      "\n",
      "\n"
     ]
    },
    {
     "data": {
      "text/markdown": [
       "**Cluster 17 Group :none**\n"
      ],
      "text/plain": [
       "<IPython.core.display.Markdown object>"
      ]
     },
     "metadata": {},
     "output_type": "display_data"
    },
    {
     "name": "stdout",
     "output_type": "stream",
     "text": [
      "Record count: 9\n",
      "     user id  age gender occupation zip code Age_category\n",
      "56        57   16      M       none    84010         0-20\n",
      "126      127   33      M       none    73439        20-40\n",
      "129      130   20      M       none    60115         0-20\n",
      "255      256   35      F       none    39042        20-40\n",
      "288      289   11      M       none    94619         0-20\n",
      "417      418   55      F       none    21206        40-60\n",
      "627      628   13      M       none    94306         0-20\n",
      "656      657   26      F       none    78704        20-40\n",
      "755      756   30      F       none    90247        20-40\n",
      "\n",
      "\n"
     ]
    },
    {
     "data": {
      "text/markdown": [
       "**Cluster 18 Group :healthcare**\n"
      ],
      "text/plain": [
       "<IPython.core.display.Markdown object>"
      ]
     },
     "metadata": {},
     "output_type": "display_data"
    },
    {
     "name": "stdout",
     "output_type": "stream",
     "text": [
      "Record count: 16\n",
      "     user id  age gender  occupation zip code Age_category\n",
      "59        60   50      M  healthcare    06472        40-60\n",
      "115      116   40      M  healthcare    97232        20-40\n",
      "163      164   47      M  healthcare    80123        40-60\n",
      "169      170   53      F  healthcare    30067        40-60\n",
      "400      401   46      F  healthcare    84107        40-60\n",
      "404      405   22      F  healthcare    10019        20-40\n",
      "462      463   48      F  healthcare    75218        40-60\n",
      "519      520   62      M  healthcare    12603        60-80\n",
      "606      607   49      F  healthcare    02154        40-60\n",
      "629      630   26      F  healthcare    55408        20-40\n",
      "654      655   50      F  healthcare    60657        40-60\n",
      "686      687   31      F  healthcare    27713        20-40\n",
      "692      693   43      F  healthcare    85210        40-60\n",
      "734      735   29      F  healthcare    85719        20-40\n",
      "806      807   41      F  healthcare    93555        40-60\n",
      "909      910   28      M  healthcare    29301        20-40\n",
      "\n",
      "\n"
     ]
    },
    {
     "data": {
      "text/markdown": [
       "**Cluster 19 Group :retired**\n"
      ],
      "text/plain": [
       "<IPython.core.display.Markdown object>"
      ]
     },
     "metadata": {},
     "output_type": "display_data"
    },
    {
     "name": "stdout",
     "output_type": "stream",
     "text": [
      "Record count: 14\n",
      "     user id  age gender occupation zip code Age_category\n",
      "105      106   61      M    retired    55125        60-80\n",
      "233      234   60      M    retired    94702        40-60\n",
      "307      308   60      M    retired    95076        40-60\n",
      "317      318   65      M    retired    06518        60-80\n",
      "348      349   68      M    retired    61455        60-80\n",
      "479      480   57      M    retired    98257        40-60\n",
      "480      481   73      M    retired    37771        60-80\n",
      "563      564   65      M    retired    94591        60-80\n",
      "572      573   68      M    retired    48911        60-80\n",
      "643      644   51      M    retired    63645        40-60\n",
      "650      651   65      M    retired    02903        60-80\n",
      "751      752   60      M    retired    21201        40-60\n",
      "859      860   70      F    retired    48322        60-80\n",
      "899      900   60      M    retired    18505        40-60\n",
      "\n",
      "\n"
     ]
    },
    {
     "data": {
      "text/markdown": [
       "**Cluster 20 Group :salesman**\n"
      ],
      "text/plain": [
       "<IPython.core.display.Markdown object>"
      ]
     },
     "metadata": {},
     "output_type": "display_data"
    },
    {
     "name": "stdout",
     "output_type": "stream",
     "text": [
      "Record count: 12\n",
      "     user id  age gender occupation zip code Age_category\n",
      "111      112   30      M   salesman    60613        20-40\n",
      "210      211   66      M   salesman    32605        60-80\n",
      "286      287   21      M   salesman    31211        20-40\n",
      "335      336   23      M   salesman    42101        20-40\n",
      "385      386   36      M   salesman    43221        20-40\n",
      "442      443   35      M   salesman    33308        20-40\n",
      "456      457   33      F   salesman    30011        20-40\n",
      "530      531   30      F   salesman    97408        20-40\n",
      "689      690   35      M   salesman    63304        20-40\n",
      "752      753   56      M   salesman    91206        40-60\n",
      "807      808   45      M   salesman    90016        40-60\n",
      "924      925   18      F   salesman    49036         0-20\n",
      "\n",
      "\n"
     ]
    },
    {
     "data": {
      "text/markdown": [
       "**Cluster 21 Group :doctor**\n"
      ],
      "text/plain": [
       "<IPython.core.display.Markdown object>"
      ]
     },
     "metadata": {},
     "output_type": "display_data"
    },
    {
     "name": "stdout",
     "output_type": "stream",
     "text": [
      "Record count: 7\n",
      "     user id  age gender occupation zip code Age_category\n",
      "137      138   46      M     doctor    53211        40-60\n",
      "250      251   28      M     doctor    85032        20-40\n",
      "298      299   29      M     doctor    63108        20-40\n",
      "426      427   51      M     doctor    85258        40-60\n",
      "840      841   45      M     doctor    47401        40-60\n",
      "844      845   64      M     doctor    97405        60-80\n",
      "934      935   42      M     doctor    66221        40-60\n",
      "\n",
      "\n"
     ]
    }
   ],
   "source": [
    "i=1\n",
    "for occ in userData.occupation.unique():\n",
    "    printmd(f'**Cluster {i} Group :{occ}**\\n')\n",
    "    res=userData.loc[userData['occupation']==occ]\n",
    "    print(f'Record count: {res.shape[0]}')\n",
    "    print(res)\n",
    "    print('\\n')\n",
    "    i=i+1"
   ]
  },
  {
   "cell_type": "markdown",
   "metadata": {},
   "source": [
    "#### Clusters according to zip code -795"
   ]
  },
  {
   "cell_type": "code",
   "execution_count": 204,
   "metadata": {},
   "outputs": [
    {
     "data": {
      "text/markdown": [
       "**Cluster 1 Group :85711**\n"
      ],
      "text/plain": [
       "<IPython.core.display.Markdown object>"
      ]
     },
     "metadata": {},
     "output_type": "display_data"
    },
    {
     "name": "stdout",
     "output_type": "stream",
     "text": [
      "Record count: 2\n",
      "     user id  age gender  occupation zip code Age_category\n",
      "0          1   24      M  technician    85711        20-40\n",
      "414      415   39      M    educator    85711        20-40\n",
      "\n",
      "\n"
     ]
    },
    {
     "data": {
      "text/markdown": [
       "**Cluster 2 Group :94043**\n"
      ],
      "text/plain": [
       "<IPython.core.display.Markdown object>"
      ]
     },
     "metadata": {},
     "output_type": "display_data"
    },
    {
     "name": "stdout",
     "output_type": "stream",
     "text": [
      "Record count: 3\n",
      "     user id  age gender  occupation zip code Age_category\n",
      "1          2   53      F       other    94043        40-60\n",
      "28        29   41      M  programmer    94043        40-60\n",
      "104      105   24      M    engineer    94043        20-40\n",
      "\n",
      "\n"
     ]
    },
    {
     "data": {
      "text/markdown": [
       "**Cluster 3 Group :32067**\n"
      ],
      "text/plain": [
       "<IPython.core.display.Markdown object>"
      ]
     },
     "metadata": {},
     "output_type": "display_data"
    },
    {
     "name": "stdout",
     "output_type": "stream",
     "text": [
      "Record count: 1\n",
      "   user id  age gender occupation zip code Age_category\n",
      "2        3   23      M     writer    32067        20-40\n",
      "\n",
      "\n"
     ]
    },
    {
     "data": {
      "text/markdown": [
       "**Cluster 4 Group :43537**\n"
      ],
      "text/plain": [
       "<IPython.core.display.Markdown object>"
      ]
     },
     "metadata": {},
     "output_type": "display_data"
    },
    {
     "name": "stdout",
     "output_type": "stream",
     "text": [
      "Record count: 1\n",
      "   user id  age gender  occupation zip code Age_category\n",
      "3        4   24      M  technician    43537        20-40\n",
      "\n",
      "\n"
     ]
    },
    {
     "data": {
      "text/markdown": [
       "**Cluster 5 Group :15213**\n"
      ],
      "text/plain": [
       "<IPython.core.display.Markdown object>"
      ]
     },
     "metadata": {},
     "output_type": "display_data"
    },
    {
     "name": "stdout",
     "output_type": "stream",
     "text": [
      "Record count: 1\n",
      "   user id  age gender occupation zip code Age_category\n",
      "4        5   33      F      other    15213        20-40\n",
      "\n",
      "\n"
     ]
    },
    {
     "data": {
      "text/markdown": [
       "**Cluster 6 Group :98101**\n"
      ],
      "text/plain": [
       "<IPython.core.display.Markdown object>"
      ]
     },
     "metadata": {},
     "output_type": "display_data"
    },
    {
     "name": "stdout",
     "output_type": "stream",
     "text": [
      "Record count: 1\n",
      "   user id  age gender occupation zip code Age_category\n",
      "5        6   42      M  executive    98101        40-60\n",
      "\n",
      "\n"
     ]
    },
    {
     "data": {
      "text/markdown": [
       "**Cluster 7 Group :91344**\n"
      ],
      "text/plain": [
       "<IPython.core.display.Markdown object>"
      ]
     },
     "metadata": {},
     "output_type": "display_data"
    },
    {
     "name": "stdout",
     "output_type": "stream",
     "text": [
      "Record count: 2\n",
      "     user id  age gender     occupation zip code Age_category\n",
      "6          7   57      M  administrator    91344        40-60\n",
      "330      331   33      M  entertainment    91344        20-40\n",
      "\n",
      "\n"
     ]
    },
    {
     "data": {
      "text/markdown": [
       "**Cluster 8 Group :05201**\n"
      ],
      "text/plain": [
       "<IPython.core.display.Markdown object>"
      ]
     },
     "metadata": {},
     "output_type": "display_data"
    },
    {
     "name": "stdout",
     "output_type": "stream",
     "text": [
      "Record count: 1\n",
      "   user id  age gender     occupation zip code Age_category\n",
      "7        8   36      M  administrator    05201        20-40\n",
      "\n",
      "\n"
     ]
    },
    {
     "data": {
      "text/markdown": [
       "**Cluster 9 Group :01002**\n"
      ],
      "text/plain": [
       "<IPython.core.display.Markdown object>"
      ]
     },
     "metadata": {},
     "output_type": "display_data"
    },
    {
     "name": "stdout",
     "output_type": "stream",
     "text": [
      "Record count: 1\n",
      "   user id  age gender occupation zip code Age_category\n",
      "8        9   29      M    student    01002        20-40\n",
      "\n",
      "\n"
     ]
    },
    {
     "data": {
      "text/markdown": [
       "**Cluster 10 Group :90703**\n"
      ],
      "text/plain": [
       "<IPython.core.display.Markdown object>"
      ]
     },
     "metadata": {},
     "output_type": "display_data"
    },
    {
     "name": "stdout",
     "output_type": "stream",
     "text": [
      "Record count: 1\n",
      "   user id  age gender occupation zip code Age_category\n",
      "9       10   53      M     lawyer    90703        40-60\n",
      "\n",
      "\n"
     ]
    },
    {
     "data": {
      "text/markdown": [
       "**Cluster 11 Group :30329**\n"
      ],
      "text/plain": [
       "<IPython.core.display.Markdown object>"
      ]
     },
     "metadata": {},
     "output_type": "display_data"
    },
    {
     "name": "stdout",
     "output_type": "stream",
     "text": [
      "Record count: 1\n",
      "    user id  age gender occupation zip code Age_category\n",
      "10       11   39      F      other    30329        20-40\n",
      "\n",
      "\n"
     ]
    },
    {
     "data": {
      "text/markdown": [
       "**Cluster 12 Group :06405**\n"
      ],
      "text/plain": [
       "<IPython.core.display.Markdown object>"
      ]
     },
     "metadata": {},
     "output_type": "display_data"
    },
    {
     "name": "stdout",
     "output_type": "stream",
     "text": [
      "Record count: 1\n",
      "    user id  age gender occupation zip code Age_category\n",
      "11       12   28      F      other    06405        20-40\n",
      "\n",
      "\n"
     ]
    },
    {
     "data": {
      "text/markdown": [
       "**Cluster 13 Group :29206**\n"
      ],
      "text/plain": [
       "<IPython.core.display.Markdown object>"
      ]
     },
     "metadata": {},
     "output_type": "display_data"
    },
    {
     "name": "stdout",
     "output_type": "stream",
     "text": [
      "Record count: 1\n",
      "    user id  age gender occupation zip code Age_category\n",
      "12       13   47      M   educator    29206        40-60\n",
      "\n",
      "\n"
     ]
    },
    {
     "data": {
      "text/markdown": [
       "**Cluster 14 Group :55106**\n"
      ],
      "text/plain": [
       "<IPython.core.display.Markdown object>"
      ]
     },
     "metadata": {},
     "output_type": "display_data"
    },
    {
     "name": "stdout",
     "output_type": "stream",
     "text": [
      "Record count: 3\n",
      "     user id  age gender  occupation zip code Age_category\n",
      "13        14   45      M   scientist    55106        40-60\n",
      "299      300   26      F  programmer    55106        20-40\n",
      "608      609   13      F     student    55106         0-20\n",
      "\n",
      "\n"
     ]
    },
    {
     "data": {
      "text/markdown": [
       "**Cluster 15 Group :97301**\n"
      ],
      "text/plain": [
       "<IPython.core.display.Markdown object>"
      ]
     },
     "metadata": {},
     "output_type": "display_data"
    },
    {
     "name": "stdout",
     "output_type": "stream",
     "text": [
      "Record count: 3\n",
      "     user id  age gender occupation zip code Age_category\n",
      "14        15   49      F   educator    97301        40-60\n",
      "349      350   32      M    student    97301        20-40\n",
      "889      890   32      M    student    97301        20-40\n",
      "\n",
      "\n"
     ]
    },
    {
     "data": {
      "text/markdown": [
       "**Cluster 16 Group :10309**\n"
      ],
      "text/plain": [
       "<IPython.core.display.Markdown object>"
      ]
     },
     "metadata": {},
     "output_type": "display_data"
    },
    {
     "name": "stdout",
     "output_type": "stream",
     "text": [
      "Record count: 1\n",
      "    user id  age gender     occupation zip code Age_category\n",
      "15       16   21      M  entertainment    10309        20-40\n",
      "\n",
      "\n"
     ]
    },
    {
     "data": {
      "text/markdown": [
       "**Cluster 17 Group :06355**\n"
      ],
      "text/plain": [
       "<IPython.core.display.Markdown object>"
      ]
     },
     "metadata": {},
     "output_type": "display_data"
    },
    {
     "name": "stdout",
     "output_type": "stream",
     "text": [
      "Record count: 1\n",
      "    user id  age gender  occupation zip code Age_category\n",
      "16       17   30      M  programmer    06355        20-40\n",
      "\n",
      "\n"
     ]
    },
    {
     "data": {
      "text/markdown": [
       "**Cluster 18 Group :37212**\n"
      ],
      "text/plain": [
       "<IPython.core.display.Markdown object>"
      ]
     },
     "metadata": {},
     "output_type": "display_data"
    },
    {
     "name": "stdout",
     "output_type": "stream",
     "text": [
      "Record count: 1\n",
      "    user id  age gender occupation zip code Age_category\n",
      "17       18   35      F      other    37212        20-40\n",
      "\n",
      "\n"
     ]
    },
    {
     "data": {
      "text/markdown": [
       "**Cluster 19 Group :02138**\n"
      ],
      "text/plain": [
       "<IPython.core.display.Markdown object>"
      ]
     },
     "metadata": {},
     "output_type": "display_data"
    },
    {
     "name": "stdout",
     "output_type": "stream",
     "text": [
      "Record count: 1\n",
      "    user id  age gender occupation zip code Age_category\n",
      "18       19   40      M  librarian    02138        20-40\n",
      "\n",
      "\n"
     ]
    },
    {
     "data": {
      "text/markdown": [
       "**Cluster 20 Group :95660**\n"
      ],
      "text/plain": [
       "<IPython.core.display.Markdown object>"
      ]
     },
     "metadata": {},
     "output_type": "display_data"
    },
    {
     "name": "stdout",
     "output_type": "stream",
     "text": [
      "Record count: 1\n",
      "    user id  age gender occupation zip code Age_category\n",
      "19       20   42      F  homemaker    95660        40-60\n",
      "\n",
      "\n"
     ]
    },
    {
     "data": {
      "text/markdown": [
       "**Cluster 21 Group :30068**\n"
      ],
      "text/plain": [
       "<IPython.core.display.Markdown object>"
      ]
     },
     "metadata": {},
     "output_type": "display_data"
    },
    {
     "name": "stdout",
     "output_type": "stream",
     "text": [
      "Record count: 1\n",
      "    user id  age gender occupation zip code Age_category\n",
      "20       21   26      M     writer    30068        20-40\n",
      "\n",
      "\n"
     ]
    },
    {
     "data": {
      "text/markdown": [
       "**Cluster 22 Group :40206**\n"
      ],
      "text/plain": [
       "<IPython.core.display.Markdown object>"
      ]
     },
     "metadata": {},
     "output_type": "display_data"
    },
    {
     "name": "stdout",
     "output_type": "stream",
     "text": [
      "Record count: 1\n",
      "    user id  age gender occupation zip code Age_category\n",
      "21       22   25      M     writer    40206        20-40\n",
      "\n",
      "\n"
     ]
    },
    {
     "data": {
      "text/markdown": [
       "**Cluster 23 Group :48197**\n"
      ],
      "text/plain": [
       "<IPython.core.display.Markdown object>"
      ]
     },
     "metadata": {},
     "output_type": "display_data"
    },
    {
     "name": "stdout",
     "output_type": "stream",
     "text": [
      "Record count: 2\n",
      "     user id  age gender occupation zip code Age_category\n",
      "22        23   30      F     artist    48197        20-40\n",
      "353      354   29      F  librarian    48197        20-40\n",
      "\n",
      "\n"
     ]
    },
    {
     "data": {
      "text/markdown": [
       "**Cluster 24 Group :94533**\n"
      ],
      "text/plain": [
       "<IPython.core.display.Markdown object>"
      ]
     },
     "metadata": {},
     "output_type": "display_data"
    },
    {
     "name": "stdout",
     "output_type": "stream",
     "text": [
      "Record count: 2\n",
      "     user id  age gender     occupation zip code Age_category\n",
      "23        24   21      F         artist    94533        20-40\n",
      "421      422   26      M  entertainment    94533        20-40\n",
      "\n",
      "\n"
     ]
    },
    {
     "data": {
      "text/markdown": [
       "**Cluster 25 Group :55107**\n"
      ],
      "text/plain": [
       "<IPython.core.display.Markdown object>"
      ]
     },
     "metadata": {},
     "output_type": "display_data"
    },
    {
     "name": "stdout",
     "output_type": "stream",
     "text": [
      "Record count: 1\n",
      "    user id  age gender occupation zip code Age_category\n",
      "24       25   39      M   engineer    55107        20-40\n",
      "\n",
      "\n"
     ]
    },
    {
     "data": {
      "text/markdown": [
       "**Cluster 26 Group :21044**\n"
      ],
      "text/plain": [
       "<IPython.core.display.Markdown object>"
      ]
     },
     "metadata": {},
     "output_type": "display_data"
    },
    {
     "name": "stdout",
     "output_type": "stream",
     "text": [
      "Record count: 1\n",
      "    user id  age gender occupation zip code Age_category\n",
      "25       26   49      M   engineer    21044        40-60\n",
      "\n",
      "\n"
     ]
    },
    {
     "data": {
      "text/markdown": [
       "**Cluster 27 Group :30030**\n"
      ],
      "text/plain": [
       "<IPython.core.display.Markdown object>"
      ]
     },
     "metadata": {},
     "output_type": "display_data"
    },
    {
     "name": "stdout",
     "output_type": "stream",
     "text": [
      "Record count: 1\n",
      "    user id  age gender occupation zip code Age_category\n",
      "26       27   40      F  librarian    30030        20-40\n",
      "\n",
      "\n"
     ]
    },
    {
     "data": {
      "text/markdown": [
       "**Cluster 28 Group :55369**\n"
      ],
      "text/plain": [
       "<IPython.core.display.Markdown object>"
      ]
     },
     "metadata": {},
     "output_type": "display_data"
    },
    {
     "name": "stdout",
     "output_type": "stream",
     "text": [
      "Record count: 2\n",
      "    user id  age gender occupation zip code Age_category\n",
      "27       28   32      M     writer    55369        20-40\n",
      "83       84   32      M  executive    55369        20-40\n",
      "\n",
      "\n"
     ]
    },
    {
     "data": {
      "text/markdown": [
       "**Cluster 29 Group :55436**\n"
      ],
      "text/plain": [
       "<IPython.core.display.Markdown object>"
      ]
     },
     "metadata": {},
     "output_type": "display_data"
    },
    {
     "name": "stdout",
     "output_type": "stream",
     "text": [
      "Record count: 1\n",
      "    user id  age gender occupation zip code Age_category\n",
      "29       30    7      M    student    55436         0-20\n",
      "\n",
      "\n"
     ]
    },
    {
     "data": {
      "text/markdown": [
       "**Cluster 30 Group :10003**\n"
      ],
      "text/plain": [
       "<IPython.core.display.Markdown object>"
      ]
     },
     "metadata": {},
     "output_type": "display_data"
    },
    {
     "name": "stdout",
     "output_type": "stream",
     "text": [
      "Record count: 5\n",
      "     user id  age gender     occupation zip code Age_category\n",
      "30        31   24      M         artist    10003        20-40\n",
      "384      385   36      M         writer    10003        20-40\n",
      "559      560   32      M        student    10003        20-40\n",
      "566      567   24      M  entertainment    10003        20-40\n",
      "607      608   22      M          other    10003        20-40\n",
      "\n",
      "\n"
     ]
    },
    {
     "data": {
      "text/markdown": [
       "**Cluster 31 Group :78741**\n"
      ],
      "text/plain": [
       "<IPython.core.display.Markdown object>"
      ]
     },
     "metadata": {},
     "output_type": "display_data"
    },
    {
     "name": "stdout",
     "output_type": "stream",
     "text": [
      "Record count: 2\n",
      "     user id  age gender occupation zip code Age_category\n",
      "31        32   28      F    student    78741        20-40\n",
      "726      727   25      M    student    78741        20-40\n",
      "\n",
      "\n"
     ]
    },
    {
     "data": {
      "text/markdown": [
       "**Cluster 32 Group :27510**\n"
      ],
      "text/plain": [
       "<IPython.core.display.Markdown object>"
      ]
     },
     "metadata": {},
     "output_type": "display_data"
    },
    {
     "name": "stdout",
     "output_type": "stream",
     "text": [
      "Record count: 1\n",
      "    user id  age gender occupation zip code Age_category\n",
      "32       33   23      M    student    27510        20-40\n",
      "\n",
      "\n"
     ]
    },
    {
     "data": {
      "text/markdown": [
       "**Cluster 33 Group :42141**\n"
      ],
      "text/plain": [
       "<IPython.core.display.Markdown object>"
      ]
     },
     "metadata": {},
     "output_type": "display_data"
    },
    {
     "name": "stdout",
     "output_type": "stream",
     "text": [
      "Record count: 1\n",
      "    user id  age gender     occupation zip code Age_category\n",
      "33       34   38      F  administrator    42141        20-40\n",
      "\n",
      "\n"
     ]
    },
    {
     "data": {
      "text/markdown": [
       "**Cluster 34 Group :42459**\n"
      ],
      "text/plain": [
       "<IPython.core.display.Markdown object>"
      ]
     },
     "metadata": {},
     "output_type": "display_data"
    },
    {
     "name": "stdout",
     "output_type": "stream",
     "text": [
      "Record count: 1\n",
      "    user id  age gender occupation zip code Age_category\n",
      "34       35   20      F  homemaker    42459         0-20\n",
      "\n",
      "\n"
     ]
    },
    {
     "data": {
      "text/markdown": [
       "**Cluster 35 Group :93117**\n"
      ],
      "text/plain": [
       "<IPython.core.display.Markdown object>"
      ]
     },
     "metadata": {},
     "output_type": "display_data"
    },
    {
     "name": "stdout",
     "output_type": "stream",
     "text": [
      "Record count: 1\n",
      "    user id  age gender occupation zip code Age_category\n",
      "35       36   19      F    student    93117         0-20\n",
      "\n",
      "\n"
     ]
    },
    {
     "data": {
      "text/markdown": [
       "**Cluster 36 Group :55105**\n"
      ],
      "text/plain": [
       "<IPython.core.display.Markdown object>"
      ]
     },
     "metadata": {},
     "output_type": "display_data"
    },
    {
     "name": "stdout",
     "output_type": "stream",
     "text": [
      "Record count: 6\n",
      "     user id  age gender  occupation zip code Age_category\n",
      "36        37   23      M     student    55105        20-40\n",
      "51        52   18      F     student    55105         0-20\n",
      "195      196   49      M      writer    55105        40-60\n",
      "351      352   37      F  programmer    55105        20-40\n",
      "420      421   38      F  programmer    55105        20-40\n",
      "652      653   31      M   executive    55105        20-40\n",
      "\n",
      "\n"
     ]
    },
    {
     "data": {
      "text/markdown": [
       "**Cluster 37 Group :54467**\n"
      ],
      "text/plain": [
       "<IPython.core.display.Markdown object>"
      ]
     },
     "metadata": {},
     "output_type": "display_data"
    },
    {
     "name": "stdout",
     "output_type": "stream",
     "text": [
      "Record count: 1\n",
      "    user id  age gender occupation zip code Age_category\n",
      "37       38   28      F      other    54467        20-40\n",
      "\n",
      "\n"
     ]
    },
    {
     "data": {
      "text/markdown": [
       "**Cluster 38 Group :01040**\n"
      ],
      "text/plain": [
       "<IPython.core.display.Markdown object>"
      ]
     },
     "metadata": {},
     "output_type": "display_data"
    },
    {
     "name": "stdout",
     "output_type": "stream",
     "text": [
      "Record count: 1\n",
      "    user id  age gender     occupation zip code Age_category\n",
      "38       39   41      M  entertainment    01040        40-60\n",
      "\n",
      "\n"
     ]
    },
    {
     "data": {
      "text/markdown": [
       "**Cluster 39 Group :27514**\n"
      ],
      "text/plain": [
       "<IPython.core.display.Markdown object>"
      ]
     },
     "metadata": {},
     "output_type": "display_data"
    },
    {
     "name": "stdout",
     "output_type": "stream",
     "text": [
      "Record count: 4\n",
      "     user id  age gender occupation zip code Age_category\n",
      "39        40   38      M  scientist    27514        20-40\n",
      "396      397   17      M    student    27514         0-20\n",
      "502      503   50      F     writer    27514        40-60\n",
      "817      818   28      M  librarian    27514        20-40\n",
      "\n",
      "\n"
     ]
    },
    {
     "data": {
      "text/markdown": [
       "**Cluster 40 Group :80525**\n"
      ],
      "text/plain": [
       "<IPython.core.display.Markdown object>"
      ]
     },
     "metadata": {},
     "output_type": "display_data"
    },
    {
     "name": "stdout",
     "output_type": "stream",
     "text": [
      "Record count: 3\n",
      "     user id  age gender     occupation zip code Age_category\n",
      "40        41   33      M       engineer    80525        20-40\n",
      "91        92   32      M  entertainment    80525        20-40\n",
      "243      244   28      M     technician    80525        20-40\n",
      "\n",
      "\n"
     ]
    },
    {
     "data": {
      "text/markdown": [
       "**Cluster 41 Group :17870**\n"
      ],
      "text/plain": [
       "<IPython.core.display.Markdown object>"
      ]
     },
     "metadata": {},
     "output_type": "display_data"
    },
    {
     "name": "stdout",
     "output_type": "stream",
     "text": [
      "Record count: 1\n",
      "    user id  age gender     occupation zip code Age_category\n",
      "41       42   30      M  administrator    17870        20-40\n",
      "\n",
      "\n"
     ]
    },
    {
     "data": {
      "text/markdown": [
       "**Cluster 42 Group :20854**\n"
      ],
      "text/plain": [
       "<IPython.core.display.Markdown object>"
      ]
     },
     "metadata": {},
     "output_type": "display_data"
    },
    {
     "name": "stdout",
     "output_type": "stream",
     "text": [
      "Record count: 1\n",
      "    user id  age gender occupation zip code Age_category\n",
      "42       43   29      F  librarian    20854        20-40\n",
      "\n",
      "\n"
     ]
    },
    {
     "data": {
      "text/markdown": [
       "**Cluster 43 Group :46260**\n"
      ],
      "text/plain": [
       "<IPython.core.display.Markdown object>"
      ]
     },
     "metadata": {},
     "output_type": "display_data"
    },
    {
     "name": "stdout",
     "output_type": "stream",
     "text": [
      "Record count: 2\n",
      "    user id  age gender  occupation zip code Age_category\n",
      "43       44   26      M  technician    46260        20-40\n",
      "55       56   25      M   librarian    46260        20-40\n",
      "\n",
      "\n"
     ]
    },
    {
     "data": {
      "text/markdown": [
       "**Cluster 44 Group :50233**\n"
      ],
      "text/plain": [
       "<IPython.core.display.Markdown object>"
      ]
     },
     "metadata": {},
     "output_type": "display_data"
    },
    {
     "name": "stdout",
     "output_type": "stream",
     "text": [
      "Record count: 1\n",
      "    user id  age gender  occupation zip code Age_category\n",
      "44       45   29      M  programmer    50233        20-40\n",
      "\n",
      "\n"
     ]
    },
    {
     "data": {
      "text/markdown": [
       "**Cluster 45 Group :46538**\n"
      ],
      "text/plain": [
       "<IPython.core.display.Markdown object>"
      ]
     },
     "metadata": {},
     "output_type": "display_data"
    },
    {
     "name": "stdout",
     "output_type": "stream",
     "text": [
      "Record count: 1\n",
      "    user id  age gender occupation zip code Age_category\n",
      "45       46   27      F  marketing    46538        20-40\n",
      "\n",
      "\n"
     ]
    },
    {
     "data": {
      "text/markdown": [
       "**Cluster 46 Group :07102**\n"
      ],
      "text/plain": [
       "<IPython.core.display.Markdown object>"
      ]
     },
     "metadata": {},
     "output_type": "display_data"
    },
    {
     "name": "stdout",
     "output_type": "stream",
     "text": [
      "Record count: 1\n",
      "    user id  age gender occupation zip code Age_category\n",
      "46       47   53      M  marketing    07102        40-60\n",
      "\n",
      "\n"
     ]
    },
    {
     "data": {
      "text/markdown": [
       "**Cluster 47 Group :12550**\n"
      ],
      "text/plain": [
       "<IPython.core.display.Markdown object>"
      ]
     },
     "metadata": {},
     "output_type": "display_data"
    },
    {
     "name": "stdout",
     "output_type": "stream",
     "text": [
      "Record count: 1\n",
      "    user id  age gender     occupation zip code Age_category\n",
      "47       48   45      M  administrator    12550        40-60\n",
      "\n",
      "\n"
     ]
    },
    {
     "data": {
      "text/markdown": [
       "**Cluster 48 Group :76111**\n"
      ],
      "text/plain": [
       "<IPython.core.display.Markdown object>"
      ]
     },
     "metadata": {},
     "output_type": "display_data"
    },
    {
     "name": "stdout",
     "output_type": "stream",
     "text": [
      "Record count: 1\n",
      "    user id  age gender occupation zip code Age_category\n",
      "48       49   23      F    student    76111        20-40\n",
      "\n",
      "\n"
     ]
    },
    {
     "data": {
      "text/markdown": [
       "**Cluster 49 Group :52245**\n"
      ],
      "text/plain": [
       "<IPython.core.display.Markdown object>"
      ]
     },
     "metadata": {},
     "output_type": "display_data"
    },
    {
     "name": "stdout",
     "output_type": "stream",
     "text": [
      "Record count: 1\n",
      "    user id  age gender occupation zip code Age_category\n",
      "49       50   21      M     writer    52245        20-40\n",
      "\n",
      "\n"
     ]
    },
    {
     "data": {
      "text/markdown": [
       "**Cluster 50 Group :16509**\n"
      ],
      "text/plain": [
       "<IPython.core.display.Markdown object>"
      ]
     },
     "metadata": {},
     "output_type": "display_data"
    },
    {
     "name": "stdout",
     "output_type": "stream",
     "text": [
      "Record count: 1\n",
      "    user id  age gender occupation zip code Age_category\n",
      "50       51   28      M   educator    16509        20-40\n",
      "\n",
      "\n"
     ]
    },
    {
     "data": {
      "text/markdown": [
       "**Cluster 51 Group :55414**\n"
      ],
      "text/plain": [
       "<IPython.core.display.Markdown object>"
      ]
     },
     "metadata": {},
     "output_type": "display_data"
    },
    {
     "name": "stdout",
     "output_type": "stream",
     "text": [
      "Record count: 9\n",
      "     user id  age gender  occupation zip code Age_category\n",
      "52        53   26      M  programmer    55414        20-40\n",
      "197      198   21      F     student    55414        20-40\n",
      "273      274   20      F     student    55414         0-20\n",
      "427      428   28      M     student    55414        20-40\n",
      "495      496   21      F     student    55414        20-40\n",
      "550      551   25      M  programmer    55414        20-40\n",
      "632      633   35      M  programmer    55414        20-40\n",
      "683      684   28      M     student    55414        20-40\n",
      "772      773   20      M     student    55414         0-20\n",
      "\n",
      "\n"
     ]
    },
    {
     "data": {
      "text/markdown": [
       "**Cluster 52 Group :66315**\n"
      ],
      "text/plain": [
       "<IPython.core.display.Markdown object>"
      ]
     },
     "metadata": {},
     "output_type": "display_data"
    },
    {
     "name": "stdout",
     "output_type": "stream",
     "text": [
      "Record count: 1\n",
      "    user id  age gender occupation zip code Age_category\n",
      "53       54   22      M  executive    66315        20-40\n",
      "\n",
      "\n"
     ]
    },
    {
     "data": {
      "text/markdown": [
       "**Cluster 53 Group :01331**\n"
      ],
      "text/plain": [
       "<IPython.core.display.Markdown object>"
      ]
     },
     "metadata": {},
     "output_type": "display_data"
    },
    {
     "name": "stdout",
     "output_type": "stream",
     "text": [
      "Record count: 1\n",
      "    user id  age gender  occupation zip code Age_category\n",
      "54       55   37      M  programmer    01331        20-40\n",
      "\n",
      "\n"
     ]
    },
    {
     "data": {
      "text/markdown": [
       "**Cluster 54 Group :84010**\n"
      ],
      "text/plain": [
       "<IPython.core.display.Markdown object>"
      ]
     },
     "metadata": {},
     "output_type": "display_data"
    },
    {
     "name": "stdout",
     "output_type": "stream",
     "text": [
      "Record count: 1\n",
      "    user id  age gender occupation zip code Age_category\n",
      "56       57   16      M       none    84010         0-20\n",
      "\n",
      "\n"
     ]
    },
    {
     "data": {
      "text/markdown": [
       "**Cluster 55 Group :52246**\n"
      ],
      "text/plain": [
       "<IPython.core.display.Markdown object>"
      ]
     },
     "metadata": {},
     "output_type": "display_data"
    },
    {
     "name": "stdout",
     "output_type": "stream",
     "text": [
      "Record count: 1\n",
      "    user id  age gender  occupation zip code Age_category\n",
      "57       58   27      M  programmer    52246        20-40\n",
      "\n",
      "\n"
     ]
    },
    {
     "data": {
      "text/markdown": [
       "**Cluster 56 Group :08403**\n"
      ],
      "text/plain": [
       "<IPython.core.display.Markdown object>"
      ]
     },
     "metadata": {},
     "output_type": "display_data"
    },
    {
     "name": "stdout",
     "output_type": "stream",
     "text": [
      "Record count: 1\n",
      "    user id  age gender occupation zip code Age_category\n",
      "58       59   49      M   educator    08403        40-60\n",
      "\n",
      "\n"
     ]
    },
    {
     "data": {
      "text/markdown": [
       "**Cluster 57 Group :06472**\n"
      ],
      "text/plain": [
       "<IPython.core.display.Markdown object>"
      ]
     },
     "metadata": {},
     "output_type": "display_data"
    },
    {
     "name": "stdout",
     "output_type": "stream",
     "text": [
      "Record count: 1\n",
      "    user id  age gender  occupation zip code Age_category\n",
      "59       60   50      M  healthcare    06472        40-60\n",
      "\n",
      "\n"
     ]
    },
    {
     "data": {
      "text/markdown": [
       "**Cluster 58 Group :30040**\n"
      ],
      "text/plain": [
       "<IPython.core.display.Markdown object>"
      ]
     },
     "metadata": {},
     "output_type": "display_data"
    },
    {
     "name": "stdout",
     "output_type": "stream",
     "text": [
      "Record count: 1\n",
      "    user id  age gender occupation zip code Age_category\n",
      "60       61   36      M   engineer    30040        20-40\n",
      "\n",
      "\n"
     ]
    },
    {
     "data": {
      "text/markdown": [
       "**Cluster 59 Group :97214**\n"
      ],
      "text/plain": [
       "<IPython.core.display.Markdown object>"
      ]
     },
     "metadata": {},
     "output_type": "display_data"
    },
    {
     "name": "stdout",
     "output_type": "stream",
     "text": [
      "Record count: 1\n",
      "    user id  age gender     occupation zip code Age_category\n",
      "61       62   27      F  administrator    97214        20-40\n",
      "\n",
      "\n"
     ]
    },
    {
     "data": {
      "text/markdown": [
       "**Cluster 60 Group :75240**\n"
      ],
      "text/plain": [
       "<IPython.core.display.Markdown object>"
      ]
     },
     "metadata": {},
     "output_type": "display_data"
    },
    {
     "name": "stdout",
     "output_type": "stream",
     "text": [
      "Record count: 1\n",
      "    user id  age gender occupation zip code Age_category\n",
      "62       63   31      M  marketing    75240        20-40\n",
      "\n",
      "\n"
     ]
    },
    {
     "data": {
      "text/markdown": [
       "**Cluster 61 Group :43202**\n"
      ],
      "text/plain": [
       "<IPython.core.display.Markdown object>"
      ]
     },
     "metadata": {},
     "output_type": "display_data"
    },
    {
     "name": "stdout",
     "output_type": "stream",
     "text": [
      "Record count: 1\n",
      "    user id  age gender occupation zip code Age_category\n",
      "63       64   32      M   educator    43202        20-40\n",
      "\n",
      "\n"
     ]
    },
    {
     "data": {
      "text/markdown": [
       "**Cluster 62 Group :48118**\n"
      ],
      "text/plain": [
       "<IPython.core.display.Markdown object>"
      ]
     },
     "metadata": {},
     "output_type": "display_data"
    },
    {
     "name": "stdout",
     "output_type": "stream",
     "text": [
      "Record count: 2\n",
      "     user id  age gender occupation zip code Age_category\n",
      "64        65   51      F   educator    48118        40-60\n",
      "141      142   13      M      other    48118         0-20\n",
      "\n",
      "\n"
     ]
    },
    {
     "data": {
      "text/markdown": [
       "**Cluster 63 Group :80521**\n"
      ],
      "text/plain": [
       "<IPython.core.display.Markdown object>"
      ]
     },
     "metadata": {},
     "output_type": "display_data"
    },
    {
     "name": "stdout",
     "output_type": "stream",
     "text": [
      "Record count: 1\n",
      "    user id  age gender occupation zip code Age_category\n",
      "65       66   23      M    student    80521        20-40\n",
      "\n",
      "\n"
     ]
    },
    {
     "data": {
      "text/markdown": [
       "**Cluster 64 Group :60402**\n"
      ],
      "text/plain": [
       "<IPython.core.display.Markdown object>"
      ]
     },
     "metadata": {},
     "output_type": "display_data"
    },
    {
     "name": "stdout",
     "output_type": "stream",
     "text": [
      "Record count: 2\n",
      "     user id  age gender occupation zip code Age_category\n",
      "66        67   17      M    student    60402         0-20\n",
      "620      621   17      M    student    60402         0-20\n",
      "\n",
      "\n"
     ]
    },
    {
     "data": {
      "text/markdown": [
       "**Cluster 65 Group :22904**\n"
      ],
      "text/plain": [
       "<IPython.core.display.Markdown object>"
      ]
     },
     "metadata": {},
     "output_type": "display_data"
    },
    {
     "name": "stdout",
     "output_type": "stream",
     "text": [
      "Record count: 1\n",
      "    user id  age gender occupation zip code Age_category\n",
      "67       68   19      M    student    22904         0-20\n",
      "\n",
      "\n"
     ]
    },
    {
     "data": {
      "text/markdown": [
       "**Cluster 66 Group :55337**\n"
      ],
      "text/plain": [
       "<IPython.core.display.Markdown object>"
      ]
     },
     "metadata": {},
     "output_type": "display_data"
    },
    {
     "name": "stdout",
     "output_type": "stream",
     "text": [
      "Record count: 5\n",
      "     user id  age gender     occupation zip code Age_category\n",
      "68        69   24      M       engineer    55337        20-40\n",
      "673      674   13      F        student    55337         0-20\n",
      "799      800   25      M     programmer    55337        20-40\n",
      "878      879   33      F  administrator    55337        20-40\n",
      "883      884   44      M       engineer    55337        40-60\n",
      "\n",
      "\n"
     ]
    },
    {
     "data": {
      "text/markdown": [
       "**Cluster 67 Group :60067**\n"
      ],
      "text/plain": [
       "<IPython.core.display.Markdown object>"
      ]
     },
     "metadata": {},
     "output_type": "display_data"
    },
    {
     "name": "stdout",
     "output_type": "stream",
     "text": [
      "Record count: 1\n",
      "    user id  age gender occupation zip code Age_category\n",
      "69       70   27      M   engineer    60067        20-40\n",
      "\n",
      "\n"
     ]
    },
    {
     "data": {
      "text/markdown": [
       "**Cluster 68 Group :98034**\n"
      ],
      "text/plain": [
       "<IPython.core.display.Markdown object>"
      ]
     },
     "metadata": {},
     "output_type": "display_data"
    },
    {
     "name": "stdout",
     "output_type": "stream",
     "text": [
      "Record count: 1\n",
      "    user id  age gender occupation zip code Age_category\n",
      "70       71   39      M  scientist    98034        20-40\n",
      "\n",
      "\n"
     ]
    },
    {
     "data": {
      "text/markdown": [
       "**Cluster 69 Group :73034**\n"
      ],
      "text/plain": [
       "<IPython.core.display.Markdown object>"
      ]
     },
     "metadata": {},
     "output_type": "display_data"
    },
    {
     "name": "stdout",
     "output_type": "stream",
     "text": [
      "Record count: 1\n",
      "    user id  age gender     occupation zip code Age_category\n",
      "71       72   48      F  administrator    73034        40-60\n",
      "\n",
      "\n"
     ]
    },
    {
     "data": {
      "text/markdown": [
       "**Cluster 70 Group :41850**\n"
      ],
      "text/plain": [
       "<IPython.core.display.Markdown object>"
      ]
     },
     "metadata": {},
     "output_type": "display_data"
    },
    {
     "name": "stdout",
     "output_type": "stream",
     "text": [
      "Record count: 1\n",
      "    user id  age gender occupation zip code Age_category\n",
      "72       73   24      M    student    41850        20-40\n",
      "\n",
      "\n"
     ]
    },
    {
     "data": {
      "text/markdown": [
       "**Cluster 71 Group :T8H1N**\n"
      ],
      "text/plain": [
       "<IPython.core.display.Markdown object>"
      ]
     },
     "metadata": {},
     "output_type": "display_data"
    },
    {
     "name": "stdout",
     "output_type": "stream",
     "text": [
      "Record count: 2\n",
      "     user id  age gender occupation zip code Age_category\n",
      "73        74   39      M  scientist    T8H1N        20-40\n",
      "633      634   39      M   engineer    T8H1N        20-40\n",
      "\n",
      "\n"
     ]
    },
    {
     "data": {
      "text/markdown": [
       "**Cluster 72 Group :08816**\n"
      ],
      "text/plain": [
       "<IPython.core.display.Markdown object>"
      ]
     },
     "metadata": {},
     "output_type": "display_data"
    },
    {
     "name": "stdout",
     "output_type": "stream",
     "text": [
      "Record count: 1\n",
      "    user id  age gender     occupation zip code Age_category\n",
      "74       75   24      M  entertainment    08816        20-40\n",
      "\n",
      "\n"
     ]
    },
    {
     "data": {
      "text/markdown": [
       "**Cluster 73 Group :02215**\n"
      ],
      "text/plain": [
       "<IPython.core.display.Markdown object>"
      ]
     },
     "metadata": {},
     "output_type": "display_data"
    },
    {
     "name": "stdout",
     "output_type": "stream",
     "text": [
      "Record count: 3\n",
      "     user id  age gender     occupation zip code Age_category\n",
      "75        76   20      M        student    02215         0-20\n",
      "215      216   22      M       engineer    02215        20-40\n",
      "939      940   32      M  administrator    02215        20-40\n",
      "\n",
      "\n"
     ]
    },
    {
     "data": {
      "text/markdown": [
       "**Cluster 74 Group :29379**\n"
      ],
      "text/plain": [
       "<IPython.core.display.Markdown object>"
      ]
     },
     "metadata": {},
     "output_type": "display_data"
    },
    {
     "name": "stdout",
     "output_type": "stream",
     "text": [
      "Record count: 1\n",
      "    user id  age gender  occupation zip code Age_category\n",
      "76       77   30      M  technician    29379        20-40\n",
      "\n",
      "\n"
     ]
    },
    {
     "data": {
      "text/markdown": [
       "**Cluster 75 Group :61801**\n"
      ],
      "text/plain": [
       "<IPython.core.display.Markdown object>"
      ]
     },
     "metadata": {},
     "output_type": "display_data"
    },
    {
     "name": "stdout",
     "output_type": "stream",
     "text": [
      "Record count: 3\n",
      "     user id  age gender     occupation zip code Age_category\n",
      "77        78   26      M  administrator    61801        20-40\n",
      "358      359   22      M        student    61801        20-40\n",
      "639      640   20      M        student    61801         0-20\n",
      "\n",
      "\n"
     ]
    },
    {
     "data": {
      "text/markdown": [
       "**Cluster 76 Group :03755**\n"
      ],
      "text/plain": [
       "<IPython.core.display.Markdown object>"
      ]
     },
     "metadata": {},
     "output_type": "display_data"
    },
    {
     "name": "stdout",
     "output_type": "stream",
     "text": [
      "Record count: 1\n",
      "    user id  age gender     occupation zip code Age_category\n",
      "78       79   39      F  administrator    03755        20-40\n",
      "\n",
      "\n"
     ]
    },
    {
     "data": {
      "text/markdown": [
       "**Cluster 77 Group :52241**\n"
      ],
      "text/plain": [
       "<IPython.core.display.Markdown object>"
      ]
     },
     "metadata": {},
     "output_type": "display_data"
    },
    {
     "name": "stdout",
     "output_type": "stream",
     "text": [
      "Record count: 1\n",
      "    user id  age gender     occupation zip code Age_category\n",
      "79       80   34      F  administrator    52241        20-40\n",
      "\n",
      "\n"
     ]
    },
    {
     "data": {
      "text/markdown": [
       "**Cluster 78 Group :21218**\n"
      ],
      "text/plain": [
       "<IPython.core.display.Markdown object>"
      ]
     },
     "metadata": {},
     "output_type": "display_data"
    },
    {
     "name": "stdout",
     "output_type": "stream",
     "text": [
      "Record count: 2\n",
      "     user id  age gender occupation zip code Age_category\n",
      "80        81   21      M    student    21218        20-40\n",
      "180      181   26      M  executive    21218        20-40\n",
      "\n",
      "\n"
     ]
    },
    {
     "data": {
      "text/markdown": [
       "**Cluster 79 Group :22902**\n"
      ],
      "text/plain": [
       "<IPython.core.display.Markdown object>"
      ]
     },
     "metadata": {},
     "output_type": "display_data"
    },
    {
     "name": "stdout",
     "output_type": "stream",
     "text": [
      "Record count: 3\n",
      "     user id  age gender  occupation zip code Age_category\n",
      "81        82   50      M  programmer    22902        40-60\n",
      "536      537   36      M    engineer    22902        20-40\n",
      "933      934   61      M    engineer    22902        60-80\n",
      "\n",
      "\n"
     ]
    },
    {
     "data": {
      "text/markdown": [
       "**Cluster 80 Group :44133**\n"
      ],
      "text/plain": [
       "<IPython.core.display.Markdown object>"
      ]
     },
     "metadata": {},
     "output_type": "display_data"
    },
    {
     "name": "stdout",
     "output_type": "stream",
     "text": [
      "Record count: 1\n",
      "    user id  age gender occupation zip code Age_category\n",
      "82       83   40      M      other    44133        20-40\n",
      "\n",
      "\n"
     ]
    },
    {
     "data": {
      "text/markdown": [
       "**Cluster 81 Group :20003**\n"
      ],
      "text/plain": [
       "<IPython.core.display.Markdown object>"
      ]
     },
     "metadata": {},
     "output_type": "display_data"
    },
    {
     "name": "stdout",
     "output_type": "stream",
     "text": [
      "Record count: 2\n",
      "     user id  age gender occupation zip code Age_category\n",
      "84        85   51      M   educator    20003        40-60\n",
      "571      572   51      M   educator    20003        40-60\n",
      "\n",
      "\n"
     ]
    },
    {
     "data": {
      "text/markdown": [
       "**Cluster 82 Group :46005**\n"
      ],
      "text/plain": [
       "<IPython.core.display.Markdown object>"
      ]
     },
     "metadata": {},
     "output_type": "display_data"
    },
    {
     "name": "stdout",
     "output_type": "stream",
     "text": [
      "Record count: 1\n",
      "    user id  age gender     occupation zip code Age_category\n",
      "85       86   26      M  administrator    46005        20-40\n",
      "\n",
      "\n"
     ]
    },
    {
     "data": {
      "text/markdown": [
       "**Cluster 83 Group :89503**\n"
      ],
      "text/plain": [
       "<IPython.core.display.Markdown object>"
      ]
     },
     "metadata": {},
     "output_type": "display_data"
    },
    {
     "name": "stdout",
     "output_type": "stream",
     "text": [
      "Record count: 1\n",
      "    user id  age gender     occupation zip code Age_category\n",
      "86       87   47      M  administrator    89503        40-60\n",
      "\n",
      "\n"
     ]
    },
    {
     "data": {
      "text/markdown": [
       "**Cluster 84 Group :11701**\n"
      ],
      "text/plain": [
       "<IPython.core.display.Markdown object>"
      ]
     },
     "metadata": {},
     "output_type": "display_data"
    },
    {
     "name": "stdout",
     "output_type": "stream",
     "text": [
      "Record count: 1\n",
      "    user id  age gender occupation zip code Age_category\n",
      "87       88   49      F  librarian    11701        40-60\n",
      "\n",
      "\n"
     ]
    },
    {
     "data": {
      "text/markdown": [
       "**Cluster 85 Group :68106**\n"
      ],
      "text/plain": [
       "<IPython.core.display.Markdown object>"
      ]
     },
     "metadata": {},
     "output_type": "display_data"
    },
    {
     "name": "stdout",
     "output_type": "stream",
     "text": [
      "Record count: 1\n",
      "    user id  age gender     occupation zip code Age_category\n",
      "88       89   43      F  administrator    68106        40-60\n",
      "\n",
      "\n"
     ]
    },
    {
     "data": {
      "text/markdown": [
       "**Cluster 86 Group :78155**\n"
      ],
      "text/plain": [
       "<IPython.core.display.Markdown object>"
      ]
     },
     "metadata": {},
     "output_type": "display_data"
    },
    {
     "name": "stdout",
     "output_type": "stream",
     "text": [
      "Record count: 1\n",
      "    user id  age gender occupation zip code Age_category\n",
      "89       90   60      M   educator    78155        40-60\n",
      "\n",
      "\n"
     ]
    },
    {
     "data": {
      "text/markdown": [
       "**Cluster 87 Group :01913**\n"
      ],
      "text/plain": [
       "<IPython.core.display.Markdown object>"
      ]
     },
     "metadata": {},
     "output_type": "display_data"
    },
    {
     "name": "stdout",
     "output_type": "stream",
     "text": [
      "Record count: 1\n",
      "    user id  age gender occupation zip code Age_category\n",
      "90       91   55      M  marketing    01913        40-60\n",
      "\n",
      "\n"
     ]
    },
    {
     "data": {
      "text/markdown": [
       "**Cluster 88 Group :23112**\n"
      ],
      "text/plain": [
       "<IPython.core.display.Markdown object>"
      ]
     },
     "metadata": {},
     "output_type": "display_data"
    },
    {
     "name": "stdout",
     "output_type": "stream",
     "text": [
      "Record count: 1\n",
      "    user id  age gender occupation zip code Age_category\n",
      "92       93   48      M  executive    23112        40-60\n",
      "\n",
      "\n"
     ]
    },
    {
     "data": {
      "text/markdown": [
       "**Cluster 89 Group :71457**\n"
      ],
      "text/plain": [
       "<IPython.core.display.Markdown object>"
      ]
     },
     "metadata": {},
     "output_type": "display_data"
    },
    {
     "name": "stdout",
     "output_type": "stream",
     "text": [
      "Record count: 1\n",
      "    user id  age gender occupation zip code Age_category\n",
      "93       94   26      M    student    71457        20-40\n",
      "\n",
      "\n"
     ]
    },
    {
     "data": {
      "text/markdown": [
       "**Cluster 90 Group :10707**\n"
      ],
      "text/plain": [
       "<IPython.core.display.Markdown object>"
      ]
     },
     "metadata": {},
     "output_type": "display_data"
    },
    {
     "name": "stdout",
     "output_type": "stream",
     "text": [
      "Record count: 1\n",
      "    user id  age gender     occupation zip code Age_category\n",
      "94       95   31      M  administrator    10707        20-40\n",
      "\n",
      "\n"
     ]
    },
    {
     "data": {
      "text/markdown": [
       "**Cluster 91 Group :75206**\n"
      ],
      "text/plain": [
       "<IPython.core.display.Markdown object>"
      ]
     },
     "metadata": {},
     "output_type": "display_data"
    },
    {
     "name": "stdout",
     "output_type": "stream",
     "text": [
      "Record count: 1\n",
      "    user id  age gender occupation zip code Age_category\n",
      "95       96   25      F     artist    75206        20-40\n",
      "\n",
      "\n"
     ]
    },
    {
     "data": {
      "text/markdown": [
       "**Cluster 92 Group :98006**\n"
      ],
      "text/plain": [
       "<IPython.core.display.Markdown object>"
      ]
     },
     "metadata": {},
     "output_type": "display_data"
    },
    {
     "name": "stdout",
     "output_type": "stream",
     "text": [
      "Record count: 2\n",
      "     user id  age gender occupation zip code Age_category\n",
      "96        97   43      M     artist    98006        40-60\n",
      "341      342   25      F      other    98006        20-40\n",
      "\n",
      "\n"
     ]
    },
    {
     "data": {
      "text/markdown": [
       "**Cluster 93 Group :90291**\n"
      ],
      "text/plain": [
       "<IPython.core.display.Markdown object>"
      ]
     },
     "metadata": {},
     "output_type": "display_data"
    },
    {
     "name": "stdout",
     "output_type": "stream",
     "text": [
      "Record count: 1\n",
      "    user id  age gender occupation zip code Age_category\n",
      "97       98   49      F  executive    90291        40-60\n",
      "\n",
      "\n"
     ]
    },
    {
     "data": {
      "text/markdown": [
       "**Cluster 94 Group :63129**\n"
      ],
      "text/plain": [
       "<IPython.core.display.Markdown object>"
      ]
     },
     "metadata": {},
     "output_type": "display_data"
    },
    {
     "name": "stdout",
     "output_type": "stream",
     "text": [
      "Record count: 1\n",
      "    user id  age gender occupation zip code Age_category\n",
      "98       99   20      M    student    63129         0-20\n",
      "\n",
      "\n"
     ]
    },
    {
     "data": {
      "text/markdown": [
       "**Cluster 95 Group :90254**\n"
      ],
      "text/plain": [
       "<IPython.core.display.Markdown object>"
      ]
     },
     "metadata": {},
     "output_type": "display_data"
    },
    {
     "name": "stdout",
     "output_type": "stream",
     "text": [
      "Record count: 1\n",
      "    user id  age gender occupation zip code Age_category\n",
      "99      100   36      M  executive    90254        20-40\n",
      "\n",
      "\n"
     ]
    },
    {
     "data": {
      "text/markdown": [
       "**Cluster 96 Group :05146**\n"
      ],
      "text/plain": [
       "<IPython.core.display.Markdown object>"
      ]
     },
     "metadata": {},
     "output_type": "display_data"
    },
    {
     "name": "stdout",
     "output_type": "stream",
     "text": [
      "Record count: 1\n",
      "     user id  age gender occupation zip code Age_category\n",
      "100      101   15      M    student    05146         0-20\n",
      "\n",
      "\n"
     ]
    },
    {
     "data": {
      "text/markdown": [
       "**Cluster 97 Group :30220**\n"
      ],
      "text/plain": [
       "<IPython.core.display.Markdown object>"
      ]
     },
     "metadata": {},
     "output_type": "display_data"
    },
    {
     "name": "stdout",
     "output_type": "stream",
     "text": [
      "Record count: 1\n",
      "     user id  age gender  occupation zip code Age_category\n",
      "101      102   38      M  programmer    30220        20-40\n",
      "\n",
      "\n"
     ]
    },
    {
     "data": {
      "text/markdown": [
       "**Cluster 98 Group :55108**\n"
      ],
      "text/plain": [
       "<IPython.core.display.Markdown object>"
      ]
     },
     "metadata": {},
     "output_type": "display_data"
    },
    {
     "name": "stdout",
     "output_type": "stream",
     "text": [
      "Record count: 3\n",
      "     user id  age gender  occupation zip code Age_category\n",
      "102      103   26      M     student    55108        20-40\n",
      "103      104   27      M     student    55108        20-40\n",
      "403      404   29      F  programmer    55108        20-40\n",
      "\n",
      "\n"
     ]
    },
    {
     "data": {
      "text/markdown": [
       "**Cluster 99 Group :55125**\n"
      ],
      "text/plain": [
       "<IPython.core.display.Markdown object>"
      ]
     },
     "metadata": {},
     "output_type": "display_data"
    },
    {
     "name": "stdout",
     "output_type": "stream",
     "text": [
      "Record count: 1\n",
      "     user id  age gender occupation zip code Age_category\n",
      "105      106   61      M    retired    55125        60-80\n",
      "\n",
      "\n"
     ]
    },
    {
     "data": {
      "text/markdown": [
       "**Cluster 100 Group :60466**\n"
      ],
      "text/plain": [
       "<IPython.core.display.Markdown object>"
      ]
     },
     "metadata": {},
     "output_type": "display_data"
    },
    {
     "name": "stdout",
     "output_type": "stream",
     "text": [
      "Record count: 1\n",
      "     user id  age gender occupation zip code Age_category\n",
      "106      107   39      M  scientist    60466        20-40\n",
      "\n",
      "\n"
     ]
    },
    {
     "data": {
      "text/markdown": [
       "**Cluster 101 Group :63130**\n"
      ],
      "text/plain": [
       "<IPython.core.display.Markdown object>"
      ]
     },
     "metadata": {},
     "output_type": "display_data"
    },
    {
     "name": "stdout",
     "output_type": "stream",
     "text": [
      "Record count: 1\n",
      "     user id  age gender occupation zip code Age_category\n",
      "107      108   44      M   educator    63130        40-60\n",
      "\n",
      "\n"
     ]
    },
    {
     "data": {
      "text/markdown": [
       "**Cluster 102 Group :55423**\n"
      ],
      "text/plain": [
       "<IPython.core.display.Markdown object>"
      ]
     },
     "metadata": {},
     "output_type": "display_data"
    },
    {
     "name": "stdout",
     "output_type": "stream",
     "text": [
      "Record count: 1\n",
      "     user id  age gender occupation zip code Age_category\n",
      "108      109   29      M      other    55423        20-40\n",
      "\n",
      "\n"
     ]
    },
    {
     "data": {
      "text/markdown": [
       "**Cluster 103 Group :77840**\n"
      ],
      "text/plain": [
       "<IPython.core.display.Markdown object>"
      ]
     },
     "metadata": {},
     "output_type": "display_data"
    },
    {
     "name": "stdout",
     "output_type": "stream",
     "text": [
      "Record count: 1\n",
      "     user id  age gender occupation zip code Age_category\n",
      "109      110   19      M    student    77840         0-20\n",
      "\n",
      "\n"
     ]
    },
    {
     "data": {
      "text/markdown": [
       "**Cluster 104 Group :90630**\n"
      ],
      "text/plain": [
       "<IPython.core.display.Markdown object>"
      ]
     },
     "metadata": {},
     "output_type": "display_data"
    },
    {
     "name": "stdout",
     "output_type": "stream",
     "text": [
      "Record count: 1\n",
      "     user id  age gender occupation zip code Age_category\n",
      "110      111   57      M   engineer    90630        40-60\n",
      "\n",
      "\n"
     ]
    },
    {
     "data": {
      "text/markdown": [
       "**Cluster 105 Group :60613**\n"
      ],
      "text/plain": [
       "<IPython.core.display.Markdown object>"
      ]
     },
     "metadata": {},
     "output_type": "display_data"
    },
    {
     "name": "stdout",
     "output_type": "stream",
     "text": [
      "Record count: 1\n",
      "     user id  age gender occupation zip code Age_category\n",
      "111      112   30      M   salesman    60613        20-40\n",
      "\n",
      "\n"
     ]
    },
    {
     "data": {
      "text/markdown": [
       "**Cluster 106 Group :95032**\n"
      ],
      "text/plain": [
       "<IPython.core.display.Markdown object>"
      ]
     },
     "metadata": {},
     "output_type": "display_data"
    },
    {
     "name": "stdout",
     "output_type": "stream",
     "text": [
      "Record count: 1\n",
      "     user id  age gender occupation zip code Age_category\n",
      "112      113   47      M  executive    95032        40-60\n",
      "\n",
      "\n"
     ]
    },
    {
     "data": {
      "text/markdown": [
       "**Cluster 107 Group :75013**\n"
      ],
      "text/plain": [
       "<IPython.core.display.Markdown object>"
      ]
     },
     "metadata": {},
     "output_type": "display_data"
    },
    {
     "name": "stdout",
     "output_type": "stream",
     "text": [
      "Record count: 1\n",
      "     user id  age gender  occupation zip code Age_category\n",
      "113      114   27      M  programmer    75013        20-40\n",
      "\n",
      "\n"
     ]
    },
    {
     "data": {
      "text/markdown": [
       "**Cluster 108 Group :17110**\n"
      ],
      "text/plain": [
       "<IPython.core.display.Markdown object>"
      ]
     },
     "metadata": {},
     "output_type": "display_data"
    },
    {
     "name": "stdout",
     "output_type": "stream",
     "text": [
      "Record count: 1\n",
      "     user id  age gender occupation zip code Age_category\n",
      "114      115   31      M   engineer    17110        20-40\n",
      "\n",
      "\n"
     ]
    },
    {
     "data": {
      "text/markdown": [
       "**Cluster 109 Group :97232**\n"
      ],
      "text/plain": [
       "<IPython.core.display.Markdown object>"
      ]
     },
     "metadata": {},
     "output_type": "display_data"
    },
    {
     "name": "stdout",
     "output_type": "stream",
     "text": [
      "Record count: 1\n",
      "     user id  age gender  occupation zip code Age_category\n",
      "115      116   40      M  healthcare    97232        20-40\n",
      "\n",
      "\n"
     ]
    },
    {
     "data": {
      "text/markdown": [
       "**Cluster 110 Group :16125**\n"
      ],
      "text/plain": [
       "<IPython.core.display.Markdown object>"
      ]
     },
     "metadata": {},
     "output_type": "display_data"
    },
    {
     "name": "stdout",
     "output_type": "stream",
     "text": [
      "Record count: 1\n",
      "     user id  age gender occupation zip code Age_category\n",
      "116      117   20      M    student    16125         0-20\n",
      "\n",
      "\n"
     ]
    },
    {
     "data": {
      "text/markdown": [
       "**Cluster 111 Group :90210**\n"
      ],
      "text/plain": [
       "<IPython.core.display.Markdown object>"
      ]
     },
     "metadata": {},
     "output_type": "display_data"
    },
    {
     "name": "stdout",
     "output_type": "stream",
     "text": [
      "Record count: 2\n",
      "     user id  age gender     occupation zip code Age_category\n",
      "117      118   21      M  administrator    90210        20-40\n",
      "346      347   18      M        student    90210         0-20\n",
      "\n",
      "\n"
     ]
    },
    {
     "data": {
      "text/markdown": [
       "**Cluster 112 Group :67401**\n"
      ],
      "text/plain": [
       "<IPython.core.display.Markdown object>"
      ]
     },
     "metadata": {},
     "output_type": "display_data"
    },
    {
     "name": "stdout",
     "output_type": "stream",
     "text": [
      "Record count: 1\n",
      "     user id  age gender  occupation zip code Age_category\n",
      "118      119   32      M  programmer    67401        20-40\n",
      "\n",
      "\n"
     ]
    },
    {
     "data": {
      "text/markdown": [
       "**Cluster 113 Group :06260**\n"
      ],
      "text/plain": [
       "<IPython.core.display.Markdown object>"
      ]
     },
     "metadata": {},
     "output_type": "display_data"
    },
    {
     "name": "stdout",
     "output_type": "stream",
     "text": [
      "Record count: 1\n",
      "     user id  age gender occupation zip code Age_category\n",
      "119      120   47      F      other    06260        40-60\n",
      "\n",
      "\n"
     ]
    },
    {
     "data": {
      "text/markdown": [
       "**Cluster 114 Group :99603**\n"
      ],
      "text/plain": [
       "<IPython.core.display.Markdown object>"
      ]
     },
     "metadata": {},
     "output_type": "display_data"
    },
    {
     "name": "stdout",
     "output_type": "stream",
     "text": [
      "Record count: 1\n",
      "     user id  age gender occupation zip code Age_category\n",
      "120      121   54      M  librarian    99603        40-60\n",
      "\n",
      "\n"
     ]
    },
    {
     "data": {
      "text/markdown": [
       "**Cluster 115 Group :22206**\n"
      ],
      "text/plain": [
       "<IPython.core.display.Markdown object>"
      ]
     },
     "metadata": {},
     "output_type": "display_data"
    },
    {
     "name": "stdout",
     "output_type": "stream",
     "text": [
      "Record count: 2\n",
      "     user id  age gender occupation zip code Age_category\n",
      "121      122   32      F     writer    22206        20-40\n",
      "739      740   25      F   educator    22206        20-40\n",
      "\n",
      "\n"
     ]
    },
    {
     "data": {
      "text/markdown": [
       "**Cluster 116 Group :20008**\n"
      ],
      "text/plain": [
       "<IPython.core.display.Markdown object>"
      ]
     },
     "metadata": {},
     "output_type": "display_data"
    },
    {
     "name": "stdout",
     "output_type": "stream",
     "text": [
      "Record count: 1\n",
      "     user id  age gender occupation zip code Age_category\n",
      "122      123   48      F     artist    20008        40-60\n",
      "\n",
      "\n"
     ]
    },
    {
     "data": {
      "text/markdown": [
       "**Cluster 117 Group :60615**\n"
      ],
      "text/plain": [
       "<IPython.core.display.Markdown object>"
      ]
     },
     "metadata": {},
     "output_type": "display_data"
    },
    {
     "name": "stdout",
     "output_type": "stream",
     "text": [
      "Record count: 1\n",
      "     user id  age gender occupation zip code Age_category\n",
      "123      124   34      M    student    60615        20-40\n",
      "\n",
      "\n"
     ]
    },
    {
     "data": {
      "text/markdown": [
       "**Cluster 118 Group :22202**\n"
      ],
      "text/plain": [
       "<IPython.core.display.Markdown object>"
      ]
     },
     "metadata": {},
     "output_type": "display_data"
    },
    {
     "name": "stdout",
     "output_type": "stream",
     "text": [
      "Record count: 1\n",
      "     user id  age gender occupation zip code Age_category\n",
      "124      125   30      M     lawyer    22202        20-40\n",
      "\n",
      "\n"
     ]
    },
    {
     "data": {
      "text/markdown": [
       "**Cluster 119 Group :20015**\n"
      ],
      "text/plain": [
       "<IPython.core.display.Markdown object>"
      ]
     },
     "metadata": {},
     "output_type": "display_data"
    },
    {
     "name": "stdout",
     "output_type": "stream",
     "text": [
      "Record count: 1\n",
      "     user id  age gender occupation zip code Age_category\n",
      "125      126   28      F     lawyer    20015        20-40\n",
      "\n",
      "\n"
     ]
    },
    {
     "data": {
      "text/markdown": [
       "**Cluster 120 Group :73439**\n"
      ],
      "text/plain": [
       "<IPython.core.display.Markdown object>"
      ]
     },
     "metadata": {},
     "output_type": "display_data"
    },
    {
     "name": "stdout",
     "output_type": "stream",
     "text": [
      "Record count: 1\n",
      "     user id  age gender occupation zip code Age_category\n",
      "126      127   33      M       none    73439        20-40\n",
      "\n",
      "\n"
     ]
    },
    {
     "data": {
      "text/markdown": [
       "**Cluster 121 Group :20009**\n"
      ],
      "text/plain": [
       "<IPython.core.display.Markdown object>"
      ]
     },
     "metadata": {},
     "output_type": "display_data"
    },
    {
     "name": "stdout",
     "output_type": "stream",
     "text": [
      "Record count: 5\n",
      "     user id  age gender occupation zip code Age_category\n",
      "127      128   24      F  marketing    20009        20-40\n",
      "364      365   29      M     lawyer    20009        20-40\n",
      "436      437   27      F      other    20009        20-40\n",
      "668      669   37      M      other    20009        20-40\n",
      "804      805   27      F      other    20009        20-40\n",
      "\n",
      "\n"
     ]
    },
    {
     "data": {
      "text/markdown": [
       "**Cluster 122 Group :07039**\n"
      ],
      "text/plain": [
       "<IPython.core.display.Markdown object>"
      ]
     },
     "metadata": {},
     "output_type": "display_data"
    },
    {
     "name": "stdout",
     "output_type": "stream",
     "text": [
      "Record count: 1\n",
      "     user id  age gender occupation zip code Age_category\n",
      "128      129   36      F  marketing    07039        20-40\n",
      "\n",
      "\n"
     ]
    },
    {
     "data": {
      "text/markdown": [
       "**Cluster 123 Group :60115**\n"
      ],
      "text/plain": [
       "<IPython.core.display.Markdown object>"
      ]
     },
     "metadata": {},
     "output_type": "display_data"
    },
    {
     "name": "stdout",
     "output_type": "stream",
     "text": [
      "Record count: 1\n",
      "     user id  age gender occupation zip code Age_category\n",
      "129      130   20      M       none    60115         0-20\n",
      "\n",
      "\n"
     ]
    },
    {
     "data": {
      "text/markdown": [
       "**Cluster 124 Group :15237**\n"
      ],
      "text/plain": [
       "<IPython.core.display.Markdown object>"
      ]
     },
     "metadata": {},
     "output_type": "display_data"
    },
    {
     "name": "stdout",
     "output_type": "stream",
     "text": [
      "Record count: 1\n",
      "     user id  age gender     occupation zip code Age_category\n",
      "130      131   59      F  administrator    15237        40-60\n",
      "\n",
      "\n"
     ]
    },
    {
     "data": {
      "text/markdown": [
       "**Cluster 125 Group :94612**\n"
      ],
      "text/plain": [
       "<IPython.core.display.Markdown object>"
      ]
     },
     "metadata": {},
     "output_type": "display_data"
    },
    {
     "name": "stdout",
     "output_type": "stream",
     "text": [
      "Record count: 1\n",
      "     user id  age gender occupation zip code Age_category\n",
      "131      132   24      M      other    94612        20-40\n",
      "\n",
      "\n"
     ]
    },
    {
     "data": {
      "text/markdown": [
       "**Cluster 126 Group :78602**\n"
      ],
      "text/plain": [
       "<IPython.core.display.Markdown object>"
      ]
     },
     "metadata": {},
     "output_type": "display_data"
    },
    {
     "name": "stdout",
     "output_type": "stream",
     "text": [
      "Record count: 1\n",
      "     user id  age gender occupation zip code Age_category\n",
      "132      133   53      M   engineer    78602        40-60\n",
      "\n",
      "\n"
     ]
    },
    {
     "data": {
      "text/markdown": [
       "**Cluster 127 Group :80236**\n"
      ],
      "text/plain": [
       "<IPython.core.display.Markdown object>"
      ]
     },
     "metadata": {},
     "output_type": "display_data"
    },
    {
     "name": "stdout",
     "output_type": "stream",
     "text": [
      "Record count: 1\n",
      "     user id  age gender  occupation zip code Age_category\n",
      "133      134   31      M  programmer    80236        20-40\n",
      "\n",
      "\n"
     ]
    },
    {
     "data": {
      "text/markdown": [
       "**Cluster 128 Group :38401**\n"
      ],
      "text/plain": [
       "<IPython.core.display.Markdown object>"
      ]
     },
     "metadata": {},
     "output_type": "display_data"
    },
    {
     "name": "stdout",
     "output_type": "stream",
     "text": [
      "Record count: 1\n",
      "     user id  age gender occupation zip code Age_category\n",
      "134      135   23      M    student    38401        20-40\n",
      "\n",
      "\n"
     ]
    },
    {
     "data": {
      "text/markdown": [
       "**Cluster 129 Group :97365**\n"
      ],
      "text/plain": [
       "<IPython.core.display.Markdown object>"
      ]
     },
     "metadata": {},
     "output_type": "display_data"
    },
    {
     "name": "stdout",
     "output_type": "stream",
     "text": [
      "Record count: 1\n",
      "     user id  age gender occupation zip code Age_category\n",
      "135      136   51      M      other    97365        40-60\n",
      "\n",
      "\n"
     ]
    },
    {
     "data": {
      "text/markdown": [
       "**Cluster 130 Group :84408**\n"
      ],
      "text/plain": [
       "<IPython.core.display.Markdown object>"
      ]
     },
     "metadata": {},
     "output_type": "display_data"
    },
    {
     "name": "stdout",
     "output_type": "stream",
     "text": [
      "Record count: 1\n",
      "     user id  age gender occupation zip code Age_category\n",
      "136      137   50      M   educator    84408        40-60\n",
      "\n",
      "\n"
     ]
    },
    {
     "data": {
      "text/markdown": [
       "**Cluster 131 Group :53211**\n"
      ],
      "text/plain": [
       "<IPython.core.display.Markdown object>"
      ]
     },
     "metadata": {},
     "output_type": "display_data"
    },
    {
     "name": "stdout",
     "output_type": "stream",
     "text": [
      "Record count: 2\n",
      "     user id  age gender  occupation zip code Age_category\n",
      "137      138   46      M      doctor    53211        40-60\n",
      "644      645   27      M  programmer    53211        20-40\n",
      "\n",
      "\n"
     ]
    },
    {
     "data": {
      "text/markdown": [
       "**Cluster 132 Group :08904**\n"
      ],
      "text/plain": [
       "<IPython.core.display.Markdown object>"
      ]
     },
     "metadata": {},
     "output_type": "display_data"
    },
    {
     "name": "stdout",
     "output_type": "stream",
     "text": [
      "Record count: 1\n",
      "     user id  age gender occupation zip code Age_category\n",
      "138      139   20      M    student    08904         0-20\n",
      "\n",
      "\n"
     ]
    },
    {
     "data": {
      "text/markdown": [
       "**Cluster 133 Group :32250**\n"
      ],
      "text/plain": [
       "<IPython.core.display.Markdown object>"
      ]
     },
     "metadata": {},
     "output_type": "display_data"
    },
    {
     "name": "stdout",
     "output_type": "stream",
     "text": [
      "Record count: 1\n",
      "     user id  age gender occupation zip code Age_category\n",
      "139      140   30      F    student    32250        20-40\n",
      "\n",
      "\n"
     ]
    },
    {
     "data": {
      "text/markdown": [
       "**Cluster 134 Group :36117**\n"
      ],
      "text/plain": [
       "<IPython.core.display.Markdown object>"
      ]
     },
     "metadata": {},
     "output_type": "display_data"
    },
    {
     "name": "stdout",
     "output_type": "stream",
     "text": [
      "Record count: 1\n",
      "     user id  age gender  occupation zip code Age_category\n",
      "140      141   49      M  programmer    36117        40-60\n",
      "\n",
      "\n"
     ]
    },
    {
     "data": {
      "text/markdown": [
       "**Cluster 135 Group :08832**\n"
      ],
      "text/plain": [
       "<IPython.core.display.Markdown object>"
      ]
     },
     "metadata": {},
     "output_type": "display_data"
    },
    {
     "name": "stdout",
     "output_type": "stream",
     "text": [
      "Record count: 1\n",
      "     user id  age gender  occupation zip code Age_category\n",
      "142      143   42      M  technician    08832        40-60\n",
      "\n",
      "\n"
     ]
    },
    {
     "data": {
      "text/markdown": [
       "**Cluster 136 Group :20910**\n"
      ],
      "text/plain": [
       "<IPython.core.display.Markdown object>"
      ]
     },
     "metadata": {},
     "output_type": "display_data"
    },
    {
     "name": "stdout",
     "output_type": "stream",
     "text": [
      "Record count: 1\n",
      "     user id  age gender  occupation zip code Age_category\n",
      "143      144   53      M  programmer    20910        40-60\n",
      "\n",
      "\n"
     ]
    },
    {
     "data": {
      "text/markdown": [
       "**Cluster 137 Group :V3N4P**\n"
      ],
      "text/plain": [
       "<IPython.core.display.Markdown object>"
      ]
     },
     "metadata": {},
     "output_type": "display_data"
    },
    {
     "name": "stdout",
     "output_type": "stream",
     "text": [
      "Record count: 1\n",
      "     user id  age gender     occupation zip code Age_category\n",
      "144      145   31      M  entertainment    V3N4P        20-40\n",
      "\n",
      "\n"
     ]
    },
    {
     "data": {
      "text/markdown": [
       "**Cluster 138 Group :83814**\n"
      ],
      "text/plain": [
       "<IPython.core.display.Markdown object>"
      ]
     },
     "metadata": {},
     "output_type": "display_data"
    },
    {
     "name": "stdout",
     "output_type": "stream",
     "text": [
      "Record count: 2\n",
      "     user id  age gender occupation zip code Age_category\n",
      "145      146   45      M     artist    83814        40-60\n",
      "649      650   42      M   engineer    83814        40-60\n",
      "\n",
      "\n"
     ]
    },
    {
     "data": {
      "text/markdown": [
       "**Cluster 139 Group :02143**\n"
      ],
      "text/plain": [
       "<IPython.core.display.Markdown object>"
      ]
     },
     "metadata": {},
     "output_type": "display_data"
    },
    {
     "name": "stdout",
     "output_type": "stream",
     "text": [
      "Record count: 1\n",
      "     user id  age gender occupation zip code Age_category\n",
      "146      147   40      F  librarian    02143        20-40\n",
      "\n",
      "\n"
     ]
    },
    {
     "data": {
      "text/markdown": [
       "**Cluster 140 Group :97006**\n"
      ],
      "text/plain": [
       "<IPython.core.display.Markdown object>"
      ]
     },
     "metadata": {},
     "output_type": "display_data"
    },
    {
     "name": "stdout",
     "output_type": "stream",
     "text": [
      "Record count: 1\n",
      "     user id  age gender occupation zip code Age_category\n",
      "147      148   33      M   engineer    97006        20-40\n",
      "\n",
      "\n"
     ]
    },
    {
     "data": {
      "text/markdown": [
       "**Cluster 141 Group :17325**\n"
      ],
      "text/plain": [
       "<IPython.core.display.Markdown object>"
      ]
     },
     "metadata": {},
     "output_type": "display_data"
    },
    {
     "name": "stdout",
     "output_type": "stream",
     "text": [
      "Record count: 1\n",
      "     user id  age gender occupation zip code Age_category\n",
      "148      149   35      F  marketing    17325        20-40\n",
      "\n",
      "\n"
     ]
    },
    {
     "data": {
      "text/markdown": [
       "**Cluster 142 Group :02139**\n"
      ],
      "text/plain": [
       "<IPython.core.display.Markdown object>"
      ]
     },
     "metadata": {},
     "output_type": "display_data"
    },
    {
     "name": "stdout",
     "output_type": "stream",
     "text": [
      "Record count: 2\n",
      "     user id  age gender  occupation zip code Age_category\n",
      "149      150   20      F      artist    02139         0-20\n",
      "324      325   48      M  technician    02139        40-60\n",
      "\n",
      "\n"
     ]
    },
    {
     "data": {
      "text/markdown": [
       "**Cluster 143 Group :48103**\n"
      ],
      "text/plain": [
       "<IPython.core.display.Markdown object>"
      ]
     },
     "metadata": {},
     "output_type": "display_data"
    },
    {
     "name": "stdout",
     "output_type": "stream",
     "text": [
      "Record count: 3\n",
      "     user id  age gender     occupation zip code Age_category\n",
      "150      151   38      F  administrator    48103        20-40\n",
      "416      417   27      F          other    48103        20-40\n",
      "578      579   32      M       educator    48103        20-40\n",
      "\n",
      "\n"
     ]
    },
    {
     "data": {
      "text/markdown": [
       "**Cluster 144 Group :68767**\n"
      ],
      "text/plain": [
       "<IPython.core.display.Markdown object>"
      ]
     },
     "metadata": {},
     "output_type": "display_data"
    },
    {
     "name": "stdout",
     "output_type": "stream",
     "text": [
      "Record count: 2\n",
      "     user id  age gender occupation zip code Age_category\n",
      "151      152   33      F   educator    68767        20-40\n",
      "592      593   31      F   educator    68767        20-40\n",
      "\n",
      "\n"
     ]
    },
    {
     "data": {
      "text/markdown": [
       "**Cluster 145 Group :60641**\n"
      ],
      "text/plain": [
       "<IPython.core.display.Markdown object>"
      ]
     },
     "metadata": {},
     "output_type": "display_data"
    },
    {
     "name": "stdout",
     "output_type": "stream",
     "text": [
      "Record count: 1\n",
      "     user id  age gender occupation zip code Age_category\n",
      "152      153   25      M    student    60641        20-40\n",
      "\n",
      "\n"
     ]
    },
    {
     "data": {
      "text/markdown": [
       "**Cluster 146 Group :53703**\n"
      ],
      "text/plain": [
       "<IPython.core.display.Markdown object>"
      ]
     },
     "metadata": {},
     "output_type": "display_data"
    },
    {
     "name": "stdout",
     "output_type": "stream",
     "text": [
      "Record count: 1\n",
      "     user id  age gender occupation zip code Age_category\n",
      "153      154   25      M    student    53703        20-40\n",
      "\n",
      "\n"
     ]
    },
    {
     "data": {
      "text/markdown": [
       "**Cluster 147 Group :11217**\n"
      ],
      "text/plain": [
       "<IPython.core.display.Markdown object>"
      ]
     },
     "metadata": {},
     "output_type": "display_data"
    },
    {
     "name": "stdout",
     "output_type": "stream",
     "text": [
      "Record count: 3\n",
      "     user id  age gender occupation zip code Age_category\n",
      "154      155   32      F      other    11217        20-40\n",
      "556      557   30      F     writer    11217        20-40\n",
      "805      806   27      M  marketing    11217        20-40\n",
      "\n",
      "\n"
     ]
    },
    {
     "data": {
      "text/markdown": [
       "**Cluster 148 Group :08360**\n"
      ],
      "text/plain": [
       "<IPython.core.display.Markdown object>"
      ]
     },
     "metadata": {},
     "output_type": "display_data"
    },
    {
     "name": "stdout",
     "output_type": "stream",
     "text": [
      "Record count: 1\n",
      "     user id  age gender occupation zip code Age_category\n",
      "155      156   25      M   educator    08360        20-40\n",
      "\n",
      "\n"
     ]
    },
    {
     "data": {
      "text/markdown": [
       "**Cluster 149 Group :70808**\n"
      ],
      "text/plain": [
       "<IPython.core.display.Markdown object>"
      ]
     },
     "metadata": {},
     "output_type": "display_data"
    },
    {
     "name": "stdout",
     "output_type": "stream",
     "text": [
      "Record count: 1\n",
      "     user id  age gender occupation zip code Age_category\n",
      "156      157   57      M   engineer    70808        40-60\n",
      "\n",
      "\n"
     ]
    },
    {
     "data": {
      "text/markdown": [
       "**Cluster 150 Group :27606**\n"
      ],
      "text/plain": [
       "<IPython.core.display.Markdown object>"
      ]
     },
     "metadata": {},
     "output_type": "display_data"
    },
    {
     "name": "stdout",
     "output_type": "stream",
     "text": [
      "Record count: 1\n",
      "     user id  age gender occupation zip code Age_category\n",
      "157      158   50      M   educator    27606        40-60\n",
      "\n",
      "\n"
     ]
    },
    {
     "data": {
      "text/markdown": [
       "**Cluster 151 Group :55346**\n"
      ],
      "text/plain": [
       "<IPython.core.display.Markdown object>"
      ]
     },
     "metadata": {},
     "output_type": "display_data"
    },
    {
     "name": "stdout",
     "output_type": "stream",
     "text": [
      "Record count: 2\n",
      "     user id  age gender  occupation zip code Age_category\n",
      "158      159   23      F     student    55346        20-40\n",
      "262      263   41      M  programmer    55346        40-60\n",
      "\n",
      "\n"
     ]
    },
    {
     "data": {
      "text/markdown": [
       "**Cluster 152 Group :66215**\n"
      ],
      "text/plain": [
       "<IPython.core.display.Markdown object>"
      ]
     },
     "metadata": {},
     "output_type": "display_data"
    },
    {
     "name": "stdout",
     "output_type": "stream",
     "text": [
      "Record count: 1\n",
      "     user id  age gender  occupation zip code Age_category\n",
      "159      160   27      M  programmer    66215        20-40\n",
      "\n",
      "\n"
     ]
    },
    {
     "data": {
      "text/markdown": [
       "**Cluster 153 Group :55104**\n"
      ],
      "text/plain": [
       "<IPython.core.display.Markdown object>"
      ]
     },
     "metadata": {},
     "output_type": "display_data"
    },
    {
     "name": "stdout",
     "output_type": "stream",
     "text": [
      "Record count: 3\n",
      "     user id  age gender occupation zip code Age_category\n",
      "160      161   50      M     lawyer    55104        40-60\n",
      "527      528   18      M    student    55104         0-20\n",
      "756      757   26      M    student    55104        20-40\n",
      "\n",
      "\n"
     ]
    },
    {
     "data": {
      "text/markdown": [
       "**Cluster 154 Group :15610**\n"
      ],
      "text/plain": [
       "<IPython.core.display.Markdown object>"
      ]
     },
     "metadata": {},
     "output_type": "display_data"
    },
    {
     "name": "stdout",
     "output_type": "stream",
     "text": [
      "Record count: 1\n",
      "     user id  age gender occupation zip code Age_category\n",
      "161      162   25      M     artist    15610        20-40\n",
      "\n",
      "\n"
     ]
    },
    {
     "data": {
      "text/markdown": [
       "**Cluster 155 Group :97212**\n"
      ],
      "text/plain": [
       "<IPython.core.display.Markdown object>"
      ]
     },
     "metadata": {},
     "output_type": "display_data"
    },
    {
     "name": "stdout",
     "output_type": "stream",
     "text": [
      "Record count: 1\n",
      "     user id  age gender     occupation zip code Age_category\n",
      "162      163   49      M  administrator    97212        40-60\n",
      "\n",
      "\n"
     ]
    },
    {
     "data": {
      "text/markdown": [
       "**Cluster 156 Group :80123**\n"
      ],
      "text/plain": [
       "<IPython.core.display.Markdown object>"
      ]
     },
     "metadata": {},
     "output_type": "display_data"
    },
    {
     "name": "stdout",
     "output_type": "stream",
     "text": [
      "Record count: 2\n",
      "     user id  age gender  occupation zip code Age_category\n",
      "163      164   47      M  healthcare    80123        40-60\n",
      "339      340   46      M    engineer    80123        40-60\n",
      "\n",
      "\n"
     ]
    },
    {
     "data": {
      "text/markdown": [
       "**Cluster 157 Group :53715**\n"
      ],
      "text/plain": [
       "<IPython.core.display.Markdown object>"
      ]
     },
     "metadata": {},
     "output_type": "display_data"
    },
    {
     "name": "stdout",
     "output_type": "stream",
     "text": [
      "Record count: 1\n",
      "     user id  age gender occupation zip code Age_category\n",
      "164      165   20      F      other    53715         0-20\n",
      "\n",
      "\n"
     ]
    },
    {
     "data": {
      "text/markdown": [
       "**Cluster 158 Group :55113**\n"
      ],
      "text/plain": [
       "<IPython.core.display.Markdown object>"
      ]
     },
     "metadata": {},
     "output_type": "display_data"
    },
    {
     "name": "stdout",
     "output_type": "stream",
     "text": [
      "Record count: 3\n",
      "     user id  age gender     occupation zip code Age_category\n",
      "165      166   47      M       educator    55113        40-60\n",
      "446      447   30      M  administrator    55113        20-40\n",
      "744      745   42      M         writer    55113        40-60\n",
      "\n",
      "\n"
     ]
    },
    {
     "data": {
      "text/markdown": [
       "**Cluster 159 Group :L9G2B**\n"
      ],
      "text/plain": [
       "<IPython.core.display.Markdown object>"
      ]
     },
     "metadata": {},
     "output_type": "display_data"
    },
    {
     "name": "stdout",
     "output_type": "stream",
     "text": [
      "Record count: 1\n",
      "     user id  age gender occupation zip code Age_category\n",
      "166      167   37      M      other    L9G2B        20-40\n",
      "\n",
      "\n"
     ]
    },
    {
     "data": {
      "text/markdown": [
       "**Cluster 160 Group :80127**\n"
      ],
      "text/plain": [
       "<IPython.core.display.Markdown object>"
      ]
     },
     "metadata": {},
     "output_type": "display_data"
    },
    {
     "name": "stdout",
     "output_type": "stream",
     "text": [
      "Record count: 1\n",
      "     user id  age gender occupation zip code Age_category\n",
      "167      168   48      M      other    80127        40-60\n",
      "\n",
      "\n"
     ]
    },
    {
     "data": {
      "text/markdown": [
       "**Cluster 161 Group :53705**\n"
      ],
      "text/plain": [
       "<IPython.core.display.Markdown object>"
      ]
     },
     "metadata": {},
     "output_type": "display_data"
    },
    {
     "name": "stdout",
     "output_type": "stream",
     "text": [
      "Record count: 1\n",
      "     user id  age gender occupation zip code Age_category\n",
      "168      169   52      F      other    53705        40-60\n",
      "\n",
      "\n"
     ]
    },
    {
     "data": {
      "text/markdown": [
       "**Cluster 162 Group :30067**\n"
      ],
      "text/plain": [
       "<IPython.core.display.Markdown object>"
      ]
     },
     "metadata": {},
     "output_type": "display_data"
    },
    {
     "name": "stdout",
     "output_type": "stream",
     "text": [
      "Record count: 2\n",
      "     user id  age gender  occupation zip code Age_category\n",
      "169      170   53      F  healthcare    30067        40-60\n",
      "623      624   19      M     student    30067         0-20\n",
      "\n",
      "\n"
     ]
    },
    {
     "data": {
      "text/markdown": [
       "**Cluster 163 Group :78750**\n"
      ],
      "text/plain": [
       "<IPython.core.display.Markdown object>"
      ]
     },
     "metadata": {},
     "output_type": "display_data"
    },
    {
     "name": "stdout",
     "output_type": "stream",
     "text": [
      "Record count: 1\n",
      "     user id  age gender occupation zip code Age_category\n",
      "170      171   48      F   educator    78750        40-60\n",
      "\n",
      "\n"
     ]
    },
    {
     "data": {
      "text/markdown": [
       "**Cluster 164 Group :22207**\n"
      ],
      "text/plain": [
       "<IPython.core.display.Markdown object>"
      ]
     },
     "metadata": {},
     "output_type": "display_data"
    },
    {
     "name": "stdout",
     "output_type": "stream",
     "text": [
      "Record count: 1\n",
      "     user id  age gender occupation zip code Age_category\n",
      "171      172   55      M  marketing    22207        40-60\n",
      "\n",
      "\n"
     ]
    },
    {
     "data": {
      "text/markdown": [
       "**Cluster 165 Group :22306**\n"
      ],
      "text/plain": [
       "<IPython.core.display.Markdown object>"
      ]
     },
     "metadata": {},
     "output_type": "display_data"
    },
    {
     "name": "stdout",
     "output_type": "stream",
     "text": [
      "Record count: 1\n",
      "     user id  age gender occupation zip code Age_category\n",
      "172      173   56      M      other    22306        40-60\n",
      "\n",
      "\n"
     ]
    },
    {
     "data": {
      "text/markdown": [
       "**Cluster 166 Group :52302**\n"
      ],
      "text/plain": [
       "<IPython.core.display.Markdown object>"
      ]
     },
     "metadata": {},
     "output_type": "display_data"
    },
    {
     "name": "stdout",
     "output_type": "stream",
     "text": [
      "Record count: 1\n",
      "     user id  age gender     occupation zip code Age_category\n",
      "173      174   30      F  administrator    52302        20-40\n",
      "\n",
      "\n"
     ]
    },
    {
     "data": {
      "text/markdown": [
       "**Cluster 167 Group :21911**\n"
      ],
      "text/plain": [
       "<IPython.core.display.Markdown object>"
      ]
     },
     "metadata": {},
     "output_type": "display_data"
    },
    {
     "name": "stdout",
     "output_type": "stream",
     "text": [
      "Record count: 1\n",
      "     user id  age gender occupation zip code Age_category\n",
      "174      175   26      F  scientist    21911        20-40\n",
      "\n",
      "\n"
     ]
    },
    {
     "data": {
      "text/markdown": [
       "**Cluster 168 Group :07030**\n"
      ],
      "text/plain": [
       "<IPython.core.display.Markdown object>"
      ]
     },
     "metadata": {},
     "output_type": "display_data"
    },
    {
     "name": "stdout",
     "output_type": "stream",
     "text": [
      "Record count: 1\n",
      "     user id  age gender occupation zip code Age_category\n",
      "175      176   28      M  scientist    07030        20-40\n",
      "\n",
      "\n"
     ]
    },
    {
     "data": {
      "text/markdown": [
       "**Cluster 169 Group :19104**\n"
      ],
      "text/plain": [
       "<IPython.core.display.Markdown object>"
      ]
     },
     "metadata": {},
     "output_type": "display_data"
    },
    {
     "name": "stdout",
     "output_type": "stream",
     "text": [
      "Record count: 1\n",
      "     user id  age gender  occupation zip code Age_category\n",
      "176      177   20      M  programmer    19104         0-20\n",
      "\n",
      "\n"
     ]
    },
    {
     "data": {
      "text/markdown": [
       "**Cluster 170 Group :49512**\n"
      ],
      "text/plain": [
       "<IPython.core.display.Markdown object>"
      ]
     },
     "metadata": {},
     "output_type": "display_data"
    },
    {
     "name": "stdout",
     "output_type": "stream",
     "text": [
      "Record count: 2\n",
      "     user id  age gender occupation zip code Age_category\n",
      "177      178   26      M      other    49512        20-40\n",
      "702      703   26      M   educator    49512        20-40\n",
      "\n",
      "\n"
     ]
    },
    {
     "data": {
      "text/markdown": [
       "**Cluster 171 Group :20755**\n"
      ],
      "text/plain": [
       "<IPython.core.display.Markdown object>"
      ]
     },
     "metadata": {},
     "output_type": "display_data"
    },
    {
     "name": "stdout",
     "output_type": "stream",
     "text": [
      "Record count: 2\n",
      "     user id  age gender     occupation zip code Age_category\n",
      "178      179   15      M  entertainment    20755         0-20\n",
      "815      816   34      M          other    20755        20-40\n",
      "\n",
      "\n"
     ]
    },
    {
     "data": {
      "text/markdown": [
       "**Cluster 172 Group :60202**\n"
      ],
      "text/plain": [
       "<IPython.core.display.Markdown object>"
      ]
     },
     "metadata": {},
     "output_type": "display_data"
    },
    {
     "name": "stdout",
     "output_type": "stream",
     "text": [
      "Record count: 1\n",
      "     user id  age gender     occupation zip code Age_category\n",
      "179      180   22      F  administrator    60202        20-40\n",
      "\n",
      "\n"
     ]
    },
    {
     "data": {
      "text/markdown": [
       "**Cluster 173 Group :33884**\n"
      ],
      "text/plain": [
       "<IPython.core.display.Markdown object>"
      ]
     },
     "metadata": {},
     "output_type": "display_data"
    },
    {
     "name": "stdout",
     "output_type": "stream",
     "text": [
      "Record count: 2\n",
      "     user id  age gender  occupation zip code Age_category\n",
      "181      182   36      M  programmer    33884        20-40\n",
      "329      330   35      F    educator    33884        20-40\n",
      "\n",
      "\n"
     ]
    },
    {
     "data": {
      "text/markdown": [
       "**Cluster 174 Group :27708**\n"
      ],
      "text/plain": [
       "<IPython.core.display.Markdown object>"
      ]
     },
     "metadata": {},
     "output_type": "display_data"
    },
    {
     "name": "stdout",
     "output_type": "stream",
     "text": [
      "Record count: 1\n",
      "     user id  age gender occupation zip code Age_category\n",
      "182      183   33      M  scientist    27708        20-40\n",
      "\n",
      "\n"
     ]
    },
    {
     "data": {
      "text/markdown": [
       "**Cluster 175 Group :76013**\n"
      ],
      "text/plain": [
       "<IPython.core.display.Markdown object>"
      ]
     },
     "metadata": {},
     "output_type": "display_data"
    },
    {
     "name": "stdout",
     "output_type": "stream",
     "text": [
      "Record count: 1\n",
      "     user id  age gender occupation zip code Age_category\n",
      "183      184   37      M  librarian    76013        20-40\n",
      "\n",
      "\n"
     ]
    },
    {
     "data": {
      "text/markdown": [
       "**Cluster 176 Group :97403**\n"
      ],
      "text/plain": [
       "<IPython.core.display.Markdown object>"
      ]
     },
     "metadata": {},
     "output_type": "display_data"
    },
    {
     "name": "stdout",
     "output_type": "stream",
     "text": [
      "Record count: 1\n",
      "     user id  age gender occupation zip code Age_category\n",
      "184      185   53      F  librarian    97403        40-60\n",
      "\n",
      "\n"
     ]
    },
    {
     "data": {
      "text/markdown": [
       "**Cluster 177 Group :00000**\n"
      ],
      "text/plain": [
       "<IPython.core.display.Markdown object>"
      ]
     },
     "metadata": {},
     "output_type": "display_data"
    },
    {
     "name": "stdout",
     "output_type": "stream",
     "text": [
      "Record count: 2\n",
      "     user id  age gender occupation zip code Age_category\n",
      "185      186   39      F  executive    00000        20-40\n",
      "766      767   70      M   engineer    00000        60-80\n",
      "\n",
      "\n"
     ]
    },
    {
     "data": {
      "text/markdown": [
       "**Cluster 178 Group :16801**\n"
      ],
      "text/plain": [
       "<IPython.core.display.Markdown object>"
      ]
     },
     "metadata": {},
     "output_type": "display_data"
    },
    {
     "name": "stdout",
     "output_type": "stream",
     "text": [
      "Record count: 1\n",
      "     user id  age gender occupation zip code Age_category\n",
      "186      187   26      M   educator    16801        20-40\n",
      "\n",
      "\n"
     ]
    },
    {
     "data": {
      "text/markdown": [
       "**Cluster 179 Group :29440**\n"
      ],
      "text/plain": [
       "<IPython.core.display.Markdown object>"
      ]
     },
     "metadata": {},
     "output_type": "display_data"
    },
    {
     "name": "stdout",
     "output_type": "stream",
     "text": [
      "Record count: 1\n",
      "     user id  age gender occupation zip code Age_category\n",
      "187      188   42      M    student    29440        40-60\n",
      "\n",
      "\n"
     ]
    },
    {
     "data": {
      "text/markdown": [
       "**Cluster 180 Group :95014**\n"
      ],
      "text/plain": [
       "<IPython.core.display.Markdown object>"
      ]
     },
     "metadata": {},
     "output_type": "display_data"
    },
    {
     "name": "stdout",
     "output_type": "stream",
     "text": [
      "Record count: 1\n",
      "     user id  age gender occupation zip code Age_category\n",
      "188      189   32      M     artist    95014        20-40\n",
      "\n",
      "\n"
     ]
    },
    {
     "data": {
      "text/markdown": [
       "**Cluster 181 Group :95938**\n"
      ],
      "text/plain": [
       "<IPython.core.display.Markdown object>"
      ]
     },
     "metadata": {},
     "output_type": "display_data"
    },
    {
     "name": "stdout",
     "output_type": "stream",
     "text": [
      "Record count: 1\n",
      "     user id  age gender     occupation zip code Age_category\n",
      "189      190   30      M  administrator    95938        20-40\n",
      "\n",
      "\n"
     ]
    },
    {
     "data": {
      "text/markdown": [
       "**Cluster 182 Group :95161**\n"
      ],
      "text/plain": [
       "<IPython.core.display.Markdown object>"
      ]
     },
     "metadata": {},
     "output_type": "display_data"
    },
    {
     "name": "stdout",
     "output_type": "stream",
     "text": [
      "Record count: 1\n",
      "     user id  age gender     occupation zip code Age_category\n",
      "190      191   33      M  administrator    95161        20-40\n",
      "\n",
      "\n"
     ]
    },
    {
     "data": {
      "text/markdown": [
       "**Cluster 183 Group :90840**\n"
      ],
      "text/plain": [
       "<IPython.core.display.Markdown object>"
      ]
     },
     "metadata": {},
     "output_type": "display_data"
    },
    {
     "name": "stdout",
     "output_type": "stream",
     "text": [
      "Record count: 1\n",
      "     user id  age gender occupation zip code Age_category\n",
      "191      192   42      M   educator    90840        40-60\n",
      "\n",
      "\n"
     ]
    },
    {
     "data": {
      "text/markdown": [
       "**Cluster 184 Group :49931**\n"
      ],
      "text/plain": [
       "<IPython.core.display.Markdown object>"
      ]
     },
     "metadata": {},
     "output_type": "display_data"
    },
    {
     "name": "stdout",
     "output_type": "stream",
     "text": [
      "Record count: 1\n",
      "     user id  age gender occupation zip code Age_category\n",
      "192      193   29      M    student    49931        20-40\n",
      "\n",
      "\n"
     ]
    },
    {
     "data": {
      "text/markdown": [
       "**Cluster 185 Group :02154**\n"
      ],
      "text/plain": [
       "<IPython.core.display.Markdown object>"
      ]
     },
     "metadata": {},
     "output_type": "display_data"
    },
    {
     "name": "stdout",
     "output_type": "stream",
     "text": [
      "Record count: 2\n",
      "     user id  age gender     occupation zip code Age_category\n",
      "193      194   38      M  administrator    02154        20-40\n",
      "606      607   49      F     healthcare    02154        40-60\n",
      "\n",
      "\n"
     ]
    },
    {
     "data": {
      "text/markdown": [
       "**Cluster 186 Group :93555**\n"
      ],
      "text/plain": [
       "<IPython.core.display.Markdown object>"
      ]
     },
     "metadata": {},
     "output_type": "display_data"
    },
    {
     "name": "stdout",
     "output_type": "stream",
     "text": [
      "Record count: 2\n",
      "     user id  age gender  occupation zip code Age_category\n",
      "194      195   42      M   scientist    93555        40-60\n",
      "806      807   41      F  healthcare    93555        40-60\n",
      "\n",
      "\n"
     ]
    },
    {
     "data": {
      "text/markdown": [
       "**Cluster 187 Group :75094**\n"
      ],
      "text/plain": [
       "<IPython.core.display.Markdown object>"
      ]
     },
     "metadata": {},
     "output_type": "display_data"
    },
    {
     "name": "stdout",
     "output_type": "stream",
     "text": [
      "Record count: 1\n",
      "     user id  age gender  occupation zip code Age_category\n",
      "196      197   55      M  technician    75094        40-60\n",
      "\n",
      "\n"
     ]
    },
    {
     "data": {
      "text/markdown": [
       "**Cluster 188 Group :17604**\n"
      ],
      "text/plain": [
       "<IPython.core.display.Markdown object>"
      ]
     },
     "metadata": {},
     "output_type": "display_data"
    },
    {
     "name": "stdout",
     "output_type": "stream",
     "text": [
      "Record count: 1\n",
      "     user id  age gender occupation zip code Age_category\n",
      "198      199   30      M     writer    17604        20-40\n",
      "\n",
      "\n"
     ]
    },
    {
     "data": {
      "text/markdown": [
       "**Cluster 189 Group :93402**\n"
      ],
      "text/plain": [
       "<IPython.core.display.Markdown object>"
      ]
     },
     "metadata": {},
     "output_type": "display_data"
    },
    {
     "name": "stdout",
     "output_type": "stream",
     "text": [
      "Record count: 1\n",
      "     user id  age gender  occupation zip code Age_category\n",
      "199      200   40      M  programmer    93402        20-40\n",
      "\n",
      "\n"
     ]
    },
    {
     "data": {
      "text/markdown": [
       "**Cluster 190 Group :E2A4H**\n"
      ],
      "text/plain": [
       "<IPython.core.display.Markdown object>"
      ]
     },
     "metadata": {},
     "output_type": "display_data"
    },
    {
     "name": "stdout",
     "output_type": "stream",
     "text": [
      "Record count: 1\n",
      "     user id  age gender occupation zip code Age_category\n",
      "200      201   27      M     writer    E2A4H        20-40\n",
      "\n",
      "\n"
     ]
    },
    {
     "data": {
      "text/markdown": [
       "**Cluster 191 Group :60201**\n"
      ],
      "text/plain": [
       "<IPython.core.display.Markdown object>"
      ]
     },
     "metadata": {},
     "output_type": "display_data"
    },
    {
     "name": "stdout",
     "output_type": "stream",
     "text": [
      "Record count: 3\n",
      "     user id  age gender occupation zip code Age_category\n",
      "201      202   41      F   educator    60201        40-60\n",
      "242      243   33      M   educator    60201        20-40\n",
      "445      446   57      M   educator    60201        40-60\n",
      "\n",
      "\n"
     ]
    },
    {
     "data": {
      "text/markdown": [
       "**Cluster 192 Group :32301**\n"
      ],
      "text/plain": [
       "<IPython.core.display.Markdown object>"
      ]
     },
     "metadata": {},
     "output_type": "display_data"
    },
    {
     "name": "stdout",
     "output_type": "stream",
     "text": [
      "Record count: 2\n",
      "     user id  age gender occupation zip code Age_category\n",
      "202      203   25      F    student    32301        20-40\n",
      "894      895   31      F  librarian    32301        20-40\n",
      "\n",
      "\n"
     ]
    },
    {
     "data": {
      "text/markdown": [
       "**Cluster 193 Group :10960**\n"
      ],
      "text/plain": [
       "<IPython.core.display.Markdown object>"
      ]
     },
     "metadata": {},
     "output_type": "display_data"
    },
    {
     "name": "stdout",
     "output_type": "stream",
     "text": [
      "Record count: 2\n",
      "     user id  age gender occupation zip code Age_category\n",
      "203      204   52      F  librarian    10960        40-60\n",
      "765      766   42      M      other    10960        40-60\n",
      "\n",
      "\n"
     ]
    },
    {
     "data": {
      "text/markdown": [
       "**Cluster 194 Group :06371**\n"
      ],
      "text/plain": [
       "<IPython.core.display.Markdown object>"
      ]
     },
     "metadata": {},
     "output_type": "display_data"
    },
    {
     "name": "stdout",
     "output_type": "stream",
     "text": [
      "Record count: 1\n",
      "     user id  age gender occupation zip code Age_category\n",
      "204      205   47      M     lawyer    06371        40-60\n",
      "\n",
      "\n"
     ]
    },
    {
     "data": {
      "text/markdown": [
       "**Cluster 195 Group :53115**\n"
      ],
      "text/plain": [
       "<IPython.core.display.Markdown object>"
      ]
     },
     "metadata": {},
     "output_type": "display_data"
    },
    {
     "name": "stdout",
     "output_type": "stream",
     "text": [
      "Record count: 1\n",
      "     user id  age gender occupation zip code Age_category\n",
      "205      206   14      F    student    53115         0-20\n",
      "\n",
      "\n"
     ]
    },
    {
     "data": {
      "text/markdown": [
       "**Cluster 196 Group :92037**\n"
      ],
      "text/plain": [
       "<IPython.core.display.Markdown object>"
      ]
     },
     "metadata": {},
     "output_type": "display_data"
    },
    {
     "name": "stdout",
     "output_type": "stream",
     "text": [
      "Record count: 1\n",
      "     user id  age gender occupation zip code Age_category\n",
      "206      207   39      M  marketing    92037        20-40\n",
      "\n",
      "\n"
     ]
    },
    {
     "data": {
      "text/markdown": [
       "**Cluster 197 Group :01720**\n"
      ],
      "text/plain": [
       "<IPython.core.display.Markdown object>"
      ]
     },
     "metadata": {},
     "output_type": "display_data"
    },
    {
     "name": "stdout",
     "output_type": "stream",
     "text": [
      "Record count: 2\n",
      "     user id  age gender occupation zip code Age_category\n",
      "207      208   43      M   engineer    01720        40-60\n",
      "328      329   48      M   educator    01720        40-60\n",
      "\n",
      "\n"
     ]
    },
    {
     "data": {
      "text/markdown": [
       "**Cluster 198 Group :85710**\n"
      ],
      "text/plain": [
       "<IPython.core.display.Markdown object>"
      ]
     },
     "metadata": {},
     "output_type": "display_data"
    },
    {
     "name": "stdout",
     "output_type": "stream",
     "text": [
      "Record count: 1\n",
      "     user id  age gender occupation zip code Age_category\n",
      "208      209   33      F   educator    85710        20-40\n",
      "\n",
      "\n"
     ]
    },
    {
     "data": {
      "text/markdown": [
       "**Cluster 199 Group :03060**\n"
      ],
      "text/plain": [
       "<IPython.core.display.Markdown object>"
      ]
     },
     "metadata": {},
     "output_type": "display_data"
    },
    {
     "name": "stdout",
     "output_type": "stream",
     "text": [
      "Record count: 1\n",
      "     user id  age gender occupation zip code Age_category\n",
      "209      210   39      M   engineer    03060        20-40\n",
      "\n",
      "\n"
     ]
    },
    {
     "data": {
      "text/markdown": [
       "**Cluster 200 Group :32605**\n"
      ],
      "text/plain": [
       "<IPython.core.display.Markdown object>"
      ]
     },
     "metadata": {},
     "output_type": "display_data"
    },
    {
     "name": "stdout",
     "output_type": "stream",
     "text": [
      "Record count: 1\n",
      "     user id  age gender occupation zip code Age_category\n",
      "210      211   66      M   salesman    32605        60-80\n",
      "\n",
      "\n"
     ]
    },
    {
     "data": {
      "text/markdown": [
       "**Cluster 201 Group :61401**\n"
      ],
      "text/plain": [
       "<IPython.core.display.Markdown object>"
      ]
     },
     "metadata": {},
     "output_type": "display_data"
    },
    {
     "name": "stdout",
     "output_type": "stream",
     "text": [
      "Record count: 1\n",
      "     user id  age gender occupation zip code Age_category\n",
      "211      212   49      F   educator    61401        40-60\n",
      "\n",
      "\n"
     ]
    },
    {
     "data": {
      "text/markdown": [
       "**Cluster 202 Group :55345**\n"
      ],
      "text/plain": [
       "<IPython.core.display.Markdown object>"
      ]
     },
     "metadata": {},
     "output_type": "display_data"
    },
    {
     "name": "stdout",
     "output_type": "stream",
     "text": [
      "Record count: 1\n",
      "     user id  age gender occupation zip code Age_category\n",
      "212      213   33      M  executive    55345        20-40\n",
      "\n",
      "\n"
     ]
    },
    {
     "data": {
      "text/markdown": [
       "**Cluster 203 Group :11231**\n"
      ],
      "text/plain": [
       "<IPython.core.display.Markdown object>"
      ]
     },
     "metadata": {},
     "output_type": "display_data"
    },
    {
     "name": "stdout",
     "output_type": "stream",
     "text": [
      "Record count: 2\n",
      "     user id  age gender occupation zip code Age_category\n",
      "213      214   26      F  librarian    11231        20-40\n",
      "864      865   25      M     artist    11231        20-40\n",
      "\n",
      "\n"
     ]
    },
    {
     "data": {
      "text/markdown": [
       "**Cluster 204 Group :63033**\n"
      ],
      "text/plain": [
       "<IPython.core.display.Markdown object>"
      ]
     },
     "metadata": {},
     "output_type": "display_data"
    },
    {
     "name": "stdout",
     "output_type": "stream",
     "text": [
      "Record count: 1\n",
      "     user id  age gender  occupation zip code Age_category\n",
      "214      215   35      M  programmer    63033        20-40\n",
      "\n",
      "\n"
     ]
    },
    {
     "data": {
      "text/markdown": [
       "**Cluster 205 Group :11727**\n"
      ],
      "text/plain": [
       "<IPython.core.display.Markdown object>"
      ]
     },
     "metadata": {},
     "output_type": "display_data"
    },
    {
     "name": "stdout",
     "output_type": "stream",
     "text": [
      "Record count: 1\n",
      "     user id  age gender occupation zip code Age_category\n",
      "216      217   22      M      other    11727        20-40\n",
      "\n",
      "\n"
     ]
    },
    {
     "data": {
      "text/markdown": [
       "**Cluster 206 Group :06513**\n"
      ],
      "text/plain": [
       "<IPython.core.display.Markdown object>"
      ]
     },
     "metadata": {},
     "output_type": "display_data"
    },
    {
     "name": "stdout",
     "output_type": "stream",
     "text": [
      "Record count: 1\n",
      "     user id  age gender     occupation zip code Age_category\n",
      "217      218   37      M  administrator    06513        20-40\n",
      "\n",
      "\n"
     ]
    },
    {
     "data": {
      "text/markdown": [
       "**Cluster 207 Group :43212**\n"
      ],
      "text/plain": [
       "<IPython.core.display.Markdown object>"
      ]
     },
     "metadata": {},
     "output_type": "display_data"
    },
    {
     "name": "stdout",
     "output_type": "stream",
     "text": [
      "Record count: 2\n",
      "     user id  age gender  occupation zip code Age_category\n",
      "218      219   32      M  programmer    43212        20-40\n",
      "482      483   29      M   scientist    43212        20-40\n",
      "\n",
      "\n"
     ]
    },
    {
     "data": {
      "text/markdown": [
       "**Cluster 208 Group :78205**\n"
      ],
      "text/plain": [
       "<IPython.core.display.Markdown object>"
      ]
     },
     "metadata": {},
     "output_type": "display_data"
    },
    {
     "name": "stdout",
     "output_type": "stream",
     "text": [
      "Record count: 1\n",
      "     user id  age gender occupation zip code Age_category\n",
      "219      220   30      M  librarian    78205        20-40\n",
      "\n",
      "\n"
     ]
    },
    {
     "data": {
      "text/markdown": [
       "**Cluster 209 Group :20685**\n"
      ],
      "text/plain": [
       "<IPython.core.display.Markdown object>"
      ]
     },
     "metadata": {},
     "output_type": "display_data"
    },
    {
     "name": "stdout",
     "output_type": "stream",
     "text": [
      "Record count: 1\n",
      "     user id  age gender occupation zip code Age_category\n",
      "220      221   19      M    student    20685         0-20\n",
      "\n",
      "\n"
     ]
    },
    {
     "data": {
      "text/markdown": [
       "**Cluster 210 Group :27502**\n"
      ],
      "text/plain": [
       "<IPython.core.display.Markdown object>"
      ]
     },
     "metadata": {},
     "output_type": "display_data"
    },
    {
     "name": "stdout",
     "output_type": "stream",
     "text": [
      "Record count: 1\n",
      "     user id  age gender  occupation zip code Age_category\n",
      "221      222   29      M  programmer    27502        20-40\n",
      "\n",
      "\n"
     ]
    },
    {
     "data": {
      "text/markdown": [
       "**Cluster 211 Group :47906**\n"
      ],
      "text/plain": [
       "<IPython.core.display.Markdown object>"
      ]
     },
     "metadata": {},
     "output_type": "display_data"
    },
    {
     "name": "stdout",
     "output_type": "stream",
     "text": [
      "Record count: 1\n",
      "     user id  age gender occupation zip code Age_category\n",
      "222      223   19      F    student    47906         0-20\n",
      "\n",
      "\n"
     ]
    },
    {
     "data": {
      "text/markdown": [
       "**Cluster 212 Group :43512**\n"
      ],
      "text/plain": [
       "<IPython.core.display.Markdown object>"
      ]
     },
     "metadata": {},
     "output_type": "display_data"
    },
    {
     "name": "stdout",
     "output_type": "stream",
     "text": [
      "Record count: 1\n",
      "     user id  age gender occupation zip code Age_category\n",
      "223      224   31      F   educator    43512        20-40\n",
      "\n",
      "\n"
     ]
    },
    {
     "data": {
      "text/markdown": [
       "**Cluster 213 Group :58202**\n"
      ],
      "text/plain": [
       "<IPython.core.display.Markdown object>"
      ]
     },
     "metadata": {},
     "output_type": "display_data"
    },
    {
     "name": "stdout",
     "output_type": "stream",
     "text": [
      "Record count: 1\n",
      "     user id  age gender     occupation zip code Age_category\n",
      "224      225   51      F  administrator    58202        40-60\n",
      "\n",
      "\n"
     ]
    },
    {
     "data": {
      "text/markdown": [
       "**Cluster 214 Group :92103**\n"
      ],
      "text/plain": [
       "<IPython.core.display.Markdown object>"
      ]
     },
     "metadata": {},
     "output_type": "display_data"
    },
    {
     "name": "stdout",
     "output_type": "stream",
     "text": [
      "Record count: 1\n",
      "     user id  age gender occupation zip code Age_category\n",
      "225      226   28      M    student    92103        20-40\n",
      "\n",
      "\n"
     ]
    },
    {
     "data": {
      "text/markdown": [
       "**Cluster 215 Group :60659**\n"
      ],
      "text/plain": [
       "<IPython.core.display.Markdown object>"
      ]
     },
     "metadata": {},
     "output_type": "display_data"
    },
    {
     "name": "stdout",
     "output_type": "stream",
     "text": [
      "Record count: 1\n",
      "     user id  age gender occupation zip code Age_category\n",
      "226      227   46      M  executive    60659        40-60\n",
      "\n",
      "\n"
     ]
    },
    {
     "data": {
      "text/markdown": [
       "**Cluster 216 Group :22003**\n"
      ],
      "text/plain": [
       "<IPython.core.display.Markdown object>"
      ]
     },
     "metadata": {},
     "output_type": "display_data"
    },
    {
     "name": "stdout",
     "output_type": "stream",
     "text": [
      "Record count: 1\n",
      "     user id  age gender occupation zip code Age_category\n",
      "227      228   21      F    student    22003        20-40\n",
      "\n",
      "\n"
     ]
    },
    {
     "data": {
      "text/markdown": [
       "**Cluster 217 Group :22903**\n"
      ],
      "text/plain": [
       "<IPython.core.display.Markdown object>"
      ]
     },
     "metadata": {},
     "output_type": "display_data"
    },
    {
     "name": "stdout",
     "output_type": "stream",
     "text": [
      "Record count: 3\n",
      "     user id  age gender occupation zip code Age_category\n",
      "228      229   29      F  librarian    22903        20-40\n",
      "252      253   26      F  librarian    22903        20-40\n",
      "279      280   30      F  librarian    22903        20-40\n",
      "\n",
      "\n"
     ]
    },
    {
     "data": {
      "text/markdown": [
       "**Cluster 218 Group :14476**\n"
      ],
      "text/plain": [
       "<IPython.core.display.Markdown object>"
      ]
     },
     "metadata": {},
     "output_type": "display_data"
    },
    {
     "name": "stdout",
     "output_type": "stream",
     "text": [
      "Record count: 1\n",
      "     user id  age gender occupation zip code Age_category\n",
      "229      230   28      F    student    14476        20-40\n",
      "\n",
      "\n"
     ]
    },
    {
     "data": {
      "text/markdown": [
       "**Cluster 219 Group :01080**\n"
      ],
      "text/plain": [
       "<IPython.core.display.Markdown object>"
      ]
     },
     "metadata": {},
     "output_type": "display_data"
    },
    {
     "name": "stdout",
     "output_type": "stream",
     "text": [
      "Record count: 1\n",
      "     user id  age gender occupation zip code Age_category\n",
      "230      231   48      M  librarian    01080        40-60\n",
      "\n",
      "\n"
     ]
    },
    {
     "data": {
      "text/markdown": [
       "**Cluster 220 Group :99709**\n"
      ],
      "text/plain": [
       "<IPython.core.display.Markdown object>"
      ]
     },
     "metadata": {},
     "output_type": "display_data"
    },
    {
     "name": "stdout",
     "output_type": "stream",
     "text": [
      "Record count: 2\n",
      "     user id  age gender occupation zip code Age_category\n",
      "231      232   45      M  scientist    99709        40-60\n",
      "517      518   49      F     writer    99709        40-60\n",
      "\n",
      "\n"
     ]
    },
    {
     "data": {
      "text/markdown": [
       "**Cluster 221 Group :98682**\n"
      ],
      "text/plain": [
       "<IPython.core.display.Markdown object>"
      ]
     },
     "metadata": {},
     "output_type": "display_data"
    },
    {
     "name": "stdout",
     "output_type": "stream",
     "text": [
      "Record count: 1\n",
      "     user id  age gender occupation zip code Age_category\n",
      "232      233   38      M   engineer    98682        20-40\n",
      "\n",
      "\n"
     ]
    },
    {
     "data": {
      "text/markdown": [
       "**Cluster 222 Group :94702**\n"
      ],
      "text/plain": [
       "<IPython.core.display.Markdown object>"
      ]
     },
     "metadata": {},
     "output_type": "display_data"
    },
    {
     "name": "stdout",
     "output_type": "stream",
     "text": [
      "Record count: 1\n",
      "     user id  age gender occupation zip code Age_category\n",
      "233      234   60      M    retired    94702        40-60\n",
      "\n",
      "\n"
     ]
    },
    {
     "data": {
      "text/markdown": [
       "**Cluster 223 Group :22973**\n"
      ],
      "text/plain": [
       "<IPython.core.display.Markdown object>"
      ]
     },
     "metadata": {},
     "output_type": "display_data"
    },
    {
     "name": "stdout",
     "output_type": "stream",
     "text": [
      "Record count: 1\n",
      "     user id  age gender occupation zip code Age_category\n",
      "234      235   37      M   educator    22973        20-40\n",
      "\n",
      "\n"
     ]
    },
    {
     "data": {
      "text/markdown": [
       "**Cluster 224 Group :53214**\n"
      ],
      "text/plain": [
       "<IPython.core.display.Markdown object>"
      ]
     },
     "metadata": {},
     "output_type": "display_data"
    },
    {
     "name": "stdout",
     "output_type": "stream",
     "text": [
      "Record count: 1\n",
      "     user id  age gender occupation zip code Age_category\n",
      "235      236   44      F     writer    53214        40-60\n",
      "\n",
      "\n"
     ]
    },
    {
     "data": {
      "text/markdown": [
       "**Cluster 225 Group :63146**\n"
      ],
      "text/plain": [
       "<IPython.core.display.Markdown object>"
      ]
     },
     "metadata": {},
     "output_type": "display_data"
    },
    {
     "name": "stdout",
     "output_type": "stream",
     "text": [
      "Record count: 1\n",
      "     user id  age gender     occupation zip code Age_category\n",
      "236      237   49      M  administrator    63146        40-60\n",
      "\n",
      "\n"
     ]
    },
    {
     "data": {
      "text/markdown": [
       "**Cluster 226 Group :44124**\n"
      ],
      "text/plain": [
       "<IPython.core.display.Markdown object>"
      ]
     },
     "metadata": {},
     "output_type": "display_data"
    },
    {
     "name": "stdout",
     "output_type": "stream",
     "text": [
      "Record count: 1\n",
      "     user id  age gender     occupation zip code Age_category\n",
      "237      238   42      F  administrator    44124        40-60\n",
      "\n",
      "\n"
     ]
    },
    {
     "data": {
      "text/markdown": [
       "**Cluster 227 Group :95628**\n"
      ],
      "text/plain": [
       "<IPython.core.display.Markdown object>"
      ]
     },
     "metadata": {},
     "output_type": "display_data"
    },
    {
     "name": "stdout",
     "output_type": "stream",
     "text": [
      "Record count: 1\n",
      "     user id  age gender occupation zip code Age_category\n",
      "238      239   39      M     artist    95628        20-40\n",
      "\n",
      "\n"
     ]
    },
    {
     "data": {
      "text/markdown": [
       "**Cluster 228 Group :20784**\n"
      ],
      "text/plain": [
       "<IPython.core.display.Markdown object>"
      ]
     },
     "metadata": {},
     "output_type": "display_data"
    },
    {
     "name": "stdout",
     "output_type": "stream",
     "text": [
      "Record count: 1\n",
      "     user id  age gender occupation zip code Age_category\n",
      "239      240   23      F   educator    20784        20-40\n",
      "\n",
      "\n"
     ]
    },
    {
     "data": {
      "text/markdown": [
       "**Cluster 229 Group :20001**\n"
      ],
      "text/plain": [
       "<IPython.core.display.Markdown object>"
      ]
     },
     "metadata": {},
     "output_type": "display_data"
    },
    {
     "name": "stdout",
     "output_type": "stream",
     "text": [
      "Record count: 1\n",
      "     user id  age gender occupation zip code Age_category\n",
      "240      241   26      F    student    20001        20-40\n",
      "\n",
      "\n"
     ]
    },
    {
     "data": {
      "text/markdown": [
       "**Cluster 230 Group :31404**\n"
      ],
      "text/plain": [
       "<IPython.core.display.Markdown object>"
      ]
     },
     "metadata": {},
     "output_type": "display_data"
    },
    {
     "name": "stdout",
     "output_type": "stream",
     "text": [
      "Record count: 1\n",
      "     user id  age gender occupation zip code Age_category\n",
      "241      242   33      M   educator    31404        20-40\n",
      "\n",
      "\n"
     ]
    },
    {
     "data": {
      "text/markdown": [
       "**Cluster 231 Group :55109**\n"
      ],
      "text/plain": [
       "<IPython.core.display.Markdown object>"
      ]
     },
     "metadata": {},
     "output_type": "display_data"
    },
    {
     "name": "stdout",
     "output_type": "stream",
     "text": [
      "Record count: 1\n",
      "     user id  age gender occupation zip code Age_category\n",
      "244      245   22      M    student    55109        20-40\n",
      "\n",
      "\n"
     ]
    },
    {
     "data": {
      "text/markdown": [
       "**Cluster 232 Group :28734**\n"
      ],
      "text/plain": [
       "<IPython.core.display.Markdown object>"
      ]
     },
     "metadata": {},
     "output_type": "display_data"
    },
    {
     "name": "stdout",
     "output_type": "stream",
     "text": [
      "Record count: 1\n",
      "     user id  age gender occupation zip code Age_category\n",
      "245      246   19      M    student    28734         0-20\n",
      "\n",
      "\n"
     ]
    },
    {
     "data": {
      "text/markdown": [
       "**Cluster 233 Group :20770**\n"
      ],
      "text/plain": [
       "<IPython.core.display.Markdown object>"
      ]
     },
     "metadata": {},
     "output_type": "display_data"
    },
    {
     "name": "stdout",
     "output_type": "stream",
     "text": [
      "Record count: 1\n",
      "     user id  age gender occupation zip code Age_category\n",
      "246      247   28      M   engineer    20770        20-40\n",
      "\n",
      "\n"
     ]
    },
    {
     "data": {
      "text/markdown": [
       "**Cluster 234 Group :37235**\n"
      ],
      "text/plain": [
       "<IPython.core.display.Markdown object>"
      ]
     },
     "metadata": {},
     "output_type": "display_data"
    },
    {
     "name": "stdout",
     "output_type": "stream",
     "text": [
      "Record count: 1\n",
      "     user id  age gender occupation zip code Age_category\n",
      "247      248   25      M    student    37235        20-40\n",
      "\n",
      "\n"
     ]
    },
    {
     "data": {
      "text/markdown": [
       "**Cluster 235 Group :84103**\n"
      ],
      "text/plain": [
       "<IPython.core.display.Markdown object>"
      ]
     },
     "metadata": {},
     "output_type": "display_data"
    },
    {
     "name": "stdout",
     "output_type": "stream",
     "text": [
      "Record count: 1\n",
      "     user id  age gender occupation zip code Age_category\n",
      "248      249   25      M    student    84103        20-40\n",
      "\n",
      "\n"
     ]
    },
    {
     "data": {
      "text/markdown": [
       "**Cluster 236 Group :95110**\n"
      ],
      "text/plain": [
       "<IPython.core.display.Markdown object>"
      ]
     },
     "metadata": {},
     "output_type": "display_data"
    },
    {
     "name": "stdout",
     "output_type": "stream",
     "text": [
      "Record count: 1\n",
      "     user id  age gender occupation zip code Age_category\n",
      "249      250   29      M  executive    95110        20-40\n",
      "\n",
      "\n"
     ]
    },
    {
     "data": {
      "text/markdown": [
       "**Cluster 237 Group :85032**\n"
      ],
      "text/plain": [
       "<IPython.core.display.Markdown object>"
      ]
     },
     "metadata": {},
     "output_type": "display_data"
    },
    {
     "name": "stdout",
     "output_type": "stream",
     "text": [
      "Record count: 1\n",
      "     user id  age gender occupation zip code Age_category\n",
      "250      251   28      M     doctor    85032        20-40\n",
      "\n",
      "\n"
     ]
    },
    {
     "data": {
      "text/markdown": [
       "**Cluster 238 Group :07733**\n"
      ],
      "text/plain": [
       "<IPython.core.display.Markdown object>"
      ]
     },
     "metadata": {},
     "output_type": "display_data"
    },
    {
     "name": "stdout",
     "output_type": "stream",
     "text": [
      "Record count: 1\n",
      "     user id  age gender occupation zip code Age_category\n",
      "251      252   42      M   engineer    07733        40-60\n",
      "\n",
      "\n"
     ]
    },
    {
     "data": {
      "text/markdown": [
       "**Cluster 239 Group :42647**\n"
      ],
      "text/plain": [
       "<IPython.core.display.Markdown object>"
      ]
     },
     "metadata": {},
     "output_type": "display_data"
    },
    {
     "name": "stdout",
     "output_type": "stream",
     "text": [
      "Record count: 1\n",
      "     user id  age gender occupation zip code Age_category\n",
      "253      254   44      M   educator    42647        40-60\n",
      "\n",
      "\n"
     ]
    },
    {
     "data": {
      "text/markdown": [
       "**Cluster 240 Group :07029**\n"
      ],
      "text/plain": [
       "<IPython.core.display.Markdown object>"
      ]
     },
     "metadata": {},
     "output_type": "display_data"
    },
    {
     "name": "stdout",
     "output_type": "stream",
     "text": [
      "Record count: 1\n",
      "     user id  age gender     occupation zip code Age_category\n",
      "254      255   23      M  entertainment    07029        20-40\n",
      "\n",
      "\n"
     ]
    },
    {
     "data": {
      "text/markdown": [
       "**Cluster 241 Group :39042**\n"
      ],
      "text/plain": [
       "<IPython.core.display.Markdown object>"
      ]
     },
     "metadata": {},
     "output_type": "display_data"
    },
    {
     "name": "stdout",
     "output_type": "stream",
     "text": [
      "Record count: 1\n",
      "     user id  age gender occupation zip code Age_category\n",
      "255      256   35      F       none    39042        20-40\n",
      "\n",
      "\n"
     ]
    },
    {
     "data": {
      "text/markdown": [
       "**Cluster 242 Group :77005**\n"
      ],
      "text/plain": [
       "<IPython.core.display.Markdown object>"
      ]
     },
     "metadata": {},
     "output_type": "display_data"
    },
    {
     "name": "stdout",
     "output_type": "stream",
     "text": [
      "Record count: 1\n",
      "     user id  age gender occupation zip code Age_category\n",
      "256      257   17      M    student    77005         0-20\n",
      "\n",
      "\n"
     ]
    },
    {
     "data": {
      "text/markdown": [
       "**Cluster 243 Group :77801**\n"
      ],
      "text/plain": [
       "<IPython.core.display.Markdown object>"
      ]
     },
     "metadata": {},
     "output_type": "display_data"
    },
    {
     "name": "stdout",
     "output_type": "stream",
     "text": [
      "Record count: 1\n",
      "     user id  age gender occupation zip code Age_category\n",
      "257      258   19      F    student    77801         0-20\n",
      "\n",
      "\n"
     ]
    },
    {
     "data": {
      "text/markdown": [
       "**Cluster 244 Group :48823**\n"
      ],
      "text/plain": [
       "<IPython.core.display.Markdown object>"
      ]
     },
     "metadata": {},
     "output_type": "display_data"
    },
    {
     "name": "stdout",
     "output_type": "stream",
     "text": [
      "Record count: 1\n",
      "     user id  age gender occupation zip code Age_category\n",
      "258      259   21      M    student    48823        20-40\n",
      "\n",
      "\n"
     ]
    },
    {
     "data": {
      "text/markdown": [
       "**Cluster 245 Group :89801**\n"
      ],
      "text/plain": [
       "<IPython.core.display.Markdown object>"
      ]
     },
     "metadata": {},
     "output_type": "display_data"
    },
    {
     "name": "stdout",
     "output_type": "stream",
     "text": [
      "Record count: 1\n",
      "     user id  age gender occupation zip code Age_category\n",
      "259      260   40      F     artist    89801        20-40\n",
      "\n",
      "\n"
     ]
    },
    {
     "data": {
      "text/markdown": [
       "**Cluster 246 Group :85202**\n"
      ],
      "text/plain": [
       "<IPython.core.display.Markdown object>"
      ]
     },
     "metadata": {},
     "output_type": "display_data"
    },
    {
     "name": "stdout",
     "output_type": "stream",
     "text": [
      "Record count: 1\n",
      "     user id  age gender     occupation zip code Age_category\n",
      "260      261   28      M  administrator    85202        20-40\n",
      "\n",
      "\n"
     ]
    },
    {
     "data": {
      "text/markdown": [
       "**Cluster 247 Group :78264**\n"
      ],
      "text/plain": [
       "<IPython.core.display.Markdown object>"
      ]
     },
     "metadata": {},
     "output_type": "display_data"
    },
    {
     "name": "stdout",
     "output_type": "stream",
     "text": [
      "Record count: 1\n",
      "     user id  age gender occupation zip code Age_category\n",
      "261      262   19      F    student    78264         0-20\n",
      "\n",
      "\n"
     ]
    },
    {
     "data": {
      "text/markdown": [
       "**Cluster 248 Group :90064**\n"
      ],
      "text/plain": [
       "<IPython.core.display.Markdown object>"
      ]
     },
     "metadata": {},
     "output_type": "display_data"
    },
    {
     "name": "stdout",
     "output_type": "stream",
     "text": [
      "Record count: 1\n",
      "     user id  age gender occupation zip code Age_category\n",
      "263      264   36      F     writer    90064        20-40\n",
      "\n",
      "\n"
     ]
    },
    {
     "data": {
      "text/markdown": [
       "**Cluster 249 Group :84601**\n"
      ],
      "text/plain": [
       "<IPython.core.display.Markdown object>"
      ]
     },
     "metadata": {},
     "output_type": "display_data"
    },
    {
     "name": "stdout",
     "output_type": "stream",
     "text": [
      "Record count: 1\n",
      "     user id  age gender occupation zip code Age_category\n",
      "264      265   26      M  executive    84601        20-40\n",
      "\n",
      "\n"
     ]
    },
    {
     "data": {
      "text/markdown": [
       "**Cluster 250 Group :78756**\n"
      ],
      "text/plain": [
       "<IPython.core.display.Markdown object>"
      ]
     },
     "metadata": {},
     "output_type": "display_data"
    },
    {
     "name": "stdout",
     "output_type": "stream",
     "text": [
      "Record count: 1\n",
      "     user id  age gender     occupation zip code Age_category\n",
      "265      266   62      F  administrator    78756        60-80\n",
      "\n",
      "\n"
     ]
    },
    {
     "data": {
      "text/markdown": [
       "**Cluster 251 Group :83716**\n"
      ],
      "text/plain": [
       "<IPython.core.display.Markdown object>"
      ]
     },
     "metadata": {},
     "output_type": "display_data"
    },
    {
     "name": "stdout",
     "output_type": "stream",
     "text": [
      "Record count: 1\n",
      "     user id  age gender occupation zip code Age_category\n",
      "266      267   23      M   engineer    83716        20-40\n",
      "\n",
      "\n"
     ]
    },
    {
     "data": {
      "text/markdown": [
       "**Cluster 252 Group :19422**\n"
      ],
      "text/plain": [
       "<IPython.core.display.Markdown object>"
      ]
     },
     "metadata": {},
     "output_type": "display_data"
    },
    {
     "name": "stdout",
     "output_type": "stream",
     "text": [
      "Record count: 1\n",
      "     user id  age gender occupation zip code Age_category\n",
      "267      268   24      M   engineer    19422        20-40\n",
      "\n",
      "\n"
     ]
    },
    {
     "data": {
      "text/markdown": [
       "**Cluster 253 Group :43201**\n"
      ],
      "text/plain": [
       "<IPython.core.display.Markdown object>"
      ]
     },
     "metadata": {},
     "output_type": "display_data"
    },
    {
     "name": "stdout",
     "output_type": "stream",
     "text": [
      "Record count: 1\n",
      "     user id  age gender occupation zip code Age_category\n",
      "268      269   31      F  librarian    43201        20-40\n",
      "\n",
      "\n"
     ]
    },
    {
     "data": {
      "text/markdown": [
       "**Cluster 254 Group :63119**\n"
      ],
      "text/plain": [
       "<IPython.core.display.Markdown object>"
      ]
     },
     "metadata": {},
     "output_type": "display_data"
    },
    {
     "name": "stdout",
     "output_type": "stream",
     "text": [
      "Record count: 1\n",
      "     user id  age gender occupation zip code Age_category\n",
      "269      270   18      F    student    63119         0-20\n",
      "\n",
      "\n"
     ]
    },
    {
     "data": {
      "text/markdown": [
       "**Cluster 255 Group :22932**\n"
      ],
      "text/plain": [
       "<IPython.core.display.Markdown object>"
      ]
     },
     "metadata": {},
     "output_type": "display_data"
    },
    {
     "name": "stdout",
     "output_type": "stream",
     "text": [
      "Record count: 1\n",
      "     user id  age gender occupation zip code Age_category\n",
      "270      271   51      M   engineer    22932        40-60\n",
      "\n",
      "\n"
     ]
    },
    {
     "data": {
      "text/markdown": [
       "**Cluster 256 Group :53706**\n"
      ],
      "text/plain": [
       "<IPython.core.display.Markdown object>"
      ]
     },
     "metadata": {},
     "output_type": "display_data"
    },
    {
     "name": "stdout",
     "output_type": "stream",
     "text": [
      "Record count: 2\n",
      "     user id  age gender occupation zip code Age_category\n",
      "271      272   33      M  scientist    53706        20-40\n",
      "757      758   27      M    student    53706        20-40\n",
      "\n",
      "\n"
     ]
    },
    {
     "data": {
      "text/markdown": [
       "**Cluster 257 Group :10016**\n"
      ],
      "text/plain": [
       "<IPython.core.display.Markdown object>"
      ]
     },
     "metadata": {},
     "output_type": "display_data"
    },
    {
     "name": "stdout",
     "output_type": "stream",
     "text": [
      "Record count: 2\n",
      "     user id  age gender occupation zip code Age_category\n",
      "272      273   50      F      other    10016        40-60\n",
      "667      668   29      F     writer    10016        20-40\n",
      "\n",
      "\n"
     ]
    },
    {
     "data": {
      "text/markdown": [
       "**Cluster 258 Group :92064**\n"
      ],
      "text/plain": [
       "<IPython.core.display.Markdown object>"
      ]
     },
     "metadata": {},
     "output_type": "display_data"
    },
    {
     "name": "stdout",
     "output_type": "stream",
     "text": [
      "Record count: 1\n",
      "     user id  age gender occupation zip code Age_category\n",
      "274      275   38      M   engineer    92064        20-40\n",
      "\n",
      "\n"
     ]
    },
    {
     "data": {
      "text/markdown": [
       "**Cluster 259 Group :95064**\n"
      ],
      "text/plain": [
       "<IPython.core.display.Markdown object>"
      ]
     },
     "metadata": {},
     "output_type": "display_data"
    },
    {
     "name": "stdout",
     "output_type": "stream",
     "text": [
      "Record count: 1\n",
      "     user id  age gender occupation zip code Age_category\n",
      "275      276   21      M    student    95064        20-40\n",
      "\n",
      "\n"
     ]
    },
    {
     "data": {
      "text/markdown": [
       "**Cluster 260 Group :55406**\n"
      ],
      "text/plain": [
       "<IPython.core.display.Markdown object>"
      ]
     },
     "metadata": {},
     "output_type": "display_data"
    },
    {
     "name": "stdout",
     "output_type": "stream",
     "text": [
      "Record count: 2\n",
      "     user id  age gender     occupation zip code Age_category\n",
      "276      277   35      F  administrator    55406        20-40\n",
      "839      840   39      M         artist    55406        20-40\n",
      "\n",
      "\n"
     ]
    },
    {
     "data": {
      "text/markdown": [
       "**Cluster 261 Group :30033**\n"
      ],
      "text/plain": [
       "<IPython.core.display.Markdown object>"
      ]
     },
     "metadata": {},
     "output_type": "display_data"
    },
    {
     "name": "stdout",
     "output_type": "stream",
     "text": [
      "Record count: 1\n",
      "     user id  age gender occupation zip code Age_category\n",
      "277      278   37      F  librarian    30033        20-40\n",
      "\n",
      "\n"
     ]
    },
    {
     "data": {
      "text/markdown": [
       "**Cluster 262 Group :85251**\n"
      ],
      "text/plain": [
       "<IPython.core.display.Markdown object>"
      ]
     },
     "metadata": {},
     "output_type": "display_data"
    },
    {
     "name": "stdout",
     "output_type": "stream",
     "text": [
      "Record count: 1\n",
      "     user id  age gender  occupation zip code Age_category\n",
      "278      279   33      M  programmer    85251        20-40\n",
      "\n",
      "\n"
     ]
    },
    {
     "data": {
      "text/markdown": [
       "**Cluster 263 Group :06059**\n"
      ],
      "text/plain": [
       "<IPython.core.display.Markdown object>"
      ]
     },
     "metadata": {},
     "output_type": "display_data"
    },
    {
     "name": "stdout",
     "output_type": "stream",
     "text": [
      "Record count: 1\n",
      "     user id  age gender occupation zip code Age_category\n",
      "280      281   15      F    student    06059         0-20\n",
      "\n",
      "\n"
     ]
    },
    {
     "data": {
      "text/markdown": [
       "**Cluster 264 Group :20057**\n"
      ],
      "text/plain": [
       "<IPython.core.display.Markdown object>"
      ]
     },
     "metadata": {},
     "output_type": "display_data"
    },
    {
     "name": "stdout",
     "output_type": "stream",
     "text": [
      "Record count: 1\n",
      "     user id  age gender     occupation zip code Age_category\n",
      "281      282   22      M  administrator    20057        20-40\n",
      "\n",
      "\n"
     ]
    },
    {
     "data": {
      "text/markdown": [
       "**Cluster 265 Group :55305**\n"
      ],
      "text/plain": [
       "<IPython.core.display.Markdown object>"
      ]
     },
     "metadata": {},
     "output_type": "display_data"
    },
    {
     "name": "stdout",
     "output_type": "stream",
     "text": [
      "Record count: 1\n",
      "     user id  age gender  occupation zip code Age_category\n",
      "282      283   28      M  programmer    55305        20-40\n",
      "\n",
      "\n"
     ]
    },
    {
     "data": {
      "text/markdown": [
       "**Cluster 266 Group :92629**\n"
      ],
      "text/plain": [
       "<IPython.core.display.Markdown object>"
      ]
     },
     "metadata": {},
     "output_type": "display_data"
    },
    {
     "name": "stdout",
     "output_type": "stream",
     "text": [
      "Record count: 2\n",
      "     user id  age gender occupation zip code Age_category\n",
      "283      284   40      M  executive    92629        20-40\n",
      "430      431   24      M  marketing    92629        20-40\n",
      "\n",
      "\n"
     ]
    },
    {
     "data": {
      "text/markdown": [
       "**Cluster 267 Group :53713**\n"
      ],
      "text/plain": [
       "<IPython.core.display.Markdown object>"
      ]
     },
     "metadata": {},
     "output_type": "display_data"
    },
    {
     "name": "stdout",
     "output_type": "stream",
     "text": [
      "Record count: 1\n",
      "     user id  age gender  occupation zip code Age_category\n",
      "284      285   25      M  programmer    53713        20-40\n",
      "\n",
      "\n"
     ]
    },
    {
     "data": {
      "text/markdown": [
       "**Cluster 268 Group :15217**\n"
      ],
      "text/plain": [
       "<IPython.core.display.Markdown object>"
      ]
     },
     "metadata": {},
     "output_type": "display_data"
    },
    {
     "name": "stdout",
     "output_type": "stream",
     "text": [
      "Record count: 1\n",
      "     user id  age gender occupation zip code Age_category\n",
      "285      286   27      M    student    15217        20-40\n",
      "\n",
      "\n"
     ]
    },
    {
     "data": {
      "text/markdown": [
       "**Cluster 269 Group :31211**\n"
      ],
      "text/plain": [
       "<IPython.core.display.Markdown object>"
      ]
     },
     "metadata": {},
     "output_type": "display_data"
    },
    {
     "name": "stdout",
     "output_type": "stream",
     "text": [
      "Record count: 1\n",
      "     user id  age gender occupation zip code Age_category\n",
      "286      287   21      M   salesman    31211        20-40\n",
      "\n",
      "\n"
     ]
    },
    {
     "data": {
      "text/markdown": [
       "**Cluster 270 Group :23226**\n"
      ],
      "text/plain": [
       "<IPython.core.display.Markdown object>"
      ]
     },
     "metadata": {},
     "output_type": "display_data"
    },
    {
     "name": "stdout",
     "output_type": "stream",
     "text": [
      "Record count: 1\n",
      "     user id  age gender occupation zip code Age_category\n",
      "287      288   34      M  marketing    23226        20-40\n",
      "\n",
      "\n"
     ]
    },
    {
     "data": {
      "text/markdown": [
       "**Cluster 271 Group :94619**\n"
      ],
      "text/plain": [
       "<IPython.core.display.Markdown object>"
      ]
     },
     "metadata": {},
     "output_type": "display_data"
    },
    {
     "name": "stdout",
     "output_type": "stream",
     "text": [
      "Record count: 1\n",
      "     user id  age gender occupation zip code Age_category\n",
      "288      289   11      M       none    94619         0-20\n",
      "\n",
      "\n"
     ]
    },
    {
     "data": {
      "text/markdown": [
       "**Cluster 272 Group :93550**\n"
      ],
      "text/plain": [
       "<IPython.core.display.Markdown object>"
      ]
     },
     "metadata": {},
     "output_type": "display_data"
    },
    {
     "name": "stdout",
     "output_type": "stream",
     "text": [
      "Record count: 1\n",
      "     user id  age gender occupation zip code Age_category\n",
      "289      290   40      M   engineer    93550        20-40\n",
      "\n",
      "\n"
     ]
    },
    {
     "data": {
      "text/markdown": [
       "**Cluster 273 Group :44106**\n"
      ],
      "text/plain": [
       "<IPython.core.display.Markdown object>"
      ]
     },
     "metadata": {},
     "output_type": "display_data"
    },
    {
     "name": "stdout",
     "output_type": "stream",
     "text": [
      "Record count: 1\n",
      "     user id  age gender occupation zip code Age_category\n",
      "290      291   19      M    student    44106         0-20\n",
      "\n",
      "\n"
     ]
    },
    {
     "data": {
      "text/markdown": [
       "**Cluster 274 Group :94703**\n"
      ],
      "text/plain": [
       "<IPython.core.display.Markdown object>"
      ]
     },
     "metadata": {},
     "output_type": "display_data"
    },
    {
     "name": "stdout",
     "output_type": "stream",
     "text": [
      "Record count: 1\n",
      "     user id  age gender  occupation zip code Age_category\n",
      "291      292   35      F  programmer    94703        20-40\n",
      "\n",
      "\n"
     ]
    },
    {
     "data": {
      "text/markdown": [
       "**Cluster 275 Group :60804**\n"
      ],
      "text/plain": [
       "<IPython.core.display.Markdown object>"
      ]
     },
     "metadata": {},
     "output_type": "display_data"
    },
    {
     "name": "stdout",
     "output_type": "stream",
     "text": [
      "Record count: 1\n",
      "     user id  age gender occupation zip code Age_category\n",
      "292      293   24      M     writer    60804        20-40\n",
      "\n",
      "\n"
     ]
    },
    {
     "data": {
      "text/markdown": [
       "**Cluster 276 Group :92110**\n"
      ],
      "text/plain": [
       "<IPython.core.display.Markdown object>"
      ]
     },
     "metadata": {},
     "output_type": "display_data"
    },
    {
     "name": "stdout",
     "output_type": "stream",
     "text": [
      "Record count: 1\n",
      "     user id  age gender  occupation zip code Age_category\n",
      "293      294   34      M  technician    92110        20-40\n",
      "\n",
      "\n"
     ]
    },
    {
     "data": {
      "text/markdown": [
       "**Cluster 277 Group :50325**\n"
      ],
      "text/plain": [
       "<IPython.core.display.Markdown object>"
      ]
     },
     "metadata": {},
     "output_type": "display_data"
    },
    {
     "name": "stdout",
     "output_type": "stream",
     "text": [
      "Record count: 1\n",
      "     user id  age gender occupation zip code Age_category\n",
      "294      295   31      M   educator    50325        20-40\n",
      "\n",
      "\n"
     ]
    },
    {
     "data": {
      "text/markdown": [
       "**Cluster 278 Group :16803**\n"
      ],
      "text/plain": [
       "<IPython.core.display.Markdown object>"
      ]
     },
     "metadata": {},
     "output_type": "display_data"
    },
    {
     "name": "stdout",
     "output_type": "stream",
     "text": [
      "Record count: 1\n",
      "     user id  age gender     occupation zip code Age_category\n",
      "295      296   43      F  administrator    16803        40-60\n",
      "\n",
      "\n"
     ]
    },
    {
     "data": {
      "text/markdown": [
       "**Cluster 279 Group :98103**\n"
      ],
      "text/plain": [
       "<IPython.core.display.Markdown object>"
      ]
     },
     "metadata": {},
     "output_type": "display_data"
    },
    {
     "name": "stdout",
     "output_type": "stream",
     "text": [
      "Record count: 1\n",
      "     user id  age gender occupation zip code Age_category\n",
      "296      297   29      F   educator    98103        20-40\n",
      "\n",
      "\n"
     ]
    },
    {
     "data": {
      "text/markdown": [
       "**Cluster 280 Group :01581**\n"
      ],
      "text/plain": [
       "<IPython.core.display.Markdown object>"
      ]
     },
     "metadata": {},
     "output_type": "display_data"
    },
    {
     "name": "stdout",
     "output_type": "stream",
     "text": [
      "Record count: 1\n",
      "     user id  age gender occupation zip code Age_category\n",
      "297      298   44      M  executive    01581        40-60\n",
      "\n",
      "\n"
     ]
    },
    {
     "data": {
      "text/markdown": [
       "**Cluster 281 Group :63108**\n"
      ],
      "text/plain": [
       "<IPython.core.display.Markdown object>"
      ]
     },
     "metadata": {},
     "output_type": "display_data"
    },
    {
     "name": "stdout",
     "output_type": "stream",
     "text": [
      "Record count: 3\n",
      "     user id  age gender occupation zip code Age_category\n",
      "298      299   29      M     doctor    63108        20-40\n",
      "733      734   25      F      other    63108        20-40\n",
      "740      741   25      M     writer    63108        20-40\n",
      "\n",
      "\n"
     ]
    },
    {
     "data": {
      "text/markdown": [
       "**Cluster 282 Group :55439**\n"
      ],
      "text/plain": [
       "<IPython.core.display.Markdown object>"
      ]
     },
     "metadata": {},
     "output_type": "display_data"
    },
    {
     "name": "stdout",
     "output_type": "stream",
     "text": [
      "Record count: 1\n",
      "     user id  age gender occupation zip code Age_category\n",
      "300      301   24      M    student    55439        20-40\n",
      "\n",
      "\n"
     ]
    },
    {
     "data": {
      "text/markdown": [
       "**Cluster 283 Group :77904**\n"
      ],
      "text/plain": [
       "<IPython.core.display.Markdown object>"
      ]
     },
     "metadata": {},
     "output_type": "display_data"
    },
    {
     "name": "stdout",
     "output_type": "stream",
     "text": [
      "Record count: 1\n",
      "     user id  age gender occupation zip code Age_category\n",
      "301      302   42      M   educator    77904        40-60\n",
      "\n",
      "\n"
     ]
    },
    {
     "data": {
      "text/markdown": [
       "**Cluster 284 Group :14853**\n"
      ],
      "text/plain": [
       "<IPython.core.display.Markdown object>"
      ]
     },
     "metadata": {},
     "output_type": "display_data"
    },
    {
     "name": "stdout",
     "output_type": "stream",
     "text": [
      "Record count: 1\n",
      "     user id  age gender occupation zip code Age_category\n",
      "302      303   19      M    student    14853         0-20\n",
      "\n",
      "\n"
     ]
    },
    {
     "data": {
      "text/markdown": [
       "**Cluster 285 Group :71701**\n"
      ],
      "text/plain": [
       "<IPython.core.display.Markdown object>"
      ]
     },
     "metadata": {},
     "output_type": "display_data"
    },
    {
     "name": "stdout",
     "output_type": "stream",
     "text": [
      "Record count: 1\n",
      "     user id  age gender occupation zip code Age_category\n",
      "303      304   22      F    student    71701        20-40\n",
      "\n",
      "\n"
     ]
    },
    {
     "data": {
      "text/markdown": [
       "**Cluster 286 Group :94086**\n"
      ],
      "text/plain": [
       "<IPython.core.display.Markdown object>"
      ]
     },
     "metadata": {},
     "output_type": "display_data"
    },
    {
     "name": "stdout",
     "output_type": "stream",
     "text": [
      "Record count: 2\n",
      "     user id  age gender     occupation zip code Age_category\n",
      "304      305   23      M     programmer    94086        20-40\n",
      "851      852   46      M  administrator    94086        40-60\n",
      "\n",
      "\n"
     ]
    },
    {
     "data": {
      "text/markdown": [
       "**Cluster 287 Group :73132**\n"
      ],
      "text/plain": [
       "<IPython.core.display.Markdown object>"
      ]
     },
     "metadata": {},
     "output_type": "display_data"
    },
    {
     "name": "stdout",
     "output_type": "stream",
     "text": [
      "Record count: 1\n",
      "     user id  age gender occupation zip code Age_category\n",
      "305      306   45      M      other    73132        40-60\n",
      "\n",
      "\n"
     ]
    },
    {
     "data": {
      "text/markdown": [
       "**Cluster 288 Group :55454**\n"
      ],
      "text/plain": [
       "<IPython.core.display.Markdown object>"
      ]
     },
     "metadata": {},
     "output_type": "display_data"
    },
    {
     "name": "stdout",
     "output_type": "stream",
     "text": [
      "Record count: 4\n",
      "     user id  age gender occupation zip code Age_category\n",
      "306      307   25      M    student    55454        20-40\n",
      "516      517   24      M    student    55454        20-40\n",
      "631      632   18      M    student    55454         0-20\n",
      "705      706   23      M    student    55454        20-40\n",
      "\n",
      "\n"
     ]
    },
    {
     "data": {
      "text/markdown": [
       "**Cluster 289 Group :95076**\n"
      ],
      "text/plain": [
       "<IPython.core.display.Markdown object>"
      ]
     },
     "metadata": {},
     "output_type": "display_data"
    },
    {
     "name": "stdout",
     "output_type": "stream",
     "text": [
      "Record count: 1\n",
      "     user id  age gender occupation zip code Age_category\n",
      "307      308   60      M    retired    95076        40-60\n",
      "\n",
      "\n"
     ]
    },
    {
     "data": {
      "text/markdown": [
       "**Cluster 290 Group :70802**\n"
      ],
      "text/plain": [
       "<IPython.core.display.Markdown object>"
      ]
     },
     "metadata": {},
     "output_type": "display_data"
    },
    {
     "name": "stdout",
     "output_type": "stream",
     "text": [
      "Record count: 1\n",
      "     user id  age gender occupation zip code Age_category\n",
      "308      309   40      M  scientist    70802        20-40\n",
      "\n",
      "\n"
     ]
    },
    {
     "data": {
      "text/markdown": [
       "**Cluster 291 Group :91711**\n"
      ],
      "text/plain": [
       "<IPython.core.display.Markdown object>"
      ]
     },
     "metadata": {},
     "output_type": "display_data"
    },
    {
     "name": "stdout",
     "output_type": "stream",
     "text": [
      "Record count: 2\n",
      "     user id  age gender occupation zip code Age_category\n",
      "309      310   37      M   educator    91711        20-40\n",
      "724      725   21      M    student    91711        20-40\n",
      "\n",
      "\n"
     ]
    },
    {
     "data": {
      "text/markdown": [
       "**Cluster 292 Group :73071**\n"
      ],
      "text/plain": [
       "<IPython.core.display.Markdown object>"
      ]
     },
     "metadata": {},
     "output_type": "display_data"
    },
    {
     "name": "stdout",
     "output_type": "stream",
     "text": [
      "Record count: 1\n",
      "     user id  age gender  occupation zip code Age_category\n",
      "310      311   32      M  technician    73071        20-40\n",
      "\n",
      "\n"
     ]
    },
    {
     "data": {
      "text/markdown": [
       "**Cluster 293 Group :02110**\n"
      ],
      "text/plain": [
       "<IPython.core.display.Markdown object>"
      ]
     },
     "metadata": {},
     "output_type": "display_data"
    },
    {
     "name": "stdout",
     "output_type": "stream",
     "text": [
      "Record count: 1\n",
      "     user id  age gender occupation zip code Age_category\n",
      "311      312   48      M      other    02110        40-60\n",
      "\n",
      "\n"
     ]
    },
    {
     "data": {
      "text/markdown": [
       "**Cluster 294 Group :60035**\n"
      ],
      "text/plain": [
       "<IPython.core.display.Markdown object>"
      ]
     },
     "metadata": {},
     "output_type": "display_data"
    },
    {
     "name": "stdout",
     "output_type": "stream",
     "text": [
      "Record count: 1\n",
      "     user id  age gender occupation zip code Age_category\n",
      "312      313   41      M  marketing    60035        40-60\n",
      "\n",
      "\n"
     ]
    },
    {
     "data": {
      "text/markdown": [
       "**Cluster 295 Group :08043**\n"
      ],
      "text/plain": [
       "<IPython.core.display.Markdown object>"
      ]
     },
     "metadata": {},
     "output_type": "display_data"
    },
    {
     "name": "stdout",
     "output_type": "stream",
     "text": [
      "Record count: 1\n",
      "     user id  age gender occupation zip code Age_category\n",
      "313      314   20      F    student    08043         0-20\n",
      "\n",
      "\n"
     ]
    },
    {
     "data": {
      "text/markdown": [
       "**Cluster 296 Group :18301**\n"
      ],
      "text/plain": [
       "<IPython.core.display.Markdown object>"
      ]
     },
     "metadata": {},
     "output_type": "display_data"
    },
    {
     "name": "stdout",
     "output_type": "stream",
     "text": [
      "Record count: 1\n",
      "     user id  age gender occupation zip code Age_category\n",
      "314      315   31      M   educator    18301        20-40\n",
      "\n",
      "\n"
     ]
    },
    {
     "data": {
      "text/markdown": [
       "**Cluster 297 Group :77009**\n"
      ],
      "text/plain": [
       "<IPython.core.display.Markdown object>"
      ]
     },
     "metadata": {},
     "output_type": "display_data"
    },
    {
     "name": "stdout",
     "output_type": "stream",
     "text": [
      "Record count: 1\n",
      "     user id  age gender occupation zip code Age_category\n",
      "315      316   43      F      other    77009        40-60\n",
      "\n",
      "\n"
     ]
    },
    {
     "data": {
      "text/markdown": [
       "**Cluster 298 Group :13210**\n"
      ],
      "text/plain": [
       "<IPython.core.display.Markdown object>"
      ]
     },
     "metadata": {},
     "output_type": "display_data"
    },
    {
     "name": "stdout",
     "output_type": "stream",
     "text": [
      "Record count: 1\n",
      "     user id  age gender     occupation zip code Age_category\n",
      "316      317   22      M  administrator    13210        20-40\n",
      "\n",
      "\n"
     ]
    },
    {
     "data": {
      "text/markdown": [
       "**Cluster 299 Group :06518**\n"
      ],
      "text/plain": [
       "<IPython.core.display.Markdown object>"
      ]
     },
     "metadata": {},
     "output_type": "display_data"
    },
    {
     "name": "stdout",
     "output_type": "stream",
     "text": [
      "Record count: 1\n",
      "     user id  age gender occupation zip code Age_category\n",
      "317      318   65      M    retired    06518        60-80\n",
      "\n",
      "\n"
     ]
    },
    {
     "data": {
      "text/markdown": [
       "**Cluster 300 Group :22030**\n"
      ],
      "text/plain": [
       "<IPython.core.display.Markdown object>"
      ]
     },
     "metadata": {},
     "output_type": "display_data"
    },
    {
     "name": "stdout",
     "output_type": "stream",
     "text": [
      "Record count: 1\n",
      "     user id  age gender  occupation zip code Age_category\n",
      "318      319   38      M  programmer    22030        20-40\n",
      "\n",
      "\n"
     ]
    },
    {
     "data": {
      "text/markdown": [
       "**Cluster 301 Group :24060**\n"
      ],
      "text/plain": [
       "<IPython.core.display.Markdown object>"
      ]
     },
     "metadata": {},
     "output_type": "display_data"
    },
    {
     "name": "stdout",
     "output_type": "stream",
     "text": [
      "Record count: 1\n",
      "     user id  age gender occupation zip code Age_category\n",
      "319      320   19      M    student    24060         0-20\n",
      "\n",
      "\n"
     ]
    },
    {
     "data": {
      "text/markdown": [
       "**Cluster 302 Group :55413**\n"
      ],
      "text/plain": [
       "<IPython.core.display.Markdown object>"
      ]
     },
     "metadata": {},
     "output_type": "display_data"
    },
    {
     "name": "stdout",
     "output_type": "stream",
     "text": [
      "Record count: 1\n",
      "     user id  age gender occupation zip code Age_category\n",
      "320      321   49      F   educator    55413        40-60\n",
      "\n",
      "\n"
     ]
    },
    {
     "data": {
      "text/markdown": [
       "**Cluster 303 Group :50613**\n"
      ],
      "text/plain": [
       "<IPython.core.display.Markdown object>"
      ]
     },
     "metadata": {},
     "output_type": "display_data"
    },
    {
     "name": "stdout",
     "output_type": "stream",
     "text": [
      "Record count: 2\n",
      "     user id  age gender occupation zip code Age_category\n",
      "321      322   20      M    student    50613         0-20\n",
      "615      616   55      M  scientist    50613        40-60\n",
      "\n",
      "\n"
     ]
    },
    {
     "data": {
      "text/markdown": [
       "**Cluster 304 Group :19149**\n"
      ],
      "text/plain": [
       "<IPython.core.display.Markdown object>"
      ]
     },
     "metadata": {},
     "output_type": "display_data"
    },
    {
     "name": "stdout",
     "output_type": "stream",
     "text": [
      "Record count: 1\n",
      "     user id  age gender occupation zip code Age_category\n",
      "322      323   21      M    student    19149        20-40\n",
      "\n",
      "\n"
     ]
    },
    {
     "data": {
      "text/markdown": [
       "**Cluster 305 Group :02176**\n"
      ],
      "text/plain": [
       "<IPython.core.display.Markdown object>"
      ]
     },
     "metadata": {},
     "output_type": "display_data"
    },
    {
     "name": "stdout",
     "output_type": "stream",
     "text": [
      "Record count: 1\n",
      "     user id  age gender occupation zip code Age_category\n",
      "323      324   21      F    student    02176        20-40\n",
      "\n",
      "\n"
     ]
    },
    {
     "data": {
      "text/markdown": [
       "**Cluster 306 Group :15235**\n"
      ],
      "text/plain": [
       "<IPython.core.display.Markdown object>"
      ]
     },
     "metadata": {},
     "output_type": "display_data"
    },
    {
     "name": "stdout",
     "output_type": "stream",
     "text": [
      "Record count: 1\n",
      "     user id  age gender     occupation zip code Age_category\n",
      "325      326   41      M  administrator    15235        40-60\n",
      "\n",
      "\n"
     ]
    },
    {
     "data": {
      "text/markdown": [
       "**Cluster 307 Group :11101**\n"
      ],
      "text/plain": [
       "<IPython.core.display.Markdown object>"
      ]
     },
     "metadata": {},
     "output_type": "display_data"
    },
    {
     "name": "stdout",
     "output_type": "stream",
     "text": [
      "Record count: 1\n",
      "     user id  age gender occupation zip code Age_category\n",
      "326      327   22      M    student    11101        20-40\n",
      "\n",
      "\n"
     ]
    },
    {
     "data": {
      "text/markdown": [
       "**Cluster 308 Group :06779**\n"
      ],
      "text/plain": [
       "<IPython.core.display.Markdown object>"
      ]
     },
     "metadata": {},
     "output_type": "display_data"
    },
    {
     "name": "stdout",
     "output_type": "stream",
     "text": [
      "Record count: 1\n",
      "     user id  age gender     occupation zip code Age_category\n",
      "327      328   51      M  administrator    06779        40-60\n",
      "\n",
      "\n"
     ]
    },
    {
     "data": {
      "text/markdown": [
       "**Cluster 309 Group :40504**\n"
      ],
      "text/plain": [
       "<IPython.core.display.Markdown object>"
      ]
     },
     "metadata": {},
     "output_type": "display_data"
    },
    {
     "name": "stdout",
     "output_type": "stream",
     "text": [
      "Record count: 1\n",
      "     user id  age gender occupation zip code Age_category\n",
      "331      332   20      M    student    40504         0-20\n",
      "\n",
      "\n"
     ]
    },
    {
     "data": {
      "text/markdown": [
       "**Cluster 310 Group :V0R2M**\n"
      ],
      "text/plain": [
       "<IPython.core.display.Markdown object>"
      ]
     },
     "metadata": {},
     "output_type": "display_data"
    },
    {
     "name": "stdout",
     "output_type": "stream",
     "text": [
      "Record count: 1\n",
      "     user id  age gender occupation zip code Age_category\n",
      "332      333   47      M      other    V0R2M        40-60\n",
      "\n",
      "\n"
     ]
    },
    {
     "data": {
      "text/markdown": [
       "**Cluster 311 Group :30002**\n"
      ],
      "text/plain": [
       "<IPython.core.display.Markdown object>"
      ]
     },
     "metadata": {},
     "output_type": "display_data"
    },
    {
     "name": "stdout",
     "output_type": "stream",
     "text": [
      "Record count: 1\n",
      "     user id  age gender occupation zip code Age_category\n",
      "333      334   32      M  librarian    30002        20-40\n",
      "\n",
      "\n"
     ]
    },
    {
     "data": {
      "text/markdown": [
       "**Cluster 312 Group :33775**\n"
      ],
      "text/plain": [
       "<IPython.core.display.Markdown object>"
      ]
     },
     "metadata": {},
     "output_type": "display_data"
    },
    {
     "name": "stdout",
     "output_type": "stream",
     "text": [
      "Record count: 1\n",
      "     user id  age gender occupation zip code Age_category\n",
      "334      335   45      M  executive    33775        40-60\n",
      "\n",
      "\n"
     ]
    },
    {
     "data": {
      "text/markdown": [
       "**Cluster 313 Group :42101**\n"
      ],
      "text/plain": [
       "<IPython.core.display.Markdown object>"
      ]
     },
     "metadata": {},
     "output_type": "display_data"
    },
    {
     "name": "stdout",
     "output_type": "stream",
     "text": [
      "Record count: 1\n",
      "     user id  age gender occupation zip code Age_category\n",
      "335      336   23      M   salesman    42101        20-40\n",
      "\n",
      "\n"
     ]
    },
    {
     "data": {
      "text/markdown": [
       "**Cluster 314 Group :10522**\n"
      ],
      "text/plain": [
       "<IPython.core.display.Markdown object>"
      ]
     },
     "metadata": {},
     "output_type": "display_data"
    },
    {
     "name": "stdout",
     "output_type": "stream",
     "text": [
      "Record count: 1\n",
      "     user id  age gender occupation zip code Age_category\n",
      "336      337   37      M  scientist    10522        20-40\n",
      "\n",
      "\n"
     ]
    },
    {
     "data": {
      "text/markdown": [
       "**Cluster 315 Group :59717**\n"
      ],
      "text/plain": [
       "<IPython.core.display.Markdown object>"
      ]
     },
     "metadata": {},
     "output_type": "display_data"
    },
    {
     "name": "stdout",
     "output_type": "stream",
     "text": [
      "Record count: 1\n",
      "     user id  age gender occupation zip code Age_category\n",
      "337      338   39      F  librarian    59717        20-40\n",
      "\n",
      "\n"
     ]
    },
    {
     "data": {
      "text/markdown": [
       "**Cluster 316 Group :37901**\n"
      ],
      "text/plain": [
       "<IPython.core.display.Markdown object>"
      ]
     },
     "metadata": {},
     "output_type": "display_data"
    },
    {
     "name": "stdout",
     "output_type": "stream",
     "text": [
      "Record count: 1\n",
      "     user id  age gender occupation zip code Age_category\n",
      "338      339   35      M     lawyer    37901        20-40\n",
      "\n",
      "\n"
     ]
    },
    {
     "data": {
      "text/markdown": [
       "**Cluster 317 Group :44405**\n"
      ],
      "text/plain": [
       "<IPython.core.display.Markdown object>"
      ]
     },
     "metadata": {},
     "output_type": "display_data"
    },
    {
     "name": "stdout",
     "output_type": "stream",
     "text": [
      "Record count: 1\n",
      "     user id  age gender occupation zip code Age_category\n",
      "340      341   17      F    student    44405         0-20\n",
      "\n",
      "\n"
     ]
    },
    {
     "data": {
      "text/markdown": [
       "**Cluster 318 Group :30093**\n"
      ],
      "text/plain": [
       "<IPython.core.display.Markdown object>"
      ]
     },
     "metadata": {},
     "output_type": "display_data"
    },
    {
     "name": "stdout",
     "output_type": "stream",
     "text": [
      "Record count: 1\n",
      "     user id  age gender occupation zip code Age_category\n",
      "342      343   43      M   engineer    30093        40-60\n",
      "\n",
      "\n"
     ]
    },
    {
     "data": {
      "text/markdown": [
       "**Cluster 319 Group :94117**\n"
      ],
      "text/plain": [
       "<IPython.core.display.Markdown object>"
      ]
     },
     "metadata": {},
     "output_type": "display_data"
    },
    {
     "name": "stdout",
     "output_type": "stream",
     "text": [
      "Record count: 1\n",
      "     user id  age gender occupation zip code Age_category\n",
      "343      344   30      F  librarian    94117        20-40\n",
      "\n",
      "\n"
     ]
    },
    {
     "data": {
      "text/markdown": [
       "**Cluster 320 Group :94143**\n"
      ],
      "text/plain": [
       "<IPython.core.display.Markdown object>"
      ]
     },
     "metadata": {},
     "output_type": "display_data"
    },
    {
     "name": "stdout",
     "output_type": "stream",
     "text": [
      "Record count: 1\n",
      "     user id  age gender occupation zip code Age_category\n",
      "344      345   28      F  librarian    94143        20-40\n",
      "\n",
      "\n"
     ]
    },
    {
     "data": {
      "text/markdown": [
       "**Cluster 321 Group :76059**\n"
      ],
      "text/plain": [
       "<IPython.core.display.Markdown object>"
      ]
     },
     "metadata": {},
     "output_type": "display_data"
    },
    {
     "name": "stdout",
     "output_type": "stream",
     "text": [
      "Record count: 1\n",
      "     user id  age gender occupation zip code Age_category\n",
      "345      346   34      M      other    76059        20-40\n",
      "\n",
      "\n"
     ]
    },
    {
     "data": {
      "text/markdown": [
       "**Cluster 322 Group :45660**\n"
      ],
      "text/plain": [
       "<IPython.core.display.Markdown object>"
      ]
     },
     "metadata": {},
     "output_type": "display_data"
    },
    {
     "name": "stdout",
     "output_type": "stream",
     "text": [
      "Record count: 1\n",
      "     user id  age gender occupation zip code Age_category\n",
      "347      348   24      F    student    45660        20-40\n",
      "\n",
      "\n"
     ]
    },
    {
     "data": {
      "text/markdown": [
       "**Cluster 323 Group :61455**\n"
      ],
      "text/plain": [
       "<IPython.core.display.Markdown object>"
      ]
     },
     "metadata": {},
     "output_type": "display_data"
    },
    {
     "name": "stdout",
     "output_type": "stream",
     "text": [
      "Record count: 1\n",
      "     user id  age gender occupation zip code Age_category\n",
      "348      349   68      M    retired    61455        60-80\n",
      "\n",
      "\n"
     ]
    },
    {
     "data": {
      "text/markdown": [
       "**Cluster 324 Group :49938**\n"
      ],
      "text/plain": [
       "<IPython.core.display.Markdown object>"
      ]
     },
     "metadata": {},
     "output_type": "display_data"
    },
    {
     "name": "stdout",
     "output_type": "stream",
     "text": [
      "Record count: 1\n",
      "     user id  age gender occupation zip code Age_category\n",
      "350      351   61      M   educator    49938        60-80\n",
      "\n",
      "\n"
     ]
    },
    {
     "data": {
      "text/markdown": [
       "**Cluster 325 Group :28480**\n"
      ],
      "text/plain": [
       "<IPython.core.display.Markdown object>"
      ]
     },
     "metadata": {},
     "output_type": "display_data"
    },
    {
     "name": "stdout",
     "output_type": "stream",
     "text": [
      "Record count: 1\n",
      "     user id  age gender occupation zip code Age_category\n",
      "352      353   25      M  scientist    28480        20-40\n",
      "\n",
      "\n"
     ]
    },
    {
     "data": {
      "text/markdown": [
       "**Cluster 326 Group :60135**\n"
      ],
      "text/plain": [
       "<IPython.core.display.Markdown object>"
      ]
     },
     "metadata": {},
     "output_type": "display_data"
    },
    {
     "name": "stdout",
     "output_type": "stream",
     "text": [
      "Record count: 1\n",
      "     user id  age gender occupation zip code Age_category\n",
      "354      355   25      M    student    60135        20-40\n",
      "\n",
      "\n"
     ]
    },
    {
     "data": {
      "text/markdown": [
       "**Cluster 327 Group :92688**\n"
      ],
      "text/plain": [
       "<IPython.core.display.Markdown object>"
      ]
     },
     "metadata": {},
     "output_type": "display_data"
    },
    {
     "name": "stdout",
     "output_type": "stream",
     "text": [
      "Record count: 1\n",
      "     user id  age gender occupation zip code Age_category\n",
      "355      356   32      F  homemaker    92688        20-40\n",
      "\n",
      "\n"
     ]
    },
    {
     "data": {
      "text/markdown": [
       "**Cluster 328 Group :98133**\n"
      ],
      "text/plain": [
       "<IPython.core.display.Markdown object>"
      ]
     },
     "metadata": {},
     "output_type": "display_data"
    },
    {
     "name": "stdout",
     "output_type": "stream",
     "text": [
      "Record count: 1\n",
      "     user id  age gender occupation zip code Age_category\n",
      "356      357   26      M  executive    98133        20-40\n",
      "\n",
      "\n"
     ]
    },
    {
     "data": {
      "text/markdown": [
       "**Cluster 329 Group :10022**\n"
      ],
      "text/plain": [
       "<IPython.core.display.Markdown object>"
      ]
     },
     "metadata": {},
     "output_type": "display_data"
    },
    {
     "name": "stdout",
     "output_type": "stream",
     "text": [
      "Record count: 2\n",
      "     user id  age gender occupation zip code Age_category\n",
      "357      358   40      M   educator    10022        20-40\n",
      "558      559   69      M  executive    10022        60-80\n",
      "\n",
      "\n"
     ]
    },
    {
     "data": {
      "text/markdown": [
       "**Cluster 330 Group :98027**\n"
      ],
      "text/plain": [
       "<IPython.core.display.Markdown object>"
      ]
     },
     "metadata": {},
     "output_type": "display_data"
    },
    {
     "name": "stdout",
     "output_type": "stream",
     "text": [
      "Record count: 2\n",
      "     user id  age gender occupation zip code Age_category\n",
      "359      360   51      M      other    98027        40-60\n",
      "877      878   50      F   educator    98027        40-60\n",
      "\n",
      "\n"
     ]
    },
    {
     "data": {
      "text/markdown": [
       "**Cluster 331 Group :44074**\n"
      ],
      "text/plain": [
       "<IPython.core.display.Markdown object>"
      ]
     },
     "metadata": {},
     "output_type": "display_data"
    },
    {
     "name": "stdout",
     "output_type": "stream",
     "text": [
      "Record count: 1\n",
      "     user id  age gender occupation zip code Age_category\n",
      "360      361   22      M    student    44074        20-40\n",
      "\n",
      "\n"
     ]
    },
    {
     "data": {
      "text/markdown": [
       "**Cluster 332 Group :85233**\n"
      ],
      "text/plain": [
       "<IPython.core.display.Markdown object>"
      ]
     },
     "metadata": {},
     "output_type": "display_data"
    },
    {
     "name": "stdout",
     "output_type": "stream",
     "text": [
      "Record count: 1\n",
      "     user id  age gender occupation zip code Age_category\n",
      "361      362   35      F  homemaker    85233        20-40\n",
      "\n",
      "\n"
     ]
    },
    {
     "data": {
      "text/markdown": [
       "**Cluster 333 Group :87501**\n"
      ],
      "text/plain": [
       "<IPython.core.display.Markdown object>"
      ]
     },
     "metadata": {},
     "output_type": "display_data"
    },
    {
     "name": "stdout",
     "output_type": "stream",
     "text": [
      "Record count: 1\n",
      "     user id  age gender occupation zip code Age_category\n",
      "362      363   20      M    student    87501         0-20\n",
      "\n",
      "\n"
     ]
    },
    {
     "data": {
      "text/markdown": [
       "**Cluster 334 Group :01810**\n"
      ],
      "text/plain": [
       "<IPython.core.display.Markdown object>"
      ]
     },
     "metadata": {},
     "output_type": "display_data"
    },
    {
     "name": "stdout",
     "output_type": "stream",
     "text": [
      "Record count: 2\n",
      "     user id  age gender  occupation zip code Age_category\n",
      "363      364   63      M    engineer    01810        60-80\n",
      "776      777   63      M  programmer    01810        60-80\n",
      "\n",
      "\n"
     ]
    },
    {
     "data": {
      "text/markdown": [
       "**Cluster 335 Group :50670**\n"
      ],
      "text/plain": [
       "<IPython.core.display.Markdown object>"
      ]
     },
     "metadata": {},
     "output_type": "display_data"
    },
    {
     "name": "stdout",
     "output_type": "stream",
     "text": [
      "Record count: 1\n",
      "     user id  age gender occupation zip code Age_category\n",
      "365      366   20      F    student    50670         0-20\n",
      "\n",
      "\n"
     ]
    },
    {
     "data": {
      "text/markdown": [
       "**Cluster 336 Group :37411**\n"
      ],
      "text/plain": [
       "<IPython.core.display.Markdown object>"
      ]
     },
     "metadata": {},
     "output_type": "display_data"
    },
    {
     "name": "stdout",
     "output_type": "stream",
     "text": [
      "Record count: 1\n",
      "     user id  age gender occupation zip code Age_category\n",
      "366      367   17      M    student    37411         0-20\n",
      "\n",
      "\n"
     ]
    },
    {
     "data": {
      "text/markdown": [
       "**Cluster 337 Group :92113**\n"
      ],
      "text/plain": [
       "<IPython.core.display.Markdown object>"
      ]
     },
     "metadata": {},
     "output_type": "display_data"
    },
    {
     "name": "stdout",
     "output_type": "stream",
     "text": [
      "Record count: 1\n",
      "     user id  age gender occupation zip code Age_category\n",
      "367      368   18      M    student    92113         0-20\n",
      "\n",
      "\n"
     ]
    },
    {
     "data": {
      "text/markdown": [
       "**Cluster 338 Group :91335**\n"
      ],
      "text/plain": [
       "<IPython.core.display.Markdown object>"
      ]
     },
     "metadata": {},
     "output_type": "display_data"
    },
    {
     "name": "stdout",
     "output_type": "stream",
     "text": [
      "Record count: 1\n",
      "     user id  age gender occupation zip code Age_category\n",
      "368      369   24      M    student    91335        20-40\n",
      "\n",
      "\n"
     ]
    },
    {
     "data": {
      "text/markdown": [
       "**Cluster 339 Group :08534**\n"
      ],
      "text/plain": [
       "<IPython.core.display.Markdown object>"
      ]
     },
     "metadata": {},
     "output_type": "display_data"
    },
    {
     "name": "stdout",
     "output_type": "stream",
     "text": [
      "Record count: 1\n",
      "     user id  age gender occupation zip code Age_category\n",
      "369      370   52      M     writer    08534        40-60\n",
      "\n",
      "\n"
     ]
    },
    {
     "data": {
      "text/markdown": [
       "**Cluster 340 Group :99206**\n"
      ],
      "text/plain": [
       "<IPython.core.display.Markdown object>"
      ]
     },
     "metadata": {},
     "output_type": "display_data"
    },
    {
     "name": "stdout",
     "output_type": "stream",
     "text": [
      "Record count: 1\n",
      "     user id  age gender occupation zip code Age_category\n",
      "370      371   36      M   engineer    99206        20-40\n",
      "\n",
      "\n"
     ]
    },
    {
     "data": {
      "text/markdown": [
       "**Cluster 341 Group :66046**\n"
      ],
      "text/plain": [
       "<IPython.core.display.Markdown object>"
      ]
     },
     "metadata": {},
     "output_type": "display_data"
    },
    {
     "name": "stdout",
     "output_type": "stream",
     "text": [
      "Record count: 1\n",
      "     user id  age gender occupation zip code Age_category\n",
      "371      372   25      F    student    66046        20-40\n",
      "\n",
      "\n"
     ]
    },
    {
     "data": {
      "text/markdown": [
       "**Cluster 342 Group :55116**\n"
      ],
      "text/plain": [
       "<IPython.core.display.Markdown object>"
      ]
     },
     "metadata": {},
     "output_type": "display_data"
    },
    {
     "name": "stdout",
     "output_type": "stream",
     "text": [
      "Record count: 2\n",
      "     user id  age gender occupation zip code Age_category\n",
      "372      373   24      F      other    55116        20-40\n",
      "898      899   32      M      other    55116        20-40\n",
      "\n",
      "\n"
     ]
    },
    {
     "data": {
      "text/markdown": [
       "**Cluster 343 Group :78746**\n"
      ],
      "text/plain": [
       "<IPython.core.display.Markdown object>"
      ]
     },
     "metadata": {},
     "output_type": "display_data"
    },
    {
     "name": "stdout",
     "output_type": "stream",
     "text": [
      "Record count: 1\n",
      "     user id  age gender occupation zip code Age_category\n",
      "373      374   36      M  executive    78746        20-40\n",
      "\n",
      "\n"
     ]
    },
    {
     "data": {
      "text/markdown": [
       "**Cluster 344 Group :37777**\n"
      ],
      "text/plain": [
       "<IPython.core.display.Markdown object>"
      ]
     },
     "metadata": {},
     "output_type": "display_data"
    },
    {
     "name": "stdout",
     "output_type": "stream",
     "text": [
      "Record count: 1\n",
      "     user id  age gender     occupation zip code Age_category\n",
      "374      375   17      M  entertainment    37777         0-20\n",
      "\n",
      "\n"
     ]
    },
    {
     "data": {
      "text/markdown": [
       "**Cluster 345 Group :10010**\n"
      ],
      "text/plain": [
       "<IPython.core.display.Markdown object>"
      ]
     },
     "metadata": {},
     "output_type": "display_data"
    },
    {
     "name": "stdout",
     "output_type": "stream",
     "text": [
      "Record count: 1\n",
      "     user id  age gender occupation zip code Age_category\n",
      "375      376   28      F      other    10010        20-40\n",
      "\n",
      "\n"
     ]
    },
    {
     "data": {
      "text/markdown": [
       "**Cluster 346 Group :18015**\n"
      ],
      "text/plain": [
       "<IPython.core.display.Markdown object>"
      ]
     },
     "metadata": {},
     "output_type": "display_data"
    },
    {
     "name": "stdout",
     "output_type": "stream",
     "text": [
      "Record count: 1\n",
      "     user id  age gender occupation zip code Age_category\n",
      "376      377   22      M    student    18015        20-40\n",
      "\n",
      "\n"
     ]
    },
    {
     "data": {
      "text/markdown": [
       "**Cluster 347 Group :02859**\n"
      ],
      "text/plain": [
       "<IPython.core.display.Markdown object>"
      ]
     },
     "metadata": {},
     "output_type": "display_data"
    },
    {
     "name": "stdout",
     "output_type": "stream",
     "text": [
      "Record count: 1\n",
      "     user id  age gender occupation zip code Age_category\n",
      "377      378   35      M    student    02859        20-40\n",
      "\n",
      "\n"
     ]
    },
    {
     "data": {
      "text/markdown": [
       "**Cluster 348 Group :98117**\n"
      ],
      "text/plain": [
       "<IPython.core.display.Markdown object>"
      ]
     },
     "metadata": {},
     "output_type": "display_data"
    },
    {
     "name": "stdout",
     "output_type": "stream",
     "text": [
      "Record count: 1\n",
      "     user id  age gender  occupation zip code Age_category\n",
      "378      379   44      M  programmer    98117        40-60\n",
      "\n",
      "\n"
     ]
    },
    {
     "data": {
      "text/markdown": [
       "**Cluster 349 Group :55117**\n"
      ],
      "text/plain": [
       "<IPython.core.display.Markdown object>"
      ]
     },
     "metadata": {},
     "output_type": "display_data"
    },
    {
     "name": "stdout",
     "output_type": "stream",
     "text": [
      "Record count: 1\n",
      "     user id  age gender occupation zip code Age_category\n",
      "379      380   32      M   engineer    55117        20-40\n",
      "\n",
      "\n"
     ]
    },
    {
     "data": {
      "text/markdown": [
       "**Cluster 350 Group :94608**\n"
      ],
      "text/plain": [
       "<IPython.core.display.Markdown object>"
      ]
     },
     "metadata": {},
     "output_type": "display_data"
    },
    {
     "name": "stdout",
     "output_type": "stream",
     "text": [
      "Record count: 1\n",
      "     user id  age gender occupation zip code Age_category\n",
      "380      381   33      M     artist    94608        20-40\n",
      "\n",
      "\n"
     ]
    },
    {
     "data": {
      "text/markdown": [
       "**Cluster 351 Group :01824**\n"
      ],
      "text/plain": [
       "<IPython.core.display.Markdown object>"
      ]
     },
     "metadata": {},
     "output_type": "display_data"
    },
    {
     "name": "stdout",
     "output_type": "stream",
     "text": [
      "Record count: 1\n",
      "     user id  age gender occupation zip code Age_category\n",
      "381      382   45      M   engineer    01824        40-60\n",
      "\n",
      "\n"
     ]
    },
    {
     "data": {
      "text/markdown": [
       "**Cluster 352 Group :75204**\n"
      ],
      "text/plain": [
       "<IPython.core.display.Markdown object>"
      ]
     },
     "metadata": {},
     "output_type": "display_data"
    },
    {
     "name": "stdout",
     "output_type": "stream",
     "text": [
      "Record count: 1\n",
      "     user id  age gender     occupation zip code Age_category\n",
      "382      383   42      M  administrator    75204        40-60\n",
      "\n",
      "\n"
     ]
    },
    {
     "data": {
      "text/markdown": [
       "**Cluster 353 Group :45218**\n"
      ],
      "text/plain": [
       "<IPython.core.display.Markdown object>"
      ]
     },
     "metadata": {},
     "output_type": "display_data"
    },
    {
     "name": "stdout",
     "output_type": "stream",
     "text": [
      "Record count: 2\n",
      "     user id  age gender  occupation zip code Age_category\n",
      "383      384   52      M  programmer    45218        40-60\n",
      "488      489   55      M       other    45218        40-60\n",
      "\n",
      "\n"
     ]
    },
    {
     "data": {
      "text/markdown": [
       "**Cluster 354 Group :43221**\n"
      ],
      "text/plain": [
       "<IPython.core.display.Markdown object>"
      ]
     },
     "metadata": {},
     "output_type": "display_data"
    },
    {
     "name": "stdout",
     "output_type": "stream",
     "text": [
      "Record count: 1\n",
      "     user id  age gender occupation zip code Age_category\n",
      "385      386   36      M   salesman    43221        20-40\n",
      "\n",
      "\n"
     ]
    },
    {
     "data": {
      "text/markdown": [
       "**Cluster 355 Group :37412**\n"
      ],
      "text/plain": [
       "<IPython.core.display.Markdown object>"
      ]
     },
     "metadata": {},
     "output_type": "display_data"
    },
    {
     "name": "stdout",
     "output_type": "stream",
     "text": [
      "Record count: 1\n",
      "     user id  age gender     occupation zip code Age_category\n",
      "386      387   33      M  entertainment    37412        20-40\n",
      "\n",
      "\n"
     ]
    },
    {
     "data": {
      "text/markdown": [
       "**Cluster 356 Group :36106**\n"
      ],
      "text/plain": [
       "<IPython.core.display.Markdown object>"
      ]
     },
     "metadata": {},
     "output_type": "display_data"
    },
    {
     "name": "stdout",
     "output_type": "stream",
     "text": [
      "Record count: 1\n",
      "     user id  age gender occupation zip code Age_category\n",
      "387      388   31      M      other    36106        20-40\n",
      "\n",
      "\n"
     ]
    },
    {
     "data": {
      "text/markdown": [
       "**Cluster 357 Group :83702**\n"
      ],
      "text/plain": [
       "<IPython.core.display.Markdown object>"
      ]
     },
     "metadata": {},
     "output_type": "display_data"
    },
    {
     "name": "stdout",
     "output_type": "stream",
     "text": [
      "Record count: 2\n",
      "     user id  age gender occupation zip code Age_category\n",
      "388      389   44      F     writer    83702        40-60\n",
      "879      880   13      M    student    83702         0-20\n",
      "\n",
      "\n"
     ]
    },
    {
     "data": {
      "text/markdown": [
       "**Cluster 358 Group :85016**\n"
      ],
      "text/plain": [
       "<IPython.core.display.Markdown object>"
      ]
     },
     "metadata": {},
     "output_type": "display_data"
    },
    {
     "name": "stdout",
     "output_type": "stream",
     "text": [
      "Record count: 1\n",
      "     user id  age gender occupation zip code Age_category\n",
      "389      390   42      F     writer    85016        40-60\n",
      "\n",
      "\n"
     ]
    },
    {
     "data": {
      "text/markdown": [
       "**Cluster 359 Group :84604**\n"
      ],
      "text/plain": [
       "<IPython.core.display.Markdown object>"
      ]
     },
     "metadata": {},
     "output_type": "display_data"
    },
    {
     "name": "stdout",
     "output_type": "stream",
     "text": [
      "Record count: 1\n",
      "     user id  age gender occupation zip code Age_category\n",
      "390      391   23      M    student    84604        20-40\n",
      "\n",
      "\n"
     ]
    },
    {
     "data": {
      "text/markdown": [
       "**Cluster 360 Group :59801**\n"
      ],
      "text/plain": [
       "<IPython.core.display.Markdown object>"
      ]
     },
     "metadata": {},
     "output_type": "display_data"
    },
    {
     "name": "stdout",
     "output_type": "stream",
     "text": [
      "Record count: 1\n",
      "     user id  age gender occupation zip code Age_category\n",
      "391      392   52      M     writer    59801        40-60\n",
      "\n",
      "\n"
     ]
    },
    {
     "data": {
      "text/markdown": [
       "**Cluster 361 Group :83686**\n"
      ],
      "text/plain": [
       "<IPython.core.display.Markdown object>"
      ]
     },
     "metadata": {},
     "output_type": "display_data"
    },
    {
     "name": "stdout",
     "output_type": "stream",
     "text": [
      "Record count: 1\n",
      "     user id  age gender occupation zip code Age_category\n",
      "392      393   19      M    student    83686         0-20\n",
      "\n",
      "\n"
     ]
    },
    {
     "data": {
      "text/markdown": [
       "**Cluster 362 Group :96819**\n"
      ],
      "text/plain": [
       "<IPython.core.display.Markdown object>"
      ]
     },
     "metadata": {},
     "output_type": "display_data"
    },
    {
     "name": "stdout",
     "output_type": "stream",
     "text": [
      "Record count: 1\n",
      "     user id  age gender     occupation zip code Age_category\n",
      "393      394   25      M  administrator    96819        20-40\n",
      "\n",
      "\n"
     ]
    },
    {
     "data": {
      "text/markdown": [
       "**Cluster 363 Group :44092**\n"
      ],
      "text/plain": [
       "<IPython.core.display.Markdown object>"
      ]
     },
     "metadata": {},
     "output_type": "display_data"
    },
    {
     "name": "stdout",
     "output_type": "stream",
     "text": [
      "Record count: 1\n",
      "     user id  age gender occupation zip code Age_category\n",
      "394      395   43      M      other    44092        40-60\n",
      "\n",
      "\n"
     ]
    },
    {
     "data": {
      "text/markdown": [
       "**Cluster 364 Group :94551**\n"
      ],
      "text/plain": [
       "<IPython.core.display.Markdown object>"
      ]
     },
     "metadata": {},
     "output_type": "display_data"
    },
    {
     "name": "stdout",
     "output_type": "stream",
     "text": [
      "Record count: 1\n",
      "     user id  age gender occupation zip code Age_category\n",
      "395      396   57      M   engineer    94551        40-60\n",
      "\n",
      "\n"
     ]
    },
    {
     "data": {
      "text/markdown": [
       "**Cluster 365 Group :60008**\n"
      ],
      "text/plain": [
       "<IPython.core.display.Markdown object>"
      ]
     },
     "metadata": {},
     "output_type": "display_data"
    },
    {
     "name": "stdout",
     "output_type": "stream",
     "text": [
      "Record count: 1\n",
      "     user id  age gender occupation zip code Age_category\n",
      "397      398   40      M      other    60008        20-40\n",
      "\n",
      "\n"
     ]
    },
    {
     "data": {
      "text/markdown": [
       "**Cluster 366 Group :92374**\n"
      ],
      "text/plain": [
       "<IPython.core.display.Markdown object>"
      ]
     },
     "metadata": {},
     "output_type": "display_data"
    },
    {
     "name": "stdout",
     "output_type": "stream",
     "text": [
      "Record count: 1\n",
      "     user id  age gender occupation zip code Age_category\n",
      "398      399   25      M      other    92374        20-40\n",
      "\n",
      "\n"
     ]
    },
    {
     "data": {
      "text/markdown": [
       "**Cluster 367 Group :78213**\n"
      ],
      "text/plain": [
       "<IPython.core.display.Markdown object>"
      ]
     },
     "metadata": {},
     "output_type": "display_data"
    },
    {
     "name": "stdout",
     "output_type": "stream",
     "text": [
      "Record count: 1\n",
      "     user id  age gender     occupation zip code Age_category\n",
      "399      400   33      F  administrator    78213        20-40\n",
      "\n",
      "\n"
     ]
    },
    {
     "data": {
      "text/markdown": [
       "**Cluster 368 Group :84107**\n"
      ],
      "text/plain": [
       "<IPython.core.display.Markdown object>"
      ]
     },
     "metadata": {},
     "output_type": "display_data"
    },
    {
     "name": "stdout",
     "output_type": "stream",
     "text": [
      "Record count: 1\n",
      "     user id  age gender  occupation zip code Age_category\n",
      "400      401   46      F  healthcare    84107        40-60\n",
      "\n",
      "\n"
     ]
    },
    {
     "data": {
      "text/markdown": [
       "**Cluster 369 Group :95129**\n"
      ],
      "text/plain": [
       "<IPython.core.display.Markdown object>"
      ]
     },
     "metadata": {},
     "output_type": "display_data"
    },
    {
     "name": "stdout",
     "output_type": "stream",
     "text": [
      "Record count: 1\n",
      "     user id  age gender occupation zip code Age_category\n",
      "401      402   30      M   engineer    95129        20-40\n",
      "\n",
      "\n"
     ]
    },
    {
     "data": {
      "text/markdown": [
       "**Cluster 370 Group :06811**\n"
      ],
      "text/plain": [
       "<IPython.core.display.Markdown object>"
      ]
     },
     "metadata": {},
     "output_type": "display_data"
    },
    {
     "name": "stdout",
     "output_type": "stream",
     "text": [
      "Record count: 1\n",
      "     user id  age gender occupation zip code Age_category\n",
      "402      403   37      M      other    06811        20-40\n",
      "\n",
      "\n"
     ]
    },
    {
     "data": {
      "text/markdown": [
       "**Cluster 371 Group :10019**\n"
      ],
      "text/plain": [
       "<IPython.core.display.Markdown object>"
      ]
     },
     "metadata": {},
     "output_type": "display_data"
    },
    {
     "name": "stdout",
     "output_type": "stream",
     "text": [
      "Record count: 2\n",
      "     user id  age gender  occupation zip code Age_category\n",
      "404      405   22      F  healthcare    10019        20-40\n",
      "477      478   29      M       other    10019        20-40\n",
      "\n",
      "\n"
     ]
    },
    {
     "data": {
      "text/markdown": [
       "**Cluster 372 Group :93109**\n"
      ],
      "text/plain": [
       "<IPython.core.display.Markdown object>"
      ]
     },
     "metadata": {},
     "output_type": "display_data"
    },
    {
     "name": "stdout",
     "output_type": "stream",
     "text": [
      "Record count: 1\n",
      "     user id  age gender occupation zip code Age_category\n",
      "405      406   52      M   educator    93109        40-60\n",
      "\n",
      "\n"
     ]
    },
    {
     "data": {
      "text/markdown": [
       "**Cluster 373 Group :03261**\n"
      ],
      "text/plain": [
       "<IPython.core.display.Markdown object>"
      ]
     },
     "metadata": {},
     "output_type": "display_data"
    },
    {
     "name": "stdout",
     "output_type": "stream",
     "text": [
      "Record count: 1\n",
      "     user id  age gender occupation zip code Age_category\n",
      "406      407   29      M   engineer    03261        20-40\n",
      "\n",
      "\n"
     ]
    },
    {
     "data": {
      "text/markdown": [
       "**Cluster 374 Group :61755**\n"
      ],
      "text/plain": [
       "<IPython.core.display.Markdown object>"
      ]
     },
     "metadata": {},
     "output_type": "display_data"
    },
    {
     "name": "stdout",
     "output_type": "stream",
     "text": [
      "Record count: 2\n",
      "     user id  age gender occupation zip code Age_category\n",
      "407      408   23      M    student    61755        20-40\n",
      "897      898   23      M  homemaker    61755        20-40\n",
      "\n",
      "\n"
     ]
    },
    {
     "data": {
      "text/markdown": [
       "**Cluster 375 Group :98225**\n"
      ],
      "text/plain": [
       "<IPython.core.display.Markdown object>"
      ]
     },
     "metadata": {},
     "output_type": "display_data"
    },
    {
     "name": "stdout",
     "output_type": "stream",
     "text": [
      "Record count: 1\n",
      "     user id  age gender     occupation zip code Age_category\n",
      "408      409   48      M  administrator    98225        40-60\n",
      "\n",
      "\n"
     ]
    },
    {
     "data": {
      "text/markdown": [
       "**Cluster 376 Group :94025**\n"
      ],
      "text/plain": [
       "<IPython.core.display.Markdown object>"
      ]
     },
     "metadata": {},
     "output_type": "display_data"
    },
    {
     "name": "stdout",
     "output_type": "stream",
     "text": [
      "Record count: 1\n",
      "     user id  age gender occupation zip code Age_category\n",
      "409      410   30      F     artist    94025        20-40\n",
      "\n",
      "\n"
     ]
    },
    {
     "data": {
      "text/markdown": [
       "**Cluster 377 Group :44691**\n"
      ],
      "text/plain": [
       "<IPython.core.display.Markdown object>"
      ]
     },
     "metadata": {},
     "output_type": "display_data"
    },
    {
     "name": "stdout",
     "output_type": "stream",
     "text": [
      "Record count: 1\n",
      "     user id  age gender occupation zip code Age_category\n",
      "410      411   34      M   educator    44691        20-40\n",
      "\n",
      "\n"
     ]
    },
    {
     "data": {
      "text/markdown": [
       "**Cluster 378 Group :15222**\n"
      ],
      "text/plain": [
       "<IPython.core.display.Markdown object>"
      ]
     },
     "metadata": {},
     "output_type": "display_data"
    },
    {
     "name": "stdout",
     "output_type": "stream",
     "text": [
      "Record count: 1\n",
      "     user id  age gender occupation zip code Age_category\n",
      "411      412   25      M   educator    15222        20-40\n",
      "\n",
      "\n"
     ]
    },
    {
     "data": {
      "text/markdown": [
       "**Cluster 379 Group :78212**\n"
      ],
      "text/plain": [
       "<IPython.core.display.Markdown object>"
      ]
     },
     "metadata": {},
     "output_type": "display_data"
    },
    {
     "name": "stdout",
     "output_type": "stream",
     "text": [
      "Record count: 2\n",
      "     user id  age gender     occupation zip code Age_category\n",
      "412      413   55      M       educator    78212        40-60\n",
      "802      803   70      M  administrator    78212        60-80\n",
      "\n",
      "\n"
     ]
    },
    {
     "data": {
      "text/markdown": [
       "**Cluster 380 Group :38115**\n"
      ],
      "text/plain": [
       "<IPython.core.display.Markdown object>"
      ]
     },
     "metadata": {},
     "output_type": "display_data"
    },
    {
     "name": "stdout",
     "output_type": "stream",
     "text": [
      "Record count: 2\n",
      "     user id  age gender  occupation zip code Age_category\n",
      "413      414   24      M  programmer    38115        20-40\n",
      "694      695   26      M      writer    38115        20-40\n",
      "\n",
      "\n"
     ]
    },
    {
     "data": {
      "text/markdown": [
       "**Cluster 381 Group :92626**\n"
      ],
      "text/plain": [
       "<IPython.core.display.Markdown object>"
      ]
     },
     "metadata": {},
     "output_type": "display_data"
    },
    {
     "name": "stdout",
     "output_type": "stream",
     "text": [
      "Record count: 2\n",
      "     user id  age gender  occupation zip code Age_category\n",
      "415      416   20      F     student    92626         0-20\n",
      "657      658   33      M  programmer    92626        20-40\n",
      "\n",
      "\n"
     ]
    },
    {
     "data": {
      "text/markdown": [
       "**Cluster 382 Group :21206**\n"
      ],
      "text/plain": [
       "<IPython.core.display.Markdown object>"
      ]
     },
     "metadata": {},
     "output_type": "display_data"
    },
    {
     "name": "stdout",
     "output_type": "stream",
     "text": [
      "Record count: 1\n",
      "     user id  age gender occupation zip code Age_category\n",
      "417      418   55      F       none    21206        40-60\n",
      "\n",
      "\n"
     ]
    },
    {
     "data": {
      "text/markdown": [
       "**Cluster 383 Group :43215**\n"
      ],
      "text/plain": [
       "<IPython.core.display.Markdown object>"
      ]
     },
     "metadata": {},
     "output_type": "display_data"
    },
    {
     "name": "stdout",
     "output_type": "stream",
     "text": [
      "Record count: 1\n",
      "     user id  age gender occupation zip code Age_category\n",
      "418      419   37      M     lawyer    43215        20-40\n",
      "\n",
      "\n"
     ]
    },
    {
     "data": {
      "text/markdown": [
       "**Cluster 384 Group :02140**\n"
      ],
      "text/plain": [
       "<IPython.core.display.Markdown object>"
      ]
     },
     "metadata": {},
     "output_type": "display_data"
    },
    {
     "name": "stdout",
     "output_type": "stream",
     "text": [
      "Record count: 1\n",
      "     user id  age gender occupation zip code Age_category\n",
      "419      420   53      M   educator    02140        40-60\n",
      "\n",
      "\n"
     ]
    },
    {
     "data": {
      "text/markdown": [
       "**Cluster 385 Group :91606**\n"
      ],
      "text/plain": [
       "<IPython.core.display.Markdown object>"
      ]
     },
     "metadata": {},
     "output_type": "display_data"
    },
    {
     "name": "stdout",
     "output_type": "stream",
     "text": [
      "Record count: 1\n",
      "     user id  age gender occupation zip code Age_category\n",
      "422      423   64      M      other    91606        60-80\n",
      "\n",
      "\n"
     ]
    },
    {
     "data": {
      "text/markdown": [
       "**Cluster 386 Group :55422**\n"
      ],
      "text/plain": [
       "<IPython.core.display.Markdown object>"
      ]
     },
     "metadata": {},
     "output_type": "display_data"
    },
    {
     "name": "stdout",
     "output_type": "stream",
     "text": [
      "Record count: 2\n",
      "     user id  age gender occupation zip code Age_category\n",
      "423      424   36      F  marketing    55422        20-40\n",
      "564      565   40      M    student    55422        20-40\n",
      "\n",
      "\n"
     ]
    },
    {
     "data": {
      "text/markdown": [
       "**Cluster 387 Group :58644**\n"
      ],
      "text/plain": [
       "<IPython.core.display.Markdown object>"
      ]
     },
     "metadata": {},
     "output_type": "display_data"
    },
    {
     "name": "stdout",
     "output_type": "stream",
     "text": [
      "Record count: 1\n",
      "     user id  age gender occupation zip code Age_category\n",
      "424      425   19      M    student    58644         0-20\n",
      "\n",
      "\n"
     ]
    },
    {
     "data": {
      "text/markdown": [
       "**Cluster 388 Group :01602**\n"
      ],
      "text/plain": [
       "<IPython.core.display.Markdown object>"
      ]
     },
     "metadata": {},
     "output_type": "display_data"
    },
    {
     "name": "stdout",
     "output_type": "stream",
     "text": [
      "Record count: 1\n",
      "     user id  age gender occupation zip code Age_category\n",
      "425      426   55      M   educator    01602        40-60\n",
      "\n",
      "\n"
     ]
    },
    {
     "data": {
      "text/markdown": [
       "**Cluster 389 Group :85258**\n"
      ],
      "text/plain": [
       "<IPython.core.display.Markdown object>"
      ]
     },
     "metadata": {},
     "output_type": "display_data"
    },
    {
     "name": "stdout",
     "output_type": "stream",
     "text": [
      "Record count: 1\n",
      "     user id  age gender occupation zip code Age_category\n",
      "426      427   51      M     doctor    85258        40-60\n",
      "\n",
      "\n"
     ]
    },
    {
     "data": {
      "text/markdown": [
       "**Cluster 390 Group :29205**\n"
      ],
      "text/plain": [
       "<IPython.core.display.Markdown object>"
      ]
     },
     "metadata": {},
     "output_type": "display_data"
    },
    {
     "name": "stdout",
     "output_type": "stream",
     "text": [
      "Record count: 1\n",
      "     user id  age gender occupation zip code Age_category\n",
      "428      429   27      M    student    29205        20-40\n",
      "\n",
      "\n"
     ]
    },
    {
     "data": {
      "text/markdown": [
       "**Cluster 391 Group :98199**\n"
      ],
      "text/plain": [
       "<IPython.core.display.Markdown object>"
      ]
     },
     "metadata": {},
     "output_type": "display_data"
    },
    {
     "name": "stdout",
     "output_type": "stream",
     "text": [
      "Record count: 1\n",
      "     user id  age gender occupation zip code Age_category\n",
      "429      430   38      M  scientist    98199        20-40\n",
      "\n",
      "\n"
     ]
    },
    {
     "data": {
      "text/markdown": [
       "**Cluster 392 Group :50311**\n"
      ],
      "text/plain": [
       "<IPython.core.display.Markdown object>"
      ]
     },
     "metadata": {},
     "output_type": "display_data"
    },
    {
     "name": "stdout",
     "output_type": "stream",
     "text": [
      "Record count: 1\n",
      "     user id  age gender     occupation zip code Age_category\n",
      "431      432   22      M  entertainment    50311        20-40\n",
      "\n",
      "\n"
     ]
    },
    {
     "data": {
      "text/markdown": [
       "**Cluster 393 Group :11211**\n"
      ],
      "text/plain": [
       "<IPython.core.display.Markdown object>"
      ]
     },
     "metadata": {},
     "output_type": "display_data"
    },
    {
     "name": "stdout",
     "output_type": "stream",
     "text": [
      "Record count: 1\n",
      "     user id  age gender occupation zip code Age_category\n",
      "432      433   27      M     artist    11211        20-40\n",
      "\n",
      "\n"
     ]
    },
    {
     "data": {
      "text/markdown": [
       "**Cluster 394 Group :49705**\n"
      ],
      "text/plain": [
       "<IPython.core.display.Markdown object>"
      ]
     },
     "metadata": {},
     "output_type": "display_data"
    },
    {
     "name": "stdout",
     "output_type": "stream",
     "text": [
      "Record count: 1\n",
      "     user id  age gender occupation zip code Age_category\n",
      "433      434   16      F    student    49705         0-20\n",
      "\n",
      "\n"
     ]
    },
    {
     "data": {
      "text/markdown": [
       "**Cluster 395 Group :60007**\n"
      ],
      "text/plain": [
       "<IPython.core.display.Markdown object>"
      ]
     },
     "metadata": {},
     "output_type": "display_data"
    },
    {
     "name": "stdout",
     "output_type": "stream",
     "text": [
      "Record count: 1\n",
      "     user id  age gender occupation zip code Age_category\n",
      "434      435   24      M   engineer    60007        20-40\n",
      "\n",
      "\n"
     ]
    },
    {
     "data": {
      "text/markdown": [
       "**Cluster 396 Group :17345**\n"
      ],
      "text/plain": [
       "<IPython.core.display.Markdown object>"
      ]
     },
     "metadata": {},
     "output_type": "display_data"
    },
    {
     "name": "stdout",
     "output_type": "stream",
     "text": [
      "Record count: 1\n",
      "     user id  age gender     occupation zip code Age_category\n",
      "435      436   30      F  administrator    17345        20-40\n",
      "\n",
      "\n"
     ]
    },
    {
     "data": {
      "text/markdown": [
       "**Cluster 397 Group :43204**\n"
      ],
      "text/plain": [
       "<IPython.core.display.Markdown object>"
      ]
     },
     "metadata": {},
     "output_type": "display_data"
    },
    {
     "name": "stdout",
     "output_type": "stream",
     "text": [
      "Record count: 1\n",
      "     user id  age gender     occupation zip code Age_category\n",
      "437      438   51      F  administrator    43204        40-60\n",
      "\n",
      "\n"
     ]
    },
    {
     "data": {
      "text/markdown": [
       "**Cluster 398 Group :20817**\n"
      ],
      "text/plain": [
       "<IPython.core.display.Markdown object>"
      ]
     },
     "metadata": {},
     "output_type": "display_data"
    },
    {
     "name": "stdout",
     "output_type": "stream",
     "text": [
      "Record count: 1\n",
      "     user id  age gender     occupation zip code Age_category\n",
      "438      439   23      F  administrator    20817        20-40\n",
      "\n",
      "\n"
     ]
    },
    {
     "data": {
      "text/markdown": [
       "**Cluster 399 Group :48076**\n"
      ],
      "text/plain": [
       "<IPython.core.display.Markdown object>"
      ]
     },
     "metadata": {},
     "output_type": "display_data"
    },
    {
     "name": "stdout",
     "output_type": "stream",
     "text": [
      "Record count: 1\n",
      "     user id  age gender occupation zip code Age_category\n",
      "439      440   30      M      other    48076        20-40\n",
      "\n",
      "\n"
     ]
    },
    {
     "data": {
      "text/markdown": [
       "**Cluster 400 Group :55013**\n"
      ],
      "text/plain": [
       "<IPython.core.display.Markdown object>"
      ]
     },
     "metadata": {},
     "output_type": "display_data"
    },
    {
     "name": "stdout",
     "output_type": "stream",
     "text": [
      "Record count: 1\n",
      "     user id  age gender  occupation zip code Age_category\n",
      "440      441   50      M  technician    55013        40-60\n",
      "\n",
      "\n"
     ]
    },
    {
     "data": {
      "text/markdown": [
       "**Cluster 401 Group :85282**\n"
      ],
      "text/plain": [
       "<IPython.core.display.Markdown object>"
      ]
     },
     "metadata": {},
     "output_type": "display_data"
    },
    {
     "name": "stdout",
     "output_type": "stream",
     "text": [
      "Record count: 2\n",
      "     user id  age gender occupation zip code Age_category\n",
      "441      442   22      M    student    85282        20-40\n",
      "827      828   28      M  librarian    85282        20-40\n",
      "\n",
      "\n"
     ]
    },
    {
     "data": {
      "text/markdown": [
       "**Cluster 402 Group :33308**\n"
      ],
      "text/plain": [
       "<IPython.core.display.Markdown object>"
      ]
     },
     "metadata": {},
     "output_type": "display_data"
    },
    {
     "name": "stdout",
     "output_type": "stream",
     "text": [
      "Record count: 1\n",
      "     user id  age gender occupation zip code Age_category\n",
      "442      443   35      M   salesman    33308        20-40\n",
      "\n",
      "\n"
     ]
    },
    {
     "data": {
      "text/markdown": [
       "**Cluster 403 Group :53202**\n"
      ],
      "text/plain": [
       "<IPython.core.display.Markdown object>"
      ]
     },
     "metadata": {},
     "output_type": "display_data"
    },
    {
     "name": "stdout",
     "output_type": "stream",
     "text": [
      "Record count: 1\n",
      "     user id  age gender occupation zip code Age_category\n",
      "443      444   51      F     lawyer    53202        40-60\n",
      "\n",
      "\n"
     ]
    },
    {
     "data": {
      "text/markdown": [
       "**Cluster 404 Group :92653**\n"
      ],
      "text/plain": [
       "<IPython.core.display.Markdown object>"
      ]
     },
     "metadata": {},
     "output_type": "display_data"
    },
    {
     "name": "stdout",
     "output_type": "stream",
     "text": [
      "Record count: 1\n",
      "     user id  age gender occupation zip code Age_category\n",
      "444      445   21      M     writer    92653        20-40\n",
      "\n",
      "\n"
     ]
    },
    {
     "data": {
      "text/markdown": [
       "**Cluster 405 Group :10021**\n"
      ],
      "text/plain": [
       "<IPython.core.display.Markdown object>"
      ]
     },
     "metadata": {},
     "output_type": "display_data"
    },
    {
     "name": "stdout",
     "output_type": "stream",
     "text": [
      "Record count: 3\n",
      "     user id  age gender     occupation zip code Age_category\n",
      "447      448   23      M  entertainment    10021        20-40\n",
      "469      470   24      M     programmer    10021        20-40\n",
      "515      516   53      F      librarian    10021        40-60\n",
      "\n",
      "\n"
     ]
    },
    {
     "data": {
      "text/markdown": [
       "**Cluster 406 Group :55021**\n"
      ],
      "text/plain": [
       "<IPython.core.display.Markdown object>"
      ]
     },
     "metadata": {},
     "output_type": "display_data"
    },
    {
     "name": "stdout",
     "output_type": "stream",
     "text": [
      "Record count: 1\n",
      "     user id  age gender occupation zip code Age_category\n",
      "448      449   23      M  librarian    55021        20-40\n",
      "\n",
      "\n"
     ]
    },
    {
     "data": {
      "text/markdown": [
       "**Cluster 407 Group :11758**\n"
      ],
      "text/plain": [
       "<IPython.core.display.Markdown object>"
      ]
     },
     "metadata": {},
     "output_type": "display_data"
    },
    {
     "name": "stdout",
     "output_type": "stream",
     "text": [
      "Record count: 1\n",
      "     user id  age gender occupation zip code Age_category\n",
      "449      450   35      F   educator    11758        20-40\n",
      "\n",
      "\n"
     ]
    },
    {
     "data": {
      "text/markdown": [
       "**Cluster 408 Group :48446**\n"
      ],
      "text/plain": [
       "<IPython.core.display.Markdown object>"
      ]
     },
     "metadata": {},
     "output_type": "display_data"
    },
    {
     "name": "stdout",
     "output_type": "stream",
     "text": [
      "Record count: 1\n",
      "     user id  age gender occupation zip code Age_category\n",
      "450      451   16      M    student    48446         0-20\n",
      "\n",
      "\n"
     ]
    },
    {
     "data": {
      "text/markdown": [
       "**Cluster 409 Group :28018**\n"
      ],
      "text/plain": [
       "<IPython.core.display.Markdown object>"
      ]
     },
     "metadata": {},
     "output_type": "display_data"
    },
    {
     "name": "stdout",
     "output_type": "stream",
     "text": [
      "Record count: 1\n",
      "     user id  age gender     occupation zip code Age_category\n",
      "451      452   35      M  administrator    28018        20-40\n",
      "\n",
      "\n"
     ]
    },
    {
     "data": {
      "text/markdown": [
       "**Cluster 410 Group :06333**\n"
      ],
      "text/plain": [
       "<IPython.core.display.Markdown object>"
      ]
     },
     "metadata": {},
     "output_type": "display_data"
    },
    {
     "name": "stdout",
     "output_type": "stream",
     "text": [
      "Record count: 1\n",
      "     user id  age gender occupation zip code Age_category\n",
      "452      453   18      M    student    06333         0-20\n",
      "\n",
      "\n"
     ]
    },
    {
     "data": {
      "text/markdown": [
       "**Cluster 411 Group :97330**\n"
      ],
      "text/plain": [
       "<IPython.core.display.Markdown object>"
      ]
     },
     "metadata": {},
     "output_type": "display_data"
    },
    {
     "name": "stdout",
     "output_type": "stream",
     "text": [
      "Record count: 1\n",
      "     user id  age gender occupation zip code Age_category\n",
      "453      454   57      M      other    97330        40-60\n",
      "\n",
      "\n"
     ]
    },
    {
     "data": {
      "text/markdown": [
       "**Cluster 412 Group :83709**\n"
      ],
      "text/plain": [
       "<IPython.core.display.Markdown object>"
      ]
     },
     "metadata": {},
     "output_type": "display_data"
    },
    {
     "name": "stdout",
     "output_type": "stream",
     "text": [
      "Record count: 1\n",
      "     user id  age gender     occupation zip code Age_category\n",
      "454      455   48      M  administrator    83709        40-60\n",
      "\n",
      "\n"
     ]
    },
    {
     "data": {
      "text/markdown": [
       "**Cluster 413 Group :31820**\n"
      ],
      "text/plain": [
       "<IPython.core.display.Markdown object>"
      ]
     },
     "metadata": {},
     "output_type": "display_data"
    },
    {
     "name": "stdout",
     "output_type": "stream",
     "text": [
      "Record count: 1\n",
      "     user id  age gender  occupation zip code Age_category\n",
      "455      456   24      M  technician    31820        20-40\n",
      "\n",
      "\n"
     ]
    },
    {
     "data": {
      "text/markdown": [
       "**Cluster 414 Group :30011**\n"
      ],
      "text/plain": [
       "<IPython.core.display.Markdown object>"
      ]
     },
     "metadata": {},
     "output_type": "display_data"
    },
    {
     "name": "stdout",
     "output_type": "stream",
     "text": [
      "Record count: 1\n",
      "     user id  age gender occupation zip code Age_category\n",
      "456      457   33      F   salesman    30011        20-40\n",
      "\n",
      "\n"
     ]
    },
    {
     "data": {
      "text/markdown": [
       "**Cluster 415 Group :Y1A6B**\n"
      ],
      "text/plain": [
       "<IPython.core.display.Markdown object>"
      ]
     },
     "metadata": {},
     "output_type": "display_data"
    },
    {
     "name": "stdout",
     "output_type": "stream",
     "text": [
      "Record count: 1\n",
      "     user id  age gender  occupation zip code Age_category\n",
      "457      458   47      M  technician    Y1A6B        40-60\n",
      "\n",
      "\n"
     ]
    },
    {
     "data": {
      "text/markdown": [
       "**Cluster 416 Group :29201**\n"
      ],
      "text/plain": [
       "<IPython.core.display.Markdown object>"
      ]
     },
     "metadata": {},
     "output_type": "display_data"
    },
    {
     "name": "stdout",
     "output_type": "stream",
     "text": [
      "Record count: 1\n",
      "     user id  age gender occupation zip code Age_category\n",
      "458      459   22      M    student    29201        20-40\n",
      "\n",
      "\n"
     ]
    },
    {
     "data": {
      "text/markdown": [
       "**Cluster 417 Group :60630**\n"
      ],
      "text/plain": [
       "<IPython.core.display.Markdown object>"
      ]
     },
     "metadata": {},
     "output_type": "display_data"
    },
    {
     "name": "stdout",
     "output_type": "stream",
     "text": [
      "Record count: 2\n",
      "     user id  age gender occupation zip code Age_category\n",
      "459      460   44      F      other    60630        40-60\n",
      "732      733   44      F      other    60630        40-60\n",
      "\n",
      "\n"
     ]
    },
    {
     "data": {
      "text/markdown": [
       "**Cluster 418 Group :98102**\n"
      ],
      "text/plain": [
       "<IPython.core.display.Markdown object>"
      ]
     },
     "metadata": {},
     "output_type": "display_data"
    },
    {
     "name": "stdout",
     "output_type": "stream",
     "text": [
      "Record count: 1\n",
      "     user id  age gender occupation zip code Age_category\n",
      "460      461   15      M    student    98102         0-20\n",
      "\n",
      "\n"
     ]
    },
    {
     "data": {
      "text/markdown": [
       "**Cluster 419 Group :02918**\n"
      ],
      "text/plain": [
       "<IPython.core.display.Markdown object>"
      ]
     },
     "metadata": {},
     "output_type": "display_data"
    },
    {
     "name": "stdout",
     "output_type": "stream",
     "text": [
      "Record count: 1\n",
      "     user id  age gender occupation zip code Age_category\n",
      "461      462   19      F    student    02918         0-20\n",
      "\n",
      "\n"
     ]
    },
    {
     "data": {
      "text/markdown": [
       "**Cluster 420 Group :75218**\n"
      ],
      "text/plain": [
       "<IPython.core.display.Markdown object>"
      ]
     },
     "metadata": {},
     "output_type": "display_data"
    },
    {
     "name": "stdout",
     "output_type": "stream",
     "text": [
      "Record count: 1\n",
      "     user id  age gender  occupation zip code Age_category\n",
      "462      463   48      F  healthcare    75218        40-60\n",
      "\n",
      "\n"
     ]
    },
    {
     "data": {
      "text/markdown": [
       "**Cluster 421 Group :94583**\n"
      ],
      "text/plain": [
       "<IPython.core.display.Markdown object>"
      ]
     },
     "metadata": {},
     "output_type": "display_data"
    },
    {
     "name": "stdout",
     "output_type": "stream",
     "text": [
      "Record count: 1\n",
      "     user id  age gender occupation zip code Age_category\n",
      "463      464   60      M     writer    94583        40-60\n",
      "\n",
      "\n"
     ]
    },
    {
     "data": {
      "text/markdown": [
       "**Cluster 422 Group :05001**\n"
      ],
      "text/plain": [
       "<IPython.core.display.Markdown object>"
      ]
     },
     "metadata": {},
     "output_type": "display_data"
    },
    {
     "name": "stdout",
     "output_type": "stream",
     "text": [
      "Record count: 1\n",
      "     user id  age gender occupation zip code Age_category\n",
      "464      465   32      M      other    05001        20-40\n",
      "\n",
      "\n"
     ]
    },
    {
     "data": {
      "text/markdown": [
       "**Cluster 423 Group :90804**\n"
      ],
      "text/plain": [
       "<IPython.core.display.Markdown object>"
      ]
     },
     "metadata": {},
     "output_type": "display_data"
    },
    {
     "name": "stdout",
     "output_type": "stream",
     "text": [
      "Record count: 1\n",
      "     user id  age gender occupation zip code Age_category\n",
      "465      466   22      M    student    90804        20-40\n",
      "\n",
      "\n"
     ]
    },
    {
     "data": {
      "text/markdown": [
       "**Cluster 424 Group :91201**\n"
      ],
      "text/plain": [
       "<IPython.core.display.Markdown object>"
      ]
     },
     "metadata": {},
     "output_type": "display_data"
    },
    {
     "name": "stdout",
     "output_type": "stream",
     "text": [
      "Record count: 2\n",
      "     user id  age gender occupation zip code Age_category\n",
      "466      467   29      M   engineer    91201        20-40\n",
      "539      540   28      M   engineer    91201        20-40\n",
      "\n",
      "\n"
     ]
    },
    {
     "data": {
      "text/markdown": [
       "**Cluster 425 Group :02341**\n"
      ],
      "text/plain": [
       "<IPython.core.display.Markdown object>"
      ]
     },
     "metadata": {},
     "output_type": "display_data"
    },
    {
     "name": "stdout",
     "output_type": "stream",
     "text": [
      "Record count: 1\n",
      "     user id  age gender occupation zip code Age_category\n",
      "467      468   28      M   engineer    02341        20-40\n",
      "\n",
      "\n"
     ]
    },
    {
     "data": {
      "text/markdown": [
       "**Cluster 426 Group :78628**\n"
      ],
      "text/plain": [
       "<IPython.core.display.Markdown object>"
      ]
     },
     "metadata": {},
     "output_type": "display_data"
    },
    {
     "name": "stdout",
     "output_type": "stream",
     "text": [
      "Record count: 1\n",
      "     user id  age gender occupation zip code Age_category\n",
      "468      469   60      M   educator    78628        40-60\n",
      "\n",
      "\n"
     ]
    },
    {
     "data": {
      "text/markdown": [
       "**Cluster 427 Group :77459**\n"
      ],
      "text/plain": [
       "<IPython.core.display.Markdown object>"
      ]
     },
     "metadata": {},
     "output_type": "display_data"
    },
    {
     "name": "stdout",
     "output_type": "stream",
     "text": [
      "Record count: 1\n",
      "     user id  age gender occupation zip code Age_category\n",
      "470      471   10      M    student    77459         0-20\n",
      "\n",
      "\n"
     ]
    },
    {
     "data": {
      "text/markdown": [
       "**Cluster 428 Group :87544**\n"
      ],
      "text/plain": [
       "<IPython.core.display.Markdown object>"
      ]
     },
     "metadata": {},
     "output_type": "display_data"
    },
    {
     "name": "stdout",
     "output_type": "stream",
     "text": [
      "Record count: 1\n",
      "     user id  age gender occupation zip code Age_category\n",
      "471      472   24      M    student    87544        20-40\n",
      "\n",
      "\n"
     ]
    },
    {
     "data": {
      "text/markdown": [
       "**Cluster 429 Group :94708**\n"
      ],
      "text/plain": [
       "<IPython.core.display.Markdown object>"
      ]
     },
     "metadata": {},
     "output_type": "display_data"
    },
    {
     "name": "stdout",
     "output_type": "stream",
     "text": [
      "Record count: 1\n",
      "     user id  age gender occupation zip code Age_category\n",
      "472      473   29      M    student    94708        20-40\n",
      "\n",
      "\n"
     ]
    },
    {
     "data": {
      "text/markdown": [
       "**Cluster 430 Group :93711**\n"
      ],
      "text/plain": [
       "<IPython.core.display.Markdown object>"
      ]
     },
     "metadata": {},
     "output_type": "display_data"
    },
    {
     "name": "stdout",
     "output_type": "stream",
     "text": [
      "Record count: 1\n",
      "     user id  age gender occupation zip code Age_category\n",
      "473      474   51      M  executive    93711        40-60\n",
      "\n",
      "\n"
     ]
    },
    {
     "data": {
      "text/markdown": [
       "**Cluster 431 Group :75230**\n"
      ],
      "text/plain": [
       "<IPython.core.display.Markdown object>"
      ]
     },
     "metadata": {},
     "output_type": "display_data"
    },
    {
     "name": "stdout",
     "output_type": "stream",
     "text": [
      "Record count: 1\n",
      "     user id  age gender  occupation zip code Age_category\n",
      "474      475   30      M  programmer    75230        20-40\n",
      "\n",
      "\n"
     ]
    },
    {
     "data": {
      "text/markdown": [
       "**Cluster 432 Group :60440**\n"
      ],
      "text/plain": [
       "<IPython.core.display.Markdown object>"
      ]
     },
     "metadata": {},
     "output_type": "display_data"
    },
    {
     "name": "stdout",
     "output_type": "stream",
     "text": [
      "Record count: 1\n",
      "     user id  age gender occupation zip code Age_category\n",
      "475      476   28      M    student    60440        20-40\n",
      "\n",
      "\n"
     ]
    },
    {
     "data": {
      "text/markdown": [
       "**Cluster 433 Group :02125**\n"
      ],
      "text/plain": [
       "<IPython.core.display.Markdown object>"
      ]
     },
     "metadata": {},
     "output_type": "display_data"
    },
    {
     "name": "stdout",
     "output_type": "stream",
     "text": [
      "Record count: 1\n",
      "     user id  age gender occupation zip code Age_category\n",
      "476      477   23      F    student    02125        20-40\n",
      "\n",
      "\n"
     ]
    },
    {
     "data": {
      "text/markdown": [
       "**Cluster 434 Group :55409**\n"
      ],
      "text/plain": [
       "<IPython.core.display.Markdown object>"
      ]
     },
     "metadata": {},
     "output_type": "display_data"
    },
    {
     "name": "stdout",
     "output_type": "stream",
     "text": [
      "Record count: 3\n",
      "     user id  age gender occupation zip code Age_category\n",
      "478      479   30      M   educator    55409        20-40\n",
      "684      685   32      F  librarian    55409        20-40\n",
      "836      837   36      F     artist    55409        20-40\n",
      "\n",
      "\n"
     ]
    },
    {
     "data": {
      "text/markdown": [
       "**Cluster 435 Group :98257**\n"
      ],
      "text/plain": [
       "<IPython.core.display.Markdown object>"
      ]
     },
     "metadata": {},
     "output_type": "display_data"
    },
    {
     "name": "stdout",
     "output_type": "stream",
     "text": [
      "Record count: 1\n",
      "     user id  age gender occupation zip code Age_category\n",
      "479      480   57      M    retired    98257        40-60\n",
      "\n",
      "\n"
     ]
    },
    {
     "data": {
      "text/markdown": [
       "**Cluster 436 Group :37771**\n"
      ],
      "text/plain": [
       "<IPython.core.display.Markdown object>"
      ]
     },
     "metadata": {},
     "output_type": "display_data"
    },
    {
     "name": "stdout",
     "output_type": "stream",
     "text": [
      "Record count: 1\n",
      "     user id  age gender occupation zip code Age_category\n",
      "480      481   73      M    retired    37771        60-80\n",
      "\n",
      "\n"
     ]
    },
    {
     "data": {
      "text/markdown": [
       "**Cluster 437 Group :40256**\n"
      ],
      "text/plain": [
       "<IPython.core.display.Markdown object>"
      ]
     },
     "metadata": {},
     "output_type": "display_data"
    },
    {
     "name": "stdout",
     "output_type": "stream",
     "text": [
      "Record count: 1\n",
      "     user id  age gender occupation zip code Age_category\n",
      "481      482   18      F    student    40256         0-20\n",
      "\n",
      "\n"
     ]
    },
    {
     "data": {
      "text/markdown": [
       "**Cluster 438 Group :21208**\n"
      ],
      "text/plain": [
       "<IPython.core.display.Markdown object>"
      ]
     },
     "metadata": {},
     "output_type": "display_data"
    },
    {
     "name": "stdout",
     "output_type": "stream",
     "text": [
      "Record count: 1\n",
      "     user id  age gender occupation zip code Age_category\n",
      "483      484   27      M    student    21208        20-40\n",
      "\n",
      "\n"
     ]
    },
    {
     "data": {
      "text/markdown": [
       "**Cluster 439 Group :95821**\n"
      ],
      "text/plain": [
       "<IPython.core.display.Markdown object>"
      ]
     },
     "metadata": {},
     "output_type": "display_data"
    },
    {
     "name": "stdout",
     "output_type": "stream",
     "text": [
      "Record count: 1\n",
      "     user id  age gender occupation zip code Age_category\n",
      "484      485   44      F   educator    95821        40-60\n",
      "\n",
      "\n"
     ]
    },
    {
     "data": {
      "text/markdown": [
       "**Cluster 440 Group :93101**\n"
      ],
      "text/plain": [
       "<IPython.core.display.Markdown object>"
      ]
     },
     "metadata": {},
     "output_type": "display_data"
    },
    {
     "name": "stdout",
     "output_type": "stream",
     "text": [
      "Record count: 1\n",
      "     user id  age gender occupation zip code Age_category\n",
      "485      486   39      M   educator    93101        20-40\n",
      "\n",
      "\n"
     ]
    },
    {
     "data": {
      "text/markdown": [
       "**Cluster 441 Group :92121**\n"
      ],
      "text/plain": [
       "<IPython.core.display.Markdown object>"
      ]
     },
     "metadata": {},
     "output_type": "display_data"
    },
    {
     "name": "stdout",
     "output_type": "stream",
     "text": [
      "Record count: 1\n",
      "     user id  age gender occupation zip code Age_category\n",
      "486      487   22      M   engineer    92121        20-40\n",
      "\n",
      "\n"
     ]
    },
    {
     "data": {
      "text/markdown": [
       "**Cluster 442 Group :21012**\n"
      ],
      "text/plain": [
       "<IPython.core.display.Markdown object>"
      ]
     },
     "metadata": {},
     "output_type": "display_data"
    },
    {
     "name": "stdout",
     "output_type": "stream",
     "text": [
      "Record count: 1\n",
      "     user id  age gender  occupation zip code Age_category\n",
      "487      488   48      M  technician    21012        40-60\n",
      "\n",
      "\n"
     ]
    },
    {
     "data": {
      "text/markdown": [
       "**Cluster 443 Group :V5A2B**\n"
      ],
      "text/plain": [
       "<IPython.core.display.Markdown object>"
      ]
     },
     "metadata": {},
     "output_type": "display_data"
    },
    {
     "name": "stdout",
     "output_type": "stream",
     "text": [
      "Record count: 1\n",
      "     user id  age gender occupation zip code Age_category\n",
      "489      490   29      F     artist    V5A2B        20-40\n",
      "\n",
      "\n"
     ]
    },
    {
     "data": {
      "text/markdown": [
       "**Cluster 444 Group :53711**\n"
      ],
      "text/plain": [
       "<IPython.core.display.Markdown object>"
      ]
     },
     "metadata": {},
     "output_type": "display_data"
    },
    {
     "name": "stdout",
     "output_type": "stream",
     "text": [
      "Record count: 2\n",
      "     user id  age gender occupation zip code Age_category\n",
      "490      491   43      F     writer    53711        40-60\n",
      "928      929   44      M  scientist    53711        40-60\n",
      "\n",
      "\n"
     ]
    },
    {
     "data": {
      "text/markdown": [
       "**Cluster 445 Group :94618**\n"
      ],
      "text/plain": [
       "<IPython.core.display.Markdown object>"
      ]
     },
     "metadata": {},
     "output_type": "display_data"
    },
    {
     "name": "stdout",
     "output_type": "stream",
     "text": [
      "Record count: 2\n",
      "     user id  age gender occupation zip code Age_category\n",
      "491      492   57      M   educator    94618        40-60\n",
      "735      736   48      F     writer    94618        40-60\n",
      "\n",
      "\n"
     ]
    },
    {
     "data": {
      "text/markdown": [
       "**Cluster 446 Group :60090**\n"
      ],
      "text/plain": [
       "<IPython.core.display.Markdown object>"
      ]
     },
     "metadata": {},
     "output_type": "display_data"
    },
    {
     "name": "stdout",
     "output_type": "stream",
     "text": [
      "Record count: 1\n",
      "     user id  age gender occupation zip code Age_category\n",
      "492      493   22      M   engineer    60090        20-40\n",
      "\n",
      "\n"
     ]
    },
    {
     "data": {
      "text/markdown": [
       "**Cluster 447 Group :49428**\n"
      ],
      "text/plain": [
       "<IPython.core.display.Markdown object>"
      ]
     },
     "metadata": {},
     "output_type": "display_data"
    },
    {
     "name": "stdout",
     "output_type": "stream",
     "text": [
      "Record count: 1\n",
      "     user id  age gender     occupation zip code Age_category\n",
      "493      494   38      F  administrator    49428        20-40\n",
      "\n",
      "\n"
     ]
    },
    {
     "data": {
      "text/markdown": [
       "**Cluster 448 Group :03052**\n"
      ],
      "text/plain": [
       "<IPython.core.display.Markdown object>"
      ]
     },
     "metadata": {},
     "output_type": "display_data"
    },
    {
     "name": "stdout",
     "output_type": "stream",
     "text": [
      "Record count: 1\n",
      "     user id  age gender occupation zip code Age_category\n",
      "494      495   29      M   engineer    03052        20-40\n",
      "\n",
      "\n"
     ]
    },
    {
     "data": {
      "text/markdown": [
       "**Cluster 449 Group :50112**\n"
      ],
      "text/plain": [
       "<IPython.core.display.Markdown object>"
      ]
     },
     "metadata": {},
     "output_type": "display_data"
    },
    {
     "name": "stdout",
     "output_type": "stream",
     "text": [
      "Record count: 1\n",
      "     user id  age gender occupation zip code Age_category\n",
      "496      497   20      M    student    50112         0-20\n",
      "\n",
      "\n"
     ]
    },
    {
     "data": {
      "text/markdown": [
       "**Cluster 450 Group :55408**\n"
      ],
      "text/plain": [
       "<IPython.core.display.Markdown object>"
      ]
     },
     "metadata": {},
     "output_type": "display_data"
    },
    {
     "name": "stdout",
     "output_type": "stream",
     "text": [
      "Record count: 4\n",
      "     user id  age gender  occupation zip code Age_category\n",
      "497      498   26      M      writer    55408        20-40\n",
      "629      630   26      F  healthcare    55408        20-40\n",
      "853      854   29      F     student    55408        20-40\n",
      "927      928   21      M     student    55408        20-40\n",
      "\n",
      "\n"
     ]
    },
    {
     "data": {
      "text/markdown": [
       "**Cluster 451 Group :75006**\n"
      ],
      "text/plain": [
       "<IPython.core.display.Markdown object>"
      ]
     },
     "metadata": {},
     "output_type": "display_data"
    },
    {
     "name": "stdout",
     "output_type": "stream",
     "text": [
      "Record count: 1\n",
      "     user id  age gender  occupation zip code Age_category\n",
      "498      499   42      M  programmer    75006        40-60\n",
      "\n",
      "\n"
     ]
    },
    {
     "data": {
      "text/markdown": [
       "**Cluster 452 Group :94305**\n"
      ],
      "text/plain": [
       "<IPython.core.display.Markdown object>"
      ]
     },
     "metadata": {},
     "output_type": "display_data"
    },
    {
     "name": "stdout",
     "output_type": "stream",
     "text": [
      "Record count: 1\n",
      "     user id  age gender     occupation zip code Age_category\n",
      "499      500   28      M  administrator    94305        20-40\n",
      "\n",
      "\n"
     ]
    },
    {
     "data": {
      "text/markdown": [
       "**Cluster 453 Group :10025**\n"
      ],
      "text/plain": [
       "<IPython.core.display.Markdown object>"
      ]
     },
     "metadata": {},
     "output_type": "display_data"
    },
    {
     "name": "stdout",
     "output_type": "stream",
     "text": [
      "Record count: 2\n",
      "     user id  age gender occupation zip code Age_category\n",
      "500      501   22      M    student    10025        20-40\n",
      "868      869   30      M    student    10025        20-40\n",
      "\n",
      "\n"
     ]
    },
    {
     "data": {
      "text/markdown": [
       "**Cluster 454 Group :23092**\n"
      ],
      "text/plain": [
       "<IPython.core.display.Markdown object>"
      ]
     },
     "metadata": {},
     "output_type": "display_data"
    },
    {
     "name": "stdout",
     "output_type": "stream",
     "text": [
      "Record count: 1\n",
      "     user id  age gender occupation zip code Age_category\n",
      "501      502   22      M    student    23092        20-40\n",
      "\n",
      "\n"
     ]
    },
    {
     "data": {
      "text/markdown": [
       "**Cluster 455 Group :92115**\n"
      ],
      "text/plain": [
       "<IPython.core.display.Markdown object>"
      ]
     },
     "metadata": {},
     "output_type": "display_data"
    },
    {
     "name": "stdout",
     "output_type": "stream",
     "text": [
      "Record count: 1\n",
      "     user id  age gender occupation zip code Age_category\n",
      "503      504   40      F     writer    92115        20-40\n",
      "\n",
      "\n"
     ]
    },
    {
     "data": {
      "text/markdown": [
       "**Cluster 456 Group :20657**\n"
      ],
      "text/plain": [
       "<IPython.core.display.Markdown object>"
      ]
     },
     "metadata": {},
     "output_type": "display_data"
    },
    {
     "name": "stdout",
     "output_type": "stream",
     "text": [
      "Record count: 1\n",
      "     user id  age gender occupation zip code Age_category\n",
      "504      505   27      F      other    20657        20-40\n",
      "\n",
      "\n"
     ]
    },
    {
     "data": {
      "text/markdown": [
       "**Cluster 457 Group :03869**\n"
      ],
      "text/plain": [
       "<IPython.core.display.Markdown object>"
      ]
     },
     "metadata": {},
     "output_type": "display_data"
    },
    {
     "name": "stdout",
     "output_type": "stream",
     "text": [
      "Record count: 1\n",
      "     user id  age gender  occupation zip code Age_category\n",
      "505      506   46      M  programmer    03869        40-60\n",
      "\n",
      "\n"
     ]
    },
    {
     "data": {
      "text/markdown": [
       "**Cluster 458 Group :28450**\n"
      ],
      "text/plain": [
       "<IPython.core.display.Markdown object>"
      ]
     },
     "metadata": {},
     "output_type": "display_data"
    },
    {
     "name": "stdout",
     "output_type": "stream",
     "text": [
      "Record count: 1\n",
      "     user id  age gender occupation zip code Age_category\n",
      "506      507   18      F     writer    28450         0-20\n",
      "\n",
      "\n"
     ]
    },
    {
     "data": {
      "text/markdown": [
       "**Cluster 459 Group :19382**\n"
      ],
      "text/plain": [
       "<IPython.core.display.Markdown object>"
      ]
     },
     "metadata": {},
     "output_type": "display_data"
    },
    {
     "name": "stdout",
     "output_type": "stream",
     "text": [
      "Record count: 1\n",
      "     user id  age gender occupation zip code Age_category\n",
      "507      508   27      M  marketing    19382        20-40\n",
      "\n",
      "\n"
     ]
    },
    {
     "data": {
      "text/markdown": [
       "**Cluster 460 Group :10011**\n"
      ],
      "text/plain": [
       "<IPython.core.display.Markdown object>"
      ]
     },
     "metadata": {},
     "output_type": "display_data"
    },
    {
     "name": "stdout",
     "output_type": "stream",
     "text": [
      "Record count: 1\n",
      "     user id  age gender     occupation zip code Age_category\n",
      "508      509   23      M  administrator    10011        20-40\n",
      "\n",
      "\n"
     ]
    },
    {
     "data": {
      "text/markdown": [
       "**Cluster 461 Group :98038**\n"
      ],
      "text/plain": [
       "<IPython.core.display.Markdown object>"
      ]
     },
     "metadata": {},
     "output_type": "display_data"
    },
    {
     "name": "stdout",
     "output_type": "stream",
     "text": [
      "Record count: 1\n",
      "     user id  age gender occupation zip code Age_category\n",
      "509      510   34      M      other    98038        20-40\n",
      "\n",
      "\n"
     ]
    },
    {
     "data": {
      "text/markdown": [
       "**Cluster 462 Group :21250**\n"
      ],
      "text/plain": [
       "<IPython.core.display.Markdown object>"
      ]
     },
     "metadata": {},
     "output_type": "display_data"
    },
    {
     "name": "stdout",
     "output_type": "stream",
     "text": [
      "Record count: 1\n",
      "     user id  age gender occupation zip code Age_category\n",
      "510      511   22      M    student    21250        20-40\n",
      "\n",
      "\n"
     ]
    },
    {
     "data": {
      "text/markdown": [
       "**Cluster 463 Group :20090**\n"
      ],
      "text/plain": [
       "<IPython.core.display.Markdown object>"
      ]
     },
     "metadata": {},
     "output_type": "display_data"
    },
    {
     "name": "stdout",
     "output_type": "stream",
     "text": [
      "Record count: 1\n",
      "     user id  age gender occupation zip code Age_category\n",
      "511      512   29      M      other    20090        20-40\n",
      "\n",
      "\n"
     ]
    },
    {
     "data": {
      "text/markdown": [
       "**Cluster 464 Group :26241**\n"
      ],
      "text/plain": [
       "<IPython.core.display.Markdown object>"
      ]
     },
     "metadata": {},
     "output_type": "display_data"
    },
    {
     "name": "stdout",
     "output_type": "stream",
     "text": [
      "Record count: 1\n",
      "     user id  age gender     occupation zip code Age_category\n",
      "512      513   43      M  administrator    26241        40-60\n",
      "\n",
      "\n"
     ]
    },
    {
     "data": {
      "text/markdown": [
       "**Cluster 465 Group :20707**\n"
      ],
      "text/plain": [
       "<IPython.core.display.Markdown object>"
      ]
     },
     "metadata": {},
     "output_type": "display_data"
    },
    {
     "name": "stdout",
     "output_type": "stream",
     "text": [
      "Record count: 1\n",
      "     user id  age gender  occupation zip code Age_category\n",
      "513      514   27      M  programmer    20707        20-40\n",
      "\n",
      "\n"
     ]
    },
    {
     "data": {
      "text/markdown": [
       "**Cluster 466 Group :49508**\n"
      ],
      "text/plain": [
       "<IPython.core.display.Markdown object>"
      ]
     },
     "metadata": {},
     "output_type": "display_data"
    },
    {
     "name": "stdout",
     "output_type": "stream",
     "text": [
      "Record count: 1\n",
      "     user id  age gender occupation zip code Age_category\n",
      "514      515   53      M  marketing    49508        40-60\n",
      "\n",
      "\n"
     ]
    },
    {
     "data": {
      "text/markdown": [
       "**Cluster 467 Group :55320**\n"
      ],
      "text/plain": [
       "<IPython.core.display.Markdown object>"
      ]
     },
     "metadata": {},
     "output_type": "display_data"
    },
    {
     "name": "stdout",
     "output_type": "stream",
     "text": [
      "Record count: 1\n",
      "     user id  age gender occupation zip code Age_category\n",
      "518      519   22      M      other    55320        20-40\n",
      "\n",
      "\n"
     ]
    },
    {
     "data": {
      "text/markdown": [
       "**Cluster 468 Group :12603**\n"
      ],
      "text/plain": [
       "<IPython.core.display.Markdown object>"
      ]
     },
     "metadata": {},
     "output_type": "display_data"
    },
    {
     "name": "stdout",
     "output_type": "stream",
     "text": [
      "Record count: 1\n",
      "     user id  age gender  occupation zip code Age_category\n",
      "519      520   62      M  healthcare    12603        60-80\n",
      "\n",
      "\n"
     ]
    },
    {
     "data": {
      "text/markdown": [
       "**Cluster 469 Group :02146**\n"
      ],
      "text/plain": [
       "<IPython.core.display.Markdown object>"
      ]
     },
     "metadata": {},
     "output_type": "display_data"
    },
    {
     "name": "stdout",
     "output_type": "stream",
     "text": [
      "Record count: 2\n",
      "     user id  age gender occupation zip code Age_category\n",
      "520      521   19      M    student    02146         0-20\n",
      "847      848   46      M   engineer    02146        40-60\n",
      "\n",
      "\n"
     ]
    },
    {
     "data": {
      "text/markdown": [
       "**Cluster 470 Group :55443**\n"
      ],
      "text/plain": [
       "<IPython.core.display.Markdown object>"
      ]
     },
     "metadata": {},
     "output_type": "display_data"
    },
    {
     "name": "stdout",
     "output_type": "stream",
     "text": [
      "Record count: 1\n",
      "     user id  age gender occupation zip code Age_category\n",
      "521      522   36      M   engineer    55443        20-40\n",
      "\n",
      "\n"
     ]
    },
    {
     "data": {
      "text/markdown": [
       "**Cluster 471 Group :04102**\n"
      ],
      "text/plain": [
       "<IPython.core.display.Markdown object>"
      ]
     },
     "metadata": {},
     "output_type": "display_data"
    },
    {
     "name": "stdout",
     "output_type": "stream",
     "text": [
      "Record count: 1\n",
      "     user id  age gender     occupation zip code Age_category\n",
      "522      523   50      F  administrator    04102        40-60\n",
      "\n",
      "\n"
     ]
    },
    {
     "data": {
      "text/markdown": [
       "**Cluster 472 Group :02159**\n"
      ],
      "text/plain": [
       "<IPython.core.display.Markdown object>"
      ]
     },
     "metadata": {},
     "output_type": "display_data"
    },
    {
     "name": "stdout",
     "output_type": "stream",
     "text": [
      "Record count: 1\n",
      "     user id  age gender occupation zip code Age_category\n",
      "523      524   56      M   educator    02159        40-60\n",
      "\n",
      "\n"
     ]
    },
    {
     "data": {
      "text/markdown": [
       "**Cluster 473 Group :19711**\n"
      ],
      "text/plain": [
       "<IPython.core.display.Markdown object>"
      ]
     },
     "metadata": {},
     "output_type": "display_data"
    },
    {
     "name": "stdout",
     "output_type": "stream",
     "text": [
      "Record count: 1\n",
      "     user id  age gender     occupation zip code Age_category\n",
      "524      525   27      F  administrator    19711        20-40\n",
      "\n",
      "\n"
     ]
    },
    {
     "data": {
      "text/markdown": [
       "**Cluster 474 Group :97124**\n"
      ],
      "text/plain": [
       "<IPython.core.display.Markdown object>"
      ]
     },
     "metadata": {},
     "output_type": "display_data"
    },
    {
     "name": "stdout",
     "output_type": "stream",
     "text": [
      "Record count: 1\n",
      "     user id  age gender occupation zip code Age_category\n",
      "525      526   30      M  marketing    97124        20-40\n",
      "\n",
      "\n"
     ]
    },
    {
     "data": {
      "text/markdown": [
       "**Cluster 475 Group :12180**\n"
      ],
      "text/plain": [
       "<IPython.core.display.Markdown object>"
      ]
     },
     "metadata": {},
     "output_type": "display_data"
    },
    {
     "name": "stdout",
     "output_type": "stream",
     "text": [
      "Record count: 1\n",
      "     user id  age gender occupation zip code Age_category\n",
      "526      527   33      M  librarian    12180        20-40\n",
      "\n",
      "\n"
     ]
    },
    {
     "data": {
      "text/markdown": [
       "**Cluster 476 Group :44224**\n"
      ],
      "text/plain": [
       "<IPython.core.display.Markdown object>"
      ]
     },
     "metadata": {},
     "output_type": "display_data"
    },
    {
     "name": "stdout",
     "output_type": "stream",
     "text": [
      "Record count: 2\n",
      "     user id  age gender     occupation zip code Age_category\n",
      "528      529   47      F  administrator    44224        40-60\n",
      "628      629   46      F          other    44224        40-60\n",
      "\n",
      "\n"
     ]
    },
    {
     "data": {
      "text/markdown": [
       "**Cluster 477 Group :94040**\n"
      ],
      "text/plain": [
       "<IPython.core.display.Markdown object>"
      ]
     },
     "metadata": {},
     "output_type": "display_data"
    },
    {
     "name": "stdout",
     "output_type": "stream",
     "text": [
      "Record count: 1\n",
      "     user id  age gender occupation zip code Age_category\n",
      "529      530   29      M   engineer    94040        20-40\n",
      "\n",
      "\n"
     ]
    },
    {
     "data": {
      "text/markdown": [
       "**Cluster 478 Group :97408**\n"
      ],
      "text/plain": [
       "<IPython.core.display.Markdown object>"
      ]
     },
     "metadata": {},
     "output_type": "display_data"
    },
    {
     "name": "stdout",
     "output_type": "stream",
     "text": [
      "Record count: 1\n",
      "     user id  age gender occupation zip code Age_category\n",
      "530      531   30      F   salesman    97408        20-40\n",
      "\n",
      "\n"
     ]
    },
    {
     "data": {
      "text/markdown": [
       "**Cluster 479 Group :92705**\n"
      ],
      "text/plain": [
       "<IPython.core.display.Markdown object>"
      ]
     },
     "metadata": {},
     "output_type": "display_data"
    },
    {
     "name": "stdout",
     "output_type": "stream",
     "text": [
      "Record count: 1\n",
      "     user id  age gender occupation zip code Age_category\n",
      "531      532   20      M    student    92705         0-20\n",
      "\n",
      "\n"
     ]
    },
    {
     "data": {
      "text/markdown": [
       "**Cluster 480 Group :02324**\n"
      ],
      "text/plain": [
       "<IPython.core.display.Markdown object>"
      ]
     },
     "metadata": {},
     "output_type": "display_data"
    },
    {
     "name": "stdout",
     "output_type": "stream",
     "text": [
      "Record count: 1\n",
      "     user id  age gender occupation zip code Age_category\n",
      "532      533   43      M  librarian    02324        40-60\n",
      "\n",
      "\n"
     ]
    },
    {
     "data": {
      "text/markdown": [
       "**Cluster 481 Group :05464**\n"
      ],
      "text/plain": [
       "<IPython.core.display.Markdown object>"
      ]
     },
     "metadata": {},
     "output_type": "display_data"
    },
    {
     "name": "stdout",
     "output_type": "stream",
     "text": [
      "Record count: 1\n",
      "     user id  age gender occupation zip code Age_category\n",
      "533      534   20      M    student    05464         0-20\n",
      "\n",
      "\n"
     ]
    },
    {
     "data": {
      "text/markdown": [
       "**Cluster 482 Group :80302**\n"
      ],
      "text/plain": [
       "<IPython.core.display.Markdown object>"
      ]
     },
     "metadata": {},
     "output_type": "display_data"
    },
    {
     "name": "stdout",
     "output_type": "stream",
     "text": [
      "Record count: 1\n",
      "     user id  age gender occupation zip code Age_category\n",
      "534      535   45      F   educator    80302        40-60\n",
      "\n",
      "\n"
     ]
    },
    {
     "data": {
      "text/markdown": [
       "**Cluster 483 Group :30078**\n"
      ],
      "text/plain": [
       "<IPython.core.display.Markdown object>"
      ]
     },
     "metadata": {},
     "output_type": "display_data"
    },
    {
     "name": "stdout",
     "output_type": "stream",
     "text": [
      "Record count: 1\n",
      "     user id  age gender occupation zip code Age_category\n",
      "535      536   38      M   engineer    30078        20-40\n",
      "\n",
      "\n"
     ]
    },
    {
     "data": {
      "text/markdown": [
       "**Cluster 484 Group :21010**\n"
      ],
      "text/plain": [
       "<IPython.core.display.Markdown object>"
      ]
     },
     "metadata": {},
     "output_type": "display_data"
    },
    {
     "name": "stdout",
     "output_type": "stream",
     "text": [
      "Record count: 1\n",
      "     user id  age gender occupation zip code Age_category\n",
      "537      538   31      M  scientist    21010        20-40\n",
      "\n",
      "\n"
     ]
    },
    {
     "data": {
      "text/markdown": [
       "**Cluster 485 Group :80303**\n"
      ],
      "text/plain": [
       "<IPython.core.display.Markdown object>"
      ]
     },
     "metadata": {},
     "output_type": "display_data"
    },
    {
     "name": "stdout",
     "output_type": "stream",
     "text": [
      "Record count: 1\n",
      "     user id  age gender     occupation zip code Age_category\n",
      "538      539   53      F  administrator    80303        40-60\n",
      "\n",
      "\n"
     ]
    },
    {
     "data": {
      "text/markdown": [
       "**Cluster 486 Group :84302**\n"
      ],
      "text/plain": [
       "<IPython.core.display.Markdown object>"
      ]
     },
     "metadata": {},
     "output_type": "display_data"
    },
    {
     "name": "stdout",
     "output_type": "stream",
     "text": [
      "Record count: 1\n",
      "     user id  age gender occupation zip code Age_category\n",
      "540      541   19      F    student    84302         0-20\n",
      "\n",
      "\n"
     ]
    },
    {
     "data": {
      "text/markdown": [
       "**Cluster 487 Group :60515**\n"
      ],
      "text/plain": [
       "<IPython.core.display.Markdown object>"
      ]
     },
     "metadata": {},
     "output_type": "display_data"
    },
    {
     "name": "stdout",
     "output_type": "stream",
     "text": [
      "Record count: 1\n",
      "     user id  age gender occupation zip code Age_category\n",
      "541      542   21      M    student    60515        20-40\n",
      "\n",
      "\n"
     ]
    },
    {
     "data": {
      "text/markdown": [
       "**Cluster 488 Group :95123**\n"
      ],
      "text/plain": [
       "<IPython.core.display.Markdown object>"
      ]
     },
     "metadata": {},
     "output_type": "display_data"
    },
    {
     "name": "stdout",
     "output_type": "stream",
     "text": [
      "Record count: 1\n",
      "     user id  age gender occupation zip code Age_category\n",
      "542      543   33      M  scientist    95123        20-40\n",
      "\n",
      "\n"
     ]
    },
    {
     "data": {
      "text/markdown": [
       "**Cluster 489 Group :29464**\n"
      ],
      "text/plain": [
       "<IPython.core.display.Markdown object>"
      ]
     },
     "metadata": {},
     "output_type": "display_data"
    },
    {
     "name": "stdout",
     "output_type": "stream",
     "text": [
      "Record count: 1\n",
      "     user id  age gender occupation zip code Age_category\n",
      "543      544   44      F      other    29464        40-60\n",
      "\n",
      "\n"
     ]
    },
    {
     "data": {
      "text/markdown": [
       "**Cluster 490 Group :08052**\n"
      ],
      "text/plain": [
       "<IPython.core.display.Markdown object>"
      ]
     },
     "metadata": {},
     "output_type": "display_data"
    },
    {
     "name": "stdout",
     "output_type": "stream",
     "text": [
      "Record count: 1\n",
      "     user id  age gender  occupation zip code Age_category\n",
      "544      545   27      M  technician    08052        20-40\n",
      "\n",
      "\n"
     ]
    },
    {
     "data": {
      "text/markdown": [
       "**Cluster 491 Group :22911**\n"
      ],
      "text/plain": [
       "<IPython.core.display.Markdown object>"
      ]
     },
     "metadata": {},
     "output_type": "display_data"
    },
    {
     "name": "stdout",
     "output_type": "stream",
     "text": [
      "Record count: 2\n",
      "     user id  age gender occupation zip code Age_category\n",
      "545      546   36      M  executive    22911        20-40\n",
      "651      652   35      M      other    22911        20-40\n",
      "\n",
      "\n"
     ]
    },
    {
     "data": {
      "text/markdown": [
       "**Cluster 492 Group :14534**\n"
      ],
      "text/plain": [
       "<IPython.core.display.Markdown object>"
      ]
     },
     "metadata": {},
     "output_type": "display_data"
    },
    {
     "name": "stdout",
     "output_type": "stream",
     "text": [
      "Record count: 1\n",
      "     user id  age gender occupation zip code Age_category\n",
      "546      547   50      M   educator    14534        40-60\n",
      "\n",
      "\n"
     ]
    },
    {
     "data": {
      "text/markdown": [
       "**Cluster 493 Group :95468**\n"
      ],
      "text/plain": [
       "<IPython.core.display.Markdown object>"
      ]
     },
     "metadata": {},
     "output_type": "display_data"
    },
    {
     "name": "stdout",
     "output_type": "stream",
     "text": [
      "Record count: 1\n",
      "     user id  age gender occupation zip code Age_category\n",
      "547      548   51      M     writer    95468        40-60\n",
      "\n",
      "\n"
     ]
    },
    {
     "data": {
      "text/markdown": [
       "**Cluster 494 Group :45680**\n"
      ],
      "text/plain": [
       "<IPython.core.display.Markdown object>"
      ]
     },
     "metadata": {},
     "output_type": "display_data"
    },
    {
     "name": "stdout",
     "output_type": "stream",
     "text": [
      "Record count: 1\n",
      "     user id  age gender occupation zip code Age_category\n",
      "548      549   42      M  scientist    45680        40-60\n",
      "\n",
      "\n"
     ]
    },
    {
     "data": {
      "text/markdown": [
       "**Cluster 495 Group :95453**\n"
      ],
      "text/plain": [
       "<IPython.core.display.Markdown object>"
      ]
     },
     "metadata": {},
     "output_type": "display_data"
    },
    {
     "name": "stdout",
     "output_type": "stream",
     "text": [
      "Record count: 1\n",
      "     user id  age gender occupation zip code Age_category\n",
      "549      550   16      F    student    95453         0-20\n",
      "\n",
      "\n"
     ]
    },
    {
     "data": {
      "text/markdown": [
       "**Cluster 496 Group :68147**\n"
      ],
      "text/plain": [
       "<IPython.core.display.Markdown object>"
      ]
     },
     "metadata": {},
     "output_type": "display_data"
    },
    {
     "name": "stdout",
     "output_type": "stream",
     "text": [
      "Record count: 1\n",
      "     user id  age gender occupation zip code Age_category\n",
      "551      552   45      M      other    68147        40-60\n",
      "\n",
      "\n"
     ]
    },
    {
     "data": {
      "text/markdown": [
       "**Cluster 497 Group :62901**\n"
      ],
      "text/plain": [
       "<IPython.core.display.Markdown object>"
      ]
     },
     "metadata": {},
     "output_type": "display_data"
    },
    {
     "name": "stdout",
     "output_type": "stream",
     "text": [
      "Record count: 3\n",
      "     user id  age gender occupation zip code Age_category\n",
      "552      553   58      M   educator    62901        40-60\n",
      "553      554   32      M  scientist    62901        20-40\n",
      "753      754   59      F  librarian    62901        40-60\n",
      "\n",
      "\n"
     ]
    },
    {
     "data": {
      "text/markdown": [
       "**Cluster 498 Group :23227**\n"
      ],
      "text/plain": [
       "<IPython.core.display.Markdown object>"
      ]
     },
     "metadata": {},
     "output_type": "display_data"
    },
    {
     "name": "stdout",
     "output_type": "stream",
     "text": [
      "Record count: 1\n",
      "     user id  age gender occupation zip code Age_category\n",
      "554      555   29      F   educator    23227        20-40\n",
      "\n",
      "\n"
     ]
    },
    {
     "data": {
      "text/markdown": [
       "**Cluster 499 Group :30606**\n"
      ],
      "text/plain": [
       "<IPython.core.display.Markdown object>"
      ]
     },
     "metadata": {},
     "output_type": "display_data"
    },
    {
     "name": "stdout",
     "output_type": "stream",
     "text": [
      "Record count: 1\n",
      "     user id  age gender occupation zip code Age_category\n",
      "555      556   35      F   educator    30606        20-40\n",
      "\n",
      "\n"
     ]
    },
    {
     "data": {
      "text/markdown": [
       "**Cluster 500 Group :63132**\n"
      ],
      "text/plain": [
       "<IPython.core.display.Markdown object>"
      ]
     },
     "metadata": {},
     "output_type": "display_data"
    },
    {
     "name": "stdout",
     "output_type": "stream",
     "text": [
      "Record count: 1\n",
      "     user id  age gender occupation zip code Age_category\n",
      "557      558   56      F     writer    63132        40-60\n",
      "\n",
      "\n"
     ]
    },
    {
     "data": {
      "text/markdown": [
       "**Cluster 501 Group :60005**\n"
      ],
      "text/plain": [
       "<IPython.core.display.Markdown object>"
      ]
     },
     "metadata": {},
     "output_type": "display_data"
    },
    {
     "name": "stdout",
     "output_type": "stream",
     "text": [
      "Record count: 1\n",
      "     user id  age gender occupation zip code Age_category\n",
      "560      561   23      M   engineer    60005        20-40\n",
      "\n",
      "\n"
     ]
    },
    {
     "data": {
      "text/markdown": [
       "**Cluster 502 Group :20879**\n"
      ],
      "text/plain": [
       "<IPython.core.display.Markdown object>"
      ]
     },
     "metadata": {},
     "output_type": "display_data"
    },
    {
     "name": "stdout",
     "output_type": "stream",
     "text": [
      "Record count: 1\n",
      "     user id  age gender     occupation zip code Age_category\n",
      "561      562   54      F  administrator    20879        40-60\n",
      "\n",
      "\n"
     ]
    },
    {
     "data": {
      "text/markdown": [
       "**Cluster 503 Group :32707**\n"
      ],
      "text/plain": [
       "<IPython.core.display.Markdown object>"
      ]
     },
     "metadata": {},
     "output_type": "display_data"
    },
    {
     "name": "stdout",
     "output_type": "stream",
     "text": [
      "Record count: 1\n",
      "     user id  age gender occupation zip code Age_category\n",
      "562      563   39      F  librarian    32707        20-40\n",
      "\n",
      "\n"
     ]
    },
    {
     "data": {
      "text/markdown": [
       "**Cluster 504 Group :94591**\n"
      ],
      "text/plain": [
       "<IPython.core.display.Markdown object>"
      ]
     },
     "metadata": {},
     "output_type": "display_data"
    },
    {
     "name": "stdout",
     "output_type": "stream",
     "text": [
      "Record count: 1\n",
      "     user id  age gender occupation zip code Age_category\n",
      "563      564   65      M    retired    94591        60-80\n",
      "\n",
      "\n"
     ]
    },
    {
     "data": {
      "text/markdown": [
       "**Cluster 505 Group :14627**\n"
      ],
      "text/plain": [
       "<IPython.core.display.Markdown object>"
      ]
     },
     "metadata": {},
     "output_type": "display_data"
    },
    {
     "name": "stdout",
     "output_type": "stream",
     "text": [
      "Record count: 2\n",
      "     user id  age gender occupation zip code Age_category\n",
      "565      566   20      M    student    14627         0-20\n",
      "569      570   26      M   educator    14627        20-40\n",
      "\n",
      "\n"
     ]
    },
    {
     "data": {
      "text/markdown": [
       "**Cluster 506 Group :01915**\n"
      ],
      "text/plain": [
       "<IPython.core.display.Markdown object>"
      ]
     },
     "metadata": {},
     "output_type": "display_data"
    },
    {
     "name": "stdout",
     "output_type": "stream",
     "text": [
      "Record count: 1\n",
      "     user id  age gender occupation zip code Age_category\n",
      "567      568   39      M   educator    01915        20-40\n",
      "\n",
      "\n"
     ]
    },
    {
     "data": {
      "text/markdown": [
       "**Cluster 507 Group :91903**\n"
      ],
      "text/plain": [
       "<IPython.core.display.Markdown object>"
      ]
     },
     "metadata": {},
     "output_type": "display_data"
    },
    {
     "name": "stdout",
     "output_type": "stream",
     "text": [
      "Record count: 1\n",
      "     user id  age gender occupation zip code Age_category\n",
      "568      569   34      M   educator    91903        20-40\n",
      "\n",
      "\n"
     ]
    },
    {
     "data": {
      "text/markdown": [
       "**Cluster 508 Group :01945**\n"
      ],
      "text/plain": [
       "<IPython.core.display.Markdown object>"
      ]
     },
     "metadata": {},
     "output_type": "display_data"
    },
    {
     "name": "stdout",
     "output_type": "stream",
     "text": [
      "Record count: 1\n",
      "     user id  age gender occupation zip code Age_category\n",
      "570      571   34      M     artist    01945        20-40\n",
      "\n",
      "\n"
     ]
    },
    {
     "data": {
      "text/markdown": [
       "**Cluster 509 Group :48911**\n"
      ],
      "text/plain": [
       "<IPython.core.display.Markdown object>"
      ]
     },
     "metadata": {},
     "output_type": "display_data"
    },
    {
     "name": "stdout",
     "output_type": "stream",
     "text": [
      "Record count: 1\n",
      "     user id  age gender occupation zip code Age_category\n",
      "572      573   68      M    retired    48911        60-80\n",
      "\n",
      "\n"
     ]
    },
    {
     "data": {
      "text/markdown": [
       "**Cluster 510 Group :53188**\n"
      ],
      "text/plain": [
       "<IPython.core.display.Markdown object>"
      ]
     },
     "metadata": {},
     "output_type": "display_data"
    },
    {
     "name": "stdout",
     "output_type": "stream",
     "text": [
      "Record count: 1\n",
      "     user id  age gender occupation zip code Age_category\n",
      "573      574   56      M   educator    53188        40-60\n",
      "\n",
      "\n"
     ]
    },
    {
     "data": {
      "text/markdown": [
       "**Cluster 511 Group :46032**\n"
      ],
      "text/plain": [
       "<IPython.core.display.Markdown object>"
      ]
     },
     "metadata": {},
     "output_type": "display_data"
    },
    {
     "name": "stdout",
     "output_type": "stream",
     "text": [
      "Record count: 1\n",
      "     user id  age gender occupation zip code Age_category\n",
      "574      575   33      M  marketing    46032        20-40\n",
      "\n",
      "\n"
     ]
    },
    {
     "data": {
      "text/markdown": [
       "**Cluster 512 Group :98281**\n"
      ],
      "text/plain": [
       "<IPython.core.display.Markdown object>"
      ]
     },
     "metadata": {},
     "output_type": "display_data"
    },
    {
     "name": "stdout",
     "output_type": "stream",
     "text": [
      "Record count: 1\n",
      "     user id  age gender occupation zip code Age_category\n",
      "575      576   48      M  executive    98281        40-60\n",
      "\n",
      "\n"
     ]
    },
    {
     "data": {
      "text/markdown": [
       "**Cluster 513 Group :77845**\n"
      ],
      "text/plain": [
       "<IPython.core.display.Markdown object>"
      ]
     },
     "metadata": {},
     "output_type": "display_data"
    },
    {
     "name": "stdout",
     "output_type": "stream",
     "text": [
      "Record count: 2\n",
      "     user id  age gender occupation zip code Age_category\n",
      "576      577   36      F    student    77845        20-40\n",
      "820      821   37      M   engineer    77845        20-40\n",
      "\n",
      "\n"
     ]
    },
    {
     "data": {
      "text/markdown": [
       "**Cluster 514 Group :M7A1A**\n"
      ],
      "text/plain": [
       "<IPython.core.display.Markdown object>"
      ]
     },
     "metadata": {},
     "output_type": "display_data"
    },
    {
     "name": "stdout",
     "output_type": "stream",
     "text": [
      "Record count: 1\n",
      "     user id  age gender     occupation zip code Age_category\n",
      "577      578   31      M  administrator    M7A1A        20-40\n",
      "\n",
      "\n"
     ]
    },
    {
     "data": {
      "text/markdown": [
       "**Cluster 515 Group :17961**\n"
      ],
      "text/plain": [
       "<IPython.core.display.Markdown object>"
      ]
     },
     "metadata": {},
     "output_type": "display_data"
    },
    {
     "name": "stdout",
     "output_type": "stream",
     "text": [
      "Record count: 1\n",
      "     user id  age gender occupation zip code Age_category\n",
      "579      580   16      M    student    17961         0-20\n",
      "\n",
      "\n"
     ]
    },
    {
     "data": {
      "text/markdown": [
       "**Cluster 516 Group :94131**\n"
      ],
      "text/plain": [
       "<IPython.core.display.Markdown object>"
      ]
     },
     "metadata": {},
     "output_type": "display_data"
    },
    {
     "name": "stdout",
     "output_type": "stream",
     "text": [
      "Record count: 1\n",
      "     user id  age gender occupation zip code Age_category\n",
      "580      581   37      M      other    94131        20-40\n",
      "\n",
      "\n"
     ]
    },
    {
     "data": {
      "text/markdown": [
       "**Cluster 517 Group :93003**\n"
      ],
      "text/plain": [
       "<IPython.core.display.Markdown object>"
      ]
     },
     "metadata": {},
     "output_type": "display_data"
    },
    {
     "name": "stdout",
     "output_type": "stream",
     "text": [
      "Record count: 1\n",
      "     user id  age gender occupation zip code Age_category\n",
      "581      582   17      M    student    93003         0-20\n",
      "\n",
      "\n"
     ]
    },
    {
     "data": {
      "text/markdown": [
       "**Cluster 518 Group :29631**\n"
      ],
      "text/plain": [
       "<IPython.core.display.Markdown object>"
      ]
     },
     "metadata": {},
     "output_type": "display_data"
    },
    {
     "name": "stdout",
     "output_type": "stream",
     "text": [
      "Record count: 1\n",
      "     user id  age gender occupation zip code Age_category\n",
      "582      583   44      M   engineer    29631        40-60\n",
      "\n",
      "\n"
     ]
    },
    {
     "data": {
      "text/markdown": [
       "**Cluster 519 Group :27511**\n"
      ],
      "text/plain": [
       "<IPython.core.display.Markdown object>"
      ]
     },
     "metadata": {},
     "output_type": "display_data"
    },
    {
     "name": "stdout",
     "output_type": "stream",
     "text": [
      "Record count: 1\n",
      "     user id  age gender occupation zip code Age_category\n",
      "583      584   25      M    student    27511        20-40\n",
      "\n",
      "\n"
     ]
    },
    {
     "data": {
      "text/markdown": [
       "**Cluster 520 Group :98501**\n"
      ],
      "text/plain": [
       "<IPython.core.display.Markdown object>"
      ]
     },
     "metadata": {},
     "output_type": "display_data"
    },
    {
     "name": "stdout",
     "output_type": "stream",
     "text": [
      "Record count: 1\n",
      "     user id  age gender occupation zip code Age_category\n",
      "584      585   69      M  librarian    98501        60-80\n",
      "\n",
      "\n"
     ]
    },
    {
     "data": {
      "text/markdown": [
       "**Cluster 521 Group :79508**\n"
      ],
      "text/plain": [
       "<IPython.core.display.Markdown object>"
      ]
     },
     "metadata": {},
     "output_type": "display_data"
    },
    {
     "name": "stdout",
     "output_type": "stream",
     "text": [
      "Record count: 1\n",
      "     user id  age gender occupation zip code Age_category\n",
      "585      586   20      M    student    79508         0-20\n",
      "\n",
      "\n"
     ]
    },
    {
     "data": {
      "text/markdown": [
       "**Cluster 522 Group :14216**\n"
      ],
      "text/plain": [
       "<IPython.core.display.Markdown object>"
      ]
     },
     "metadata": {},
     "output_type": "display_data"
    },
    {
     "name": "stdout",
     "output_type": "stream",
     "text": [
      "Record count: 3\n",
      "     user id  age gender occupation zip code Age_category\n",
      "586      587   26      M      other    14216        20-40\n",
      "769      770   28      M    student    14216        20-40\n",
      "918      919   25      M      other    14216        20-40\n",
      "\n",
      "\n"
     ]
    },
    {
     "data": {
      "text/markdown": [
       "**Cluster 523 Group :93063**\n"
      ],
      "text/plain": [
       "<IPython.core.display.Markdown object>"
      ]
     },
     "metadata": {},
     "output_type": "display_data"
    },
    {
     "name": "stdout",
     "output_type": "stream",
     "text": [
      "Record count: 1\n",
      "     user id  age gender occupation zip code Age_category\n",
      "587      588   18      F    student    93063         0-20\n",
      "\n",
      "\n"
     ]
    },
    {
     "data": {
      "text/markdown": [
       "**Cluster 524 Group :90034**\n"
      ],
      "text/plain": [
       "<IPython.core.display.Markdown object>"
      ]
     },
     "metadata": {},
     "output_type": "display_data"
    },
    {
     "name": "stdout",
     "output_type": "stream",
     "text": [
      "Record count: 2\n",
      "     user id  age gender occupation zip code Age_category\n",
      "588      589   21      M     lawyer    90034        20-40\n",
      "750      751   24      F      other    90034        20-40\n",
      "\n",
      "\n"
     ]
    },
    {
     "data": {
      "text/markdown": [
       "**Cluster 525 Group :82435**\n"
      ],
      "text/plain": [
       "<IPython.core.display.Markdown object>"
      ]
     },
     "metadata": {},
     "output_type": "display_data"
    },
    {
     "name": "stdout",
     "output_type": "stream",
     "text": [
      "Record count: 1\n",
      "     user id  age gender occupation zip code Age_category\n",
      "589      590   50      M   educator    82435        40-60\n",
      "\n",
      "\n"
     ]
    },
    {
     "data": {
      "text/markdown": [
       "**Cluster 526 Group :92093**\n"
      ],
      "text/plain": [
       "<IPython.core.display.Markdown object>"
      ]
     },
     "metadata": {},
     "output_type": "display_data"
    },
    {
     "name": "stdout",
     "output_type": "stream",
     "text": [
      "Record count: 1\n",
      "     user id  age gender occupation zip code Age_category\n",
      "590      591   57      F  librarian    92093        40-60\n",
      "\n",
      "\n"
     ]
    },
    {
     "data": {
      "text/markdown": [
       "**Cluster 527 Group :97520**\n"
      ],
      "text/plain": [
       "<IPython.core.display.Markdown object>"
      ]
     },
     "metadata": {},
     "output_type": "display_data"
    },
    {
     "name": "stdout",
     "output_type": "stream",
     "text": [
      "Record count: 1\n",
      "     user id  age gender occupation zip code Age_category\n",
      "591      592   18      M    student    97520         0-20\n",
      "\n",
      "\n"
     ]
    },
    {
     "data": {
      "text/markdown": [
       "**Cluster 528 Group :M4J2K**\n"
      ],
      "text/plain": [
       "<IPython.core.display.Markdown object>"
      ]
     },
     "metadata": {},
     "output_type": "display_data"
    },
    {
     "name": "stdout",
     "output_type": "stream",
     "text": [
      "Record count: 1\n",
      "     user id  age gender occupation zip code Age_category\n",
      "593      594   46      M   educator    M4J2K        40-60\n",
      "\n",
      "\n"
     ]
    },
    {
     "data": {
      "text/markdown": [
       "**Cluster 529 Group :31909**\n"
      ],
      "text/plain": [
       "<IPython.core.display.Markdown object>"
      ]
     },
     "metadata": {},
     "output_type": "display_data"
    },
    {
     "name": "stdout",
     "output_type": "stream",
     "text": [
      "Record count: 1\n",
      "     user id  age gender  occupation zip code Age_category\n",
      "594      595   25      M  programmer    31909        20-40\n",
      "\n",
      "\n"
     ]
    },
    {
     "data": {
      "text/markdown": [
       "**Cluster 530 Group :77073**\n"
      ],
      "text/plain": [
       "<IPython.core.display.Markdown object>"
      ]
     },
     "metadata": {},
     "output_type": "display_data"
    },
    {
     "name": "stdout",
     "output_type": "stream",
     "text": [
      "Record count: 1\n",
      "     user id  age gender occupation zip code Age_category\n",
      "595      596   20      M     artist    77073         0-20\n",
      "\n",
      "\n"
     ]
    },
    {
     "data": {
      "text/markdown": [
       "**Cluster 531 Group :84116**\n"
      ],
      "text/plain": [
       "<IPython.core.display.Markdown object>"
      ]
     },
     "metadata": {},
     "output_type": "display_data"
    },
    {
     "name": "stdout",
     "output_type": "stream",
     "text": [
      "Record count: 1\n",
      "     user id  age gender occupation zip code Age_category\n",
      "596      597   23      M      other    84116        20-40\n",
      "\n",
      "\n"
     ]
    },
    {
     "data": {
      "text/markdown": [
       "**Cluster 532 Group :43085**\n"
      ],
      "text/plain": [
       "<IPython.core.display.Markdown object>"
      ]
     },
     "metadata": {},
     "output_type": "display_data"
    },
    {
     "name": "stdout",
     "output_type": "stream",
     "text": [
      "Record count: 1\n",
      "     user id  age gender occupation zip code Age_category\n",
      "597      598   40      F  marketing    43085        20-40\n",
      "\n",
      "\n"
     ]
    },
    {
     "data": {
      "text/markdown": [
       "**Cluster 533 Group :R3T5K**\n"
      ],
      "text/plain": [
       "<IPython.core.display.Markdown object>"
      ]
     },
     "metadata": {},
     "output_type": "display_data"
    },
    {
     "name": "stdout",
     "output_type": "stream",
     "text": [
      "Record count: 1\n",
      "     user id  age gender occupation zip code Age_category\n",
      "598      599   22      F    student    R3T5K        20-40\n",
      "\n",
      "\n"
     ]
    },
    {
     "data": {
      "text/markdown": [
       "**Cluster 534 Group :02320**\n"
      ],
      "text/plain": [
       "<IPython.core.display.Markdown object>"
      ]
     },
     "metadata": {},
     "output_type": "display_data"
    },
    {
     "name": "stdout",
     "output_type": "stream",
     "text": [
      "Record count: 1\n",
      "     user id  age gender  occupation zip code Age_category\n",
      "599      600   34      M  programmer    02320        20-40\n",
      "\n",
      "\n"
     ]
    },
    {
     "data": {
      "text/markdown": [
       "**Cluster 535 Group :99687**\n"
      ],
      "text/plain": [
       "<IPython.core.display.Markdown object>"
      ]
     },
     "metadata": {},
     "output_type": "display_data"
    },
    {
     "name": "stdout",
     "output_type": "stream",
     "text": [
      "Record count: 1\n",
      "     user id  age gender occupation zip code Age_category\n",
      "600      601   19      F     artist    99687         0-20\n",
      "\n",
      "\n"
     ]
    },
    {
     "data": {
      "text/markdown": [
       "**Cluster 536 Group :34656**\n"
      ],
      "text/plain": [
       "<IPython.core.display.Markdown object>"
      ]
     },
     "metadata": {},
     "output_type": "display_data"
    },
    {
     "name": "stdout",
     "output_type": "stream",
     "text": [
      "Record count: 1\n",
      "     user id  age gender occupation zip code Age_category\n",
      "601      602   47      F      other    34656        40-60\n",
      "\n",
      "\n"
     ]
    },
    {
     "data": {
      "text/markdown": [
       "**Cluster 537 Group :47905**\n"
      ],
      "text/plain": [
       "<IPython.core.display.Markdown object>"
      ]
     },
     "metadata": {},
     "output_type": "display_data"
    },
    {
     "name": "stdout",
     "output_type": "stream",
     "text": [
      "Record count: 1\n",
      "     user id  age gender  occupation zip code Age_category\n",
      "602      603   21      M  programmer    47905        20-40\n",
      "\n",
      "\n"
     ]
    },
    {
     "data": {
      "text/markdown": [
       "**Cluster 538 Group :11787**\n"
      ],
      "text/plain": [
       "<IPython.core.display.Markdown object>"
      ]
     },
     "metadata": {},
     "output_type": "display_data"
    },
    {
     "name": "stdout",
     "output_type": "stream",
     "text": [
      "Record count: 1\n",
      "     user id  age gender occupation zip code Age_category\n",
      "603      604   39      M   educator    11787        20-40\n",
      "\n",
      "\n"
     ]
    },
    {
     "data": {
      "text/markdown": [
       "**Cluster 539 Group :33716**\n"
      ],
      "text/plain": [
       "<IPython.core.display.Markdown object>"
      ]
     },
     "metadata": {},
     "output_type": "display_data"
    },
    {
     "name": "stdout",
     "output_type": "stream",
     "text": [
      "Record count: 1\n",
      "     user id  age gender occupation zip code Age_category\n",
      "604      605   33      M   engineer    33716        20-40\n",
      "\n",
      "\n"
     ]
    },
    {
     "data": {
      "text/markdown": [
       "**Cluster 540 Group :63044**\n"
      ],
      "text/plain": [
       "<IPython.core.display.Markdown object>"
      ]
     },
     "metadata": {},
     "output_type": "display_data"
    },
    {
     "name": "stdout",
     "output_type": "stream",
     "text": [
      "Record count: 1\n",
      "     user id  age gender  occupation zip code Age_category\n",
      "605      606   28      M  programmer    63044        20-40\n",
      "\n",
      "\n"
     ]
    },
    {
     "data": {
      "text/markdown": [
       "**Cluster 541 Group :21227**\n"
      ],
      "text/plain": [
       "<IPython.core.display.Markdown object>"
      ]
     },
     "metadata": {},
     "output_type": "display_data"
    },
    {
     "name": "stdout",
     "output_type": "stream",
     "text": [
      "Record count: 1\n",
      "     user id  age gender occupation zip code Age_category\n",
      "609      610   22      M    student    21227        20-40\n",
      "\n",
      "\n"
     ]
    },
    {
     "data": {
      "text/markdown": [
       "**Cluster 542 Group :77008**\n"
      ],
      "text/plain": [
       "<IPython.core.display.Markdown object>"
      ]
     },
     "metadata": {},
     "output_type": "display_data"
    },
    {
     "name": "stdout",
     "output_type": "stream",
     "text": [
      "Record count: 1\n",
      "     user id  age gender occupation zip code Age_category\n",
      "610      611   46      M  librarian    77008        40-60\n",
      "\n",
      "\n"
     ]
    },
    {
     "data": {
      "text/markdown": [
       "**Cluster 543 Group :79070**\n"
      ],
      "text/plain": [
       "<IPython.core.display.Markdown object>"
      ]
     },
     "metadata": {},
     "output_type": "display_data"
    },
    {
     "name": "stdout",
     "output_type": "stream",
     "text": [
      "Record count: 1\n",
      "     user id  age gender occupation zip code Age_category\n",
      "611      612   36      M   educator    79070        20-40\n",
      "\n",
      "\n"
     ]
    },
    {
     "data": {
      "text/markdown": [
       "**Cluster 544 Group :29678**\n"
      ],
      "text/plain": [
       "<IPython.core.display.Markdown object>"
      ]
     },
     "metadata": {},
     "output_type": "display_data"
    },
    {
     "name": "stdout",
     "output_type": "stream",
     "text": [
      "Record count: 1\n",
      "     user id  age gender occupation zip code Age_category\n",
      "612      613   37      F  marketing    29678        20-40\n",
      "\n",
      "\n"
     ]
    },
    {
     "data": {
      "text/markdown": [
       "**Cluster 545 Group :80227**\n"
      ],
      "text/plain": [
       "<IPython.core.display.Markdown object>"
      ]
     },
     "metadata": {},
     "output_type": "display_data"
    },
    {
     "name": "stdout",
     "output_type": "stream",
     "text": [
      "Record count: 1\n",
      "     user id  age gender occupation zip code Age_category\n",
      "613      614   54      M   educator    80227        40-60\n",
      "\n",
      "\n"
     ]
    },
    {
     "data": {
      "text/markdown": [
       "**Cluster 546 Group :27705**\n"
      ],
      "text/plain": [
       "<IPython.core.display.Markdown object>"
      ]
     },
     "metadata": {},
     "output_type": "display_data"
    },
    {
     "name": "stdout",
     "output_type": "stream",
     "text": [
      "Record count: 1\n",
      "     user id  age gender occupation zip code Age_category\n",
      "614      615   38      M   educator    27705        20-40\n",
      "\n",
      "\n"
     ]
    },
    {
     "data": {
      "text/markdown": [
       "**Cluster 547 Group :11201**\n"
      ],
      "text/plain": [
       "<IPython.core.display.Markdown object>"
      ]
     },
     "metadata": {},
     "output_type": "display_data"
    },
    {
     "name": "stdout",
     "output_type": "stream",
     "text": [
      "Record count: 1\n",
      "     user id  age gender occupation zip code Age_category\n",
      "616      617   27      F     writer    11201        20-40\n",
      "\n",
      "\n"
     ]
    },
    {
     "data": {
      "text/markdown": [
       "**Cluster 548 Group :44212**\n"
      ],
      "text/plain": [
       "<IPython.core.display.Markdown object>"
      ]
     },
     "metadata": {},
     "output_type": "display_data"
    },
    {
     "name": "stdout",
     "output_type": "stream",
     "text": [
      "Record count: 2\n",
      "     user id  age gender occupation zip code Age_category\n",
      "617      618   15      F    student    44212         0-20\n",
      "842      843   35      M  librarian    44212        20-40\n",
      "\n",
      "\n"
     ]
    },
    {
     "data": {
      "text/markdown": [
       "**Cluster 549 Group :44134**\n"
      ],
      "text/plain": [
       "<IPython.core.display.Markdown object>"
      ]
     },
     "metadata": {},
     "output_type": "display_data"
    },
    {
     "name": "stdout",
     "output_type": "stream",
     "text": [
      "Record count: 1\n",
      "     user id  age gender occupation zip code Age_category\n",
      "618      619   17      M    student    44134         0-20\n",
      "\n",
      "\n"
     ]
    },
    {
     "data": {
      "text/markdown": [
       "**Cluster 550 Group :81648**\n"
      ],
      "text/plain": [
       "<IPython.core.display.Markdown object>"
      ]
     },
     "metadata": {},
     "output_type": "display_data"
    },
    {
     "name": "stdout",
     "output_type": "stream",
     "text": [
      "Record count: 1\n",
      "     user id  age gender occupation zip code Age_category\n",
      "619      620   18      F     writer    81648         0-20\n",
      "\n",
      "\n"
     ]
    },
    {
     "data": {
      "text/markdown": [
       "**Cluster 551 Group :14850**\n"
      ],
      "text/plain": [
       "<IPython.core.display.Markdown object>"
      ]
     },
     "metadata": {},
     "output_type": "display_data"
    },
    {
     "name": "stdout",
     "output_type": "stream",
     "text": [
      "Record count: 1\n",
      "     user id  age gender  occupation zip code Age_category\n",
      "621      622   25      M  programmer    14850        20-40\n",
      "\n",
      "\n"
     ]
    },
    {
     "data": {
      "text/markdown": [
       "**Cluster 552 Group :60187**\n"
      ],
      "text/plain": [
       "<IPython.core.display.Markdown object>"
      ]
     },
     "metadata": {},
     "output_type": "display_data"
    },
    {
     "name": "stdout",
     "output_type": "stream",
     "text": [
      "Record count: 1\n",
      "     user id  age gender occupation zip code Age_category\n",
      "622      623   50      F   educator    60187        40-60\n",
      "\n",
      "\n"
     ]
    },
    {
     "data": {
      "text/markdown": [
       "**Cluster 553 Group :20723**\n"
      ],
      "text/plain": [
       "<IPython.core.display.Markdown object>"
      ]
     },
     "metadata": {},
     "output_type": "display_data"
    },
    {
     "name": "stdout",
     "output_type": "stream",
     "text": [
      "Record count: 1\n",
      "     user id  age gender  occupation zip code Age_category\n",
      "624      625   27      M  programmer    20723        20-40\n",
      "\n",
      "\n"
     ]
    },
    {
     "data": {
      "text/markdown": [
       "**Cluster 554 Group :19807**\n"
      ],
      "text/plain": [
       "<IPython.core.display.Markdown object>"
      ]
     },
     "metadata": {},
     "output_type": "display_data"
    },
    {
     "name": "stdout",
     "output_type": "stream",
     "text": [
      "Record count: 1\n",
      "     user id  age gender occupation zip code Age_category\n",
      "625      626   23      M  scientist    19807        20-40\n",
      "\n",
      "\n"
     ]
    },
    {
     "data": {
      "text/markdown": [
       "**Cluster 555 Group :08034**\n"
      ],
      "text/plain": [
       "<IPython.core.display.Markdown object>"
      ]
     },
     "metadata": {},
     "output_type": "display_data"
    },
    {
     "name": "stdout",
     "output_type": "stream",
     "text": [
      "Record count: 1\n",
      "     user id  age gender occupation zip code Age_category\n",
      "626      627   24      M   engineer    08034        20-40\n",
      "\n",
      "\n"
     ]
    },
    {
     "data": {
      "text/markdown": [
       "**Cluster 556 Group :94306**\n"
      ],
      "text/plain": [
       "<IPython.core.display.Markdown object>"
      ]
     },
     "metadata": {},
     "output_type": "display_data"
    },
    {
     "name": "stdout",
     "output_type": "stream",
     "text": [
      "Record count: 2\n",
      "     user id  age gender occupation zip code Age_category\n",
      "627      628   13      M       none    94306         0-20\n",
      "727      728   58      M  executive    94306        40-60\n",
      "\n",
      "\n"
     ]
    },
    {
     "data": {
      "text/markdown": [
       "**Cluster 557 Group :38866**\n"
      ],
      "text/plain": [
       "<IPython.core.display.Markdown object>"
      ]
     },
     "metadata": {},
     "output_type": "display_data"
    },
    {
     "name": "stdout",
     "output_type": "stream",
     "text": [
      "Record count: 1\n",
      "     user id  age gender occupation zip code Age_category\n",
      "630      631   18      F    student    38866         0-20\n",
      "\n",
      "\n"
     ]
    },
    {
     "data": {
      "text/markdown": [
       "**Cluster 558 Group :23237**\n"
      ],
      "text/plain": [
       "<IPython.core.display.Markdown object>"
      ]
     },
     "metadata": {},
     "output_type": "display_data"
    },
    {
     "name": "stdout",
     "output_type": "stream",
     "text": [
      "Record count: 1\n",
      "     user id  age gender occupation zip code Age_category\n",
      "634      635   22      M      other    23237        20-40\n",
      "\n",
      "\n"
     ]
    },
    {
     "data": {
      "text/markdown": [
       "**Cluster 559 Group :48043**\n"
      ],
      "text/plain": [
       "<IPython.core.display.Markdown object>"
      ]
     },
     "metadata": {},
     "output_type": "display_data"
    },
    {
     "name": "stdout",
     "output_type": "stream",
     "text": [
      "Record count: 1\n",
      "     user id  age gender occupation zip code Age_category\n",
      "635      636   47      M   educator    48043        40-60\n",
      "\n",
      "\n"
     ]
    },
    {
     "data": {
      "text/markdown": [
       "**Cluster 560 Group :74101**\n"
      ],
      "text/plain": [
       "<IPython.core.display.Markdown object>"
      ]
     },
     "metadata": {},
     "output_type": "display_data"
    },
    {
     "name": "stdout",
     "output_type": "stream",
     "text": [
      "Record count: 1\n",
      "     user id  age gender occupation zip code Age_category\n",
      "636      637   30      M      other    74101        20-40\n",
      "\n",
      "\n"
     ]
    },
    {
     "data": {
      "text/markdown": [
       "**Cluster 561 Group :01940**\n"
      ],
      "text/plain": [
       "<IPython.core.display.Markdown object>"
      ]
     },
     "metadata": {},
     "output_type": "display_data"
    },
    {
     "name": "stdout",
     "output_type": "stream",
     "text": [
      "Record count: 1\n",
      "     user id  age gender occupation zip code Age_category\n",
      "637      638   45      M   engineer    01940        40-60\n",
      "\n",
      "\n"
     ]
    },
    {
     "data": {
      "text/markdown": [
       "**Cluster 562 Group :12065**\n"
      ],
      "text/plain": [
       "<IPython.core.display.Markdown object>"
      ]
     },
     "metadata": {},
     "output_type": "display_data"
    },
    {
     "name": "stdout",
     "output_type": "stream",
     "text": [
      "Record count: 1\n",
      "     user id  age gender occupation zip code Age_category\n",
      "638      639   42      F  librarian    12065        40-60\n",
      "\n",
      "\n"
     ]
    },
    {
     "data": {
      "text/markdown": [
       "**Cluster 563 Group :60626**\n"
      ],
      "text/plain": [
       "<IPython.core.display.Markdown object>"
      ]
     },
     "metadata": {},
     "output_type": "display_data"
    },
    {
     "name": "stdout",
     "output_type": "stream",
     "text": [
      "Record count: 1\n",
      "     user id  age gender occupation zip code Age_category\n",
      "640      641   24      M    student    60626        20-40\n",
      "\n",
      "\n"
     ]
    },
    {
     "data": {
      "text/markdown": [
       "**Cluster 564 Group :95521**\n"
      ],
      "text/plain": [
       "<IPython.core.display.Markdown object>"
      ]
     },
     "metadata": {},
     "output_type": "display_data"
    },
    {
     "name": "stdout",
     "output_type": "stream",
     "text": [
      "Record count: 1\n",
      "     user id  age gender occupation zip code Age_category\n",
      "641      642   18      F    student    95521         0-20\n",
      "\n",
      "\n"
     ]
    },
    {
     "data": {
      "text/markdown": [
       "**Cluster 565 Group :55122**\n"
      ],
      "text/plain": [
       "<IPython.core.display.Markdown object>"
      ]
     },
     "metadata": {},
     "output_type": "display_data"
    },
    {
     "name": "stdout",
     "output_type": "stream",
     "text": [
      "Record count: 1\n",
      "     user id  age gender occupation zip code Age_category\n",
      "642      643   39      M  scientist    55122        20-40\n",
      "\n",
      "\n"
     ]
    },
    {
     "data": {
      "text/markdown": [
       "**Cluster 566 Group :63645**\n"
      ],
      "text/plain": [
       "<IPython.core.display.Markdown object>"
      ]
     },
     "metadata": {},
     "output_type": "display_data"
    },
    {
     "name": "stdout",
     "output_type": "stream",
     "text": [
      "Record count: 1\n",
      "     user id  age gender occupation zip code Age_category\n",
      "643      644   51      M    retired    63645        40-60\n",
      "\n",
      "\n"
     ]
    },
    {
     "data": {
      "text/markdown": [
       "**Cluster 567 Group :51250**\n"
      ],
      "text/plain": [
       "<IPython.core.display.Markdown object>"
      ]
     },
     "metadata": {},
     "output_type": "display_data"
    },
    {
     "name": "stdout",
     "output_type": "stream",
     "text": [
      "Record count: 1\n",
      "     user id  age gender occupation zip code Age_category\n",
      "645      646   17      F    student    51250         0-20\n",
      "\n",
      "\n"
     ]
    },
    {
     "data": {
      "text/markdown": [
       "**Cluster 568 Group :45810**\n"
      ],
      "text/plain": [
       "<IPython.core.display.Markdown object>"
      ]
     },
     "metadata": {},
     "output_type": "display_data"
    },
    {
     "name": "stdout",
     "output_type": "stream",
     "text": [
      "Record count: 1\n",
      "     user id  age gender occupation zip code Age_category\n",
      "646      647   40      M   educator    45810        20-40\n",
      "\n",
      "\n"
     ]
    },
    {
     "data": {
      "text/markdown": [
       "**Cluster 569 Group :91351**\n"
      ],
      "text/plain": [
       "<IPython.core.display.Markdown object>"
      ]
     },
     "metadata": {},
     "output_type": "display_data"
    },
    {
     "name": "stdout",
     "output_type": "stream",
     "text": [
      "Record count: 1\n",
      "     user id  age gender occupation zip code Age_category\n",
      "647      648   43      M   engineer    91351        40-60\n",
      "\n",
      "\n"
     ]
    },
    {
     "data": {
      "text/markdown": [
       "**Cluster 570 Group :39762**\n"
      ],
      "text/plain": [
       "<IPython.core.display.Markdown object>"
      ]
     },
     "metadata": {},
     "output_type": "display_data"
    },
    {
     "name": "stdout",
     "output_type": "stream",
     "text": [
      "Record count: 1\n",
      "     user id  age gender occupation zip code Age_category\n",
      "648      649   20      M    student    39762         0-20\n",
      "\n",
      "\n"
     ]
    },
    {
     "data": {
      "text/markdown": [
       "**Cluster 571 Group :02903**\n"
      ],
      "text/plain": [
       "<IPython.core.display.Markdown object>"
      ]
     },
     "metadata": {},
     "output_type": "display_data"
    },
    {
     "name": "stdout",
     "output_type": "stream",
     "text": [
      "Record count: 1\n",
      "     user id  age gender occupation zip code Age_category\n",
      "650      651   65      M    retired    02903        60-80\n",
      "\n",
      "\n"
     ]
    },
    {
     "data": {
      "text/markdown": [
       "**Cluster 572 Group :78739**\n"
      ],
      "text/plain": [
       "<IPython.core.display.Markdown object>"
      ]
     },
     "metadata": {},
     "output_type": "display_data"
    },
    {
     "name": "stdout",
     "output_type": "stream",
     "text": [
      "Record count: 1\n",
      "     user id  age gender occupation zip code Age_category\n",
      "653      654   27      F    student    78739        20-40\n",
      "\n",
      "\n"
     ]
    },
    {
     "data": {
      "text/markdown": [
       "**Cluster 573 Group :60657**\n"
      ],
      "text/plain": [
       "<IPython.core.display.Markdown object>"
      ]
     },
     "metadata": {},
     "output_type": "display_data"
    },
    {
     "name": "stdout",
     "output_type": "stream",
     "text": [
      "Record count: 1\n",
      "     user id  age gender  occupation zip code Age_category\n",
      "654      655   50      F  healthcare    60657        40-60\n",
      "\n",
      "\n"
     ]
    },
    {
     "data": {
      "text/markdown": [
       "**Cluster 574 Group :10314**\n"
      ],
      "text/plain": [
       "<IPython.core.display.Markdown object>"
      ]
     },
     "metadata": {},
     "output_type": "display_data"
    },
    {
     "name": "stdout",
     "output_type": "stream",
     "text": [
      "Record count: 1\n",
      "     user id  age gender occupation zip code Age_category\n",
      "655      656   48      M   educator    10314        40-60\n",
      "\n",
      "\n"
     ]
    },
    {
     "data": {
      "text/markdown": [
       "**Cluster 575 Group :78704**\n"
      ],
      "text/plain": [
       "<IPython.core.display.Markdown object>"
      ]
     },
     "metadata": {},
     "output_type": "display_data"
    },
    {
     "name": "stdout",
     "output_type": "stream",
     "text": [
      "Record count: 2\n",
      "     user id  age gender  occupation zip code Age_category\n",
      "656      657   26      F        none    78704        20-40\n",
      "888      889   24      M  technician    78704        20-40\n",
      "\n",
      "\n"
     ]
    },
    {
     "data": {
      "text/markdown": [
       "**Cluster 576 Group :54248**\n"
      ],
      "text/plain": [
       "<IPython.core.display.Markdown object>"
      ]
     },
     "metadata": {},
     "output_type": "display_data"
    },
    {
     "name": "stdout",
     "output_type": "stream",
     "text": [
      "Record count: 1\n",
      "     user id  age gender occupation zip code Age_category\n",
      "658      659   31      M   educator    54248        20-40\n",
      "\n",
      "\n"
     ]
    },
    {
     "data": {
      "text/markdown": [
       "**Cluster 577 Group :77380**\n"
      ],
      "text/plain": [
       "<IPython.core.display.Markdown object>"
      ]
     },
     "metadata": {},
     "output_type": "display_data"
    },
    {
     "name": "stdout",
     "output_type": "stream",
     "text": [
      "Record count: 1\n",
      "     user id  age gender occupation zip code Age_category\n",
      "659      660   26      M    student    77380        20-40\n",
      "\n",
      "\n"
     ]
    },
    {
     "data": {
      "text/markdown": [
       "**Cluster 578 Group :98121**\n"
      ],
      "text/plain": [
       "<IPython.core.display.Markdown object>"
      ]
     },
     "metadata": {},
     "output_type": "display_data"
    },
    {
     "name": "stdout",
     "output_type": "stream",
     "text": [
      "Record count: 1\n",
      "     user id  age gender  occupation zip code Age_category\n",
      "660      661   28      M  programmer    98121        20-40\n",
      "\n",
      "\n"
     ]
    },
    {
     "data": {
      "text/markdown": [
       "**Cluster 579 Group :19102**\n"
      ],
      "text/plain": [
       "<IPython.core.display.Markdown object>"
      ]
     },
     "metadata": {},
     "output_type": "display_data"
    },
    {
     "name": "stdout",
     "output_type": "stream",
     "text": [
      "Record count: 1\n",
      "     user id  age gender occupation zip code Age_category\n",
      "661      662   55      M  librarian    19102        40-60\n",
      "\n",
      "\n"
     ]
    },
    {
     "data": {
      "text/markdown": [
       "**Cluster 580 Group :19341**\n"
      ],
      "text/plain": [
       "<IPython.core.display.Markdown object>"
      ]
     },
     "metadata": {},
     "output_type": "display_data"
    },
    {
     "name": "stdout",
     "output_type": "stream",
     "text": [
      "Record count: 1\n",
      "     user id  age gender occupation zip code Age_category\n",
      "662      663   26      M      other    19341        20-40\n",
      "\n",
      "\n"
     ]
    },
    {
     "data": {
      "text/markdown": [
       "**Cluster 581 Group :94115**\n"
      ],
      "text/plain": [
       "<IPython.core.display.Markdown object>"
      ]
     },
     "metadata": {},
     "output_type": "display_data"
    },
    {
     "name": "stdout",
     "output_type": "stream",
     "text": [
      "Record count: 1\n",
      "     user id  age gender occupation zip code Age_category\n",
      "663      664   30      M   engineer    94115        20-40\n",
      "\n",
      "\n"
     ]
    },
    {
     "data": {
      "text/markdown": [
       "**Cluster 582 Group :55412**\n"
      ],
      "text/plain": [
       "<IPython.core.display.Markdown object>"
      ]
     },
     "metadata": {},
     "output_type": "display_data"
    },
    {
     "name": "stdout",
     "output_type": "stream",
     "text": [
      "Record count: 1\n",
      "     user id  age gender     occupation zip code Age_category\n",
      "664      665   25      M  administrator    55412        20-40\n",
      "\n",
      "\n"
     ]
    },
    {
     "data": {
      "text/markdown": [
       "**Cluster 583 Group :61820**\n"
      ],
      "text/plain": [
       "<IPython.core.display.Markdown object>"
      ]
     },
     "metadata": {},
     "output_type": "display_data"
    },
    {
     "name": "stdout",
     "output_type": "stream",
     "text": [
      "Record count: 3\n",
      "     user id  age gender     occupation zip code Age_category\n",
      "665      666   44      M  administrator    61820        40-60\n",
      "803      804   39      M       educator    61820        20-40\n",
      "885      886   20      M        student    61820         0-20\n",
      "\n",
      "\n"
     ]
    },
    {
     "data": {
      "text/markdown": [
       "**Cluster 584 Group :01970**\n"
      ],
      "text/plain": [
       "<IPython.core.display.Markdown object>"
      ]
     },
     "metadata": {},
     "output_type": "display_data"
    },
    {
     "name": "stdout",
     "output_type": "stream",
     "text": [
      "Record count: 1\n",
      "     user id  age gender occupation zip code Age_category\n",
      "666      667   35      M  librarian    01970        20-40\n",
      "\n",
      "\n"
     ]
    },
    {
     "data": {
      "text/markdown": [
       "**Cluster 585 Group :21114**\n"
      ],
      "text/plain": [
       "<IPython.core.display.Markdown object>"
      ]
     },
     "metadata": {},
     "output_type": "display_data"
    },
    {
     "name": "stdout",
     "output_type": "stream",
     "text": [
      "Record count: 2\n",
      "     user id  age gender     occupation zip code Age_category\n",
      "669      670   30      M     technician    21114        20-40\n",
      "921      922   29      F  administrator    21114        20-40\n",
      "\n",
      "\n"
     ]
    },
    {
     "data": {
      "text/markdown": [
       "**Cluster 586 Group :91919**\n"
      ],
      "text/plain": [
       "<IPython.core.display.Markdown object>"
      ]
     },
     "metadata": {},
     "output_type": "display_data"
    },
    {
     "name": "stdout",
     "output_type": "stream",
     "text": [
      "Record count: 1\n",
      "     user id  age gender  occupation zip code Age_category\n",
      "670      671   21      M  programmer    91919        20-40\n",
      "\n",
      "\n"
     ]
    },
    {
     "data": {
      "text/markdown": [
       "**Cluster 587 Group :90095**\n"
      ],
      "text/plain": [
       "<IPython.core.display.Markdown object>"
      ]
     },
     "metadata": {},
     "output_type": "display_data"
    },
    {
     "name": "stdout",
     "output_type": "stream",
     "text": [
      "Record count: 1\n",
      "     user id  age gender     occupation zip code Age_category\n",
      "671      672   54      F  administrator    90095        40-60\n",
      "\n",
      "\n"
     ]
    },
    {
     "data": {
      "text/markdown": [
       "**Cluster 588 Group :22906**\n"
      ],
      "text/plain": [
       "<IPython.core.display.Markdown object>"
      ]
     },
     "metadata": {},
     "output_type": "display_data"
    },
    {
     "name": "stdout",
     "output_type": "stream",
     "text": [
      "Record count: 1\n",
      "     user id  age gender occupation zip code Age_category\n",
      "672      673   51      M   educator    22906        40-60\n",
      "\n",
      "\n"
     ]
    },
    {
     "data": {
      "text/markdown": [
       "**Cluster 589 Group :28814**\n"
      ],
      "text/plain": [
       "<IPython.core.display.Markdown object>"
      ]
     },
     "metadata": {},
     "output_type": "display_data"
    },
    {
     "name": "stdout",
     "output_type": "stream",
     "text": [
      "Record count: 1\n",
      "     user id  age gender occupation zip code Age_category\n",
      "674      675   34      M      other    28814        20-40\n",
      "\n",
      "\n"
     ]
    },
    {
     "data": {
      "text/markdown": [
       "**Cluster 590 Group :32712**\n"
      ],
      "text/plain": [
       "<IPython.core.display.Markdown object>"
      ]
     },
     "metadata": {},
     "output_type": "display_data"
    },
    {
     "name": "stdout",
     "output_type": "stream",
     "text": [
      "Record count: 1\n",
      "     user id  age gender  occupation zip code Age_category\n",
      "675      676   30      M  programmer    32712        20-40\n",
      "\n",
      "\n"
     ]
    },
    {
     "data": {
      "text/markdown": [
       "**Cluster 591 Group :99835**\n"
      ],
      "text/plain": [
       "<IPython.core.display.Markdown object>"
      ]
     },
     "metadata": {},
     "output_type": "display_data"
    },
    {
     "name": "stdout",
     "output_type": "stream",
     "text": [
      "Record count: 1\n",
      "     user id  age gender occupation zip code Age_category\n",
      "676      677   20      M      other    99835         0-20\n",
      "\n",
      "\n"
     ]
    },
    {
     "data": {
      "text/markdown": [
       "**Cluster 592 Group :61462**\n"
      ],
      "text/plain": [
       "<IPython.core.display.Markdown object>"
      ]
     },
     "metadata": {},
     "output_type": "display_data"
    },
    {
     "name": "stdout",
     "output_type": "stream",
     "text": [
      "Record count: 1\n",
      "     user id  age gender occupation zip code Age_category\n",
      "677      678   50      M   educator    61462        40-60\n",
      "\n",
      "\n"
     ]
    },
    {
     "data": {
      "text/markdown": [
       "**Cluster 593 Group :54302**\n"
      ],
      "text/plain": [
       "<IPython.core.display.Markdown object>"
      ]
     },
     "metadata": {},
     "output_type": "display_data"
    },
    {
     "name": "stdout",
     "output_type": "stream",
     "text": [
      "Record count: 1\n",
      "     user id  age gender occupation zip code Age_category\n",
      "678      679   20      F    student    54302         0-20\n",
      "\n",
      "\n"
     ]
    },
    {
     "data": {
      "text/markdown": [
       "**Cluster 594 Group :90405**\n"
      ],
      "text/plain": [
       "<IPython.core.display.Markdown object>"
      ]
     },
     "metadata": {},
     "output_type": "display_data"
    },
    {
     "name": "stdout",
     "output_type": "stream",
     "text": [
      "Record count: 1\n",
      "     user id  age gender occupation zip code Age_category\n",
      "679      680   33      M     lawyer    90405        20-40\n",
      "\n",
      "\n"
     ]
    },
    {
     "data": {
      "text/markdown": [
       "**Cluster 595 Group :97208**\n"
      ],
      "text/plain": [
       "<IPython.core.display.Markdown object>"
      ]
     },
     "metadata": {},
     "output_type": "display_data"
    },
    {
     "name": "stdout",
     "output_type": "stream",
     "text": [
      "Record count: 1\n",
      "     user id  age gender occupation zip code Age_category\n",
      "680      681   44      F  marketing    97208        40-60\n",
      "\n",
      "\n"
     ]
    },
    {
     "data": {
      "text/markdown": [
       "**Cluster 596 Group :55128**\n"
      ],
      "text/plain": [
       "<IPython.core.display.Markdown object>"
      ]
     },
     "metadata": {},
     "output_type": "display_data"
    },
    {
     "name": "stdout",
     "output_type": "stream",
     "text": [
      "Record count: 1\n",
      "     user id  age gender  occupation zip code Age_category\n",
      "681      682   23      M  programmer    55128        20-40\n",
      "\n",
      "\n"
     ]
    },
    {
     "data": {
      "text/markdown": [
       "**Cluster 597 Group :23509**\n"
      ],
      "text/plain": [
       "<IPython.core.display.Markdown object>"
      ]
     },
     "metadata": {},
     "output_type": "display_data"
    },
    {
     "name": "stdout",
     "output_type": "stream",
     "text": [
      "Record count: 1\n",
      "     user id  age gender occupation zip code Age_category\n",
      "682      683   42      M  librarian    23509        40-60\n",
      "\n",
      "\n"
     ]
    },
    {
     "data": {
      "text/markdown": [
       "**Cluster 598 Group :26506**\n"
      ],
      "text/plain": [
       "<IPython.core.display.Markdown object>"
      ]
     },
     "metadata": {},
     "output_type": "display_data"
    },
    {
     "name": "stdout",
     "output_type": "stream",
     "text": [
      "Record count: 1\n",
      "     user id  age gender occupation zip code Age_category\n",
      "685      686   32      M   educator    26506        20-40\n",
      "\n",
      "\n"
     ]
    },
    {
     "data": {
      "text/markdown": [
       "**Cluster 599 Group :27713**\n"
      ],
      "text/plain": [
       "<IPython.core.display.Markdown object>"
      ]
     },
     "metadata": {},
     "output_type": "display_data"
    },
    {
     "name": "stdout",
     "output_type": "stream",
     "text": [
      "Record count: 1\n",
      "     user id  age gender  occupation zip code Age_category\n",
      "686      687   31      F  healthcare    27713        20-40\n",
      "\n",
      "\n"
     ]
    },
    {
     "data": {
      "text/markdown": [
       "**Cluster 600 Group :60476**\n"
      ],
      "text/plain": [
       "<IPython.core.display.Markdown object>"
      ]
     },
     "metadata": {},
     "output_type": "display_data"
    },
    {
     "name": "stdout",
     "output_type": "stream",
     "text": [
      "Record count: 1\n",
      "     user id  age gender     occupation zip code Age_category\n",
      "687      688   37      F  administrator    60476        20-40\n",
      "\n",
      "\n"
     ]
    },
    {
     "data": {
      "text/markdown": [
       "**Cluster 601 Group :45439**\n"
      ],
      "text/plain": [
       "<IPython.core.display.Markdown object>"
      ]
     },
     "metadata": {},
     "output_type": "display_data"
    },
    {
     "name": "stdout",
     "output_type": "stream",
     "text": [
      "Record count: 1\n",
      "     user id  age gender occupation zip code Age_category\n",
      "688      689   25      M      other    45439        20-40\n",
      "\n",
      "\n"
     ]
    },
    {
     "data": {
      "text/markdown": [
       "**Cluster 602 Group :63304**\n"
      ],
      "text/plain": [
       "<IPython.core.display.Markdown object>"
      ]
     },
     "metadata": {},
     "output_type": "display_data"
    },
    {
     "name": "stdout",
     "output_type": "stream",
     "text": [
      "Record count: 1\n",
      "     user id  age gender occupation zip code Age_category\n",
      "689      690   35      M   salesman    63304        20-40\n",
      "\n",
      "\n"
     ]
    },
    {
     "data": {
      "text/markdown": [
       "**Cluster 603 Group :60089**\n"
      ],
      "text/plain": [
       "<IPython.core.display.Markdown object>"
      ]
     },
     "metadata": {},
     "output_type": "display_data"
    },
    {
     "name": "stdout",
     "output_type": "stream",
     "text": [
      "Record count: 2\n",
      "     user id  age gender occupation zip code Age_category\n",
      "690      691   34      M   educator    60089        20-40\n",
      "862      863   17      M    student    60089         0-20\n",
      "\n",
      "\n"
     ]
    },
    {
     "data": {
      "text/markdown": [
       "**Cluster 604 Group :18053**\n"
      ],
      "text/plain": [
       "<IPython.core.display.Markdown object>"
      ]
     },
     "metadata": {},
     "output_type": "display_data"
    },
    {
     "name": "stdout",
     "output_type": "stream",
     "text": [
      "Record count: 1\n",
      "     user id  age gender occupation zip code Age_category\n",
      "691      692   34      M   engineer    18053        20-40\n",
      "\n",
      "\n"
     ]
    },
    {
     "data": {
      "text/markdown": [
       "**Cluster 605 Group :85210**\n"
      ],
      "text/plain": [
       "<IPython.core.display.Markdown object>"
      ]
     },
     "metadata": {},
     "output_type": "display_data"
    },
    {
     "name": "stdout",
     "output_type": "stream",
     "text": [
      "Record count: 1\n",
      "     user id  age gender  occupation zip code Age_category\n",
      "692      693   43      F  healthcare    85210        40-60\n",
      "\n",
      "\n"
     ]
    },
    {
     "data": {
      "text/markdown": [
       "**Cluster 606 Group :06365**\n"
      ],
      "text/plain": [
       "<IPython.core.display.Markdown object>"
      ]
     },
     "metadata": {},
     "output_type": "display_data"
    },
    {
     "name": "stdout",
     "output_type": "stream",
     "text": [
      "Record count: 1\n",
      "     user id  age gender  occupation zip code Age_category\n",
      "693      694   60      M  programmer    06365        40-60\n",
      "\n",
      "\n"
     ]
    },
    {
     "data": {
      "text/markdown": [
       "**Cluster 607 Group :94920**\n"
      ],
      "text/plain": [
       "<IPython.core.display.Markdown object>"
      ]
     },
     "metadata": {},
     "output_type": "display_data"
    },
    {
     "name": "stdout",
     "output_type": "stream",
     "text": [
      "Record count: 1\n",
      "     user id  age gender occupation zip code Age_category\n",
      "695      696   55      M      other    94920        40-60\n",
      "\n",
      "\n"
     ]
    },
    {
     "data": {
      "text/markdown": [
       "**Cluster 608 Group :77042**\n"
      ],
      "text/plain": [
       "<IPython.core.display.Markdown object>"
      ]
     },
     "metadata": {},
     "output_type": "display_data"
    },
    {
     "name": "stdout",
     "output_type": "stream",
     "text": [
      "Record count: 2\n",
      "     user id  age gender  occupation zip code Age_category\n",
      "696      697   25      M       other    77042        20-40\n",
      "831      832   24      M  technician    77042        20-40\n",
      "\n",
      "\n"
     ]
    },
    {
     "data": {
      "text/markdown": [
       "**Cluster 609 Group :06906**\n"
      ],
      "text/plain": [
       "<IPython.core.display.Markdown object>"
      ]
     },
     "metadata": {},
     "output_type": "display_data"
    },
    {
     "name": "stdout",
     "output_type": "stream",
     "text": [
      "Record count: 1\n",
      "     user id  age gender  occupation zip code Age_category\n",
      "697      698   28      F  programmer    06906        20-40\n",
      "\n",
      "\n"
     ]
    },
    {
     "data": {
      "text/markdown": [
       "**Cluster 610 Group :96754**\n"
      ],
      "text/plain": [
       "<IPython.core.display.Markdown object>"
      ]
     },
     "metadata": {},
     "output_type": "display_data"
    },
    {
     "name": "stdout",
     "output_type": "stream",
     "text": [
      "Record count: 1\n",
      "     user id  age gender occupation zip code Age_category\n",
      "698      699   44      M      other    96754        40-60\n",
      "\n",
      "\n"
     ]
    },
    {
     "data": {
      "text/markdown": [
       "**Cluster 611 Group :76309**\n"
      ],
      "text/plain": [
       "<IPython.core.display.Markdown object>"
      ]
     },
     "metadata": {},
     "output_type": "display_data"
    },
    {
     "name": "stdout",
     "output_type": "stream",
     "text": [
      "Record count: 1\n",
      "     user id  age gender occupation zip code Age_category\n",
      "699      700   17      M    student    76309         0-20\n",
      "\n",
      "\n"
     ]
    },
    {
     "data": {
      "text/markdown": [
       "**Cluster 612 Group :56321**\n"
      ],
      "text/plain": [
       "<IPython.core.display.Markdown object>"
      ]
     },
     "metadata": {},
     "output_type": "display_data"
    },
    {
     "name": "stdout",
     "output_type": "stream",
     "text": [
      "Record count: 1\n",
      "     user id  age gender occupation zip code Age_category\n",
      "700      701   51      F  librarian    56321        40-60\n",
      "\n",
      "\n"
     ]
    },
    {
     "data": {
      "text/markdown": [
       "**Cluster 613 Group :89104**\n"
      ],
      "text/plain": [
       "<IPython.core.display.Markdown object>"
      ]
     },
     "metadata": {},
     "output_type": "display_data"
    },
    {
     "name": "stdout",
     "output_type": "stream",
     "text": [
      "Record count: 1\n",
      "     user id  age gender occupation zip code Age_category\n",
      "701      702   37      M      other    89104        20-40\n",
      "\n",
      "\n"
     ]
    },
    {
     "data": {
      "text/markdown": [
       "**Cluster 614 Group :91105**\n"
      ],
      "text/plain": [
       "<IPython.core.display.Markdown object>"
      ]
     },
     "metadata": {},
     "output_type": "display_data"
    },
    {
     "name": "stdout",
     "output_type": "stream",
     "text": [
      "Record count: 1\n",
      "     user id  age gender occupation zip code Age_category\n",
      "703      704   51      F  librarian    91105        40-60\n",
      "\n",
      "\n"
     ]
    },
    {
     "data": {
      "text/markdown": [
       "**Cluster 615 Group :54494**\n"
      ],
      "text/plain": [
       "<IPython.core.display.Markdown object>"
      ]
     },
     "metadata": {},
     "output_type": "display_data"
    },
    {
     "name": "stdout",
     "output_type": "stream",
     "text": [
      "Record count: 1\n",
      "     user id  age gender occupation zip code Age_category\n",
      "704      705   21      F    student    54494        20-40\n",
      "\n",
      "\n"
     ]
    },
    {
     "data": {
      "text/markdown": [
       "**Cluster 616 Group :19146**\n"
      ],
      "text/plain": [
       "<IPython.core.display.Markdown object>"
      ]
     },
     "metadata": {},
     "output_type": "display_data"
    },
    {
     "name": "stdout",
     "output_type": "stream",
     "text": [
      "Record count: 1\n",
      "     user id  age gender occupation zip code Age_category\n",
      "706      707   56      F  librarian    19146        40-60\n",
      "\n",
      "\n"
     ]
    },
    {
     "data": {
      "text/markdown": [
       "**Cluster 617 Group :96349**\n"
      ],
      "text/plain": [
       "<IPython.core.display.Markdown object>"
      ]
     },
     "metadata": {},
     "output_type": "display_data"
    },
    {
     "name": "stdout",
     "output_type": "stream",
     "text": [
      "Record count: 1\n",
      "     user id  age gender occupation zip code Age_category\n",
      "707      708   26      F  homemaker    96349        20-40\n",
      "\n",
      "\n"
     ]
    },
    {
     "data": {
      "text/markdown": [
       "**Cluster 618 Group :N4T1A**\n"
      ],
      "text/plain": [
       "<IPython.core.display.Markdown object>"
      ]
     },
     "metadata": {},
     "output_type": "display_data"
    },
    {
     "name": "stdout",
     "output_type": "stream",
     "text": [
      "Record count: 1\n",
      "     user id  age gender occupation zip code Age_category\n",
      "708      709   21      M      other    N4T1A        20-40\n",
      "\n",
      "\n"
     ]
    },
    {
     "data": {
      "text/markdown": [
       "**Cluster 619 Group :92020**\n"
      ],
      "text/plain": [
       "<IPython.core.display.Markdown object>"
      ]
     },
     "metadata": {},
     "output_type": "display_data"
    },
    {
     "name": "stdout",
     "output_type": "stream",
     "text": [
      "Record count: 1\n",
      "     user id  age gender occupation zip code Age_category\n",
      "709      710   19      M    student    92020         0-20\n",
      "\n",
      "\n"
     ]
    },
    {
     "data": {
      "text/markdown": [
       "**Cluster 620 Group :15203**\n"
      ],
      "text/plain": [
       "<IPython.core.display.Markdown object>"
      ]
     },
     "metadata": {},
     "output_type": "display_data"
    },
    {
     "name": "stdout",
     "output_type": "stream",
     "text": [
      "Record count: 1\n",
      "     user id  age gender occupation zip code Age_category\n",
      "710      711   22      F    student    15203        20-40\n",
      "\n",
      "\n"
     ]
    },
    {
     "data": {
      "text/markdown": [
       "**Cluster 621 Group :54901**\n"
      ],
      "text/plain": [
       "<IPython.core.display.Markdown object>"
      ]
     },
     "metadata": {},
     "output_type": "display_data"
    },
    {
     "name": "stdout",
     "output_type": "stream",
     "text": [
      "Record count: 1\n",
      "     user id  age gender occupation zip code Age_category\n",
      "711      712   22      F    student    54901        20-40\n",
      "\n",
      "\n"
     ]
    },
    {
     "data": {
      "text/markdown": [
       "**Cluster 622 Group :07204**\n"
      ],
      "text/plain": [
       "<IPython.core.display.Markdown object>"
      ]
     },
     "metadata": {},
     "output_type": "display_data"
    },
    {
     "name": "stdout",
     "output_type": "stream",
     "text": [
      "Record count: 1\n",
      "     user id  age gender occupation zip code Age_category\n",
      "712      713   42      F      other    07204        40-60\n",
      "\n",
      "\n"
     ]
    },
    {
     "data": {
      "text/markdown": [
       "**Cluster 623 Group :55343**\n"
      ],
      "text/plain": [
       "<IPython.core.display.Markdown object>"
      ]
     },
     "metadata": {},
     "output_type": "display_data"
    },
    {
     "name": "stdout",
     "output_type": "stream",
     "text": [
      "Record count: 1\n",
      "     user id  age gender occupation zip code Age_category\n",
      "713      714   26      M   engineer    55343        20-40\n",
      "\n",
      "\n"
     ]
    },
    {
     "data": {
      "text/markdown": [
       "**Cluster 624 Group :91206**\n"
      ],
      "text/plain": [
       "<IPython.core.display.Markdown object>"
      ]
     },
     "metadata": {},
     "output_type": "display_data"
    },
    {
     "name": "stdout",
     "output_type": "stream",
     "text": [
      "Record count: 2\n",
      "     user id  age gender  occupation zip code Age_category\n",
      "714      715   21      M  technician    91206        20-40\n",
      "752      753   56      M    salesman    91206        40-60\n",
      "\n",
      "\n"
     ]
    },
    {
     "data": {
      "text/markdown": [
       "**Cluster 625 Group :44265**\n"
      ],
      "text/plain": [
       "<IPython.core.display.Markdown object>"
      ]
     },
     "metadata": {},
     "output_type": "display_data"
    },
    {
     "name": "stdout",
     "output_type": "stream",
     "text": [
      "Record count: 1\n",
      "     user id  age gender     occupation zip code Age_category\n",
      "715      716   36      F  administrator    44265        20-40\n",
      "\n",
      "\n"
     ]
    },
    {
     "data": {
      "text/markdown": [
       "**Cluster 626 Group :84105**\n"
      ],
      "text/plain": [
       "<IPython.core.display.Markdown object>"
      ]
     },
     "metadata": {},
     "output_type": "display_data"
    },
    {
     "name": "stdout",
     "output_type": "stream",
     "text": [
      "Record count: 1\n",
      "     user id  age gender  occupation zip code Age_category\n",
      "716      717   24      M  technician    84105        20-40\n",
      "\n",
      "\n"
     ]
    },
    {
     "data": {
      "text/markdown": [
       "**Cluster 627 Group :64118**\n"
      ],
      "text/plain": [
       "<IPython.core.display.Markdown object>"
      ]
     },
     "metadata": {},
     "output_type": "display_data"
    },
    {
     "name": "stdout",
     "output_type": "stream",
     "text": [
      "Record count: 1\n",
      "     user id  age gender  occupation zip code Age_category\n",
      "717      718   42      M  technician    64118        40-60\n",
      "\n",
      "\n"
     ]
    },
    {
     "data": {
      "text/markdown": [
       "**Cluster 628 Group :V0R2H**\n"
      ],
      "text/plain": [
       "<IPython.core.display.Markdown object>"
      ]
     },
     "metadata": {},
     "output_type": "display_data"
    },
    {
     "name": "stdout",
     "output_type": "stream",
     "text": [
      "Record count: 1\n",
      "     user id  age gender occupation zip code Age_category\n",
      "718      719   37      F      other    V0R2H        20-40\n",
      "\n",
      "\n"
     ]
    },
    {
     "data": {
      "text/markdown": [
       "**Cluster 629 Group :16506**\n"
      ],
      "text/plain": [
       "<IPython.core.display.Markdown object>"
      ]
     },
     "metadata": {},
     "output_type": "display_data"
    },
    {
     "name": "stdout",
     "output_type": "stream",
     "text": [
      "Record count: 1\n",
      "     user id  age gender     occupation zip code Age_category\n",
      "719      720   49      F  administrator    16506        40-60\n",
      "\n",
      "\n"
     ]
    },
    {
     "data": {
      "text/markdown": [
       "**Cluster 630 Group :11238**\n"
      ],
      "text/plain": [
       "<IPython.core.display.Markdown object>"
      ]
     },
     "metadata": {},
     "output_type": "display_data"
    },
    {
     "name": "stdout",
     "output_type": "stream",
     "text": [
      "Record count: 1\n",
      "     user id  age gender     occupation zip code Age_category\n",
      "720      721   24      F  entertainment    11238        20-40\n",
      "\n",
      "\n"
     ]
    },
    {
     "data": {
      "text/markdown": [
       "**Cluster 631 Group :17331**\n"
      ],
      "text/plain": [
       "<IPython.core.display.Markdown object>"
      ]
     },
     "metadata": {},
     "output_type": "display_data"
    },
    {
     "name": "stdout",
     "output_type": "stream",
     "text": [
      "Record count: 1\n",
      "     user id  age gender occupation zip code Age_category\n",
      "721      722   50      F  homemaker    17331        40-60\n",
      "\n",
      "\n"
     ]
    },
    {
     "data": {
      "text/markdown": [
       "**Cluster 632 Group :94403**\n"
      ],
      "text/plain": [
       "<IPython.core.display.Markdown object>"
      ]
     },
     "metadata": {},
     "output_type": "display_data"
    },
    {
     "name": "stdout",
     "output_type": "stream",
     "text": [
      "Record count: 1\n",
      "     user id  age gender occupation zip code Age_category\n",
      "722      723   26      M  executive    94403        20-40\n",
      "\n",
      "\n"
     ]
    },
    {
     "data": {
      "text/markdown": [
       "**Cluster 633 Group :40243**\n"
      ],
      "text/plain": [
       "<IPython.core.display.Markdown object>"
      ]
     },
     "metadata": {},
     "output_type": "display_data"
    },
    {
     "name": "stdout",
     "output_type": "stream",
     "text": [
      "Record count: 1\n",
      "     user id  age gender occupation zip code Age_category\n",
      "723      724   31      M  executive    40243        20-40\n",
      "\n",
      "\n"
     ]
    },
    {
     "data": {
      "text/markdown": [
       "**Cluster 634 Group :80538**\n"
      ],
      "text/plain": [
       "<IPython.core.display.Markdown object>"
      ]
     },
     "metadata": {},
     "output_type": "display_data"
    },
    {
     "name": "stdout",
     "output_type": "stream",
     "text": [
      "Record count: 1\n",
      "     user id  age gender     occupation zip code Age_category\n",
      "725      726   25      F  administrator    80538        20-40\n",
      "\n",
      "\n"
     ]
    },
    {
     "data": {
      "text/markdown": [
       "**Cluster 635 Group :56567**\n"
      ],
      "text/plain": [
       "<IPython.core.display.Markdown object>"
      ]
     },
     "metadata": {},
     "output_type": "display_data"
    },
    {
     "name": "stdout",
     "output_type": "stream",
     "text": [
      "Record count: 1\n",
      "     user id  age gender occupation zip code Age_category\n",
      "728      729   19      M    student    56567         0-20\n",
      "\n",
      "\n"
     ]
    },
    {
     "data": {
      "text/markdown": [
       "**Cluster 636 Group :32114**\n"
      ],
      "text/plain": [
       "<IPython.core.display.Markdown object>"
      ]
     },
     "metadata": {},
     "output_type": "display_data"
    },
    {
     "name": "stdout",
     "output_type": "stream",
     "text": [
      "Record count: 1\n",
      "     user id  age gender occupation zip code Age_category\n",
      "729      730   31      F  scientist    32114        20-40\n",
      "\n",
      "\n"
     ]
    },
    {
     "data": {
      "text/markdown": [
       "**Cluster 637 Group :70403**\n"
      ],
      "text/plain": [
       "<IPython.core.display.Markdown object>"
      ]
     },
     "metadata": {},
     "output_type": "display_data"
    },
    {
     "name": "stdout",
     "output_type": "stream",
     "text": [
      "Record count: 1\n",
      "     user id  age gender occupation zip code Age_category\n",
      "730      731   41      F   educator    70403        40-60\n",
      "\n",
      "\n"
     ]
    },
    {
     "data": {
      "text/markdown": [
       "**Cluster 638 Group :98405**\n"
      ],
      "text/plain": [
       "<IPython.core.display.Markdown object>"
      ]
     },
     "metadata": {},
     "output_type": "display_data"
    },
    {
     "name": "stdout",
     "output_type": "stream",
     "text": [
      "Record count: 1\n",
      "     user id  age gender occupation zip code Age_category\n",
      "731      732   28      F      other    98405        20-40\n",
      "\n",
      "\n"
     ]
    },
    {
     "data": {
      "text/markdown": [
       "**Cluster 639 Group :85719**\n"
      ],
      "text/plain": [
       "<IPython.core.display.Markdown object>"
      ]
     },
     "metadata": {},
     "output_type": "display_data"
    },
    {
     "name": "stdout",
     "output_type": "stream",
     "text": [
      "Record count: 1\n",
      "     user id  age gender  occupation zip code Age_category\n",
      "734      735   29      F  healthcare    85719        20-40\n",
      "\n",
      "\n"
     ]
    },
    {
     "data": {
      "text/markdown": [
       "**Cluster 640 Group :98072**\n"
      ],
      "text/plain": [
       "<IPython.core.display.Markdown object>"
      ]
     },
     "metadata": {},
     "output_type": "display_data"
    },
    {
     "name": "stdout",
     "output_type": "stream",
     "text": [
      "Record count: 2\n",
      "     user id  age gender  occupation zip code Age_category\n",
      "736      737   30      M  programmer    98072        20-40\n",
      "936      937   48      M    educator    98072        40-60\n",
      "\n",
      "\n"
     ]
    },
    {
     "data": {
      "text/markdown": [
       "**Cluster 641 Group :95403**\n"
      ],
      "text/plain": [
       "<IPython.core.display.Markdown object>"
      ]
     },
     "metadata": {},
     "output_type": "display_data"
    },
    {
     "name": "stdout",
     "output_type": "stream",
     "text": [
      "Record count: 1\n",
      "     user id  age gender  occupation zip code Age_category\n",
      "737      738   35      M  technician    95403        20-40\n",
      "\n",
      "\n"
     ]
    },
    {
     "data": {
      "text/markdown": [
       "**Cluster 642 Group :73162**\n"
      ],
      "text/plain": [
       "<IPython.core.display.Markdown object>"
      ]
     },
     "metadata": {},
     "output_type": "display_data"
    },
    {
     "name": "stdout",
     "output_type": "stream",
     "text": [
      "Record count: 1\n",
      "     user id  age gender  occupation zip code Age_category\n",
      "738      739   35      M  technician    73162        20-40\n",
      "\n",
      "\n"
     ]
    },
    {
     "data": {
      "text/markdown": [
       "**Cluster 643 Group :29210**\n"
      ],
      "text/plain": [
       "<IPython.core.display.Markdown object>"
      ]
     },
     "metadata": {},
     "output_type": "display_data"
    },
    {
     "name": "stdout",
     "output_type": "stream",
     "text": [
      "Record count: 1\n",
      "     user id  age gender occupation zip code Age_category\n",
      "741      742   35      M    student    29210        20-40\n",
      "\n",
      "\n"
     ]
    },
    {
     "data": {
      "text/markdown": [
       "**Cluster 644 Group :92660**\n"
      ],
      "text/plain": [
       "<IPython.core.display.Markdown object>"
      ]
     },
     "metadata": {},
     "output_type": "display_data"
    },
    {
     "name": "stdout",
     "output_type": "stream",
     "text": [
      "Record count: 1\n",
      "     user id  age gender  occupation zip code Age_category\n",
      "742      743   31      M  programmer    92660        20-40\n",
      "\n",
      "\n"
     ]
    },
    {
     "data": {
      "text/markdown": [
       "**Cluster 645 Group :47024**\n"
      ],
      "text/plain": [
       "<IPython.core.display.Markdown object>"
      ]
     },
     "metadata": {},
     "output_type": "display_data"
    },
    {
     "name": "stdout",
     "output_type": "stream",
     "text": [
      "Record count: 1\n",
      "     user id  age gender occupation zip code Age_category\n",
      "743      744   35      M  marketing    47024        20-40\n",
      "\n",
      "\n"
     ]
    },
    {
     "data": {
      "text/markdown": [
       "**Cluster 646 Group :19047**\n"
      ],
      "text/plain": [
       "<IPython.core.display.Markdown object>"
      ]
     },
     "metadata": {},
     "output_type": "display_data"
    },
    {
     "name": "stdout",
     "output_type": "stream",
     "text": [
      "Record count: 1\n",
      "     user id  age gender occupation zip code Age_category\n",
      "745      746   25      M   engineer    19047        20-40\n",
      "\n",
      "\n"
     ]
    },
    {
     "data": {
      "text/markdown": [
       "**Cluster 647 Group :93612**\n"
      ],
      "text/plain": [
       "<IPython.core.display.Markdown object>"
      ]
     },
     "metadata": {},
     "output_type": "display_data"
    },
    {
     "name": "stdout",
     "output_type": "stream",
     "text": [
      "Record count: 1\n",
      "     user id  age gender occupation zip code Age_category\n",
      "746      747   19      M      other    93612         0-20\n",
      "\n",
      "\n"
     ]
    },
    {
     "data": {
      "text/markdown": [
       "**Cluster 648 Group :94720**\n"
      ],
      "text/plain": [
       "<IPython.core.display.Markdown object>"
      ]
     },
     "metadata": {},
     "output_type": "display_data"
    },
    {
     "name": "stdout",
     "output_type": "stream",
     "text": [
      "Record count: 1\n",
      "     user id  age gender     occupation zip code Age_category\n",
      "747      748   28      M  administrator    94720        20-40\n",
      "\n",
      "\n"
     ]
    },
    {
     "data": {
      "text/markdown": [
       "**Cluster 649 Group :80919**\n"
      ],
      "text/plain": [
       "<IPython.core.display.Markdown object>"
      ]
     },
     "metadata": {},
     "output_type": "display_data"
    },
    {
     "name": "stdout",
     "output_type": "stream",
     "text": [
      "Record count: 1\n",
      "     user id  age gender occupation zip code Age_category\n",
      "748      749   33      M      other    80919        20-40\n",
      "\n",
      "\n"
     ]
    },
    {
     "data": {
      "text/markdown": [
       "**Cluster 650 Group :32303**\n"
      ],
      "text/plain": [
       "<IPython.core.display.Markdown object>"
      ]
     },
     "metadata": {},
     "output_type": "display_data"
    },
    {
     "name": "stdout",
     "output_type": "stream",
     "text": [
      "Record count: 1\n",
      "     user id  age gender     occupation zip code Age_category\n",
      "749      750   28      M  administrator    32303        20-40\n",
      "\n",
      "\n"
     ]
    },
    {
     "data": {
      "text/markdown": [
       "**Cluster 651 Group :21201**\n"
      ],
      "text/plain": [
       "<IPython.core.display.Markdown object>"
      ]
     },
     "metadata": {},
     "output_type": "display_data"
    },
    {
     "name": "stdout",
     "output_type": "stream",
     "text": [
      "Record count: 1\n",
      "     user id  age gender occupation zip code Age_category\n",
      "751      752   60      M    retired    21201        40-60\n",
      "\n",
      "\n"
     ]
    },
    {
     "data": {
      "text/markdown": [
       "**Cluster 652 Group :97007**\n"
      ],
      "text/plain": [
       "<IPython.core.display.Markdown object>"
      ]
     },
     "metadata": {},
     "output_type": "display_data"
    },
    {
     "name": "stdout",
     "output_type": "stream",
     "text": [
      "Record count: 1\n",
      "     user id  age gender occupation zip code Age_category\n",
      "754      755   44      F   educator    97007        40-60\n",
      "\n",
      "\n"
     ]
    },
    {
     "data": {
      "text/markdown": [
       "**Cluster 653 Group :90247**\n"
      ],
      "text/plain": [
       "<IPython.core.display.Markdown object>"
      ]
     },
     "metadata": {},
     "output_type": "display_data"
    },
    {
     "name": "stdout",
     "output_type": "stream",
     "text": [
      "Record count: 1\n",
      "     user id  age gender occupation zip code Age_category\n",
      "755      756   30      F       none    90247        20-40\n",
      "\n",
      "\n"
     ]
    },
    {
     "data": {
      "text/markdown": [
       "**Cluster 654 Group :68503**\n"
      ],
      "text/plain": [
       "<IPython.core.display.Markdown object>"
      ]
     },
     "metadata": {},
     "output_type": "display_data"
    },
    {
     "name": "stdout",
     "output_type": "stream",
     "text": [
      "Record count: 1\n",
      "     user id  age gender occupation zip code Age_category\n",
      "758      759   20      F    student    68503         0-20\n",
      "\n",
      "\n"
     ]
    },
    {
     "data": {
      "text/markdown": [
       "**Cluster 655 Group :14211**\n"
      ],
      "text/plain": [
       "<IPython.core.display.Markdown object>"
      ]
     },
     "metadata": {},
     "output_type": "display_data"
    },
    {
     "name": "stdout",
     "output_type": "stream",
     "text": [
      "Record count: 1\n",
      "     user id  age gender occupation zip code Age_category\n",
      "759      760   35      F      other    14211        20-40\n",
      "\n",
      "\n"
     ]
    },
    {
     "data": {
      "text/markdown": [
       "**Cluster 656 Group :97302**\n"
      ],
      "text/plain": [
       "<IPython.core.display.Markdown object>"
      ]
     },
     "metadata": {},
     "output_type": "display_data"
    },
    {
     "name": "stdout",
     "output_type": "stream",
     "text": [
      "Record count: 1\n",
      "     user id  age gender occupation zip code Age_category\n",
      "760      761   17      M    student    97302         0-20\n",
      "\n",
      "\n"
     ]
    },
    {
     "data": {
      "text/markdown": [
       "**Cluster 657 Group :95050**\n"
      ],
      "text/plain": [
       "<IPython.core.display.Markdown object>"
      ]
     },
     "metadata": {},
     "output_type": "display_data"
    },
    {
     "name": "stdout",
     "output_type": "stream",
     "text": [
      "Record count: 1\n",
      "     user id  age gender     occupation zip code Age_category\n",
      "761      762   32      M  administrator    95050        20-40\n",
      "\n",
      "\n"
     ]
    },
    {
     "data": {
      "text/markdown": [
       "**Cluster 658 Group :02113**\n"
      ],
      "text/plain": [
       "<IPython.core.display.Markdown object>"
      ]
     },
     "metadata": {},
     "output_type": "display_data"
    },
    {
     "name": "stdout",
     "output_type": "stream",
     "text": [
      "Record count: 1\n",
      "     user id  age gender occupation zip code Age_category\n",
      "762      763   27      M  scientist    02113        20-40\n",
      "\n",
      "\n"
     ]
    },
    {
     "data": {
      "text/markdown": [
       "**Cluster 659 Group :62903**\n"
      ],
      "text/plain": [
       "<IPython.core.display.Markdown object>"
      ]
     },
     "metadata": {},
     "output_type": "display_data"
    },
    {
     "name": "stdout",
     "output_type": "stream",
     "text": [
      "Record count: 1\n",
      "     user id  age gender occupation zip code Age_category\n",
      "763      764   27      F   educator    62903        20-40\n",
      "\n",
      "\n"
     ]
    },
    {
     "data": {
      "text/markdown": [
       "**Cluster 660 Group :33066**\n"
      ],
      "text/plain": [
       "<IPython.core.display.Markdown object>"
      ]
     },
     "metadata": {},
     "output_type": "display_data"
    },
    {
     "name": "stdout",
     "output_type": "stream",
     "text": [
      "Record count: 1\n",
      "     user id  age gender occupation zip code Age_category\n",
      "764      765   31      M    student    33066        20-40\n",
      "\n",
      "\n"
     ]
    },
    {
     "data": {
      "text/markdown": [
       "**Cluster 661 Group :12866**\n"
      ],
      "text/plain": [
       "<IPython.core.display.Markdown object>"
      ]
     },
     "metadata": {},
     "output_type": "display_data"
    },
    {
     "name": "stdout",
     "output_type": "stream",
     "text": [
      "Record count: 1\n",
      "     user id  age gender     occupation zip code Age_category\n",
      "767      768   29      M  administrator    12866        20-40\n",
      "\n",
      "\n"
     ]
    },
    {
     "data": {
      "text/markdown": [
       "**Cluster 662 Group :06927**\n"
      ],
      "text/plain": [
       "<IPython.core.display.Markdown object>"
      ]
     },
     "metadata": {},
     "output_type": "display_data"
    },
    {
     "name": "stdout",
     "output_type": "stream",
     "text": [
      "Record count: 1\n",
      "     user id  age gender occupation zip code Age_category\n",
      "768      769   39      M  executive    06927        20-40\n",
      "\n",
      "\n"
     ]
    },
    {
     "data": {
      "text/markdown": [
       "**Cluster 663 Group :15232**\n"
      ],
      "text/plain": [
       "<IPython.core.display.Markdown object>"
      ]
     },
     "metadata": {},
     "output_type": "display_data"
    },
    {
     "name": "stdout",
     "output_type": "stream",
     "text": [
      "Record count: 1\n",
      "     user id  age gender occupation zip code Age_category\n",
      "770      771   26      M    student    15232        20-40\n",
      "\n",
      "\n"
     ]
    },
    {
     "data": {
      "text/markdown": [
       "**Cluster 664 Group :27105**\n"
      ],
      "text/plain": [
       "<IPython.core.display.Markdown object>"
      ]
     },
     "metadata": {},
     "output_type": "display_data"
    },
    {
     "name": "stdout",
     "output_type": "stream",
     "text": [
      "Record count: 1\n",
      "     user id  age gender occupation zip code Age_category\n",
      "771      772   50      M     writer    27105        40-60\n",
      "\n",
      "\n"
     ]
    },
    {
     "data": {
      "text/markdown": [
       "**Cluster 665 Group :80027**\n"
      ],
      "text/plain": [
       "<IPython.core.display.Markdown object>"
      ]
     },
     "metadata": {},
     "output_type": "display_data"
    },
    {
     "name": "stdout",
     "output_type": "stream",
     "text": [
      "Record count: 1\n",
      "     user id  age gender occupation zip code Age_category\n",
      "773      774   30      M    student    80027        20-40\n",
      "\n",
      "\n"
     ]
    },
    {
     "data": {
      "text/markdown": [
       "**Cluster 666 Group :90036**\n"
      ],
      "text/plain": [
       "<IPython.core.display.Markdown object>"
      ]
     },
     "metadata": {},
     "output_type": "display_data"
    },
    {
     "name": "stdout",
     "output_type": "stream",
     "text": [
      "Record count: 1\n",
      "     user id  age gender occupation zip code Age_category\n",
      "774      775   46      M  executive    90036        40-60\n",
      "\n",
      "\n"
     ]
    },
    {
     "data": {
      "text/markdown": [
       "**Cluster 667 Group :51157**\n"
      ],
      "text/plain": [
       "<IPython.core.display.Markdown object>"
      ]
     },
     "metadata": {},
     "output_type": "display_data"
    },
    {
     "name": "stdout",
     "output_type": "stream",
     "text": [
      "Record count: 1\n",
      "     user id  age gender occupation zip code Age_category\n",
      "775      776   30      M  librarian    51157        20-40\n",
      "\n",
      "\n"
     ]
    },
    {
     "data": {
      "text/markdown": [
       "**Cluster 668 Group :01960**\n"
      ],
      "text/plain": [
       "<IPython.core.display.Markdown object>"
      ]
     },
     "metadata": {},
     "output_type": "display_data"
    },
    {
     "name": "stdout",
     "output_type": "stream",
     "text": [
      "Record count: 1\n",
      "     user id  age gender occupation zip code Age_category\n",
      "777      778   34      M    student    01960        20-40\n",
      "\n",
      "\n"
     ]
    },
    {
     "data": {
      "text/markdown": [
       "**Cluster 669 Group :K7L5J**\n"
      ],
      "text/plain": [
       "<IPython.core.display.Markdown object>"
      ]
     },
     "metadata": {},
     "output_type": "display_data"
    },
    {
     "name": "stdout",
     "output_type": "stream",
     "text": [
      "Record count: 1\n",
      "     user id  age gender occupation zip code Age_category\n",
      "778      779   31      M    student    K7L5J        20-40\n",
      "\n",
      "\n"
     ]
    },
    {
     "data": {
      "text/markdown": [
       "**Cluster 670 Group :94560**\n"
      ],
      "text/plain": [
       "<IPython.core.display.Markdown object>"
      ]
     },
     "metadata": {},
     "output_type": "display_data"
    },
    {
     "name": "stdout",
     "output_type": "stream",
     "text": [
      "Record count: 1\n",
      "     user id  age gender  occupation zip code Age_category\n",
      "779      780   49      M  programmer    94560        40-60\n",
      "\n",
      "\n"
     ]
    },
    {
     "data": {
      "text/markdown": [
       "**Cluster 671 Group :48825**\n"
      ],
      "text/plain": [
       "<IPython.core.display.Markdown object>"
      ]
     },
     "metadata": {},
     "output_type": "display_data"
    },
    {
     "name": "stdout",
     "output_type": "stream",
     "text": [
      "Record count: 1\n",
      "     user id  age gender occupation zip code Age_category\n",
      "780      781   20      M    student    48825         0-20\n",
      "\n",
      "\n"
     ]
    },
    {
     "data": {
      "text/markdown": [
       "**Cluster 672 Group :33205**\n"
      ],
      "text/plain": [
       "<IPython.core.display.Markdown object>"
      ]
     },
     "metadata": {},
     "output_type": "display_data"
    },
    {
     "name": "stdout",
     "output_type": "stream",
     "text": [
      "Record count: 1\n",
      "     user id  age gender occupation zip code Age_category\n",
      "781      782   21      F     artist    33205        20-40\n",
      "\n",
      "\n"
     ]
    },
    {
     "data": {
      "text/markdown": [
       "**Cluster 673 Group :77081**\n"
      ],
      "text/plain": [
       "<IPython.core.display.Markdown object>"
      ]
     },
     "metadata": {},
     "output_type": "display_data"
    },
    {
     "name": "stdout",
     "output_type": "stream",
     "text": [
      "Record count: 1\n",
      "     user id  age gender occupation zip code Age_category\n",
      "782      783   30      M  marketing    77081        20-40\n",
      "\n",
      "\n"
     ]
    },
    {
     "data": {
      "text/markdown": [
       "**Cluster 674 Group :91040**\n"
      ],
      "text/plain": [
       "<IPython.core.display.Markdown object>"
      ]
     },
     "metadata": {},
     "output_type": "display_data"
    },
    {
     "name": "stdout",
     "output_type": "stream",
     "text": [
      "Record count: 1\n",
      "     user id  age gender     occupation zip code Age_category\n",
      "783      784   47      M  administrator    91040        40-60\n",
      "\n",
      "\n"
     ]
    },
    {
     "data": {
      "text/markdown": [
       "**Cluster 675 Group :23322**\n"
      ],
      "text/plain": [
       "<IPython.core.display.Markdown object>"
      ]
     },
     "metadata": {},
     "output_type": "display_data"
    },
    {
     "name": "stdout",
     "output_type": "stream",
     "text": [
      "Record count: 1\n",
      "     user id  age gender occupation zip code Age_category\n",
      "784      785   32      M   engineer    23322        20-40\n",
      "\n",
      "\n"
     ]
    },
    {
     "data": {
      "text/markdown": [
       "**Cluster 676 Group :01754**\n"
      ],
      "text/plain": [
       "<IPython.core.display.Markdown object>"
      ]
     },
     "metadata": {},
     "output_type": "display_data"
    },
    {
     "name": "stdout",
     "output_type": "stream",
     "text": [
      "Record count: 1\n",
      "     user id  age gender occupation zip code Age_category\n",
      "785      786   36      F   engineer    01754        20-40\n",
      "\n",
      "\n"
     ]
    },
    {
     "data": {
      "text/markdown": [
       "**Cluster 677 Group :98620**\n"
      ],
      "text/plain": [
       "<IPython.core.display.Markdown object>"
      ]
     },
     "metadata": {},
     "output_type": "display_data"
    },
    {
     "name": "stdout",
     "output_type": "stream",
     "text": [
      "Record count: 1\n",
      "     user id  age gender occupation zip code Age_category\n",
      "786      787   18      F    student    98620         0-20\n",
      "\n",
      "\n"
     ]
    },
    {
     "data": {
      "text/markdown": [
       "**Cluster 678 Group :05779**\n"
      ],
      "text/plain": [
       "<IPython.core.display.Markdown object>"
      ]
     },
     "metadata": {},
     "output_type": "display_data"
    },
    {
     "name": "stdout",
     "output_type": "stream",
     "text": [
      "Record count: 1\n",
      "     user id  age gender     occupation zip code Age_category\n",
      "787      788   51      M  administrator    05779        40-60\n",
      "\n",
      "\n"
     ]
    },
    {
     "data": {
      "text/markdown": [
       "**Cluster 679 Group :55420**\n"
      ],
      "text/plain": [
       "<IPython.core.display.Markdown object>"
      ]
     },
     "metadata": {},
     "output_type": "display_data"
    },
    {
     "name": "stdout",
     "output_type": "stream",
     "text": [
      "Record count: 1\n",
      "     user id  age gender occupation zip code Age_category\n",
      "788      789   29      M      other    55420        20-40\n",
      "\n",
      "\n"
     ]
    },
    {
     "data": {
      "text/markdown": [
       "**Cluster 680 Group :80913**\n"
      ],
      "text/plain": [
       "<IPython.core.display.Markdown object>"
      ]
     },
     "metadata": {},
     "output_type": "display_data"
    },
    {
     "name": "stdout",
     "output_type": "stream",
     "text": [
      "Record count: 1\n",
      "     user id  age gender  occupation zip code Age_category\n",
      "789      790   27      M  technician    80913        20-40\n",
      "\n",
      "\n"
     ]
    },
    {
     "data": {
      "text/markdown": [
       "**Cluster 681 Group :20064**\n"
      ],
      "text/plain": [
       "<IPython.core.display.Markdown object>"
      ]
     },
     "metadata": {},
     "output_type": "display_data"
    },
    {
     "name": "stdout",
     "output_type": "stream",
     "text": [
      "Record count: 1\n",
      "     user id  age gender occupation zip code Age_category\n",
      "790      791   31      M   educator    20064        20-40\n",
      "\n",
      "\n"
     ]
    },
    {
     "data": {
      "text/markdown": [
       "**Cluster 682 Group :12205**\n"
      ],
      "text/plain": [
       "<IPython.core.display.Markdown object>"
      ]
     },
     "metadata": {},
     "output_type": "display_data"
    },
    {
     "name": "stdout",
     "output_type": "stream",
     "text": [
      "Record count: 1\n",
      "     user id  age gender  occupation zip code Age_category\n",
      "791      792   40      M  programmer    12205        20-40\n",
      "\n",
      "\n"
     ]
    },
    {
     "data": {
      "text/markdown": [
       "**Cluster 683 Group :85281**\n"
      ],
      "text/plain": [
       "<IPython.core.display.Markdown object>"
      ]
     },
     "metadata": {},
     "output_type": "display_data"
    },
    {
     "name": "stdout",
     "output_type": "stream",
     "text": [
      "Record count: 1\n",
      "     user id  age gender occupation zip code Age_category\n",
      "792      793   22      M    student    85281        20-40\n",
      "\n",
      "\n"
     ]
    },
    {
     "data": {
      "text/markdown": [
       "**Cluster 684 Group :57197**\n"
      ],
      "text/plain": [
       "<IPython.core.display.Markdown object>"
      ]
     },
     "metadata": {},
     "output_type": "display_data"
    },
    {
     "name": "stdout",
     "output_type": "stream",
     "text": [
      "Record count: 1\n",
      "     user id  age gender occupation zip code Age_category\n",
      "793      794   32      M   educator    57197        20-40\n",
      "\n",
      "\n"
     ]
    },
    {
     "data": {
      "text/markdown": [
       "**Cluster 685 Group :08610**\n"
      ],
      "text/plain": [
       "<IPython.core.display.Markdown object>"
      ]
     },
     "metadata": {},
     "output_type": "display_data"
    },
    {
     "name": "stdout",
     "output_type": "stream",
     "text": [
      "Record count: 1\n",
      "     user id  age gender  occupation zip code Age_category\n",
      "794      795   30      M  programmer    08610        20-40\n",
      "\n",
      "\n"
     ]
    },
    {
     "data": {
      "text/markdown": [
       "**Cluster 686 Group :33755**\n"
      ],
      "text/plain": [
       "<IPython.core.display.Markdown object>"
      ]
     },
     "metadata": {},
     "output_type": "display_data"
    },
    {
     "name": "stdout",
     "output_type": "stream",
     "text": [
      "Record count: 1\n",
      "     user id  age gender occupation zip code Age_category\n",
      "795      796   32      F     writer    33755        20-40\n",
      "\n",
      "\n"
     ]
    },
    {
     "data": {
      "text/markdown": [
       "**Cluster 687 Group :62522**\n"
      ],
      "text/plain": [
       "<IPython.core.display.Markdown object>"
      ]
     },
     "metadata": {},
     "output_type": "display_data"
    },
    {
     "name": "stdout",
     "output_type": "stream",
     "text": [
      "Record count: 1\n",
      "     user id  age gender occupation zip code Age_category\n",
      "796      797   44      F      other    62522        40-60\n",
      "\n",
      "\n"
     ]
    },
    {
     "data": {
      "text/markdown": [
       "**Cluster 688 Group :64131**\n"
      ],
      "text/plain": [
       "<IPython.core.display.Markdown object>"
      ]
     },
     "metadata": {},
     "output_type": "display_data"
    },
    {
     "name": "stdout",
     "output_type": "stream",
     "text": [
      "Record count: 1\n",
      "     user id  age gender occupation zip code Age_category\n",
      "797      798   40      F     writer    64131        20-40\n",
      "\n",
      "\n"
     ]
    },
    {
     "data": {
      "text/markdown": [
       "**Cluster 689 Group :19716**\n"
      ],
      "text/plain": [
       "<IPython.core.display.Markdown object>"
      ]
     },
     "metadata": {},
     "output_type": "display_data"
    },
    {
     "name": "stdout",
     "output_type": "stream",
     "text": [
      "Record count: 1\n",
      "     user id  age gender     occupation zip code Age_category\n",
      "798      799   49      F  administrator    19716        40-60\n",
      "\n",
      "\n"
     ]
    },
    {
     "data": {
      "text/markdown": [
       "**Cluster 690 Group :92154**\n"
      ],
      "text/plain": [
       "<IPython.core.display.Markdown object>"
      ]
     },
     "metadata": {},
     "output_type": "display_data"
    },
    {
     "name": "stdout",
     "output_type": "stream",
     "text": [
      "Record count: 1\n",
      "     user id  age gender occupation zip code Age_category\n",
      "800      801   22      M     writer    92154        20-40\n",
      "\n",
      "\n"
     ]
    },
    {
     "data": {
      "text/markdown": [
       "**Cluster 691 Group :34105**\n"
      ],
      "text/plain": [
       "<IPython.core.display.Markdown object>"
      ]
     },
     "metadata": {},
     "output_type": "display_data"
    },
    {
     "name": "stdout",
     "output_type": "stream",
     "text": [
      "Record count: 1\n",
      "     user id  age gender     occupation zip code Age_category\n",
      "801      802   35      M  administrator    34105        20-40\n",
      "\n",
      "\n"
     ]
    },
    {
     "data": {
      "text/markdown": [
       "**Cluster 692 Group :90016**\n"
      ],
      "text/plain": [
       "<IPython.core.display.Markdown object>"
      ]
     },
     "metadata": {},
     "output_type": "display_data"
    },
    {
     "name": "stdout",
     "output_type": "stream",
     "text": [
      "Record count: 1\n",
      "     user id  age gender occupation zip code Age_category\n",
      "807      808   45      M   salesman    90016        40-60\n",
      "\n",
      "\n"
     ]
    },
    {
     "data": {
      "text/markdown": [
       "**Cluster 693 Group :30803**\n"
      ],
      "text/plain": [
       "<IPython.core.display.Markdown object>"
      ]
     },
     "metadata": {},
     "output_type": "display_data"
    },
    {
     "name": "stdout",
     "output_type": "stream",
     "text": [
      "Record count: 1\n",
      "     user id  age gender occupation zip code Age_category\n",
      "808      809   50      F  marketing    30803        40-60\n",
      "\n",
      "\n"
     ]
    },
    {
     "data": {
      "text/markdown": [
       "**Cluster 694 Group :80526**\n"
      ],
      "text/plain": [
       "<IPython.core.display.Markdown object>"
      ]
     },
     "metadata": {},
     "output_type": "display_data"
    },
    {
     "name": "stdout",
     "output_type": "stream",
     "text": [
      "Record count: 2\n",
      "     user id  age gender occupation zip code Age_category\n",
      "809      810   55      F      other    80526        40-60\n",
      "906      907   25      F      other    80526        20-40\n",
      "\n",
      "\n"
     ]
    },
    {
     "data": {
      "text/markdown": [
       "**Cluster 695 Group :73013**\n"
      ],
      "text/plain": [
       "<IPython.core.display.Markdown object>"
      ]
     },
     "metadata": {},
     "output_type": "display_data"
    },
    {
     "name": "stdout",
     "output_type": "stream",
     "text": [
      "Record count: 1\n",
      "     user id  age gender occupation zip code Age_category\n",
      "810      811   40      F   educator    73013        20-40\n",
      "\n",
      "\n"
     ]
    },
    {
     "data": {
      "text/markdown": [
       "**Cluster 696 Group :76234**\n"
      ],
      "text/plain": [
       "<IPython.core.display.Markdown object>"
      ]
     },
     "metadata": {},
     "output_type": "display_data"
    },
    {
     "name": "stdout",
     "output_type": "stream",
     "text": [
      "Record count: 1\n",
      "     user id  age gender  occupation zip code Age_category\n",
      "811      812   22      M  technician    76234        20-40\n",
      "\n",
      "\n"
     ]
    },
    {
     "data": {
      "text/markdown": [
       "**Cluster 697 Group :02136**\n"
      ],
      "text/plain": [
       "<IPython.core.display.Markdown object>"
      ]
     },
     "metadata": {},
     "output_type": "display_data"
    },
    {
     "name": "stdout",
     "output_type": "stream",
     "text": [
      "Record count: 1\n",
      "     user id  age gender occupation zip code Age_category\n",
      "812      813   14      F    student    02136         0-20\n",
      "\n",
      "\n"
     ]
    },
    {
     "data": {
      "text/markdown": [
       "**Cluster 698 Group :12345**\n"
      ],
      "text/plain": [
       "<IPython.core.display.Markdown object>"
      ]
     },
     "metadata": {},
     "output_type": "display_data"
    },
    {
     "name": "stdout",
     "output_type": "stream",
     "text": [
      "Record count: 1\n",
      "     user id  age gender occupation zip code Age_category\n",
      "813      814   30      M      other    12345        20-40\n",
      "\n",
      "\n"
     ]
    },
    {
     "data": {
      "text/markdown": [
       "**Cluster 699 Group :28806**\n"
      ],
      "text/plain": [
       "<IPython.core.display.Markdown object>"
      ]
     },
     "metadata": {},
     "output_type": "display_data"
    },
    {
     "name": "stdout",
     "output_type": "stream",
     "text": [
      "Record count: 1\n",
      "     user id  age gender occupation zip code Age_category\n",
      "814      815   32      M      other    28806        20-40\n",
      "\n",
      "\n"
     ]
    },
    {
     "data": {
      "text/markdown": [
       "**Cluster 700 Group :60152**\n"
      ],
      "text/plain": [
       "<IPython.core.display.Markdown object>"
      ]
     },
     "metadata": {},
     "output_type": "display_data"
    },
    {
     "name": "stdout",
     "output_type": "stream",
     "text": [
      "Record count: 1\n",
      "     user id  age gender occupation zip code Age_category\n",
      "816      817   19      M    student    60152         0-20\n",
      "\n",
      "\n"
     ]
    },
    {
     "data": {
      "text/markdown": [
       "**Cluster 701 Group :40205**\n"
      ],
      "text/plain": [
       "<IPython.core.display.Markdown object>"
      ]
     },
     "metadata": {},
     "output_type": "display_data"
    },
    {
     "name": "stdout",
     "output_type": "stream",
     "text": [
      "Record count: 1\n",
      "     user id  age gender     occupation zip code Age_category\n",
      "818      819   59      M  administrator    40205        40-60\n",
      "\n",
      "\n"
     ]
    },
    {
     "data": {
      "text/markdown": [
       "**Cluster 702 Group :37725**\n"
      ],
      "text/plain": [
       "<IPython.core.display.Markdown object>"
      ]
     },
     "metadata": {},
     "output_type": "display_data"
    },
    {
     "name": "stdout",
     "output_type": "stream",
     "text": [
      "Record count: 1\n",
      "     user id  age gender occupation zip code Age_category\n",
      "819      820   22      M    student    37725        20-40\n",
      "\n",
      "\n"
     ]
    },
    {
     "data": {
      "text/markdown": [
       "**Cluster 703 Group :53144**\n"
      ],
      "text/plain": [
       "<IPython.core.display.Markdown object>"
      ]
     },
     "metadata": {},
     "output_type": "display_data"
    },
    {
     "name": "stdout",
     "output_type": "stream",
     "text": [
      "Record count: 1\n",
      "     user id  age gender occupation zip code Age_category\n",
      "821      822   29      F  librarian    53144        20-40\n",
      "\n",
      "\n"
     ]
    },
    {
     "data": {
      "text/markdown": [
       "**Cluster 704 Group :50322**\n"
      ],
      "text/plain": [
       "<IPython.core.display.Markdown object>"
      ]
     },
     "metadata": {},
     "output_type": "display_data"
    },
    {
     "name": "stdout",
     "output_type": "stream",
     "text": [
      "Record count: 1\n",
      "     user id  age gender occupation zip code Age_category\n",
      "822      823   27      M     artist    50322        20-40\n",
      "\n",
      "\n"
     ]
    },
    {
     "data": {
      "text/markdown": [
       "**Cluster 705 Group :15017**\n"
      ],
      "text/plain": [
       "<IPython.core.display.Markdown object>"
      ]
     },
     "metadata": {},
     "output_type": "display_data"
    },
    {
     "name": "stdout",
     "output_type": "stream",
     "text": [
      "Record count: 1\n",
      "     user id  age gender occupation zip code Age_category\n",
      "823      824   31      M      other    15017        20-40\n",
      "\n",
      "\n"
     ]
    },
    {
     "data": {
      "text/markdown": [
       "**Cluster 706 Group :05452**\n"
      ],
      "text/plain": [
       "<IPython.core.display.Markdown object>"
      ]
     },
     "metadata": {},
     "output_type": "display_data"
    },
    {
     "name": "stdout",
     "output_type": "stream",
     "text": [
      "Record count: 1\n",
      "     user id  age gender occupation zip code Age_category\n",
      "824      825   44      M   engineer    05452        40-60\n",
      "\n",
      "\n"
     ]
    },
    {
     "data": {
      "text/markdown": [
       "**Cluster 707 Group :77048**\n"
      ],
      "text/plain": [
       "<IPython.core.display.Markdown object>"
      ]
     },
     "metadata": {},
     "output_type": "display_data"
    },
    {
     "name": "stdout",
     "output_type": "stream",
     "text": [
      "Record count: 1\n",
      "     user id  age gender occupation zip code Age_category\n",
      "825      826   28      M     artist    77048        20-40\n",
      "\n",
      "\n"
     ]
    },
    {
     "data": {
      "text/markdown": [
       "**Cluster 708 Group :80228**\n"
      ],
      "text/plain": [
       "<IPython.core.display.Markdown object>"
      ]
     },
     "metadata": {},
     "output_type": "display_data"
    },
    {
     "name": "stdout",
     "output_type": "stream",
     "text": [
      "Record count: 1\n",
      "     user id  age gender occupation zip code Age_category\n",
      "826      827   23      F   engineer    80228        20-40\n",
      "\n",
      "\n"
     ]
    },
    {
     "data": {
      "text/markdown": [
       "**Cluster 709 Group :80209**\n"
      ],
      "text/plain": [
       "<IPython.core.display.Markdown object>"
      ]
     },
     "metadata": {},
     "output_type": "display_data"
    },
    {
     "name": "stdout",
     "output_type": "stream",
     "text": [
      "Record count: 1\n",
      "     user id  age gender occupation zip code Age_category\n",
      "828      829   48      M     writer    80209        40-60\n",
      "\n",
      "\n"
     ]
    },
    {
     "data": {
      "text/markdown": [
       "**Cluster 710 Group :53066**\n"
      ],
      "text/plain": [
       "<IPython.core.display.Markdown object>"
      ]
     },
     "metadata": {},
     "output_type": "display_data"
    },
    {
     "name": "stdout",
     "output_type": "stream",
     "text": [
      "Record count: 1\n",
      "     user id  age gender  occupation zip code Age_category\n",
      "829      830   46      M  programmer    53066        40-60\n",
      "\n",
      "\n"
     ]
    },
    {
     "data": {
      "text/markdown": [
       "**Cluster 711 Group :33765**\n"
      ],
      "text/plain": [
       "<IPython.core.display.Markdown object>"
      ]
     },
     "metadata": {},
     "output_type": "display_data"
    },
    {
     "name": "stdout",
     "output_type": "stream",
     "text": [
      "Record count: 1\n",
      "     user id  age gender occupation zip code Age_category\n",
      "830      831   21      M      other    33765        20-40\n",
      "\n",
      "\n"
     ]
    },
    {
     "data": {
      "text/markdown": [
       "**Cluster 712 Group :90019**\n"
      ],
      "text/plain": [
       "<IPython.core.display.Markdown object>"
      ]
     },
     "metadata": {},
     "output_type": "display_data"
    },
    {
     "name": "stdout",
     "output_type": "stream",
     "text": [
      "Record count: 1\n",
      "     user id  age gender occupation zip code Age_category\n",
      "832      833   34      M     writer    90019        20-40\n",
      "\n",
      "\n"
     ]
    },
    {
     "data": {
      "text/markdown": [
       "**Cluster 713 Group :64153**\n"
      ],
      "text/plain": [
       "<IPython.core.display.Markdown object>"
      ]
     },
     "metadata": {},
     "output_type": "display_data"
    },
    {
     "name": "stdout",
     "output_type": "stream",
     "text": [
      "Record count: 1\n",
      "     user id  age gender occupation zip code Age_category\n",
      "833      834   26      M      other    64153        20-40\n",
      "\n",
      "\n"
     ]
    },
    {
     "data": {
      "text/markdown": [
       "**Cluster 714 Group :11577**\n"
      ],
      "text/plain": [
       "<IPython.core.display.Markdown object>"
      ]
     },
     "metadata": {},
     "output_type": "display_data"
    },
    {
     "name": "stdout",
     "output_type": "stream",
     "text": [
      "Record count: 1\n",
      "     user id  age gender occupation zip code Age_category\n",
      "834      835   44      F  executive    11577        40-60\n",
      "\n",
      "\n"
     ]
    },
    {
     "data": {
      "text/markdown": [
       "**Cluster 715 Group :10018**\n"
      ],
      "text/plain": [
       "<IPython.core.display.Markdown object>"
      ]
     },
     "metadata": {},
     "output_type": "display_data"
    },
    {
     "name": "stdout",
     "output_type": "stream",
     "text": [
      "Record count: 1\n",
      "     user id  age gender occupation zip code Age_category\n",
      "835      836   44      M     artist    10018        40-60\n",
      "\n",
      "\n"
     ]
    },
    {
     "data": {
      "text/markdown": [
       "**Cluster 716 Group :01375**\n"
      ],
      "text/plain": [
       "<IPython.core.display.Markdown object>"
      ]
     },
     "metadata": {},
     "output_type": "display_data"
    },
    {
     "name": "stdout",
     "output_type": "stream",
     "text": [
      "Record count: 1\n",
      "     user id  age gender occupation zip code Age_category\n",
      "837      838   23      M    student    01375        20-40\n",
      "\n",
      "\n"
     ]
    },
    {
     "data": {
      "text/markdown": [
       "**Cluster 717 Group :90814**\n"
      ],
      "text/plain": [
       "<IPython.core.display.Markdown object>"
      ]
     },
     "metadata": {},
     "output_type": "display_data"
    },
    {
     "name": "stdout",
     "output_type": "stream",
     "text": [
      "Record count: 1\n",
      "     user id  age gender     occupation zip code Age_category\n",
      "838      839   38      F  entertainment    90814        20-40\n",
      "\n",
      "\n"
     ]
    },
    {
     "data": {
      "text/markdown": [
       "**Cluster 718 Group :47401**\n"
      ],
      "text/plain": [
       "<IPython.core.display.Markdown object>"
      ]
     },
     "metadata": {},
     "output_type": "display_data"
    },
    {
     "name": "stdout",
     "output_type": "stream",
     "text": [
      "Record count: 1\n",
      "     user id  age gender occupation zip code Age_category\n",
      "840      841   45      M     doctor    47401        40-60\n",
      "\n",
      "\n"
     ]
    },
    {
     "data": {
      "text/markdown": [
       "**Cluster 719 Group :93055**\n"
      ],
      "text/plain": [
       "<IPython.core.display.Markdown object>"
      ]
     },
     "metadata": {},
     "output_type": "display_data"
    },
    {
     "name": "stdout",
     "output_type": "stream",
     "text": [
      "Record count: 1\n",
      "     user id  age gender occupation zip code Age_category\n",
      "841      842   40      M     writer    93055        20-40\n",
      "\n",
      "\n"
     ]
    },
    {
     "data": {
      "text/markdown": [
       "**Cluster 720 Group :95662**\n"
      ],
      "text/plain": [
       "<IPython.core.display.Markdown object>"
      ]
     },
     "metadata": {},
     "output_type": "display_data"
    },
    {
     "name": "stdout",
     "output_type": "stream",
     "text": [
      "Record count: 1\n",
      "     user id  age gender occupation zip code Age_category\n",
      "843      844   22      M   engineer    95662        20-40\n",
      "\n",
      "\n"
     ]
    },
    {
     "data": {
      "text/markdown": [
       "**Cluster 721 Group :97405**\n"
      ],
      "text/plain": [
       "<IPython.core.display.Markdown object>"
      ]
     },
     "metadata": {},
     "output_type": "display_data"
    },
    {
     "name": "stdout",
     "output_type": "stream",
     "text": [
      "Record count: 1\n",
      "     user id  age gender occupation zip code Age_category\n",
      "844      845   64      M     doctor    97405        60-80\n",
      "\n",
      "\n"
     ]
    },
    {
     "data": {
      "text/markdown": [
       "**Cluster 722 Group :47130**\n"
      ],
      "text/plain": [
       "<IPython.core.display.Markdown object>"
      ]
     },
     "metadata": {},
     "output_type": "display_data"
    },
    {
     "name": "stdout",
     "output_type": "stream",
     "text": [
      "Record count: 1\n",
      "     user id  age gender occupation zip code Age_category\n",
      "845      846   27      M     lawyer    47130        20-40\n",
      "\n",
      "\n"
     ]
    },
    {
     "data": {
      "text/markdown": [
       "**Cluster 723 Group :55417**\n"
      ],
      "text/plain": [
       "<IPython.core.display.Markdown object>"
      ]
     },
     "metadata": {},
     "output_type": "display_data"
    },
    {
     "name": "stdout",
     "output_type": "stream",
     "text": [
      "Record count: 1\n",
      "     user id  age gender occupation zip code Age_category\n",
      "846      847   29      M    student    55417        20-40\n",
      "\n",
      "\n"
     ]
    },
    {
     "data": {
      "text/markdown": [
       "**Cluster 724 Group :25652**\n"
      ],
      "text/plain": [
       "<IPython.core.display.Markdown object>"
      ]
     },
     "metadata": {},
     "output_type": "display_data"
    },
    {
     "name": "stdout",
     "output_type": "stream",
     "text": [
      "Record count: 1\n",
      "     user id  age gender occupation zip code Age_category\n",
      "848      849   15      F    student    25652         0-20\n",
      "\n",
      "\n"
     ]
    },
    {
     "data": {
      "text/markdown": [
       "**Cluster 725 Group :78390**\n"
      ],
      "text/plain": [
       "<IPython.core.display.Markdown object>"
      ]
     },
     "metadata": {},
     "output_type": "display_data"
    },
    {
     "name": "stdout",
     "output_type": "stream",
     "text": [
      "Record count: 1\n",
      "     user id  age gender  occupation zip code Age_category\n",
      "849      850   34      M  technician    78390        20-40\n",
      "\n",
      "\n"
     ]
    },
    {
     "data": {
      "text/markdown": [
       "**Cluster 726 Group :29646**\n"
      ],
      "text/plain": [
       "<IPython.core.display.Markdown object>"
      ]
     },
     "metadata": {},
     "output_type": "display_data"
    },
    {
     "name": "stdout",
     "output_type": "stream",
     "text": [
      "Record count: 1\n",
      "     user id  age gender occupation zip code Age_category\n",
      "850      851   18      M      other    29646         0-20\n",
      "\n",
      "\n"
     ]
    },
    {
     "data": {
      "text/markdown": [
       "**Cluster 727 Group :40515**\n"
      ],
      "text/plain": [
       "<IPython.core.display.Markdown object>"
      ]
     },
     "metadata": {},
     "output_type": "display_data"
    },
    {
     "name": "stdout",
     "output_type": "stream",
     "text": [
      "Record count: 1\n",
      "     user id  age gender occupation zip code Age_category\n",
      "852      853   49      M     writer    40515        40-60\n",
      "\n",
      "\n"
     ]
    },
    {
     "data": {
      "text/markdown": [
       "**Cluster 728 Group :04988**\n"
      ],
      "text/plain": [
       "<IPython.core.display.Markdown object>"
      ]
     },
     "metadata": {},
     "output_type": "display_data"
    },
    {
     "name": "stdout",
     "output_type": "stream",
     "text": [
      "Record count: 1\n",
      "     user id  age gender occupation zip code Age_category\n",
      "854      855   53      M  librarian    04988        40-60\n",
      "\n",
      "\n"
     ]
    },
    {
     "data": {
      "text/markdown": [
       "**Cluster 729 Group :97215**\n"
      ],
      "text/plain": [
       "<IPython.core.display.Markdown object>"
      ]
     },
     "metadata": {},
     "output_type": "display_data"
    },
    {
     "name": "stdout",
     "output_type": "stream",
     "text": [
      "Record count: 1\n",
      "     user id  age gender occupation zip code Age_category\n",
      "855      856   43      F  marketing    97215        40-60\n",
      "\n",
      "\n"
     ]
    },
    {
     "data": {
      "text/markdown": [
       "**Cluster 730 Group :V1G4L**\n"
      ],
      "text/plain": [
       "<IPython.core.display.Markdown object>"
      ]
     },
     "metadata": {},
     "output_type": "display_data"
    },
    {
     "name": "stdout",
     "output_type": "stream",
     "text": [
      "Record count: 1\n",
      "     user id  age gender     occupation zip code Age_category\n",
      "856      857   35      F  administrator    V1G4L        20-40\n",
      "\n",
      "\n"
     ]
    },
    {
     "data": {
      "text/markdown": [
       "**Cluster 731 Group :09645**\n"
      ],
      "text/plain": [
       "<IPython.core.display.Markdown object>"
      ]
     },
     "metadata": {},
     "output_type": "display_data"
    },
    {
     "name": "stdout",
     "output_type": "stream",
     "text": [
      "Record count: 1\n",
      "     user id  age gender occupation zip code Age_category\n",
      "857      858   63      M   educator    09645        60-80\n",
      "\n",
      "\n"
     ]
    },
    {
     "data": {
      "text/markdown": [
       "**Cluster 732 Group :06492**\n"
      ],
      "text/plain": [
       "<IPython.core.display.Markdown object>"
      ]
     },
     "metadata": {},
     "output_type": "display_data"
    },
    {
     "name": "stdout",
     "output_type": "stream",
     "text": [
      "Record count: 1\n",
      "     user id  age gender occupation zip code Age_category\n",
      "858      859   18      F      other    06492         0-20\n",
      "\n",
      "\n"
     ]
    },
    {
     "data": {
      "text/markdown": [
       "**Cluster 733 Group :48322**\n"
      ],
      "text/plain": [
       "<IPython.core.display.Markdown object>"
      ]
     },
     "metadata": {},
     "output_type": "display_data"
    },
    {
     "name": "stdout",
     "output_type": "stream",
     "text": [
      "Record count: 1\n",
      "     user id  age gender occupation zip code Age_category\n",
      "859      860   70      F    retired    48322        60-80\n",
      "\n",
      "\n"
     ]
    },
    {
     "data": {
      "text/markdown": [
       "**Cluster 734 Group :14085**\n"
      ],
      "text/plain": [
       "<IPython.core.display.Markdown object>"
      ]
     },
     "metadata": {},
     "output_type": "display_data"
    },
    {
     "name": "stdout",
     "output_type": "stream",
     "text": [
      "Record count: 1\n",
      "     user id  age gender occupation zip code Age_category\n",
      "860      861   38      F    student    14085        20-40\n",
      "\n",
      "\n"
     ]
    },
    {
     "data": {
      "text/markdown": [
       "**Cluster 735 Group :13820**\n"
      ],
      "text/plain": [
       "<IPython.core.display.Markdown object>"
      ]
     },
     "metadata": {},
     "output_type": "display_data"
    },
    {
     "name": "stdout",
     "output_type": "stream",
     "text": [
      "Record count: 1\n",
      "     user id  age gender occupation zip code Age_category\n",
      "861      862   25      M  executive    13820        20-40\n",
      "\n",
      "\n"
     ]
    },
    {
     "data": {
      "text/markdown": [
       "**Cluster 736 Group :63021**\n"
      ],
      "text/plain": [
       "<IPython.core.display.Markdown object>"
      ]
     },
     "metadata": {},
     "output_type": "display_data"
    },
    {
     "name": "stdout",
     "output_type": "stream",
     "text": [
      "Record count: 1\n",
      "     user id  age gender  occupation zip code Age_category\n",
      "863      864   27      M  programmer    63021        20-40\n",
      "\n",
      "\n"
     ]
    },
    {
     "data": {
      "text/markdown": [
       "**Cluster 737 Group :60302**\n"
      ],
      "text/plain": [
       "<IPython.core.display.Markdown object>"
      ]
     },
     "metadata": {},
     "output_type": "display_data"
    },
    {
     "name": "stdout",
     "output_type": "stream",
     "text": [
      "Record count: 1\n",
      "     user id  age gender occupation zip code Age_category\n",
      "865      866   45      M      other    60302        40-60\n",
      "\n",
      "\n"
     ]
    },
    {
     "data": {
      "text/markdown": [
       "**Cluster 738 Group :92507**\n"
      ],
      "text/plain": [
       "<IPython.core.display.Markdown object>"
      ]
     },
     "metadata": {},
     "output_type": "display_data"
    },
    {
     "name": "stdout",
     "output_type": "stream",
     "text": [
      "Record count: 1\n",
      "     user id  age gender occupation zip code Age_category\n",
      "866      867   24      M  scientist    92507        20-40\n",
      "\n",
      "\n"
     ]
    },
    {
     "data": {
      "text/markdown": [
       "**Cluster 739 Group :55303**\n"
      ],
      "text/plain": [
       "<IPython.core.display.Markdown object>"
      ]
     },
     "metadata": {},
     "output_type": "display_data"
    },
    {
     "name": "stdout",
     "output_type": "stream",
     "text": [
      "Record count: 1\n",
      "     user id  age gender  occupation zip code Age_category\n",
      "867      868   21      M  programmer    55303        20-40\n",
      "\n",
      "\n"
     ]
    },
    {
     "data": {
      "text/markdown": [
       "**Cluster 740 Group :65203**\n"
      ],
      "text/plain": [
       "<IPython.core.display.Markdown object>"
      ]
     },
     "metadata": {},
     "output_type": "display_data"
    },
    {
     "name": "stdout",
     "output_type": "stream",
     "text": [
      "Record count: 1\n",
      "     user id  age gender occupation zip code Age_category\n",
      "869      870   22      M    student    65203        20-40\n",
      "\n",
      "\n"
     ]
    },
    {
     "data": {
      "text/markdown": [
       "**Cluster 741 Group :44648**\n"
      ],
      "text/plain": [
       "<IPython.core.display.Markdown object>"
      ]
     },
     "metadata": {},
     "output_type": "display_data"
    },
    {
     "name": "stdout",
     "output_type": "stream",
     "text": [
      "Record count: 1\n",
      "     user id  age gender occupation zip code Age_category\n",
      "870      871   31      M  executive    44648        20-40\n",
      "\n",
      "\n"
     ]
    },
    {
     "data": {
      "text/markdown": [
       "**Cluster 742 Group :74078**\n"
      ],
      "text/plain": [
       "<IPython.core.display.Markdown object>"
      ]
     },
     "metadata": {},
     "output_type": "display_data"
    },
    {
     "name": "stdout",
     "output_type": "stream",
     "text": [
      "Record count: 1\n",
      "     user id  age gender occupation zip code Age_category\n",
      "871      872   19      F    student    74078         0-20\n",
      "\n",
      "\n"
     ]
    },
    {
     "data": {
      "text/markdown": [
       "**Cluster 743 Group :33763**\n"
      ],
      "text/plain": [
       "<IPython.core.display.Markdown object>"
      ]
     },
     "metadata": {},
     "output_type": "display_data"
    },
    {
     "name": "stdout",
     "output_type": "stream",
     "text": [
      "Record count: 1\n",
      "     user id  age gender     occupation zip code Age_category\n",
      "872      873   48      F  administrator    33763        40-60\n",
      "\n",
      "\n"
     ]
    },
    {
     "data": {
      "text/markdown": [
       "**Cluster 744 Group :37076**\n"
      ],
      "text/plain": [
       "<IPython.core.display.Markdown object>"
      ]
     },
     "metadata": {},
     "output_type": "display_data"
    },
    {
     "name": "stdout",
     "output_type": "stream",
     "text": [
      "Record count: 1\n",
      "     user id  age gender occupation zip code Age_category\n",
      "873      874   36      M  scientist    37076        20-40\n",
      "\n",
      "\n"
     ]
    },
    {
     "data": {
      "text/markdown": [
       "**Cluster 745 Group :35802**\n"
      ],
      "text/plain": [
       "<IPython.core.display.Markdown object>"
      ]
     },
     "metadata": {},
     "output_type": "display_data"
    },
    {
     "name": "stdout",
     "output_type": "stream",
     "text": [
      "Record count: 1\n",
      "     user id  age gender occupation zip code Age_category\n",
      "874      875   24      F    student    35802        20-40\n",
      "\n",
      "\n"
     ]
    },
    {
     "data": {
      "text/markdown": [
       "**Cluster 746 Group :20902**\n"
      ],
      "text/plain": [
       "<IPython.core.display.Markdown object>"
      ]
     },
     "metadata": {},
     "output_type": "display_data"
    },
    {
     "name": "stdout",
     "output_type": "stream",
     "text": [
      "Record count: 1\n",
      "     user id  age gender occupation zip code Age_category\n",
      "875      876   41      M      other    20902        40-60\n",
      "\n",
      "\n"
     ]
    },
    {
     "data": {
      "text/markdown": [
       "**Cluster 747 Group :77504**\n"
      ],
      "text/plain": [
       "<IPython.core.display.Markdown object>"
      ]
     },
     "metadata": {},
     "output_type": "display_data"
    },
    {
     "name": "stdout",
     "output_type": "stream",
     "text": [
      "Record count: 1\n",
      "     user id  age gender occupation zip code Age_category\n",
      "876      877   30      M      other    77504        20-40\n",
      "\n",
      "\n"
     ]
    },
    {
     "data": {
      "text/markdown": [
       "**Cluster 748 Group :43017**\n"
      ],
      "text/plain": [
       "<IPython.core.display.Markdown object>"
      ]
     },
     "metadata": {},
     "output_type": "display_data"
    },
    {
     "name": "stdout",
     "output_type": "stream",
     "text": [
      "Record count: 1\n",
      "     user id  age gender occupation zip code Age_category\n",
      "880      881   39      M  marketing    43017        20-40\n",
      "\n",
      "\n"
     ]
    },
    {
     "data": {
      "text/markdown": [
       "**Cluster 749 Group :40503**\n"
      ],
      "text/plain": [
       "<IPython.core.display.Markdown object>"
      ]
     },
     "metadata": {},
     "output_type": "display_data"
    },
    {
     "name": "stdout",
     "output_type": "stream",
     "text": [
      "Record count: 1\n",
      "     user id  age gender occupation zip code Age_category\n",
      "881      882   35      M   engineer    40503        20-40\n",
      "\n",
      "\n"
     ]
    },
    {
     "data": {
      "text/markdown": [
       "**Cluster 750 Group :50266**\n"
      ],
      "text/plain": [
       "<IPython.core.display.Markdown object>"
      ]
     },
     "metadata": {},
     "output_type": "display_data"
    },
    {
     "name": "stdout",
     "output_type": "stream",
     "text": [
      "Record count: 1\n",
      "     user id  age gender occupation zip code Age_category\n",
      "882      883   49      M  librarian    50266        40-60\n",
      "\n",
      "\n"
     ]
    },
    {
     "data": {
      "text/markdown": [
       "**Cluster 751 Group :95316**\n"
      ],
      "text/plain": [
       "<IPython.core.display.Markdown object>"
      ]
     },
     "metadata": {},
     "output_type": "display_data"
    },
    {
     "name": "stdout",
     "output_type": "stream",
     "text": [
      "Record count: 1\n",
      "     user id  age gender occupation zip code Age_category\n",
      "884      885   30      F      other    95316        20-40\n",
      "\n",
      "\n"
     ]
    },
    {
     "data": {
      "text/markdown": [
       "**Cluster 752 Group :27249**\n"
      ],
      "text/plain": [
       "<IPython.core.display.Markdown object>"
      ]
     },
     "metadata": {},
     "output_type": "display_data"
    },
    {
     "name": "stdout",
     "output_type": "stream",
     "text": [
      "Record count: 1\n",
      "     user id  age gender occupation zip code Age_category\n",
      "886      887   14      F    student    27249         0-20\n",
      "\n",
      "\n"
     ]
    },
    {
     "data": {
      "text/markdown": [
       "**Cluster 753 Group :17036**\n"
      ],
      "text/plain": [
       "<IPython.core.display.Markdown object>"
      ]
     },
     "metadata": {},
     "output_type": "display_data"
    },
    {
     "name": "stdout",
     "output_type": "stream",
     "text": [
      "Record count: 1\n",
      "     user id  age gender occupation zip code Age_category\n",
      "887      888   41      M  scientist    17036        40-60\n",
      "\n",
      "\n"
     ]
    },
    {
     "data": {
      "text/markdown": [
       "**Cluster 754 Group :03062**\n"
      ],
      "text/plain": [
       "<IPython.core.display.Markdown object>"
      ]
     },
     "metadata": {},
     "output_type": "display_data"
    },
    {
     "name": "stdout",
     "output_type": "stream",
     "text": [
      "Record count: 1\n",
      "     user id  age gender     occupation zip code Age_category\n",
      "890      891   51      F  administrator    03062        40-60\n",
      "\n",
      "\n"
     ]
    },
    {
     "data": {
      "text/markdown": [
       "**Cluster 755 Group :45243**\n"
      ],
      "text/plain": [
       "<IPython.core.display.Markdown object>"
      ]
     },
     "metadata": {},
     "output_type": "display_data"
    },
    {
     "name": "stdout",
     "output_type": "stream",
     "text": [
      "Record count: 1\n",
      "     user id  age gender occupation zip code Age_category\n",
      "891      892   36      M      other    45243        20-40\n",
      "\n",
      "\n"
     ]
    },
    {
     "data": {
      "text/markdown": [
       "**Cluster 756 Group :95823**\n"
      ],
      "text/plain": [
       "<IPython.core.display.Markdown object>"
      ]
     },
     "metadata": {},
     "output_type": "display_data"
    },
    {
     "name": "stdout",
     "output_type": "stream",
     "text": [
      "Record count: 1\n",
      "     user id  age gender occupation zip code Age_category\n",
      "892      893   25      M    student    95823        20-40\n",
      "\n",
      "\n"
     ]
    },
    {
     "data": {
      "text/markdown": [
       "**Cluster 757 Group :74075**\n"
      ],
      "text/plain": [
       "<IPython.core.display.Markdown object>"
      ]
     },
     "metadata": {},
     "output_type": "display_data"
    },
    {
     "name": "stdout",
     "output_type": "stream",
     "text": [
      "Record count: 1\n",
      "     user id  age gender occupation zip code Age_category\n",
      "893      894   47      M   educator    74075        40-60\n",
      "\n",
      "\n"
     ]
    },
    {
     "data": {
      "text/markdown": [
       "**Cluster 758 Group :91505**\n"
      ],
      "text/plain": [
       "<IPython.core.display.Markdown object>"
      ]
     },
     "metadata": {},
     "output_type": "display_data"
    },
    {
     "name": "stdout",
     "output_type": "stream",
     "text": [
      "Record count: 1\n",
      "     user id  age gender occupation zip code Age_category\n",
      "895      896   28      M     writer    91505        20-40\n",
      "\n",
      "\n"
     ]
    },
    {
     "data": {
      "text/markdown": [
       "**Cluster 759 Group :33484**\n"
      ],
      "text/plain": [
       "<IPython.core.display.Markdown object>"
      ]
     },
     "metadata": {},
     "output_type": "display_data"
    },
    {
     "name": "stdout",
     "output_type": "stream",
     "text": [
      "Record count: 1\n",
      "     user id  age gender occupation zip code Age_category\n",
      "896      897   30      M      other    33484        20-40\n",
      "\n",
      "\n"
     ]
    },
    {
     "data": {
      "text/markdown": [
       "**Cluster 760 Group :18505**\n"
      ],
      "text/plain": [
       "<IPython.core.display.Markdown object>"
      ]
     },
     "metadata": {},
     "output_type": "display_data"
    },
    {
     "name": "stdout",
     "output_type": "stream",
     "text": [
      "Record count: 1\n",
      "     user id  age gender occupation zip code Age_category\n",
      "899      900   60      M    retired    18505        40-60\n",
      "\n",
      "\n"
     ]
    },
    {
     "data": {
      "text/markdown": [
       "**Cluster 761 Group :L1V3W**\n"
      ],
      "text/plain": [
       "<IPython.core.display.Markdown object>"
      ]
     },
     "metadata": {},
     "output_type": "display_data"
    },
    {
     "name": "stdout",
     "output_type": "stream",
     "text": [
      "Record count: 1\n",
      "     user id  age gender occupation zip code Age_category\n",
      "900      901   38      M  executive    L1V3W        20-40\n",
      "\n",
      "\n"
     ]
    },
    {
     "data": {
      "text/markdown": [
       "**Cluster 762 Group :97203**\n"
      ],
      "text/plain": [
       "<IPython.core.display.Markdown object>"
      ]
     },
     "metadata": {},
     "output_type": "display_data"
    },
    {
     "name": "stdout",
     "output_type": "stream",
     "text": [
      "Record count: 1\n",
      "     user id  age gender occupation zip code Age_category\n",
      "901      902   45      F     artist    97203        40-60\n",
      "\n",
      "\n"
     ]
    },
    {
     "data": {
      "text/markdown": [
       "**Cluster 763 Group :20850**\n"
      ],
      "text/plain": [
       "<IPython.core.display.Markdown object>"
      ]
     },
     "metadata": {},
     "output_type": "display_data"
    },
    {
     "name": "stdout",
     "output_type": "stream",
     "text": [
      "Record count: 1\n",
      "     user id  age gender occupation zip code Age_category\n",
      "902      903   28      M   educator    20850        20-40\n",
      "\n",
      "\n"
     ]
    },
    {
     "data": {
      "text/markdown": [
       "**Cluster 764 Group :61073**\n"
      ],
      "text/plain": [
       "<IPython.core.display.Markdown object>"
      ]
     },
     "metadata": {},
     "output_type": "display_data"
    },
    {
     "name": "stdout",
     "output_type": "stream",
     "text": [
      "Record count: 1\n",
      "     user id  age gender occupation zip code Age_category\n",
      "903      904   17      F    student    61073         0-20\n",
      "\n",
      "\n"
     ]
    },
    {
     "data": {
      "text/markdown": [
       "**Cluster 765 Group :30350**\n"
      ],
      "text/plain": [
       "<IPython.core.display.Markdown object>"
      ]
     },
     "metadata": {},
     "output_type": "display_data"
    },
    {
     "name": "stdout",
     "output_type": "stream",
     "text": [
      "Record count: 1\n",
      "     user id  age gender occupation zip code Age_category\n",
      "904      905   27      M      other    30350        20-40\n",
      "\n",
      "\n"
     ]
    },
    {
     "data": {
      "text/markdown": [
       "**Cluster 766 Group :70124**\n"
      ],
      "text/plain": [
       "<IPython.core.display.Markdown object>"
      ]
     },
     "metadata": {},
     "output_type": "display_data"
    },
    {
     "name": "stdout",
     "output_type": "stream",
     "text": [
      "Record count: 1\n",
      "     user id  age gender occupation zip code Age_category\n",
      "905      906   45      M  librarian    70124        40-60\n",
      "\n",
      "\n"
     ]
    },
    {
     "data": {
      "text/markdown": [
       "**Cluster 767 Group :68504**\n"
      ],
      "text/plain": [
       "<IPython.core.display.Markdown object>"
      ]
     },
     "metadata": {},
     "output_type": "display_data"
    },
    {
     "name": "stdout",
     "output_type": "stream",
     "text": [
      "Record count: 1\n",
      "     user id  age gender occupation zip code Age_category\n",
      "907      908   44      F  librarian    68504        40-60\n",
      "\n",
      "\n"
     ]
    },
    {
     "data": {
      "text/markdown": [
       "**Cluster 768 Group :53171**\n"
      ],
      "text/plain": [
       "<IPython.core.display.Markdown object>"
      ]
     },
     "metadata": {},
     "output_type": "display_data"
    },
    {
     "name": "stdout",
     "output_type": "stream",
     "text": [
      "Record count: 1\n",
      "     user id  age gender occupation zip code Age_category\n",
      "908      909   50      F   educator    53171        40-60\n",
      "\n",
      "\n"
     ]
    },
    {
     "data": {
      "text/markdown": [
       "**Cluster 769 Group :29301**\n"
      ],
      "text/plain": [
       "<IPython.core.display.Markdown object>"
      ]
     },
     "metadata": {},
     "output_type": "display_data"
    },
    {
     "name": "stdout",
     "output_type": "stream",
     "text": [
      "Record count: 1\n",
      "     user id  age gender  occupation zip code Age_category\n",
      "909      910   28      M  healthcare    29301        20-40\n",
      "\n",
      "\n"
     ]
    },
    {
     "data": {
      "text/markdown": [
       "**Cluster 770 Group :53210**\n"
      ],
      "text/plain": [
       "<IPython.core.display.Markdown object>"
      ]
     },
     "metadata": {},
     "output_type": "display_data"
    },
    {
     "name": "stdout",
     "output_type": "stream",
     "text": [
      "Record count: 1\n",
      "     user id  age gender occupation zip code Age_category\n",
      "910      911   37      F     writer    53210        20-40\n",
      "\n",
      "\n"
     ]
    },
    {
     "data": {
      "text/markdown": [
       "**Cluster 771 Group :06512**\n"
      ],
      "text/plain": [
       "<IPython.core.display.Markdown object>"
      ]
     },
     "metadata": {},
     "output_type": "display_data"
    },
    {
     "name": "stdout",
     "output_type": "stream",
     "text": [
      "Record count: 1\n",
      "     user id  age gender occupation zip code Age_category\n",
      "911      912   51      M      other    06512        40-60\n",
      "\n",
      "\n"
     ]
    },
    {
     "data": {
      "text/markdown": [
       "**Cluster 772 Group :76201**\n"
      ],
      "text/plain": [
       "<IPython.core.display.Markdown object>"
      ]
     },
     "metadata": {},
     "output_type": "display_data"
    },
    {
     "name": "stdout",
     "output_type": "stream",
     "text": [
      "Record count: 1\n",
      "     user id  age gender occupation zip code Age_category\n",
      "912      913   27      M    student    76201        20-40\n",
      "\n",
      "\n"
     ]
    },
    {
     "data": {
      "text/markdown": [
       "**Cluster 773 Group :08105**\n"
      ],
      "text/plain": [
       "<IPython.core.display.Markdown object>"
      ]
     },
     "metadata": {},
     "output_type": "display_data"
    },
    {
     "name": "stdout",
     "output_type": "stream",
     "text": [
      "Record count: 1\n",
      "     user id  age gender occupation zip code Age_category\n",
      "913      914   44      F      other    08105        40-60\n",
      "\n",
      "\n"
     ]
    },
    {
     "data": {
      "text/markdown": [
       "**Cluster 774 Group :60614**\n"
      ],
      "text/plain": [
       "<IPython.core.display.Markdown object>"
      ]
     },
     "metadata": {},
     "output_type": "display_data"
    },
    {
     "name": "stdout",
     "output_type": "stream",
     "text": [
      "Record count: 1\n",
      "     user id  age gender     occupation zip code Age_category\n",
      "914      915   50      M  entertainment    60614        40-60\n",
      "\n",
      "\n"
     ]
    },
    {
     "data": {
      "text/markdown": [
       "**Cluster 775 Group :N2L5N**\n"
      ],
      "text/plain": [
       "<IPython.core.display.Markdown object>"
      ]
     },
     "metadata": {},
     "output_type": "display_data"
    },
    {
     "name": "stdout",
     "output_type": "stream",
     "text": [
      "Record count: 1\n",
      "     user id  age gender occupation zip code Age_category\n",
      "915      916   27      M   engineer    N2L5N        20-40\n",
      "\n",
      "\n"
     ]
    },
    {
     "data": {
      "text/markdown": [
       "**Cluster 776 Group :20006**\n"
      ],
      "text/plain": [
       "<IPython.core.display.Markdown object>"
      ]
     },
     "metadata": {},
     "output_type": "display_data"
    },
    {
     "name": "stdout",
     "output_type": "stream",
     "text": [
      "Record count: 1\n",
      "     user id  age gender occupation zip code Age_category\n",
      "916      917   22      F    student    20006        20-40\n",
      "\n",
      "\n"
     ]
    },
    {
     "data": {
      "text/markdown": [
       "**Cluster 777 Group :70116**\n"
      ],
      "text/plain": [
       "<IPython.core.display.Markdown object>"
      ]
     },
     "metadata": {},
     "output_type": "display_data"
    },
    {
     "name": "stdout",
     "output_type": "stream",
     "text": [
      "Record count: 1\n",
      "     user id  age gender occupation zip code Age_category\n",
      "917      918   40      M  scientist    70116        20-40\n",
      "\n",
      "\n"
     ]
    },
    {
     "data": {
      "text/markdown": [
       "**Cluster 778 Group :90008**\n"
      ],
      "text/plain": [
       "<IPython.core.display.Markdown object>"
      ]
     },
     "metadata": {},
     "output_type": "display_data"
    },
    {
     "name": "stdout",
     "output_type": "stream",
     "text": [
      "Record count: 1\n",
      "     user id  age gender occupation zip code Age_category\n",
      "919      920   30      F     artist    90008        20-40\n",
      "\n",
      "\n"
     ]
    },
    {
     "data": {
      "text/markdown": [
       "**Cluster 779 Group :98801**\n"
      ],
      "text/plain": [
       "<IPython.core.display.Markdown object>"
      ]
     },
     "metadata": {},
     "output_type": "display_data"
    },
    {
     "name": "stdout",
     "output_type": "stream",
     "text": [
      "Record count: 1\n",
      "     user id  age gender occupation zip code Age_category\n",
      "920      921   20      F    student    98801         0-20\n",
      "\n",
      "\n"
     ]
    },
    {
     "data": {
      "text/markdown": [
       "**Cluster 780 Group :E2E3R**\n"
      ],
      "text/plain": [
       "<IPython.core.display.Markdown object>"
      ]
     },
     "metadata": {},
     "output_type": "display_data"
    },
    {
     "name": "stdout",
     "output_type": "stream",
     "text": [
      "Record count: 1\n",
      "     user id  age gender occupation zip code Age_category\n",
      "922      923   21      M    student    E2E3R        20-40\n",
      "\n",
      "\n"
     ]
    },
    {
     "data": {
      "text/markdown": [
       "**Cluster 781 Group :11753**\n"
      ],
      "text/plain": [
       "<IPython.core.display.Markdown object>"
      ]
     },
     "metadata": {},
     "output_type": "display_data"
    },
    {
     "name": "stdout",
     "output_type": "stream",
     "text": [
      "Record count: 1\n",
      "     user id  age gender occupation zip code Age_category\n",
      "923      924   29      M      other    11753        20-40\n",
      "\n",
      "\n"
     ]
    },
    {
     "data": {
      "text/markdown": [
       "**Cluster 782 Group :49036**\n"
      ],
      "text/plain": [
       "<IPython.core.display.Markdown object>"
      ]
     },
     "metadata": {},
     "output_type": "display_data"
    },
    {
     "name": "stdout",
     "output_type": "stream",
     "text": [
      "Record count: 1\n",
      "     user id  age gender occupation zip code Age_category\n",
      "924      925   18      F   salesman    49036         0-20\n",
      "\n",
      "\n"
     ]
    },
    {
     "data": {
      "text/markdown": [
       "**Cluster 783 Group :01701**\n"
      ],
      "text/plain": [
       "<IPython.core.display.Markdown object>"
      ]
     },
     "metadata": {},
     "output_type": "display_data"
    },
    {
     "name": "stdout",
     "output_type": "stream",
     "text": [
      "Record count: 1\n",
      "     user id  age gender     occupation zip code Age_category\n",
      "925      926   49      M  entertainment    01701        40-60\n",
      "\n",
      "\n"
     ]
    },
    {
     "data": {
      "text/markdown": [
       "**Cluster 784 Group :55428**\n"
      ],
      "text/plain": [
       "<IPython.core.display.Markdown object>"
      ]
     },
     "metadata": {},
     "output_type": "display_data"
    },
    {
     "name": "stdout",
     "output_type": "stream",
     "text": [
      "Record count: 1\n",
      "     user id  age gender  occupation zip code Age_category\n",
      "926      927   23      M  programmer    55428        20-40\n",
      "\n",
      "\n"
     ]
    },
    {
     "data": {
      "text/markdown": [
       "**Cluster 785 Group :07310**\n"
      ],
      "text/plain": [
       "<IPython.core.display.Markdown object>"
      ]
     },
     "metadata": {},
     "output_type": "display_data"
    },
    {
     "name": "stdout",
     "output_type": "stream",
     "text": [
      "Record count: 1\n",
      "     user id  age gender occupation zip code Age_category\n",
      "929      930   28      F  scientist    07310        20-40\n",
      "\n",
      "\n"
     ]
    },
    {
     "data": {
      "text/markdown": [
       "**Cluster 786 Group :33556**\n"
      ],
      "text/plain": [
       "<IPython.core.display.Markdown object>"
      ]
     },
     "metadata": {},
     "output_type": "display_data"
    },
    {
     "name": "stdout",
     "output_type": "stream",
     "text": [
      "Record count: 1\n",
      "     user id  age gender occupation zip code Age_category\n",
      "930      931   60      M   educator    33556        40-60\n",
      "\n",
      "\n"
     ]
    },
    {
     "data": {
      "text/markdown": [
       "**Cluster 787 Group :06437**\n"
      ],
      "text/plain": [
       "<IPython.core.display.Markdown object>"
      ]
     },
     "metadata": {},
     "output_type": "display_data"
    },
    {
     "name": "stdout",
     "output_type": "stream",
     "text": [
      "Record count: 1\n",
      "     user id  age gender occupation zip code Age_category\n",
      "931      932   58      M   educator    06437        40-60\n",
      "\n",
      "\n"
     ]
    },
    {
     "data": {
      "text/markdown": [
       "**Cluster 788 Group :48105**\n"
      ],
      "text/plain": [
       "<IPython.core.display.Markdown object>"
      ]
     },
     "metadata": {},
     "output_type": "display_data"
    },
    {
     "name": "stdout",
     "output_type": "stream",
     "text": [
      "Record count: 1\n",
      "     user id  age gender occupation zip code Age_category\n",
      "932      933   28      M    student    48105        20-40\n",
      "\n",
      "\n"
     ]
    },
    {
     "data": {
      "text/markdown": [
       "**Cluster 789 Group :66221**\n"
      ],
      "text/plain": [
       "<IPython.core.display.Markdown object>"
      ]
     },
     "metadata": {},
     "output_type": "display_data"
    },
    {
     "name": "stdout",
     "output_type": "stream",
     "text": [
      "Record count: 1\n",
      "     user id  age gender occupation zip code Age_category\n",
      "934      935   42      M     doctor    66221        40-60\n",
      "\n",
      "\n"
     ]
    },
    {
     "data": {
      "text/markdown": [
       "**Cluster 790 Group :32789**\n"
      ],
      "text/plain": [
       "<IPython.core.display.Markdown object>"
      ]
     },
     "metadata": {},
     "output_type": "display_data"
    },
    {
     "name": "stdout",
     "output_type": "stream",
     "text": [
      "Record count: 1\n",
      "     user id  age gender occupation zip code Age_category\n",
      "935      936   24      M      other    32789        20-40\n",
      "\n",
      "\n"
     ]
    },
    {
     "data": {
      "text/markdown": [
       "**Cluster 791 Group :55038**\n"
      ],
      "text/plain": [
       "<IPython.core.display.Markdown object>"
      ]
     },
     "metadata": {},
     "output_type": "display_data"
    },
    {
     "name": "stdout",
     "output_type": "stream",
     "text": [
      "Record count: 1\n",
      "     user id  age gender  occupation zip code Age_category\n",
      "937      938   38      F  technician    55038        20-40\n",
      "\n",
      "\n"
     ]
    },
    {
     "data": {
      "text/markdown": [
       "**Cluster 792 Group :33319**\n"
      ],
      "text/plain": [
       "<IPython.core.display.Markdown object>"
      ]
     },
     "metadata": {},
     "output_type": "display_data"
    },
    {
     "name": "stdout",
     "output_type": "stream",
     "text": [
      "Record count: 1\n",
      "     user id  age gender occupation zip code Age_category\n",
      "938      939   26      F    student    33319        20-40\n",
      "\n",
      "\n"
     ]
    },
    {
     "data": {
      "text/markdown": [
       "**Cluster 793 Group :97229**\n"
      ],
      "text/plain": [
       "<IPython.core.display.Markdown object>"
      ]
     },
     "metadata": {},
     "output_type": "display_data"
    },
    {
     "name": "stdout",
     "output_type": "stream",
     "text": [
      "Record count: 1\n",
      "     user id  age gender occupation zip code Age_category\n",
      "940      941   20      M    student    97229         0-20\n",
      "\n",
      "\n"
     ]
    },
    {
     "data": {
      "text/markdown": [
       "**Cluster 794 Group :78209**\n"
      ],
      "text/plain": [
       "<IPython.core.display.Markdown object>"
      ]
     },
     "metadata": {},
     "output_type": "display_data"
    },
    {
     "name": "stdout",
     "output_type": "stream",
     "text": [
      "Record count: 1\n",
      "     user id  age gender occupation zip code Age_category\n",
      "941      942   48      F  librarian    78209        40-60\n",
      "\n",
      "\n"
     ]
    },
    {
     "data": {
      "text/markdown": [
       "**Cluster 795 Group :77841**\n"
      ],
      "text/plain": [
       "<IPython.core.display.Markdown object>"
      ]
     },
     "metadata": {},
     "output_type": "display_data"
    },
    {
     "name": "stdout",
     "output_type": "stream",
     "text": [
      "Record count: 1\n",
      "     user id  age gender occupation zip code Age_category\n",
      "942      943   22      M    student    77841        20-40\n",
      "\n",
      "\n"
     ]
    }
   ],
   "source": [
    "i=1\n",
    "for zip in userData['zip code'].unique():\n",
    "    printmd(f'**Cluster {i} Group :{zip}**\\n')\n",
    "    res=userData.loc[userData['zip code']==zip]\n",
    "    print(f'Record count: {res.shape[0]}')\n",
    "    print(res)\n",
    "    print('\\n')\n",
    "    i=i+1"
   ]
  },
  {
   "cell_type": "code",
   "execution_count": null,
   "metadata": {},
   "outputs": [],
   "source": [
    "kmeans=KMeans(n_clusters=4)\n",
    "kmeans.fit()"
   ]
  },
  {
   "cell_type": "code",
   "execution_count": 221,
   "metadata": {},
   "outputs": [
    {
     "data": {
      "text/html": [
       "<div>\n",
       "<style scoped>\n",
       "    .dataframe tbody tr th:only-of-type {\n",
       "        vertical-align: middle;\n",
       "    }\n",
       "\n",
       "    .dataframe tbody tr th {\n",
       "        vertical-align: top;\n",
       "    }\n",
       "\n",
       "    .dataframe thead th {\n",
       "        text-align: right;\n",
       "    }\n",
       "</style>\n",
       "<table border=\"1\" class=\"dataframe\">\n",
       "  <thead>\n",
       "    <tr style=\"text-align: right;\">\n",
       "      <th></th>\n",
       "      <th>age</th>\n",
       "      <th>gender</th>\n",
       "    </tr>\n",
       "  </thead>\n",
       "  <tbody>\n",
       "    <tr>\n",
       "      <th>0</th>\n",
       "      <td>24</td>\n",
       "      <td>M</td>\n",
       "    </tr>\n",
       "    <tr>\n",
       "      <th>1</th>\n",
       "      <td>53</td>\n",
       "      <td>F</td>\n",
       "    </tr>\n",
       "    <tr>\n",
       "      <th>2</th>\n",
       "      <td>23</td>\n",
       "      <td>M</td>\n",
       "    </tr>\n",
       "    <tr>\n",
       "      <th>3</th>\n",
       "      <td>24</td>\n",
       "      <td>M</td>\n",
       "    </tr>\n",
       "    <tr>\n",
       "      <th>4</th>\n",
       "      <td>33</td>\n",
       "      <td>F</td>\n",
       "    </tr>\n",
       "    <tr>\n",
       "      <th>5</th>\n",
       "      <td>42</td>\n",
       "      <td>M</td>\n",
       "    </tr>\n",
       "    <tr>\n",
       "      <th>6</th>\n",
       "      <td>57</td>\n",
       "      <td>M</td>\n",
       "    </tr>\n",
       "    <tr>\n",
       "      <th>7</th>\n",
       "      <td>36</td>\n",
       "      <td>M</td>\n",
       "    </tr>\n",
       "    <tr>\n",
       "      <th>8</th>\n",
       "      <td>29</td>\n",
       "      <td>M</td>\n",
       "    </tr>\n",
       "    <tr>\n",
       "      <th>9</th>\n",
       "      <td>53</td>\n",
       "      <td>M</td>\n",
       "    </tr>\n",
       "    <tr>\n",
       "      <th>10</th>\n",
       "      <td>39</td>\n",
       "      <td>F</td>\n",
       "    </tr>\n",
       "    <tr>\n",
       "      <th>11</th>\n",
       "      <td>28</td>\n",
       "      <td>F</td>\n",
       "    </tr>\n",
       "    <tr>\n",
       "      <th>12</th>\n",
       "      <td>47</td>\n",
       "      <td>M</td>\n",
       "    </tr>\n",
       "    <tr>\n",
       "      <th>13</th>\n",
       "      <td>45</td>\n",
       "      <td>M</td>\n",
       "    </tr>\n",
       "    <tr>\n",
       "      <th>14</th>\n",
       "      <td>49</td>\n",
       "      <td>F</td>\n",
       "    </tr>\n",
       "    <tr>\n",
       "      <th>15</th>\n",
       "      <td>21</td>\n",
       "      <td>M</td>\n",
       "    </tr>\n",
       "    <tr>\n",
       "      <th>16</th>\n",
       "      <td>30</td>\n",
       "      <td>M</td>\n",
       "    </tr>\n",
       "    <tr>\n",
       "      <th>17</th>\n",
       "      <td>35</td>\n",
       "      <td>F</td>\n",
       "    </tr>\n",
       "    <tr>\n",
       "      <th>18</th>\n",
       "      <td>40</td>\n",
       "      <td>M</td>\n",
       "    </tr>\n",
       "    <tr>\n",
       "      <th>19</th>\n",
       "      <td>42</td>\n",
       "      <td>F</td>\n",
       "    </tr>\n",
       "    <tr>\n",
       "      <th>20</th>\n",
       "      <td>26</td>\n",
       "      <td>M</td>\n",
       "    </tr>\n",
       "    <tr>\n",
       "      <th>21</th>\n",
       "      <td>25</td>\n",
       "      <td>M</td>\n",
       "    </tr>\n",
       "    <tr>\n",
       "      <th>22</th>\n",
       "      <td>30</td>\n",
       "      <td>F</td>\n",
       "    </tr>\n",
       "    <tr>\n",
       "      <th>23</th>\n",
       "      <td>21</td>\n",
       "      <td>F</td>\n",
       "    </tr>\n",
       "    <tr>\n",
       "      <th>24</th>\n",
       "      <td>39</td>\n",
       "      <td>M</td>\n",
       "    </tr>\n",
       "    <tr>\n",
       "      <th>25</th>\n",
       "      <td>49</td>\n",
       "      <td>M</td>\n",
       "    </tr>\n",
       "    <tr>\n",
       "      <th>26</th>\n",
       "      <td>40</td>\n",
       "      <td>F</td>\n",
       "    </tr>\n",
       "    <tr>\n",
       "      <th>27</th>\n",
       "      <td>32</td>\n",
       "      <td>M</td>\n",
       "    </tr>\n",
       "    <tr>\n",
       "      <th>28</th>\n",
       "      <td>41</td>\n",
       "      <td>M</td>\n",
       "    </tr>\n",
       "    <tr>\n",
       "      <th>29</th>\n",
       "      <td>7</td>\n",
       "      <td>M</td>\n",
       "    </tr>\n",
       "    <tr>\n",
       "      <th>...</th>\n",
       "      <td>...</td>\n",
       "      <td>...</td>\n",
       "    </tr>\n",
       "    <tr>\n",
       "      <th>913</th>\n",
       "      <td>44</td>\n",
       "      <td>F</td>\n",
       "    </tr>\n",
       "    <tr>\n",
       "      <th>914</th>\n",
       "      <td>50</td>\n",
       "      <td>M</td>\n",
       "    </tr>\n",
       "    <tr>\n",
       "      <th>915</th>\n",
       "      <td>27</td>\n",
       "      <td>M</td>\n",
       "    </tr>\n",
       "    <tr>\n",
       "      <th>916</th>\n",
       "      <td>22</td>\n",
       "      <td>F</td>\n",
       "    </tr>\n",
       "    <tr>\n",
       "      <th>917</th>\n",
       "      <td>40</td>\n",
       "      <td>M</td>\n",
       "    </tr>\n",
       "    <tr>\n",
       "      <th>918</th>\n",
       "      <td>25</td>\n",
       "      <td>M</td>\n",
       "    </tr>\n",
       "    <tr>\n",
       "      <th>919</th>\n",
       "      <td>30</td>\n",
       "      <td>F</td>\n",
       "    </tr>\n",
       "    <tr>\n",
       "      <th>920</th>\n",
       "      <td>20</td>\n",
       "      <td>F</td>\n",
       "    </tr>\n",
       "    <tr>\n",
       "      <th>921</th>\n",
       "      <td>29</td>\n",
       "      <td>F</td>\n",
       "    </tr>\n",
       "    <tr>\n",
       "      <th>922</th>\n",
       "      <td>21</td>\n",
       "      <td>M</td>\n",
       "    </tr>\n",
       "    <tr>\n",
       "      <th>923</th>\n",
       "      <td>29</td>\n",
       "      <td>M</td>\n",
       "    </tr>\n",
       "    <tr>\n",
       "      <th>924</th>\n",
       "      <td>18</td>\n",
       "      <td>F</td>\n",
       "    </tr>\n",
       "    <tr>\n",
       "      <th>925</th>\n",
       "      <td>49</td>\n",
       "      <td>M</td>\n",
       "    </tr>\n",
       "    <tr>\n",
       "      <th>926</th>\n",
       "      <td>23</td>\n",
       "      <td>M</td>\n",
       "    </tr>\n",
       "    <tr>\n",
       "      <th>927</th>\n",
       "      <td>21</td>\n",
       "      <td>M</td>\n",
       "    </tr>\n",
       "    <tr>\n",
       "      <th>928</th>\n",
       "      <td>44</td>\n",
       "      <td>M</td>\n",
       "    </tr>\n",
       "    <tr>\n",
       "      <th>929</th>\n",
       "      <td>28</td>\n",
       "      <td>F</td>\n",
       "    </tr>\n",
       "    <tr>\n",
       "      <th>930</th>\n",
       "      <td>60</td>\n",
       "      <td>M</td>\n",
       "    </tr>\n",
       "    <tr>\n",
       "      <th>931</th>\n",
       "      <td>58</td>\n",
       "      <td>M</td>\n",
       "    </tr>\n",
       "    <tr>\n",
       "      <th>932</th>\n",
       "      <td>28</td>\n",
       "      <td>M</td>\n",
       "    </tr>\n",
       "    <tr>\n",
       "      <th>933</th>\n",
       "      <td>61</td>\n",
       "      <td>M</td>\n",
       "    </tr>\n",
       "    <tr>\n",
       "      <th>934</th>\n",
       "      <td>42</td>\n",
       "      <td>M</td>\n",
       "    </tr>\n",
       "    <tr>\n",
       "      <th>935</th>\n",
       "      <td>24</td>\n",
       "      <td>M</td>\n",
       "    </tr>\n",
       "    <tr>\n",
       "      <th>936</th>\n",
       "      <td>48</td>\n",
       "      <td>M</td>\n",
       "    </tr>\n",
       "    <tr>\n",
       "      <th>937</th>\n",
       "      <td>38</td>\n",
       "      <td>F</td>\n",
       "    </tr>\n",
       "    <tr>\n",
       "      <th>938</th>\n",
       "      <td>26</td>\n",
       "      <td>F</td>\n",
       "    </tr>\n",
       "    <tr>\n",
       "      <th>939</th>\n",
       "      <td>32</td>\n",
       "      <td>M</td>\n",
       "    </tr>\n",
       "    <tr>\n",
       "      <th>940</th>\n",
       "      <td>20</td>\n",
       "      <td>M</td>\n",
       "    </tr>\n",
       "    <tr>\n",
       "      <th>941</th>\n",
       "      <td>48</td>\n",
       "      <td>F</td>\n",
       "    </tr>\n",
       "    <tr>\n",
       "      <th>942</th>\n",
       "      <td>22</td>\n",
       "      <td>M</td>\n",
       "    </tr>\n",
       "  </tbody>\n",
       "</table>\n",
       "<p>943 rows × 2 columns</p>\n",
       "</div>"
      ],
      "text/plain": [
       "     age gender\n",
       "0     24      M\n",
       "1     53      F\n",
       "2     23      M\n",
       "3     24      M\n",
       "4     33      F\n",
       "5     42      M\n",
       "6     57      M\n",
       "7     36      M\n",
       "8     29      M\n",
       "9     53      M\n",
       "10    39      F\n",
       "11    28      F\n",
       "12    47      M\n",
       "13    45      M\n",
       "14    49      F\n",
       "15    21      M\n",
       "16    30      M\n",
       "17    35      F\n",
       "18    40      M\n",
       "19    42      F\n",
       "20    26      M\n",
       "21    25      M\n",
       "22    30      F\n",
       "23    21      F\n",
       "24    39      M\n",
       "25    49      M\n",
       "26    40      F\n",
       "27    32      M\n",
       "28    41      M\n",
       "29     7      M\n",
       "..   ...    ...\n",
       "913   44      F\n",
       "914   50      M\n",
       "915   27      M\n",
       "916   22      F\n",
       "917   40      M\n",
       "918   25      M\n",
       "919   30      F\n",
       "920   20      F\n",
       "921   29      F\n",
       "922   21      M\n",
       "923   29      M\n",
       "924   18      F\n",
       "925   49      M\n",
       "926   23      M\n",
       "927   21      M\n",
       "928   44      M\n",
       "929   28      F\n",
       "930   60      M\n",
       "931   58      M\n",
       "932   28      M\n",
       "933   61      M\n",
       "934   42      M\n",
       "935   24      M\n",
       "936   48      M\n",
       "937   38      F\n",
       "938   26      F\n",
       "939   32      M\n",
       "940   20      M\n",
       "941   48      F\n",
       "942   22      M\n",
       "\n",
       "[943 rows x 2 columns]"
      ]
     },
     "execution_count": 221,
     "metadata": {},
     "output_type": "execute_result"
    }
   ],
   "source": [
    "userData[userData.columns[1:3]]"
   ]
  },
  {
   "cell_type": "code",
   "execution_count": 218,
   "metadata": {},
   "outputs": [
    {
     "data": {
      "text/plain": [
       "Index(['user id', 'age', 'gender', 'occupation', 'zip code', 'Age_category'], dtype='object')"
      ]
     },
     "execution_count": 218,
     "metadata": {},
     "output_type": "execute_result"
    }
   ],
   "source": [
    "userData.columns"
   ]
  },
  {
   "cell_type": "code",
   "execution_count": 228,
   "metadata": {},
   "outputs": [],
   "source": [
    "labelencoder = LabelEncoder()\n",
    "userData['gen']= labelencoder.fit_transform(userData['gender'])"
   ]
  },
  {
   "cell_type": "code",
   "execution_count": 231,
   "metadata": {},
   "outputs": [
    {
     "data": {
      "text/plain": [
       "0    1\n",
       "1    0\n",
       "2    1\n",
       "3    1\n",
       "4    0\n",
       "Name: gen, dtype: int32"
      ]
     },
     "execution_count": 231,
     "metadata": {},
     "output_type": "execute_result"
    }
   ],
   "source": [
    "userData['gen'].head() #male-1 "
   ]
  },
  {
   "cell_type": "code",
   "execution_count": 228,
   "metadata": {},
   "outputs": [],
   "source": [
    "labelencoder = LabelEncoder()\n",
    "userData['gen']= labelencoder.fit_transform(userData['gender'])"
   ]
  },
  {
   "cell_type": "code",
   "execution_count": 231,
   "metadata": {},
   "outputs": [
    {
     "data": {
      "text/plain": [
       "0    1\n",
       "1    0\n",
       "2    1\n",
       "3    1\n",
       "4    0\n",
       "Name: gen, dtype: int32"
      ]
     },
     "execution_count": 231,
     "metadata": {},
     "output_type": "execute_result"
    }
   ],
   "source": [
    "userData['gen'].head() #male-1 "
   ]
  },
  {
   "cell_type": "code",
   "execution_count": 240,
   "metadata": {},
   "outputs": [],
   "source": [
    "X=userDaxta[['age','gen']]"
   ]
  },
  {
   "cell_type": "code",
   "execution_count": 241,
   "metadata": {},
   "outputs": [
    {
     "ename": "TypeError",
     "evalue": "'(array([ True, False,  True,  True, False, False, False, False, False,\n       False, False, False, False, False, False,  True, False, False,\n       False, False,  True,  True, False,  True, False, False, False,\n       False, False,  True,  True, False,  True, False,  True,  True,\n        True, False, False, False, False, False, False,  True, False,\n       False, False, False,  True,  True, False,  True,  True,  True,\n       False,  True,  True, False, False, False, False, False, False,\n       False, False,  True,  True,  True,  True, False, False, False,\n        True, False,  True,  True, False,  True, False, False,  True,\n       False, False, False, False,  True, False, False, False, False,\n       False, False, False,  True, False,  True, False, False,  True,\n       False,  True, False,  True, False,  True, False, False, False,\n       False,  True, False, False, False, False, False, False,  True,\n        True, False, False, False, False, False, False, False, False,\n       False,  True, False,  True, False,  True, False, False,  True,\n       False, False, False,  True, False, False,  True, False, False,\n       False, False, False, False, False,  True, False, False,  True,\n        True, False,  True, False, False,  True, False, False,  True,\n       False, False,  True, False, False, False, False, False, False,\n       False, False, False,  True, False,  True,  True,  True,  True,\n        True, False, False, False, False, False,  True, False, False,\n       False, False, False, False, False, False, False, False,  True,\n       False, False, False, False,  True, False, False,  True, False,\n       False, False, False, False, False, False,  True, False,  True,\n        True, False, False, False,  True, False,  True, False, False,\n       False, False,  True, False, False, False, False, False, False,\n       False, False, False, False, False,  True,  True, False, False,\n       False,  True,  True, False,  True,  True, False, False, False,\n        True, False,  True, False,  True,  True,  True, False, False,\n        True, False, False,  True, False,  True,  True, False,  True,\n       False, False, False,  True, False,  True, False, False, False,\n       False,  True,  True, False, False,  True, False,  True, False,\n        True, False,  True, False,  True, False, False, False, False,\n       False, False,  True,  True, False,  True,  True,  True, False,\n        True, False, False, False, False, False, False,  True, False,\n       False,  True, False, False,  True, False,  True,  True,  True,\n       False, False,  True, False, False, False, False,  True, False,\n       False, False,  True, False, False, False, False,  True,  True,\n       False, False, False, False,  True,  True, False, False, False,\n       False,  True, False,  True, False,  True, False,  True, False,\n        True, False,  True, False, False,  True,  True,  True,  True,\n       False, False,  True,  True, False,  True, False,  True, False,\n       False, False, False, False, False, False, False, False, False,\n       False, False, False,  True, False,  True,  True, False, False,\n        True, False,  True, False, False, False, False, False,  True,\n       False, False,  True, False, False, False,  True, False,  True,\n       False,  True, False, False, False, False, False,  True, False,\n       False,  True, False, False, False, False, False,  True,  True,\n       False,  True,  True, False, False, False,  True, False, False,\n        True, False, False,  True, False, False,  True,  True, False,\n        True, False,  True, False, False,  True, False, False,  True,\n       False,  True,  True, False, False, False,  True, False, False,\n       False,  True,  True,  True, False, False, False, False,  True,\n       False, False, False, False,  True, False, False, False, False,\n        True, False, False, False, False, False,  True, False, False,\n        True,  True,  True, False, False,  True,  True, False, False,\n       False, False,  True, False,  True, False,  True, False, False,\n       False, False, False,  True, False,  True, False,  True, False,\n       False, False, False, False, False,  True, False, False, False,\n        True, False,  True, False, False, False, False, False, False,\n        True,  True, False, False, False, False, False, False, False,\n        True,  True, False, False, False, False, False, False, False,\n       False, False,  True, False, False, False, False,  True,  True,\n       False, False,  True, False, False, False, False, False, False,\n       False, False, False,  True, False,  True, False,  True, False,\n        True,  True,  True,  True, False, False,  True, False, False,\n        True,  True,  True, False,  True, False,  True, False,  True,\n       False, False, False, False,  True,  True,  True, False, False,\n       False, False, False, False, False,  True,  True,  True,  True,\n        True, False,  True, False,  True,  True,  True, False,  True,\n        True,  True, False, False,  True, False, False, False, False,\n        True,  True,  True, False, False, False,  True, False, False,\n        True, False, False, False, False, False, False, False,  True,\n       False, False,  True, False, False,  True, False,  True, False,\n       False, False, False, False,  True, False, False,  True, False,\n       False,  True, False,  True, False, False,  True, False, False,\n       False, False, False, False,  True, False, False, False, False,\n       False,  True, False,  True, False, False,  True, False, False,\n        True, False,  True,  True, False,  True,  True,  True,  True,\n        True, False,  True,  True, False,  True, False, False, False,\n        True, False,  True, False,  True,  True,  True, False,  True,\n       False, False, False, False,  True, False, False, False, False,\n       False,  True,  True, False, False, False, False,  True,  True,\n       False, False, False,  True, False, False, False, False, False,\n        True, False,  True, False,  True, False, False, False, False,\n       False, False, False, False, False,  True, False,  True, False,\n       False, False, False, False, False, False,  True,  True, False,\n       False, False, False,  True, False, False, False, False, False,\n        True, False, False, False, False, False, False,  True,  True,\n       False, False, False, False, False, False, False, False, False,\n       False,  True,  True, False, False, False,  True, False, False,\n        True, False, False, False, False, False, False,  True, False,\n       False, False,  True,  True, False,  True, False, False, False,\n        True, False, False, False, False, False,  True, False, False,\n       False, False,  True, False,  True, False, False, False, False,\n       False, False, False,  True, False, False,  True,  True, False,\n        True, False,  True,  True, False,  True, False,  True, False,\n       False,  True, False, False, False, False,  True, False, False,\n       False, False, False,  True,  True, False,  True, False, False,\n       False,  True, False, False, False, False,  True, False, False,\n       False, False, False,  True, False, False,  True, False, False,\n       False, False, False, False, False, False, False,  True, False,\n        True, False,  True, False,  True, False,  True, False,  True,\n        True, False, False, False, False, False, False, False,  True,\n       False, False,  True, False,  True, False,  True]), 0)' is an invalid key",
     "output_type": "error",
     "traceback": [
      "\u001b[1;31m---------------------------------------------------------------------------\u001b[0m",
      "\u001b[1;31mTypeError\u001b[0m                                 Traceback (most recent call last)",
      "\u001b[1;32m<ipython-input-241-0d9ecdbaf44e>\u001b[0m in \u001b[0;36m<module>\u001b[1;34m\u001b[0m\n\u001b[0;32m      3\u001b[0m \u001b[0my_means\u001b[0m \u001b[1;33m=\u001b[0m \u001b[0mkm4\u001b[0m\u001b[1;33m.\u001b[0m\u001b[0mfit_predict\u001b[0m\u001b[1;33m(\u001b[0m\u001b[0mX\u001b[0m\u001b[1;33m)\u001b[0m\u001b[1;33m\u001b[0m\u001b[0m\n\u001b[0;32m      4\u001b[0m \u001b[1;31m#Visualizing the clusters for k=4\u001b[0m\u001b[1;33m\u001b[0m\u001b[1;33m\u001b[0m\u001b[0m\n\u001b[1;32m----> 5\u001b[1;33m \u001b[0mplt\u001b[0m\u001b[1;33m.\u001b[0m\u001b[0mscatter\u001b[0m\u001b[1;33m(\u001b[0m\u001b[0mX\u001b[0m\u001b[1;33m[\u001b[0m\u001b[0my_means\u001b[0m\u001b[1;33m==\u001b[0m\u001b[1;36m0\u001b[0m\u001b[1;33m,\u001b[0m\u001b[1;36m0\u001b[0m\u001b[1;33m]\u001b[0m\u001b[1;33m,\u001b[0m\u001b[0mX\u001b[0m\u001b[1;33m[\u001b[0m\u001b[0my_means\u001b[0m\u001b[1;33m==\u001b[0m\u001b[1;36m0\u001b[0m\u001b[1;33m,\u001b[0m\u001b[1;36m1\u001b[0m\u001b[1;33m]\u001b[0m\u001b[1;33m,\u001b[0m\u001b[0ms\u001b[0m\u001b[1;33m=\u001b[0m\u001b[1;36m50\u001b[0m\u001b[1;33m,\u001b[0m \u001b[0mc\u001b[0m\u001b[1;33m=\u001b[0m\u001b[1;34m'purple'\u001b[0m\u001b[1;33m,\u001b[0m\u001b[0mlabel\u001b[0m\u001b[1;33m=\u001b[0m\u001b[1;34m'Cluster1'\u001b[0m\u001b[1;33m)\u001b[0m\u001b[1;33m\u001b[0m\u001b[0m\n\u001b[0m\u001b[0;32m      6\u001b[0m \u001b[0mplt\u001b[0m\u001b[1;33m.\u001b[0m\u001b[0mscatter\u001b[0m\u001b[1;33m(\u001b[0m\u001b[0mX\u001b[0m\u001b[1;33m[\u001b[0m\u001b[0my_means\u001b[0m\u001b[1;33m==\u001b[0m\u001b[1;36m1\u001b[0m\u001b[1;33m,\u001b[0m\u001b[1;36m0\u001b[0m\u001b[1;33m]\u001b[0m\u001b[1;33m,\u001b[0m\u001b[0mX\u001b[0m\u001b[1;33m[\u001b[0m\u001b[0my_means\u001b[0m\u001b[1;33m==\u001b[0m\u001b[1;36m1\u001b[0m\u001b[1;33m,\u001b[0m\u001b[1;36m1\u001b[0m\u001b[1;33m]\u001b[0m\u001b[1;33m,\u001b[0m\u001b[0ms\u001b[0m\u001b[1;33m=\u001b[0m\u001b[1;36m50\u001b[0m\u001b[1;33m,\u001b[0m \u001b[0mc\u001b[0m\u001b[1;33m=\u001b[0m\u001b[1;34m'blue'\u001b[0m\u001b[1;33m,\u001b[0m\u001b[0mlabel\u001b[0m\u001b[1;33m=\u001b[0m\u001b[1;34m'Cluster2'\u001b[0m\u001b[1;33m)\u001b[0m\u001b[1;33m\u001b[0m\u001b[0m\n\u001b[0;32m      7\u001b[0m \u001b[0mplt\u001b[0m\u001b[1;33m.\u001b[0m\u001b[0mscatter\u001b[0m\u001b[1;33m(\u001b[0m\u001b[0mX\u001b[0m\u001b[1;33m[\u001b[0m\u001b[0my_means\u001b[0m\u001b[1;33m==\u001b[0m\u001b[1;36m2\u001b[0m\u001b[1;33m,\u001b[0m\u001b[1;36m0\u001b[0m\u001b[1;33m]\u001b[0m\u001b[1;33m,\u001b[0m\u001b[0mX\u001b[0m\u001b[1;33m[\u001b[0m\u001b[0my_means\u001b[0m\u001b[1;33m==\u001b[0m\u001b[1;36m2\u001b[0m\u001b[1;33m,\u001b[0m\u001b[1;36m1\u001b[0m\u001b[1;33m]\u001b[0m\u001b[1;33m,\u001b[0m\u001b[0ms\u001b[0m\u001b[1;33m=\u001b[0m\u001b[1;36m50\u001b[0m\u001b[1;33m,\u001b[0m \u001b[0mc\u001b[0m\u001b[1;33m=\u001b[0m\u001b[1;34m'green'\u001b[0m\u001b[1;33m,\u001b[0m\u001b[0mlabel\u001b[0m\u001b[1;33m=\u001b[0m\u001b[1;34m'Cluster3'\u001b[0m\u001b[1;33m)\u001b[0m\u001b[1;33m\u001b[0m\u001b[0m\n",
      "\u001b[1;32mc:\\users\\raghasrir\\appdata\\local\\programs\\python\\python36\\lib\\site-packages\\pandas\\core\\frame.py\u001b[0m in \u001b[0;36m__getitem__\u001b[1;34m(self, key)\u001b[0m\n\u001b[0;32m   2925\u001b[0m             \u001b[1;32mif\u001b[0m \u001b[0mself\u001b[0m\u001b[1;33m.\u001b[0m\u001b[0mcolumns\u001b[0m\u001b[1;33m.\u001b[0m\u001b[0mnlevels\u001b[0m \u001b[1;33m>\u001b[0m \u001b[1;36m1\u001b[0m\u001b[1;33m:\u001b[0m\u001b[1;33m\u001b[0m\u001b[0m\n\u001b[0;32m   2926\u001b[0m                 \u001b[1;32mreturn\u001b[0m \u001b[0mself\u001b[0m\u001b[1;33m.\u001b[0m\u001b[0m_getitem_multilevel\u001b[0m\u001b[1;33m(\u001b[0m\u001b[0mkey\u001b[0m\u001b[1;33m)\u001b[0m\u001b[1;33m\u001b[0m\u001b[0m\n\u001b[1;32m-> 2927\u001b[1;33m             \u001b[0mindexer\u001b[0m \u001b[1;33m=\u001b[0m \u001b[0mself\u001b[0m\u001b[1;33m.\u001b[0m\u001b[0mcolumns\u001b[0m\u001b[1;33m.\u001b[0m\u001b[0mget_loc\u001b[0m\u001b[1;33m(\u001b[0m\u001b[0mkey\u001b[0m\u001b[1;33m)\u001b[0m\u001b[1;33m\u001b[0m\u001b[0m\n\u001b[0m\u001b[0;32m   2928\u001b[0m             \u001b[1;32mif\u001b[0m \u001b[0mis_integer\u001b[0m\u001b[1;33m(\u001b[0m\u001b[0mindexer\u001b[0m\u001b[1;33m)\u001b[0m\u001b[1;33m:\u001b[0m\u001b[1;33m\u001b[0m\u001b[0m\n\u001b[0;32m   2929\u001b[0m                 \u001b[0mindexer\u001b[0m \u001b[1;33m=\u001b[0m \u001b[1;33m[\u001b[0m\u001b[0mindexer\u001b[0m\u001b[1;33m]\u001b[0m\u001b[1;33m\u001b[0m\u001b[0m\n",
      "\u001b[1;32mc:\\users\\raghasrir\\appdata\\local\\programs\\python\\python36\\lib\\site-packages\\pandas\\core\\indexes\\base.py\u001b[0m in \u001b[0;36mget_loc\u001b[1;34m(self, key, method, tolerance)\u001b[0m\n\u001b[0;32m   2654\u001b[0m                                  'backfill or nearest lookups')\n\u001b[0;32m   2655\u001b[0m             \u001b[1;32mtry\u001b[0m\u001b[1;33m:\u001b[0m\u001b[1;33m\u001b[0m\u001b[0m\n\u001b[1;32m-> 2656\u001b[1;33m                 \u001b[1;32mreturn\u001b[0m \u001b[0mself\u001b[0m\u001b[1;33m.\u001b[0m\u001b[0m_engine\u001b[0m\u001b[1;33m.\u001b[0m\u001b[0mget_loc\u001b[0m\u001b[1;33m(\u001b[0m\u001b[0mkey\u001b[0m\u001b[1;33m)\u001b[0m\u001b[1;33m\u001b[0m\u001b[0m\n\u001b[0m\u001b[0;32m   2657\u001b[0m             \u001b[1;32mexcept\u001b[0m \u001b[0mKeyError\u001b[0m\u001b[1;33m:\u001b[0m\u001b[1;33m\u001b[0m\u001b[0m\n\u001b[0;32m   2658\u001b[0m                 \u001b[1;32mreturn\u001b[0m \u001b[0mself\u001b[0m\u001b[1;33m.\u001b[0m\u001b[0m_engine\u001b[0m\u001b[1;33m.\u001b[0m\u001b[0mget_loc\u001b[0m\u001b[1;33m(\u001b[0m\u001b[0mself\u001b[0m\u001b[1;33m.\u001b[0m\u001b[0m_maybe_cast_indexer\u001b[0m\u001b[1;33m(\u001b[0m\u001b[0mkey\u001b[0m\u001b[1;33m)\u001b[0m\u001b[1;33m)\u001b[0m\u001b[1;33m\u001b[0m\u001b[0m\n",
      "\u001b[1;32mpandas\\_libs\\index.pyx\u001b[0m in \u001b[0;36mpandas._libs.index.IndexEngine.get_loc\u001b[1;34m()\u001b[0m\n",
      "\u001b[1;32mpandas\\_libs\\index.pyx\u001b[0m in \u001b[0;36mpandas._libs.index.IndexEngine.get_loc\u001b[1;34m()\u001b[0m\n",
      "\u001b[1;31mTypeError\u001b[0m: '(array([ True, False,  True,  True, False, False, False, False, False,\n       False, False, False, False, False, False,  True, False, False,\n       False, False,  True,  True, False,  True, False, False, False,\n       False, False,  True,  True, False,  True, False,  True,  True,\n        True, False, False, False, False, False, False,  True, False,\n       False, False, False,  True,  True, False,  True,  True,  True,\n       False,  True,  True, False, False, False, False, False, False,\n       False, False,  True,  True,  True,  True, False, False, False,\n        True, False,  True,  True, False,  True, False, False,  True,\n       False, False, False, False,  True, False, False, False, False,\n       False, False, False,  True, False,  True, False, False,  True,\n       False,  True, False,  True, False,  True, False, False, False,\n       False,  True, False, False, False, False, False, False,  True,\n        True, False, False, False, False, False, False, False, False,\n       False,  True, False,  True, False,  True, False, False,  True,\n       False, False, False,  True, False, False,  True, False, False,\n       False, False, False, False, False,  True, False, False,  True,\n        True, False,  True, False, False,  True, False, False,  True,\n       False, False,  True, False, False, False, False, False, False,\n       False, False, False,  True, False,  True,  True,  True,  True,\n        True, False, False, False, False, False,  True, False, False,\n       False, False, False, False, False, False, False, False,  True,\n       False, False, False, False,  True, False, False,  True, False,\n       False, False, False, False, False, False,  True, False,  True,\n        True, False, False, False,  True, False,  True, False, False,\n       False, False,  True, False, False, False, False, False, False,\n       False, False, False, False, False,  True,  True, False, False,\n       False,  True,  True, False,  True,  True, False, False, False,\n        True, False,  True, False,  True,  True,  True, False, False,\n        True, False, False,  True, False,  True,  True, False,  True,\n       False, False, False,  True, False,  True, False, False, False,\n       False,  True,  True, False, False,  True, False,  True, False,\n        True, False,  True, False,  True, False, False, False, False,\n       False, False,  True,  True, False,  True,  True,  True, False,\n        True, False, False, False, False, False, False,  True, False,\n       False,  True, False, False,  True, False,  True,  True,  True,\n       False, False,  True, False, False, False, False,  True, False,\n       False, False,  True, False, False, False, False,  True,  True,\n       False, False, False, False,  True,  True, False, False, False,\n       False,  True, False,  True, False,  True, False,  True, False,\n        True, False,  True, False, False,  True,  True,  True,  True,\n       False, False,  True,  True, False,  True, False,  True, False,\n       False, False, False, False, False, False, False, False, False,\n       False, False, False,  True, False,  True,  True, False, False,\n        True, False,  True, False, False, False, False, False,  True,\n       False, False,  True, False, False, False,  True, False,  True,\n       False,  True, False, False, False, False, False,  True, False,\n       False,  True, False, False, False, False, False,  True,  True,\n       False,  True,  True, False, False, False,  True, False, False,\n        True, False, False,  True, False, False,  True,  True, False,\n        True, False,  True, False, False,  True, False, False,  True,\n       False,  True,  True, False, False, False,  True, False, False,\n       False,  True,  True,  True, False, False, False, False,  True,\n       False, False, False, False,  True, False, False, False, False,\n        True, False, False, False, False, False,  True, False, False,\n        True,  True,  True, False, False,  True,  True, False, False,\n       False, False,  True, False,  True, False,  True, False, False,\n       False, False, False,  True, False,  True, False,  True, False,\n       False, False, False, False, False,  True, False, False, False,\n        True, False,  True, False, False, False, False, False, False,\n        True,  True, False, False, False, False, False, False, False,\n        True,  True, False, False, False, False, False, False, False,\n       False, False,  True, False, False, False, False,  True,  True,\n       False, False,  True, False, False, False, False, False, False,\n       False, False, False,  True, False,  True, False,  True, False,\n        True,  True,  True,  True, False, False,  True, False, False,\n        True,  True,  True, False,  True, False,  True, False,  True,\n       False, False, False, False,  True,  True,  True, False, False,\n       False, False, False, False, False,  True,  True,  True,  True,\n        True, False,  True, False,  True,  True,  True, False,  True,\n        True,  True, False, False,  True, False, False, False, False,\n        True,  True,  True, False, False, False,  True, False, False,\n        True, False, False, False, False, False, False, False,  True,\n       False, False,  True, False, False,  True, False,  True, False,\n       False, False, False, False,  True, False, False,  True, False,\n       False,  True, False,  True, False, False,  True, False, False,\n       False, False, False, False,  True, False, False, False, False,\n       False,  True, False,  True, False, False,  True, False, False,\n        True, False,  True,  True, False,  True,  True,  True,  True,\n        True, False,  True,  True, False,  True, False, False, False,\n        True, False,  True, False,  True,  True,  True, False,  True,\n       False, False, False, False,  True, False, False, False, False,\n       False,  True,  True, False, False, False, False,  True,  True,\n       False, False, False,  True, False, False, False, False, False,\n        True, False,  True, False,  True, False, False, False, False,\n       False, False, False, False, False,  True, False,  True, False,\n       False, False, False, False, False, False,  True,  True, False,\n       False, False, False,  True, False, False, False, False, False,\n        True, False, False, False, False, False, False,  True,  True,\n       False, False, False, False, False, False, False, False, False,\n       False,  True,  True, False, False, False,  True, False, False,\n        True, False, False, False, False, False, False,  True, False,\n       False, False,  True,  True, False,  True, False, False, False,\n        True, False, False, False, False, False,  True, False, False,\n       False, False,  True, False,  True, False, False, False, False,\n       False, False, False,  True, False, False,  True,  True, False,\n        True, False,  True,  True, False,  True, False,  True, False,\n       False,  True, False, False, False, False,  True, False, False,\n       False, False, False,  True,  True, False,  True, False, False,\n       False,  True, False, False, False, False,  True, False, False,\n       False, False, False,  True, False, False,  True, False, False,\n       False, False, False, False, False, False, False,  True, False,\n        True, False,  True, False,  True, False,  True, False,  True,\n        True, False, False, False, False, False, False, False,  True,\n       False, False,  True, False,  True, False,  True]), 0)' is an invalid key"
     ]
    }
   ],
   "source": [
    "##Fitting kmeans to the dataset with k=4\n",
    "km4=KMeans(n_clusters=4,init='k-means++', max_iter=300, n_init=10, random_state=0)\n",
    "y_means = km4.fit_predict(X)\n"
   ]
  },
  {
   "cell_type": "code",
   "execution_count": 243,
   "metadata": {},
   "outputs": [
    {
     "ename": "TypeError",
     "evalue": "'(array([ True, False,  True,  True, False, False, False, False, False,\n       False, False, False, False, False, False,  True, False, False,\n       False, False,  True,  True, False,  True, False, False, False,\n       False, False,  True,  True, False,  True, False,  True,  True,\n        True, False, False, False, False, False, False,  True, False,\n       False, False, False,  True,  True, False,  True,  True,  True,\n       False,  True,  True, False, False, False, False, False, False,\n       False, False,  True,  True,  True,  True, False, False, False,\n        True, False,  True,  True, False,  True, False, False,  True,\n       False, False, False, False,  True, False, False, False, False,\n       False, False, False,  True, False,  True, False, False,  True,\n       False,  True, False,  True, False,  True, False, False, False,\n       False,  True, False, False, False, False, False, False,  True,\n        True, False, False, False, False, False, False, False, False,\n       False,  True, False,  True, False,  True, False, False,  True,\n       False, False, False,  True, False, False,  True, False, False,\n       False, False, False, False, False,  True, False, False,  True,\n        True, False,  True, False, False,  True, False, False,  True,\n       False, False,  True, False, False, False, False, False, False,\n       False, False, False,  True, False,  True,  True,  True,  True,\n        True, False, False, False, False, False,  True, False, False,\n       False, False, False, False, False, False, False, False,  True,\n       False, False, False, False,  True, False, False,  True, False,\n       False, False, False, False, False, False,  True, False,  True,\n        True, False, False, False,  True, False,  True, False, False,\n       False, False,  True, False, False, False, False, False, False,\n       False, False, False, False, False,  True,  True, False, False,\n       False,  True,  True, False,  True,  True, False, False, False,\n        True, False,  True, False,  True,  True,  True, False, False,\n        True, False, False,  True, False,  True,  True, False,  True,\n       False, False, False,  True, False,  True, False, False, False,\n       False,  True,  True, False, False,  True, False,  True, False,\n        True, False,  True, False,  True, False, False, False, False,\n       False, False,  True,  True, False,  True,  True,  True, False,\n        True, False, False, False, False, False, False,  True, False,\n       False,  True, False, False,  True, False,  True,  True,  True,\n       False, False,  True, False, False, False, False,  True, False,\n       False, False,  True, False, False, False, False,  True,  True,\n       False, False, False, False,  True,  True, False, False, False,\n       False,  True, False,  True, False,  True, False,  True, False,\n        True, False,  True, False, False,  True,  True,  True,  True,\n       False, False,  True,  True, False,  True, False,  True, False,\n       False, False, False, False, False, False, False, False, False,\n       False, False, False,  True, False,  True,  True, False, False,\n        True, False,  True, False, False, False, False, False,  True,\n       False, False,  True, False, False, False,  True, False,  True,\n       False,  True, False, False, False, False, False,  True, False,\n       False,  True, False, False, False, False, False,  True,  True,\n       False,  True,  True, False, False, False,  True, False, False,\n        True, False, False,  True, False, False,  True,  True, False,\n        True, False,  True, False, False,  True, False, False,  True,\n       False,  True,  True, False, False, False,  True, False, False,\n       False,  True,  True,  True, False, False, False, False,  True,\n       False, False, False, False,  True, False, False, False, False,\n        True, False, False, False, False, False,  True, False, False,\n        True,  True,  True, False, False,  True,  True, False, False,\n       False, False,  True, False,  True, False,  True, False, False,\n       False, False, False,  True, False,  True, False,  True, False,\n       False, False, False, False, False,  True, False, False, False,\n        True, False,  True, False, False, False, False, False, False,\n        True,  True, False, False, False, False, False, False, False,\n        True,  True, False, False, False, False, False, False, False,\n       False, False,  True, False, False, False, False,  True,  True,\n       False, False,  True, False, False, False, False, False, False,\n       False, False, False,  True, False,  True, False,  True, False,\n        True,  True,  True,  True, False, False,  True, False, False,\n        True,  True,  True, False,  True, False,  True, False,  True,\n       False, False, False, False,  True,  True,  True, False, False,\n       False, False, False, False, False,  True,  True,  True,  True,\n        True, False,  True, False,  True,  True,  True, False,  True,\n        True,  True, False, False,  True, False, False, False, False,\n        True,  True,  True, False, False, False,  True, False, False,\n        True, False, False, False, False, False, False, False,  True,\n       False, False,  True, False, False,  True, False,  True, False,\n       False, False, False, False,  True, False, False,  True, False,\n       False,  True, False,  True, False, False,  True, False, False,\n       False, False, False, False,  True, False, False, False, False,\n       False,  True, False,  True, False, False,  True, False, False,\n        True, False,  True,  True, False,  True,  True,  True,  True,\n        True, False,  True,  True, False,  True, False, False, False,\n        True, False,  True, False,  True,  True,  True, False,  True,\n       False, False, False, False,  True, False, False, False, False,\n       False,  True,  True, False, False, False, False,  True,  True,\n       False, False, False,  True, False, False, False, False, False,\n        True, False,  True, False,  True, False, False, False, False,\n       False, False, False, False, False,  True, False,  True, False,\n       False, False, False, False, False, False,  True,  True, False,\n       False, False, False,  True, False, False, False, False, False,\n        True, False, False, False, False, False, False,  True,  True,\n       False, False, False, False, False, False, False, False, False,\n       False,  True,  True, False, False, False,  True, False, False,\n        True, False, False, False, False, False, False,  True, False,\n       False, False,  True,  True, False,  True, False, False, False,\n        True, False, False, False, False, False,  True, False, False,\n       False, False,  True, False,  True, False, False, False, False,\n       False, False, False,  True, False, False,  True,  True, False,\n        True, False,  True,  True, False,  True, False,  True, False,\n       False,  True, False, False, False, False,  True, False, False,\n       False, False, False,  True,  True, False,  True, False, False,\n       False,  True, False, False, False, False,  True, False, False,\n       False, False, False,  True, False, False,  True, False, False,\n       False, False, False, False, False, False, False,  True, False,\n        True, False,  True, False,  True, False,  True, False,  True,\n        True, False, False, False, False, False, False, False,  True,\n       False, False,  True, False,  True, False,  True]), 0)' is an invalid key",
     "output_type": "error",
     "traceback": [
      "\u001b[1;31m---------------------------------------------------------------------------\u001b[0m",
      "\u001b[1;31mTypeError\u001b[0m                                 Traceback (most recent call last)",
      "\u001b[1;32m<ipython-input-243-68d0602028af>\u001b[0m in \u001b[0;36m<module>\u001b[1;34m\u001b[0m\n\u001b[0;32m      1\u001b[0m \u001b[1;31m#Visualizing the clusters for k=4\u001b[0m\u001b[1;33m\u001b[0m\u001b[1;33m\u001b[0m\u001b[0m\n\u001b[1;32m----> 2\u001b[1;33m \u001b[0mplt\u001b[0m\u001b[1;33m.\u001b[0m\u001b[0mscatter\u001b[0m\u001b[1;33m(\u001b[0m\u001b[0mX\u001b[0m\u001b[1;33m[\u001b[0m\u001b[0my_means\u001b[0m\u001b[1;33m==\u001b[0m\u001b[1;36m0\u001b[0m\u001b[1;33m,\u001b[0m\u001b[1;36m0\u001b[0m\u001b[1;33m]\u001b[0m\u001b[1;33m,\u001b[0m\u001b[0mX\u001b[0m\u001b[1;33m[\u001b[0m\u001b[0my_means\u001b[0m\u001b[1;33m==\u001b[0m\u001b[1;36m0\u001b[0m\u001b[1;33m,\u001b[0m\u001b[1;36m1\u001b[0m\u001b[1;33m]\u001b[0m\u001b[1;33m,\u001b[0m\u001b[0ms\u001b[0m\u001b[1;33m=\u001b[0m\u001b[1;36m50\u001b[0m\u001b[1;33m,\u001b[0m \u001b[0mc\u001b[0m\u001b[1;33m=\u001b[0m\u001b[1;34m'purple'\u001b[0m\u001b[1;33m,\u001b[0m\u001b[0mlabel\u001b[0m\u001b[1;33m=\u001b[0m\u001b[1;34m'Cluster1'\u001b[0m\u001b[1;33m)\u001b[0m\u001b[1;33m\u001b[0m\u001b[0m\n\u001b[0m\u001b[0;32m      3\u001b[0m \u001b[0mplt\u001b[0m\u001b[1;33m.\u001b[0m\u001b[0mscatter\u001b[0m\u001b[1;33m(\u001b[0m\u001b[0mX\u001b[0m\u001b[1;33m[\u001b[0m\u001b[0my_means\u001b[0m\u001b[1;33m==\u001b[0m\u001b[1;36m1\u001b[0m\u001b[1;33m,\u001b[0m\u001b[1;36m0\u001b[0m\u001b[1;33m]\u001b[0m\u001b[1;33m,\u001b[0m\u001b[0mX\u001b[0m\u001b[1;33m[\u001b[0m\u001b[0my_means\u001b[0m\u001b[1;33m==\u001b[0m\u001b[1;36m1\u001b[0m\u001b[1;33m,\u001b[0m\u001b[1;36m1\u001b[0m\u001b[1;33m]\u001b[0m\u001b[1;33m,\u001b[0m\u001b[0ms\u001b[0m\u001b[1;33m=\u001b[0m\u001b[1;36m50\u001b[0m\u001b[1;33m,\u001b[0m \u001b[0mc\u001b[0m\u001b[1;33m=\u001b[0m\u001b[1;34m'blue'\u001b[0m\u001b[1;33m,\u001b[0m\u001b[0mlabel\u001b[0m\u001b[1;33m=\u001b[0m\u001b[1;34m'Cluster2'\u001b[0m\u001b[1;33m)\u001b[0m\u001b[1;33m\u001b[0m\u001b[0m\n\u001b[0;32m      4\u001b[0m \u001b[0mplt\u001b[0m\u001b[1;33m.\u001b[0m\u001b[0mscatter\u001b[0m\u001b[1;33m(\u001b[0m\u001b[0mX\u001b[0m\u001b[1;33m[\u001b[0m\u001b[0my_means\u001b[0m\u001b[1;33m==\u001b[0m\u001b[1;36m2\u001b[0m\u001b[1;33m,\u001b[0m\u001b[1;36m0\u001b[0m\u001b[1;33m]\u001b[0m\u001b[1;33m,\u001b[0m\u001b[0mX\u001b[0m\u001b[1;33m[\u001b[0m\u001b[0my_means\u001b[0m\u001b[1;33m==\u001b[0m\u001b[1;36m2\u001b[0m\u001b[1;33m,\u001b[0m\u001b[1;36m1\u001b[0m\u001b[1;33m]\u001b[0m\u001b[1;33m,\u001b[0m\u001b[0ms\u001b[0m\u001b[1;33m=\u001b[0m\u001b[1;36m50\u001b[0m\u001b[1;33m,\u001b[0m \u001b[0mc\u001b[0m\u001b[1;33m=\u001b[0m\u001b[1;34m'green'\u001b[0m\u001b[1;33m,\u001b[0m\u001b[0mlabel\u001b[0m\u001b[1;33m=\u001b[0m\u001b[1;34m'Cluster3'\u001b[0m\u001b[1;33m)\u001b[0m\u001b[1;33m\u001b[0m\u001b[0m\n\u001b[0;32m      5\u001b[0m \u001b[0mplt\u001b[0m\u001b[1;33m.\u001b[0m\u001b[0mscatter\u001b[0m\u001b[1;33m(\u001b[0m\u001b[0mX\u001b[0m\u001b[1;33m[\u001b[0m\u001b[0my_means\u001b[0m\u001b[1;33m==\u001b[0m\u001b[1;36m3\u001b[0m\u001b[1;33m,\u001b[0m\u001b[1;36m0\u001b[0m\u001b[1;33m]\u001b[0m\u001b[1;33m,\u001b[0m\u001b[0mX\u001b[0m\u001b[1;33m[\u001b[0m\u001b[0my_means\u001b[0m\u001b[1;33m==\u001b[0m\u001b[1;36m3\u001b[0m\u001b[1;33m,\u001b[0m\u001b[1;36m1\u001b[0m\u001b[1;33m]\u001b[0m\u001b[1;33m,\u001b[0m\u001b[0ms\u001b[0m\u001b[1;33m=\u001b[0m\u001b[1;36m50\u001b[0m\u001b[1;33m,\u001b[0m \u001b[0mc\u001b[0m\u001b[1;33m=\u001b[0m\u001b[1;34m'cyan'\u001b[0m\u001b[1;33m,\u001b[0m\u001b[0mlabel\u001b[0m\u001b[1;33m=\u001b[0m\u001b[1;34m'Cluster4'\u001b[0m\u001b[1;33m)\u001b[0m\u001b[1;33m\u001b[0m\u001b[0m\n",
      "\u001b[1;32mc:\\users\\raghasrir\\appdata\\local\\programs\\python\\python36\\lib\\site-packages\\pandas\\core\\frame.py\u001b[0m in \u001b[0;36m__getitem__\u001b[1;34m(self, key)\u001b[0m\n\u001b[0;32m   2925\u001b[0m             \u001b[1;32mif\u001b[0m \u001b[0mself\u001b[0m\u001b[1;33m.\u001b[0m\u001b[0mcolumns\u001b[0m\u001b[1;33m.\u001b[0m\u001b[0mnlevels\u001b[0m \u001b[1;33m>\u001b[0m \u001b[1;36m1\u001b[0m\u001b[1;33m:\u001b[0m\u001b[1;33m\u001b[0m\u001b[0m\n\u001b[0;32m   2926\u001b[0m                 \u001b[1;32mreturn\u001b[0m \u001b[0mself\u001b[0m\u001b[1;33m.\u001b[0m\u001b[0m_getitem_multilevel\u001b[0m\u001b[1;33m(\u001b[0m\u001b[0mkey\u001b[0m\u001b[1;33m)\u001b[0m\u001b[1;33m\u001b[0m\u001b[0m\n\u001b[1;32m-> 2927\u001b[1;33m             \u001b[0mindexer\u001b[0m \u001b[1;33m=\u001b[0m \u001b[0mself\u001b[0m\u001b[1;33m.\u001b[0m\u001b[0mcolumns\u001b[0m\u001b[1;33m.\u001b[0m\u001b[0mget_loc\u001b[0m\u001b[1;33m(\u001b[0m\u001b[0mkey\u001b[0m\u001b[1;33m)\u001b[0m\u001b[1;33m\u001b[0m\u001b[0m\n\u001b[0m\u001b[0;32m   2928\u001b[0m             \u001b[1;32mif\u001b[0m \u001b[0mis_integer\u001b[0m\u001b[1;33m(\u001b[0m\u001b[0mindexer\u001b[0m\u001b[1;33m)\u001b[0m\u001b[1;33m:\u001b[0m\u001b[1;33m\u001b[0m\u001b[0m\n\u001b[0;32m   2929\u001b[0m                 \u001b[0mindexer\u001b[0m \u001b[1;33m=\u001b[0m \u001b[1;33m[\u001b[0m\u001b[0mindexer\u001b[0m\u001b[1;33m]\u001b[0m\u001b[1;33m\u001b[0m\u001b[0m\n",
      "\u001b[1;32mc:\\users\\raghasrir\\appdata\\local\\programs\\python\\python36\\lib\\site-packages\\pandas\\core\\indexes\\base.py\u001b[0m in \u001b[0;36mget_loc\u001b[1;34m(self, key, method, tolerance)\u001b[0m\n\u001b[0;32m   2654\u001b[0m                                  'backfill or nearest lookups')\n\u001b[0;32m   2655\u001b[0m             \u001b[1;32mtry\u001b[0m\u001b[1;33m:\u001b[0m\u001b[1;33m\u001b[0m\u001b[0m\n\u001b[1;32m-> 2656\u001b[1;33m                 \u001b[1;32mreturn\u001b[0m \u001b[0mself\u001b[0m\u001b[1;33m.\u001b[0m\u001b[0m_engine\u001b[0m\u001b[1;33m.\u001b[0m\u001b[0mget_loc\u001b[0m\u001b[1;33m(\u001b[0m\u001b[0mkey\u001b[0m\u001b[1;33m)\u001b[0m\u001b[1;33m\u001b[0m\u001b[0m\n\u001b[0m\u001b[0;32m   2657\u001b[0m             \u001b[1;32mexcept\u001b[0m \u001b[0mKeyError\u001b[0m\u001b[1;33m:\u001b[0m\u001b[1;33m\u001b[0m\u001b[0m\n\u001b[0;32m   2658\u001b[0m                 \u001b[1;32mreturn\u001b[0m \u001b[0mself\u001b[0m\u001b[1;33m.\u001b[0m\u001b[0m_engine\u001b[0m\u001b[1;33m.\u001b[0m\u001b[0mget_loc\u001b[0m\u001b[1;33m(\u001b[0m\u001b[0mself\u001b[0m\u001b[1;33m.\u001b[0m\u001b[0m_maybe_cast_indexer\u001b[0m\u001b[1;33m(\u001b[0m\u001b[0mkey\u001b[0m\u001b[1;33m)\u001b[0m\u001b[1;33m)\u001b[0m\u001b[1;33m\u001b[0m\u001b[0m\n",
      "\u001b[1;32mpandas\\_libs\\index.pyx\u001b[0m in \u001b[0;36mpandas._libs.index.IndexEngine.get_loc\u001b[1;34m()\u001b[0m\n",
      "\u001b[1;32mpandas\\_libs\\index.pyx\u001b[0m in \u001b[0;36mpandas._libs.index.IndexEngine.get_loc\u001b[1;34m()\u001b[0m\n",
      "\u001b[1;31mTypeError\u001b[0m: '(array([ True, False,  True,  True, False, False, False, False, False,\n       False, False, False, False, False, False,  True, False, False,\n       False, False,  True,  True, False,  True, False, False, False,\n       False, False,  True,  True, False,  True, False,  True,  True,\n        True, False, False, False, False, False, False,  True, False,\n       False, False, False,  True,  True, False,  True,  True,  True,\n       False,  True,  True, False, False, False, False, False, False,\n       False, False,  True,  True,  True,  True, False, False, False,\n        True, False,  True,  True, False,  True, False, False,  True,\n       False, False, False, False,  True, False, False, False, False,\n       False, False, False,  True, False,  True, False, False,  True,\n       False,  True, False,  True, False,  True, False, False, False,\n       False,  True, False, False, False, False, False, False,  True,\n        True, False, False, False, False, False, False, False, False,\n       False,  True, False,  True, False,  True, False, False,  True,\n       False, False, False,  True, False, False,  True, False, False,\n       False, False, False, False, False,  True, False, False,  True,\n        True, False,  True, False, False,  True, False, False,  True,\n       False, False,  True, False, False, False, False, False, False,\n       False, False, False,  True, False,  True,  True,  True,  True,\n        True, False, False, False, False, False,  True, False, False,\n       False, False, False, False, False, False, False, False,  True,\n       False, False, False, False,  True, False, False,  True, False,\n       False, False, False, False, False, False,  True, False,  True,\n        True, False, False, False,  True, False,  True, False, False,\n       False, False,  True, False, False, False, False, False, False,\n       False, False, False, False, False,  True,  True, False, False,\n       False,  True,  True, False,  True,  True, False, False, False,\n        True, False,  True, False,  True,  True,  True, False, False,\n        True, False, False,  True, False,  True,  True, False,  True,\n       False, False, False,  True, False,  True, False, False, False,\n       False,  True,  True, False, False,  True, False,  True, False,\n        True, False,  True, False,  True, False, False, False, False,\n       False, False,  True,  True, False,  True,  True,  True, False,\n        True, False, False, False, False, False, False,  True, False,\n       False,  True, False, False,  True, False,  True,  True,  True,\n       False, False,  True, False, False, False, False,  True, False,\n       False, False,  True, False, False, False, False,  True,  True,\n       False, False, False, False,  True,  True, False, False, False,\n       False,  True, False,  True, False,  True, False,  True, False,\n        True, False,  True, False, False,  True,  True,  True,  True,\n       False, False,  True,  True, False,  True, False,  True, False,\n       False, False, False, False, False, False, False, False, False,\n       False, False, False,  True, False,  True,  True, False, False,\n        True, False,  True, False, False, False, False, False,  True,\n       False, False,  True, False, False, False,  True, False,  True,\n       False,  True, False, False, False, False, False,  True, False,\n       False,  True, False, False, False, False, False,  True,  True,\n       False,  True,  True, False, False, False,  True, False, False,\n        True, False, False,  True, False, False,  True,  True, False,\n        True, False,  True, False, False,  True, False, False,  True,\n       False,  True,  True, False, False, False,  True, False, False,\n       False,  True,  True,  True, False, False, False, False,  True,\n       False, False, False, False,  True, False, False, False, False,\n        True, False, False, False, False, False,  True, False, False,\n        True,  True,  True, False, False,  True,  True, False, False,\n       False, False,  True, False,  True, False,  True, False, False,\n       False, False, False,  True, False,  True, False,  True, False,\n       False, False, False, False, False,  True, False, False, False,\n        True, False,  True, False, False, False, False, False, False,\n        True,  True, False, False, False, False, False, False, False,\n        True,  True, False, False, False, False, False, False, False,\n       False, False,  True, False, False, False, False,  True,  True,\n       False, False,  True, False, False, False, False, False, False,\n       False, False, False,  True, False,  True, False,  True, False,\n        True,  True,  True,  True, False, False,  True, False, False,\n        True,  True,  True, False,  True, False,  True, False,  True,\n       False, False, False, False,  True,  True,  True, False, False,\n       False, False, False, False, False,  True,  True,  True,  True,\n        True, False,  True, False,  True,  True,  True, False,  True,\n        True,  True, False, False,  True, False, False, False, False,\n        True,  True,  True, False, False, False,  True, False, False,\n        True, False, False, False, False, False, False, False,  True,\n       False, False,  True, False, False,  True, False,  True, False,\n       False, False, False, False,  True, False, False,  True, False,\n       False,  True, False,  True, False, False,  True, False, False,\n       False, False, False, False,  True, False, False, False, False,\n       False,  True, False,  True, False, False,  True, False, False,\n        True, False,  True,  True, False,  True,  True,  True,  True,\n        True, False,  True,  True, False,  True, False, False, False,\n        True, False,  True, False,  True,  True,  True, False,  True,\n       False, False, False, False,  True, False, False, False, False,\n       False,  True,  True, False, False, False, False,  True,  True,\n       False, False, False,  True, False, False, False, False, False,\n        True, False,  True, False,  True, False, False, False, False,\n       False, False, False, False, False,  True, False,  True, False,\n       False, False, False, False, False, False,  True,  True, False,\n       False, False, False,  True, False, False, False, False, False,\n        True, False, False, False, False, False, False,  True,  True,\n       False, False, False, False, False, False, False, False, False,\n       False,  True,  True, False, False, False,  True, False, False,\n        True, False, False, False, False, False, False,  True, False,\n       False, False,  True,  True, False,  True, False, False, False,\n        True, False, False, False, False, False,  True, False, False,\n       False, False,  True, False,  True, False, False, False, False,\n       False, False, False,  True, False, False,  True,  True, False,\n        True, False,  True,  True, False,  True, False,  True, False,\n       False,  True, False, False, False, False,  True, False, False,\n       False, False, False,  True,  True, False,  True, False, False,\n       False,  True, False, False, False, False,  True, False, False,\n       False, False, False,  True, False, False,  True, False, False,\n       False, False, False, False, False, False, False,  True, False,\n        True, False,  True, False,  True, False,  True, False,  True,\n        True, False, False, False, False, False, False, False,  True,\n       False, False,  True, False,  True, False,  True]), 0)' is an invalid key"
     ]
    }
   ],
   "source": [
    "#Visualizing the clusters for k=4\n",
    "plt.scatter(X[y_means==0,0],X[y_means==0,1],s=50, c='purple',label='Cluster1')\n",
    "plt.scatter(X[y_means==1,0],X[y_means==1,1],s=50, c='blue',label='Cluster2')\n",
    "plt.scatter(X[y_means==2,0],X[y_means==2,1],s=50, c='green',label='Cluster3')\n",
    "plt.scatter(X[y_means==3,0],X[y_means==3,1],s=50, c='cyan',label='Cluster4')\n",
    "plt.scatter(km4.cluster_centers_[:,0], km4.cluster_centers_[:,1],s=200,marker='s', c='red', alpha=0.7, label='Centroids')\n",
    "plt.title('Customer segments')\n",
    "plt.xlabel('Age')\n",
    "plt.ylabel('y')\n",
    "plt.legend()\n",
    "plt.show()"
   ]
  },
  {
   "cell_type": "code",
   "execution_count": 246,
   "metadata": {},
   "outputs": [
    {
     "data": {
      "text/html": [
       "<div>\n",
       "<style scoped>\n",
       "    .dataframe tbody tr th:only-of-type {\n",
       "        vertical-align: middle;\n",
       "    }\n",
       "\n",
       "    .dataframe tbody tr th {\n",
       "        vertical-align: top;\n",
       "    }\n",
       "\n",
       "    .dataframe thead th {\n",
       "        text-align: right;\n",
       "    }\n",
       "</style>\n",
       "<table border=\"1\" class=\"dataframe\">\n",
       "  <thead>\n",
       "    <tr style=\"text-align: right;\">\n",
       "      <th></th>\n",
       "      <th>age</th>\n",
       "      <th>gen</th>\n",
       "    </tr>\n",
       "  </thead>\n",
       "  <tbody>\n",
       "    <tr>\n",
       "      <th>0</th>\n",
       "      <td>24</td>\n",
       "      <td>1</td>\n",
       "    </tr>\n",
       "    <tr>\n",
       "      <th>2</th>\n",
       "      <td>23</td>\n",
       "      <td>1</td>\n",
       "    </tr>\n",
       "    <tr>\n",
       "      <th>3</th>\n",
       "      <td>24</td>\n",
       "      <td>1</td>\n",
       "    </tr>\n",
       "    <tr>\n",
       "      <th>15</th>\n",
       "      <td>21</td>\n",
       "      <td>1</td>\n",
       "    </tr>\n",
       "    <tr>\n",
       "      <th>20</th>\n",
       "      <td>26</td>\n",
       "      <td>1</td>\n",
       "    </tr>\n",
       "    <tr>\n",
       "      <th>21</th>\n",
       "      <td>25</td>\n",
       "      <td>1</td>\n",
       "    </tr>\n",
       "    <tr>\n",
       "      <th>23</th>\n",
       "      <td>21</td>\n",
       "      <td>0</td>\n",
       "    </tr>\n",
       "    <tr>\n",
       "      <th>29</th>\n",
       "      <td>7</td>\n",
       "      <td>1</td>\n",
       "    </tr>\n",
       "    <tr>\n",
       "      <th>30</th>\n",
       "      <td>24</td>\n",
       "      <td>1</td>\n",
       "    </tr>\n",
       "    <tr>\n",
       "      <th>32</th>\n",
       "      <td>23</td>\n",
       "      <td>1</td>\n",
       "    </tr>\n",
       "    <tr>\n",
       "      <th>34</th>\n",
       "      <td>20</td>\n",
       "      <td>0</td>\n",
       "    </tr>\n",
       "    <tr>\n",
       "      <th>35</th>\n",
       "      <td>19</td>\n",
       "      <td>0</td>\n",
       "    </tr>\n",
       "    <tr>\n",
       "      <th>36</th>\n",
       "      <td>23</td>\n",
       "      <td>1</td>\n",
       "    </tr>\n",
       "    <tr>\n",
       "      <th>43</th>\n",
       "      <td>26</td>\n",
       "      <td>1</td>\n",
       "    </tr>\n",
       "    <tr>\n",
       "      <th>48</th>\n",
       "      <td>23</td>\n",
       "      <td>0</td>\n",
       "    </tr>\n",
       "    <tr>\n",
       "      <th>49</th>\n",
       "      <td>21</td>\n",
       "      <td>1</td>\n",
       "    </tr>\n",
       "    <tr>\n",
       "      <th>51</th>\n",
       "      <td>18</td>\n",
       "      <td>0</td>\n",
       "    </tr>\n",
       "    <tr>\n",
       "      <th>52</th>\n",
       "      <td>26</td>\n",
       "      <td>1</td>\n",
       "    </tr>\n",
       "    <tr>\n",
       "      <th>53</th>\n",
       "      <td>22</td>\n",
       "      <td>1</td>\n",
       "    </tr>\n",
       "    <tr>\n",
       "      <th>55</th>\n",
       "      <td>25</td>\n",
       "      <td>1</td>\n",
       "    </tr>\n",
       "    <tr>\n",
       "      <th>56</th>\n",
       "      <td>16</td>\n",
       "      <td>1</td>\n",
       "    </tr>\n",
       "    <tr>\n",
       "      <th>65</th>\n",
       "      <td>23</td>\n",
       "      <td>1</td>\n",
       "    </tr>\n",
       "    <tr>\n",
       "      <th>66</th>\n",
       "      <td>17</td>\n",
       "      <td>1</td>\n",
       "    </tr>\n",
       "    <tr>\n",
       "      <th>67</th>\n",
       "      <td>19</td>\n",
       "      <td>1</td>\n",
       "    </tr>\n",
       "    <tr>\n",
       "      <th>68</th>\n",
       "      <td>24</td>\n",
       "      <td>1</td>\n",
       "    </tr>\n",
       "    <tr>\n",
       "      <th>72</th>\n",
       "      <td>24</td>\n",
       "      <td>1</td>\n",
       "    </tr>\n",
       "    <tr>\n",
       "      <th>74</th>\n",
       "      <td>24</td>\n",
       "      <td>1</td>\n",
       "    </tr>\n",
       "    <tr>\n",
       "      <th>75</th>\n",
       "      <td>20</td>\n",
       "      <td>1</td>\n",
       "    </tr>\n",
       "    <tr>\n",
       "      <th>77</th>\n",
       "      <td>26</td>\n",
       "      <td>1</td>\n",
       "    </tr>\n",
       "    <tr>\n",
       "      <th>80</th>\n",
       "      <td>21</td>\n",
       "      <td>1</td>\n",
       "    </tr>\n",
       "    <tr>\n",
       "      <th>...</th>\n",
       "      <td>...</td>\n",
       "      <td>...</td>\n",
       "    </tr>\n",
       "    <tr>\n",
       "      <th>848</th>\n",
       "      <td>15</td>\n",
       "      <td>0</td>\n",
       "    </tr>\n",
       "    <tr>\n",
       "      <th>850</th>\n",
       "      <td>18</td>\n",
       "      <td>1</td>\n",
       "    </tr>\n",
       "    <tr>\n",
       "      <th>858</th>\n",
       "      <td>18</td>\n",
       "      <td>0</td>\n",
       "    </tr>\n",
       "    <tr>\n",
       "      <th>861</th>\n",
       "      <td>25</td>\n",
       "      <td>1</td>\n",
       "    </tr>\n",
       "    <tr>\n",
       "      <th>862</th>\n",
       "      <td>17</td>\n",
       "      <td>1</td>\n",
       "    </tr>\n",
       "    <tr>\n",
       "      <th>864</th>\n",
       "      <td>25</td>\n",
       "      <td>1</td>\n",
       "    </tr>\n",
       "    <tr>\n",
       "      <th>866</th>\n",
       "      <td>24</td>\n",
       "      <td>1</td>\n",
       "    </tr>\n",
       "    <tr>\n",
       "      <th>867</th>\n",
       "      <td>21</td>\n",
       "      <td>1</td>\n",
       "    </tr>\n",
       "    <tr>\n",
       "      <th>869</th>\n",
       "      <td>22</td>\n",
       "      <td>1</td>\n",
       "    </tr>\n",
       "    <tr>\n",
       "      <th>871</th>\n",
       "      <td>19</td>\n",
       "      <td>0</td>\n",
       "    </tr>\n",
       "    <tr>\n",
       "      <th>874</th>\n",
       "      <td>24</td>\n",
       "      <td>0</td>\n",
       "    </tr>\n",
       "    <tr>\n",
       "      <th>879</th>\n",
       "      <td>13</td>\n",
       "      <td>1</td>\n",
       "    </tr>\n",
       "    <tr>\n",
       "      <th>885</th>\n",
       "      <td>20</td>\n",
       "      <td>1</td>\n",
       "    </tr>\n",
       "    <tr>\n",
       "      <th>886</th>\n",
       "      <td>14</td>\n",
       "      <td>0</td>\n",
       "    </tr>\n",
       "    <tr>\n",
       "      <th>888</th>\n",
       "      <td>24</td>\n",
       "      <td>1</td>\n",
       "    </tr>\n",
       "    <tr>\n",
       "      <th>892</th>\n",
       "      <td>25</td>\n",
       "      <td>1</td>\n",
       "    </tr>\n",
       "    <tr>\n",
       "      <th>897</th>\n",
       "      <td>23</td>\n",
       "      <td>1</td>\n",
       "    </tr>\n",
       "    <tr>\n",
       "      <th>903</th>\n",
       "      <td>17</td>\n",
       "      <td>0</td>\n",
       "    </tr>\n",
       "    <tr>\n",
       "      <th>906</th>\n",
       "      <td>25</td>\n",
       "      <td>0</td>\n",
       "    </tr>\n",
       "    <tr>\n",
       "      <th>916</th>\n",
       "      <td>22</td>\n",
       "      <td>0</td>\n",
       "    </tr>\n",
       "    <tr>\n",
       "      <th>918</th>\n",
       "      <td>25</td>\n",
       "      <td>1</td>\n",
       "    </tr>\n",
       "    <tr>\n",
       "      <th>920</th>\n",
       "      <td>20</td>\n",
       "      <td>0</td>\n",
       "    </tr>\n",
       "    <tr>\n",
       "      <th>922</th>\n",
       "      <td>21</td>\n",
       "      <td>1</td>\n",
       "    </tr>\n",
       "    <tr>\n",
       "      <th>924</th>\n",
       "      <td>18</td>\n",
       "      <td>0</td>\n",
       "    </tr>\n",
       "    <tr>\n",
       "      <th>926</th>\n",
       "      <td>23</td>\n",
       "      <td>1</td>\n",
       "    </tr>\n",
       "    <tr>\n",
       "      <th>927</th>\n",
       "      <td>21</td>\n",
       "      <td>1</td>\n",
       "    </tr>\n",
       "    <tr>\n",
       "      <th>935</th>\n",
       "      <td>24</td>\n",
       "      <td>1</td>\n",
       "    </tr>\n",
       "    <tr>\n",
       "      <th>938</th>\n",
       "      <td>26</td>\n",
       "      <td>0</td>\n",
       "    </tr>\n",
       "    <tr>\n",
       "      <th>940</th>\n",
       "      <td>20</td>\n",
       "      <td>1</td>\n",
       "    </tr>\n",
       "    <tr>\n",
       "      <th>942</th>\n",
       "      <td>22</td>\n",
       "      <td>1</td>\n",
       "    </tr>\n",
       "  </tbody>\n",
       "</table>\n",
       "<p>306 rows × 2 columns</p>\n",
       "</div>"
      ],
      "text/plain": [
       "     age  gen\n",
       "0     24    1\n",
       "2     23    1\n",
       "3     24    1\n",
       "15    21    1\n",
       "20    26    1\n",
       "21    25    1\n",
       "23    21    0\n",
       "29     7    1\n",
       "30    24    1\n",
       "32    23    1\n",
       "34    20    0\n",
       "35    19    0\n",
       "36    23    1\n",
       "43    26    1\n",
       "48    23    0\n",
       "49    21    1\n",
       "51    18    0\n",
       "52    26    1\n",
       "53    22    1\n",
       "55    25    1\n",
       "56    16    1\n",
       "65    23    1\n",
       "66    17    1\n",
       "67    19    1\n",
       "68    24    1\n",
       "72    24    1\n",
       "74    24    1\n",
       "75    20    1\n",
       "77    26    1\n",
       "80    21    1\n",
       "..   ...  ...\n",
       "848   15    0\n",
       "850   18    1\n",
       "858   18    0\n",
       "861   25    1\n",
       "862   17    1\n",
       "864   25    1\n",
       "866   24    1\n",
       "867   21    1\n",
       "869   22    1\n",
       "871   19    0\n",
       "874   24    0\n",
       "879   13    1\n",
       "885   20    1\n",
       "886   14    0\n",
       "888   24    1\n",
       "892   25    1\n",
       "897   23    1\n",
       "903   17    0\n",
       "906   25    0\n",
       "916   22    0\n",
       "918   25    1\n",
       "920   20    0\n",
       "922   21    1\n",
       "924   18    0\n",
       "926   23    1\n",
       "927   21    1\n",
       "935   24    1\n",
       "938   26    0\n",
       "940   20    1\n",
       "942   22    1\n",
       "\n",
       "[306 rows x 2 columns]"
      ]
     },
     "execution_count": 246,
     "metadata": {},
     "output_type": "execute_result"
    }
   ],
   "source": [
    "X[y_means==0]"
   ]
  },
  {
   "cell_type": "code",
   "execution_count": null,
   "metadata": {},
   "outputs": [],
   "source": []
  }
 ],
 "metadata": {
  "kernelspec": {
   "display_name": "Python 3",
   "language": "python",
   "name": "python3"
  },
  "language_info": {
   "codemirror_mode": {
    "name": "ipython",
    "version": 3
   },
   "file_extension": ".py",
   "mimetype": "text/x-python",
   "name": "python",
   "nbconvert_exporter": "python",
   "pygments_lexer": "ipython3",
   "version": "3.6.5"
  }
 },
 "nbformat": 4,
 "nbformat_minor": 2
}
